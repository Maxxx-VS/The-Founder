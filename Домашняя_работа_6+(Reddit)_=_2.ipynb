{
  "nbformat": 4,
  "nbformat_minor": 0,
  "metadata": {
    "colab": {
      "provenance": [],
      "gpuType": "T4",
      "toc_visible": true,
      "authorship_tag": "ABX9TyNTH39xdqTf8uCIDoATHowt",
      "include_colab_link": true
    },
    "kernelspec": {
      "name": "python3",
      "display_name": "Python 3"
    },
    "language_info": {
      "name": "python"
    },
    "accelerator": "GPU"
  },
  "cells": [
    {
      "cell_type": "markdown",
      "metadata": {
        "id": "view-in-github",
        "colab_type": "text"
      },
      "source": [
        "<a href=\"https://colab.research.google.com/github/Maxxx-VS/The-Founder/blob/master/%D0%94%D0%BE%D0%BC%D0%B0%D1%88%D0%BD%D1%8F%D1%8F_%D1%80%D0%B0%D0%B1%D0%BE%D1%82%D0%B0_6%2B(Reddit)_%3D_2.ipynb\" target=\"_parent\"><img src=\"https://colab.research.google.com/assets/colab-badge.svg\" alt=\"Open In Colab\"/></a>"
      ]
    },
    {
      "cell_type": "code",
      "source": [
        "# Задание 2.\n",
        "# Получить текущую погоду в вашем городе и вывести общее состояние погоды, скорость ветра,\n",
        "# относительную влажность воздуха, температуру и температуру по ощущениям\n",
        "import requests\n",
        "import json\n",
        "\n",
        "API = '88e1d9b53f2f324d6004ee7e57cf40cc'\n",
        "my_city = \"omsk\"\n",
        "weather_city = my_city.strip().lower()\n",
        "res = requests.get(f'https://api.openweathermap.org/data/2.5/weather?q={my_city}&appid={API}&units=metric').json()\n",
        "# print(res)\n",
        "print(f\"Скорость ветра в {res['name']} = {res['wind']['speed']} м/сек\")\n",
        "print(f\"Относительная влажность в {res['name']} = {res['main']['humidity']} %\")\n",
        "print(f\"Температура в {res['name']} = {res['main']['temp']} градусов Цельсия\")\n",
        "print(f\"Температура по ощущениям в {res['name']} = {res['main']['feels_like']} градусов Цельсия\")\n"
      ],
      "metadata": {
        "colab": {
          "base_uri": "https://localhost:8080/"
        },
        "id": "cwRhhc32SDUg",
        "outputId": "0158d7e5-3091-41a5-bfdf-142ce39b5533"
      },
      "execution_count": null,
      "outputs": [
        {
          "output_type": "stream",
          "name": "stdout",
          "text": [
            "{'coord': {'lon': 73.4, 'lat': 55}, 'weather': [{'id': 803, 'main': 'Clouds', 'description': 'broken clouds', 'icon': '04d'}], 'base': 'stations', 'main': {'temp': 17.94, 'feels_like': 17.43, 'temp_min': 17.94, 'temp_max': 17.94, 'pressure': 1006, 'humidity': 63, 'sea_level': 1006, 'grnd_level': 995}, 'visibility': 10000, 'wind': {'speed': 4, 'deg': 30}, 'clouds': {'all': 75}, 'dt': 1723196381, 'sys': {'type': 1, 'id': 8960, 'country': 'RU', 'sunrise': 1723159804, 'sunset': 1723215229}, 'timezone': 21600, 'id': 1496153, 'name': 'Omsk', 'cod': 200}\n",
            "Скорость ветра в Omsk = 4 м/сек\n",
            "Относительная влажность в Omsk = 63 %\n",
            "Температура в Omsk = 17.94 градусов Цельсия\n",
            "Температура по ощущениям в Omsk = 17.43 градусов Цельсия\n"
          ]
        }
      ]
    },
    {
      "cell_type": "code",
      "source": [
        "# Задание 2.\n",
        "# Получить погоду в вашем городе на следующий день и вывести те же значения, что и в предыдущем пункте\n",
        "import requests\n",
        "import json\n",
        "\n",
        "API = '88e1d9b53f2f324d6004ee7e57cf40cc'\n",
        "my_city = \"omsk\"\n",
        "weather_city = my_city.strip().lower()\n",
        "\n",
        "res = requests.get(f'https://api.openweathermap.org/data/2.5/forecast?q={my_city}&appid={API}&units=metric&cnt=10').json()\n",
        "# print(res['list'][-1])\n",
        "print(f\"Прогноз погоды на {res['list'][-1]['dt_txt'][:10]}: \")\n",
        "print(f\"Скорость ветра {res['list'][-1]['wind']['speed']} м/сек\")\n",
        "print(f\"Относительная влажность в {res['list'][-1]['main']['humidity']} %\")\n",
        "print(f\"Температура {res['list'][-1]['main']['temp']} градусов Цельсия\")\n",
        "print(f\"Температура по ощущениям {res['list'][-1]['main']['feels_like']} градусов Цельсия\")"
      ],
      "metadata": {
        "colab": {
          "base_uri": "https://localhost:8080/"
        },
        "id": "bo7ThXjbLbsO",
        "outputId": "1b617da1-669b-4375-d723-57da9eb6bd16"
      },
      "execution_count": null,
      "outputs": [
        {
          "output_type": "stream",
          "name": "stdout",
          "text": [
            "Прогноз погоды на 2024-08-10: \n",
            "Скорость ветра 4.43 м/сек\n",
            "Относительная влажность в 58 %\n",
            "Температура 13.68 градусов Цельсия\n",
            "Температура по ощущениям 12.62 градусов Цельсия\n"
          ]
        }
      ]
    },
    {
      "cell_type": "code",
      "source": [
        "# Задание 2.\n",
        "# Получить текущий индекс качества воздуха в Лондоне и вывести его\n",
        "import requests\n",
        "import json\n",
        "\n",
        "API = '88e1d9b53f2f324d6004ee7e57cf40cc'\n",
        "\n",
        "weather_city = my_city.strip().lower()\n",
        "\n",
        "res = requests.get(f'http://api.openweathermap.org/data/2.5/air_pollution?lat={51.50853}&lon={-0.12574}&appid={API}').json()\n",
        "# print(res)\n",
        "print(f\"Индекс качества воздуха в Лондоне = {res['list'][0]['main']['aqi']}\")\n"
      ],
      "metadata": {
        "colab": {
          "base_uri": "https://localhost:8080/"
        },
        "id": "F3cNCFntNk_J",
        "outputId": "cca61d3c-053b-4b83-d77a-cd46d36d809c"
      },
      "execution_count": null,
      "outputs": [
        {
          "output_type": "stream",
          "name": "stdout",
          "text": [
            "Индекс качества воздуха в Лондоне = 1\n"
          ]
        }
      ]
    }
  ]
}