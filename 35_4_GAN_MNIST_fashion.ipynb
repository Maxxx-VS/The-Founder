{
  "nbformat": 4,
  "nbformat_minor": 0,
  "metadata": {
    "colab": {
      "provenance": [],
      "gpuType": "T4",
      "authorship_tag": "ABX9TyMhQpCcE44HO7bX7gBJLzBk",
      "include_colab_link": true
    },
    "kernelspec": {
      "name": "python3",
      "display_name": "Python 3"
    },
    "language_info": {
      "name": "python"
    },
    "accelerator": "GPU"
  },
  "cells": [
    {
      "cell_type": "markdown",
      "metadata": {
        "id": "view-in-github",
        "colab_type": "text"
      },
      "source": [
        "<a href=\"https://colab.research.google.com/github/Maxxx-VS/The-Founder/blob/master/35_4_GAN_MNIST_fashion.ipynb\" target=\"_parent\"><img src=\"https://colab.research.google.com/assets/colab-badge.svg\" alt=\"Open In Colab\"/></a>"
      ]
    },
    {
      "cell_type": "markdown",
      "source": [
        "**Задание 1. На 3 балла:**\n",
        "\n",
        "1. Ваша задача, используя датасет MNIST (из набора датасетов Tensorflow) научить GAN генерировать цифры.\n",
        "\n",
        "2. Добейтесь хорошего качества генерации."
      ],
      "metadata": {
        "id": "kiLTDOQzL5Ys"
      }
    },
    {
      "cell_type": "markdown",
      "source": [
        "**Задание 2. На 4 балла:**\n",
        "\n",
        "1. Ваша задача, используя датасет MNIST Fashion (из набора датасетов Tensorflow) научить GAN генерировать образцы одежды, соответственно.\n",
        "\n",
        "2. Добейтесь хорошего качества генерации."
      ],
      "metadata": {
        "id": "lLyHMB6nMFTN"
      }
    },
    {
      "cell_type": "code",
      "source": [
        "from random import randint\n",
        "from keras.datasets import fashion_mnist\n",
        "\n",
        "from PIL import Image\n",
        "import imageio\n",
        "import cv2\n",
        "from keras.preprocessing.image import img_to_array\n",
        "\n",
        "import numpy as np\n",
        "import os\n",
        "from keras import preprocessing\n",
        "import tensorflow as tf\n",
        "from keras.models import Sequential\n",
        "from keras.layers import Conv2D,Dropout,Dense,Flatten,Conv2DTranspose,BatchNormalization,LeakyReLU,Reshape\n",
        "from tqdm import tqdm\n",
        "import re\n",
        "import matplotlib.pyplot as plt\n",
        "import seaborn as sns\n",
        "%matplotlib inline\n",
        "\n",
        "import warnings\n",
        "warnings.filterwarnings('ignore')"
      ],
      "metadata": {
        "id": "CeCgTNfiR8QL"
      },
      "execution_count": null,
      "outputs": []
    },
    {
      "cell_type": "code",
      "execution_count": null,
      "metadata": {
        "colab": {
          "base_uri": "https://localhost:8080/"
        },
        "id": "rJX-ZLUtLoey",
        "outputId": "ac8405f2-cfc3-4de9-ffef-057a0ec63f6d"
      },
      "outputs": [
        {
          "output_type": "stream",
          "name": "stdout",
          "text": [
            "Downloading data from https://storage.googleapis.com/tensorflow/tf-keras-datasets/train-labels-idx1-ubyte.gz\n",
            "\u001b[1m29515/29515\u001b[0m \u001b[32m━━━━━━━━━━━━━━━━━━━━\u001b[0m\u001b[37m\u001b[0m \u001b[1m0s\u001b[0m 0us/step\n",
            "Downloading data from https://storage.googleapis.com/tensorflow/tf-keras-datasets/train-images-idx3-ubyte.gz\n",
            "\u001b[1m26421880/26421880\u001b[0m \u001b[32m━━━━━━━━━━━━━━━━━━━━\u001b[0m\u001b[37m\u001b[0m \u001b[1m2s\u001b[0m 0us/step\n",
            "Downloading data from https://storage.googleapis.com/tensorflow/tf-keras-datasets/t10k-labels-idx1-ubyte.gz\n",
            "\u001b[1m5148/5148\u001b[0m \u001b[32m━━━━━━━━━━━━━━━━━━━━\u001b[0m\u001b[37m\u001b[0m \u001b[1m0s\u001b[0m 1us/step\n",
            "Downloading data from https://storage.googleapis.com/tensorflow/tf-keras-datasets/t10k-images-idx3-ubyte.gz\n",
            "\u001b[1m4422102/4422102\u001b[0m \u001b[32m━━━━━━━━━━━━━━━━━━━━\u001b[0m\u001b[37m\u001b[0m \u001b[1m1s\u001b[0m 0us/step\n"
          ]
        }
      ],
      "source": [
        "(train_images, train_labels), (test_images, test_labels) = fashion_mnist.load_data()"
      ]
    },
    {
      "cell_type": "code",
      "source": [
        "# обучающие данные\n",
        "print(train_images.shape)\n",
        "print(len(train_images))\n",
        "print(train_images.dtype)\n",
        "print(train_images)"
      ],
      "metadata": {
        "colab": {
          "base_uri": "https://localhost:8080/"
        },
        "id": "-E4loWlPO6lK",
        "outputId": "a57911b0-a533-47ca-846d-061de7b5fbf5"
      },
      "execution_count": null,
      "outputs": [
        {
          "output_type": "stream",
          "name": "stdout",
          "text": [
            "(60000, 28, 28)\n",
            "60000\n",
            "uint8\n",
            "[[[0 0 0 ... 0 0 0]\n",
            "  [0 0 0 ... 0 0 0]\n",
            "  [0 0 0 ... 0 0 0]\n",
            "  ...\n",
            "  [0 0 0 ... 0 0 0]\n",
            "  [0 0 0 ... 0 0 0]\n",
            "  [0 0 0 ... 0 0 0]]\n",
            "\n",
            " [[0 0 0 ... 0 0 0]\n",
            "  [0 0 0 ... 0 0 0]\n",
            "  [0 0 0 ... 0 0 0]\n",
            "  ...\n",
            "  [0 0 0 ... 0 0 0]\n",
            "  [0 0 0 ... 0 0 0]\n",
            "  [0 0 0 ... 0 0 0]]\n",
            "\n",
            " [[0 0 0 ... 0 0 0]\n",
            "  [0 0 0 ... 0 0 0]\n",
            "  [0 0 0 ... 0 0 0]\n",
            "  ...\n",
            "  [0 0 0 ... 0 0 0]\n",
            "  [0 0 0 ... 0 0 0]\n",
            "  [0 0 0 ... 0 0 0]]\n",
            "\n",
            " ...\n",
            "\n",
            " [[0 0 0 ... 0 0 0]\n",
            "  [0 0 0 ... 0 0 0]\n",
            "  [0 0 0 ... 0 0 0]\n",
            "  ...\n",
            "  [0 0 0 ... 0 0 0]\n",
            "  [0 0 0 ... 0 0 0]\n",
            "  [0 0 0 ... 0 0 0]]\n",
            "\n",
            " [[0 0 0 ... 0 0 0]\n",
            "  [0 0 0 ... 0 0 0]\n",
            "  [0 0 0 ... 0 0 0]\n",
            "  ...\n",
            "  [0 0 0 ... 0 0 0]\n",
            "  [0 0 0 ... 0 0 0]\n",
            "  [0 0 0 ... 0 0 0]]\n",
            "\n",
            " [[0 0 0 ... 0 0 0]\n",
            "  [0 0 0 ... 0 0 0]\n",
            "  [0 0 0 ... 0 0 0]\n",
            "  ...\n",
            "  [0 0 0 ... 0 0 0]\n",
            "  [0 0 0 ... 0 0 0]\n",
            "  [0 0 0 ... 0 0 0]]]\n"
          ]
        }
      ]
    },
    {
      "cell_type": "code",
      "source": [
        "# тестовые данные\n",
        "print(test_images.shape)\n",
        "print(len(test_labels))\n",
        "print(test_labels.dtype)\n",
        "print(test_labels)"
      ],
      "metadata": {
        "colab": {
          "base_uri": "https://localhost:8080/"
        },
        "id": "ZWLaaYY4RHaG",
        "outputId": "f6f73a3a-49e4-482d-c620-213ef832200e"
      },
      "execution_count": null,
      "outputs": [
        {
          "output_type": "stream",
          "name": "stdout",
          "text": [
            "(10000, 28, 28)\n",
            "10000\n",
            "uint8\n",
            "[9 2 1 ... 8 1 5]\n"
          ]
        }
      ]
    },
    {
      "cell_type": "code",
      "source": [
        "# наименования меток\n",
        "class_names = ['Футболка / топ', \"Шорты\", \"Свитер\", \"Платье\",\n",
        "              \"Плащ\", \"Сандали\", \"Рубашка\", \"Кроссовок\", \"Сумка\",\n",
        "              \"Ботинок\"]"
      ],
      "metadata": {
        "id": "tSPXeC3jYrV6"
      },
      "execution_count": null,
      "outputs": []
    },
    {
      "cell_type": "code",
      "source": [
        "random_number = randint(0, len(train_labels))\n",
        "\n",
        "digit = train_images[random_number]\n",
        "fig, ax = plt.subplots(1,1)\n",
        "print(f'Номер метки изображения: {train_labels[random_number]}')\n",
        "print(f'Наименование метки изображения: {class_names[train_labels[random_number]]}', '\\n')\n",
        "ax.set_title(f'Образец со случайным индеком {random_number} из набора данных')\n",
        "ax.imshow(digit, cmap=plt.cm.binary)\n",
        "plt.show()"
      ],
      "metadata": {
        "colab": {
          "base_uri": "https://localhost:8080/",
          "height": 504
        },
        "id": "StGEYQ65PHRf",
        "outputId": "e441c02b-9852-4275-e049-e4487911dfd7"
      },
      "execution_count": null,
      "outputs": [
        {
          "output_type": "stream",
          "name": "stdout",
          "text": [
            "Номер метки изображения: 2\n",
            "Наименование метки изображения: Свитер \n",
            "\n"
          ]
        },
        {
          "output_type": "display_data",
          "data": {
            "text/plain": [
              "<Figure size 640x480 with 1 Axes>"
            ],
            "image/png": "[encoded data removed]"
          },
          "metadata": {}
        }
      ]
    },
    {
      "cell_type": "code",
      "source": [
        "# константы\n",
        "SIZE = 28                  # линейный размер изображений (одно измерение)\n",
        "INPUT_IMG = (SIZE, SIZE, 1) # размер входного изображений\n",
        "BATCH_SIZE = 32             # размер пакета для обучения\n",
        "LATENT_DIM = 10            # размерность латентного пространства\n",
        "print(INPUT_IMG)"
      ],
      "metadata": {
        "id": "yywCWV4cZbwj",
        "colab": {
          "base_uri": "https://localhost:8080/"
        },
        "outputId": "87a23306-4dbd-4e77-8bd6-0f0a11373fe0"
      },
      "execution_count": null,
      "outputs": [
        {
          "output_type": "stream",
          "name": "stdout",
          "text": [
            "(28, 28, 1)\n"
          ]
        }
      ]
    },
    {
      "cell_type": "code",
      "source": [
        "train_images = train_images.astype(float)\n",
        "print(train_images.dtype)\n",
        "\n",
        "train_images = (train_images - 127.5) / 127.5\n",
        "X_train = np.array(train_images)\n",
        "\n",
        "print(X_train.shape)"
      ],
      "metadata": {
        "colab": {
          "base_uri": "https://localhost:8080/"
        },
        "id": "TNSDd6b7lRfm",
        "outputId": "39bd22b9-f537-4cfb-c555-fb9b6feca057"
      },
      "execution_count": null,
      "outputs": [
        {
          "output_type": "stream",
          "name": "stdout",
          "text": [
            "float64\n",
            "(60000, 28, 28)\n"
          ]
        }
      ]
    },
    {
      "cell_type": "code",
      "source": [
        "dataset=tf.data.Dataset.from_tensor_slices(train_images).batch(BATCH_SIZE)"
      ],
      "metadata": {
        "id": "psRgRFvbgWdq"
      },
      "execution_count": null,
      "outputs": []
    },
    {
      "cell_type": "code",
      "source": [
        "def Generator():\n",
        "    model = Sequential()\n",
        "    model.add(Dense(SIZE*SIZE*1, use_bias=False, input_shape=(LATENT_DIM,)))\n",
        "    model.add(Reshape(INPUT_IMG))\n",
        "    # downsampling (понижающая дискретизация)\n",
        "    model.add(tf.keras.layers.Conv2D(SIZE,4, strides=1, padding='same',kernel_initializer='he_normal', use_bias=False))\n",
        "    model.add(tf.keras.layers.Conv2D(SIZE,4, strides=2, padding='same',kernel_initializer='he_normal', use_bias=False))\n",
        "    model.add(tf.keras.layers.BatchNormalization())\n",
        "    model.add(tf.keras.layers.LeakyReLU())\n",
        "    model.add(tf.keras.layers.Conv2D(SIZE*2,4, strides=1, padding='same',kernel_initializer='he_normal', use_bias=False))\n",
        "    model.add(tf.keras.layers.Conv2D(SIZE*2,4, strides=2, padding='same',kernel_initializer='he_normal', use_bias=False))\n",
        "    model.add(tf.keras.layers.BatchNormalization())\n",
        "    model.add(tf.keras.layers.LeakyReLU())\n",
        "    model.add(tf.keras.layers.Conv2DTranspose(SIZE*4, 4, strides=1,padding='same',kernel_initializer='he_normal',use_bias=False))\n",
        "    model.add(tf.keras.layers.Conv2D(SIZE*4,4, strides=2, padding='same',kernel_initializer='he_normal', use_bias=False))\n",
        "\n",
        "    model.add(tf.keras.layers.LeakyReLU())\n",
        "    #upsampling (повышающая дискретизация)\n",
        "    model.add(tf.keras.layers.Conv2DTranspose(SIZE*4, 4, strides=1,padding='same',kernel_initializer='he_normal',use_bias=False))\n",
        "    model.add(tf.keras.layers.Conv2DTranspose(SIZE*4, 4, strides=2,padding='same',kernel_initializer='he_normal',use_bias=False))\n",
        "    model.add(tf.keras.layers.BatchNormalization())\n",
        "    model.add(tf.keras.layers.LeakyReLU())\n",
        "    model.add(tf.keras.layers.Conv2DTranspose(SIZE*2, 4, strides=1,padding='same',kernel_initializer='he_normal',use_bias=False))\n",
        "    model.add(tf.keras.layers.Conv2DTranspose(SIZE*2, 4, strides=2,padding='same',kernel_initializer='he_normal',use_bias=False))\n",
        "    model.add(tf.keras.layers.BatchNormalization())\n",
        "\n",
        "    model.add(tf.keras.layers.Conv2DTranspose(SIZE, 4, strides=2,padding='same',kernel_initializer='he_normal',use_bias=False))\n",
        "    model.add(tf.keras.layers.Conv2DTranspose(SIZE, 4, strides=1,padding='same',kernel_initializer='he_normal',use_bias=False))\n",
        "    model.add(tf.keras.layers.BatchNormalization())\n",
        "    model.add(tf.keras.layers.Conv2DTranspose(1, 4, strides=1, padding='same', activation='tanh'))\n",
        "\n",
        "    return model\n"
      ],
      "metadata": {
        "id": "HM-FZ2V0Zzzo"
      },
      "execution_count": null,
      "outputs": []
    },
    {
      "cell_type": "code",
      "source": [
        "generator = Generator()\n",
        "generator.summary()"
      ],
      "metadata": {
        "id": "XqqTEv5Oax-7",
        "colab": {
          "base_uri": "https://localhost:8080/",
          "height": 977
        },
        "collapsed": true,
        "outputId": "4ca464e8-af87-4897-ca89-34c715666508"
      },
      "execution_count": null,
      "outputs": [
        {
          "output_type": "display_data",
          "data": {
            "text/plain": [
              "\u001b[1mModel: \"sequential\"\u001b[0m\n"
            ],
            "text/html": [
              "<pre style=\"white-space:pre;overflow-x:auto;line-height:normal;font-family:Menlo,'DejaVu Sans Mono',consolas,'Courier New',monospace\"><span style=\"font-weight: bold\">Model: \"sequential\"</span>\n",
              "</pre>\n"
            ]
          },
          "metadata": {}
        },
        {
          "output_type": "display_data",
          "data": {
            "text/plain": [
              "┏━━━━━━━━━━━━━━━━━━━━━━━━━━━━━━━━━━━━━━┳━━━━━━━━━━━━━━━━━━━━━━━━━━━━━┳━━━━━━━━━━━━━━━━━┓\n",
              "┃\u001b[1m \u001b[0m\u001b[1mLayer (type)                        \u001b[0m\u001b[1m \u001b[0m┃\u001b[1m \u001b[0m\u001b[1mOutput Shape               \u001b[0m\u001b[1m \u001b[0m┃\u001b[1m \u001b[0m\u001b[1m        Param #\u001b[0m\u001b[1m \u001b[0m┃\n",
              "┡━━━━━━━━━━━━━━━━━━━━━━━━━━━━━━━━━━━━━━╇━━━━━━━━━━━━━━━━━━━━━━━━━━━━━╇━━━━━━━━━━━━━━━━━┩\n",
              "│ dense (\u001b[38;5;33mDense\u001b[0m)                        │ (\u001b[38;5;45mNone\u001b[0m, \u001b[38;5;34m784\u001b[0m)                 │           \u001b[38;5;34m7,840\u001b[0m │\n",
              "├──────────────────────────────────────┼─────────────────────────────┼─────────────────┤\n",
              "│ reshape (\u001b[38;5;33mReshape\u001b[0m)                    │ (\u001b[38;5;45mNone\u001b[0m, \u001b[38;5;34m28\u001b[0m, \u001b[38;5;34m28\u001b[0m, \u001b[38;5;34m1\u001b[0m)           │               \u001b[38;5;34m0\u001b[0m │\n",
              "├──────────────────────────────────────┼─────────────────────────────┼─────────────────┤\n",
              "│ conv2d (\u001b[38;5;33mConv2D\u001b[0m)                      │ (\u001b[38;5;45mNone\u001b[0m, \u001b[38;5;34m28\u001b[0m, \u001b[38;5;34m28\u001b[0m, \u001b[38;5;34m28\u001b[0m)          │             \u001b[38;5;34m448\u001b[0m │\n",
              "├──────────────────────────────────────┼─────────────────────────────┼─────────────────┤\n",
              "│ conv2d_1 (\u001b[38;5;33mConv2D\u001b[0m)                    │ (\u001b[38;5;45mNone\u001b[0m, \u001b[38;5;34m14\u001b[0m, \u001b[38;5;34m14\u001b[0m, \u001b[38;5;34m28\u001b[0m)          │          \u001b[38;5;34m12,544\u001b[0m │\n",
              "├──────────────────────────────────────┼─────────────────────────────┼─────────────────┤\n",
              "│ batch_normalization                  │ (\u001b[38;5;45mNone\u001b[0m, \u001b[38;5;34m14\u001b[0m, \u001b[38;5;34m14\u001b[0m, \u001b[38;5;34m28\u001b[0m)          │             \u001b[38;5;34m112\u001b[0m │\n",
              "│ (\u001b[38;5;33mBatchNormalization\u001b[0m)                 │                             │                 │\n",
              "├──────────────────────────────────────┼─────────────────────────────┼─────────────────┤\n",
              "│ leaky_re_lu (\u001b[38;5;33mLeakyReLU\u001b[0m)              │ (\u001b[38;5;45mNone\u001b[0m, \u001b[38;5;34m14\u001b[0m, \u001b[38;5;34m14\u001b[0m, \u001b[38;5;34m28\u001b[0m)          │               \u001b[38;5;34m0\u001b[0m │\n",
              "├──────────────────────────────────────┼─────────────────────────────┼─────────────────┤\n",
              "│ conv2d_2 (\u001b[38;5;33mConv2D\u001b[0m)                    │ (\u001b[38;5;45mNone\u001b[0m, \u001b[38;5;34m14\u001b[0m, \u001b[38;5;34m14\u001b[0m, \u001b[38;5;34m56\u001b[0m)          │          \u001b[38;5;34m25,088\u001b[0m │\n",
              "├──────────────────────────────────────┼─────────────────────────────┼─────────────────┤\n",
              "│ conv2d_3 (\u001b[38;5;33mConv2D\u001b[0m)                    │ (\u001b[38;5;45mNone\u001b[0m, \u001b[38;5;34m7\u001b[0m, \u001b[38;5;34m7\u001b[0m, \u001b[38;5;34m56\u001b[0m)            │          \u001b[38;5;34m50,176\u001b[0m │\n",
              "├──────────────────────────────────────┼─────────────────────────────┼─────────────────┤\n",
              "│ batch_normalization_1                │ (\u001b[38;5;45mNone\u001b[0m, \u001b[38;5;34m7\u001b[0m, \u001b[38;5;34m7\u001b[0m, \u001b[38;5;34m56\u001b[0m)            │             \u001b[38;5;34m224\u001b[0m │\n",
              "│ (\u001b[38;5;33mBatchNormalization\u001b[0m)                 │                             │                 │\n",
              "├──────────────────────────────────────┼─────────────────────────────┼─────────────────┤\n",
              "│ leaky_re_lu_1 (\u001b[38;5;33mLeakyReLU\u001b[0m)            │ (\u001b[38;5;45mNone\u001b[0m, \u001b[38;5;34m7\u001b[0m, \u001b[38;5;34m7\u001b[0m, \u001b[38;5;34m56\u001b[0m)            │               \u001b[38;5;34m0\u001b[0m │\n",
              "├──────────────────────────────────────┼─────────────────────────────┼─────────────────┤\n",
              "│ conv2d_transpose (\u001b[38;5;33mConv2DTranspose\u001b[0m)   │ (\u001b[38;5;45mNone\u001b[0m, \u001b[38;5;34m7\u001b[0m, \u001b[38;5;34m7\u001b[0m, \u001b[38;5;34m112\u001b[0m)           │         \u001b[38;5;34m100,352\u001b[0m │\n",
              "├──────────────────────────────────────┼─────────────────────────────┼─────────────────┤\n",
              "│ conv2d_4 (\u001b[38;5;33mConv2D\u001b[0m)                    │ (\u001b[38;5;45mNone\u001b[0m, \u001b[38;5;34m4\u001b[0m, \u001b[38;5;34m4\u001b[0m, \u001b[38;5;34m112\u001b[0m)           │         \u001b[38;5;34m200,704\u001b[0m │\n",
              "├──────────────────────────────────────┼─────────────────────────────┼─────────────────┤\n",
              "│ leaky_re_lu_2 (\u001b[38;5;33mLeakyReLU\u001b[0m)            │ (\u001b[38;5;45mNone\u001b[0m, \u001b[38;5;34m4\u001b[0m, \u001b[38;5;34m4\u001b[0m, \u001b[38;5;34m112\u001b[0m)           │               \u001b[38;5;34m0\u001b[0m │\n",
              "├──────────────────────────────────────┼─────────────────────────────┼─────────────────┤\n",
              "│ conv2d_transpose_1 (\u001b[38;5;33mConv2DTranspose\u001b[0m) │ (\u001b[38;5;45mNone\u001b[0m, \u001b[38;5;34m4\u001b[0m, \u001b[38;5;34m4\u001b[0m, \u001b[38;5;34m112\u001b[0m)           │         \u001b[38;5;34m200,704\u001b[0m │\n",
              "├──────────────────────────────────────┼─────────────────────────────┼─────────────────┤\n",
              "│ conv2d_transpose_2 (\u001b[38;5;33mConv2DTranspose\u001b[0m) │ (\u001b[38;5;45mNone\u001b[0m, \u001b[38;5;34m8\u001b[0m, \u001b[38;5;34m8\u001b[0m, \u001b[38;5;34m112\u001b[0m)           │         \u001b[38;5;34m200,704\u001b[0m │\n",
              "├──────────────────────────────────────┼─────────────────────────────┼─────────────────┤\n",
              "│ batch_normalization_2                │ (\u001b[38;5;45mNone\u001b[0m, \u001b[38;5;34m8\u001b[0m, \u001b[38;5;34m8\u001b[0m, \u001b[38;5;34m112\u001b[0m)           │             \u001b[38;5;34m448\u001b[0m │\n",
              "│ (\u001b[38;5;33mBatchNormalization\u001b[0m)                 │                             │                 │\n",
              "├──────────────────────────────────────┼─────────────────────────────┼─────────────────┤\n",
              "│ leaky_re_lu_3 (\u001b[38;5;33mLeakyReLU\u001b[0m)            │ (\u001b[38;5;45mNone\u001b[0m, \u001b[38;5;34m8\u001b[0m, \u001b[38;5;34m8\u001b[0m, \u001b[38;5;34m112\u001b[0m)           │               \u001b[38;5;34m0\u001b[0m │\n",
              "├──────────────────────────────────────┼─────────────────────────────┼─────────────────┤\n",
              "│ conv2d_transpose_3 (\u001b[38;5;33mConv2DTranspose\u001b[0m) │ (\u001b[38;5;45mNone\u001b[0m, \u001b[38;5;34m8\u001b[0m, \u001b[38;5;34m8\u001b[0m, \u001b[38;5;34m56\u001b[0m)            │         \u001b[38;5;34m100,352\u001b[0m │\n",
              "├──────────────────────────────────────┼─────────────────────────────┼─────────────────┤\n",
              "│ conv2d_transpose_4 (\u001b[38;5;33mConv2DTranspose\u001b[0m) │ (\u001b[38;5;45mNone\u001b[0m, \u001b[38;5;34m16\u001b[0m, \u001b[38;5;34m16\u001b[0m, \u001b[38;5;34m56\u001b[0m)          │          \u001b[38;5;34m50,176\u001b[0m │\n",
              "├──────────────────────────────────────┼─────────────────────────────┼─────────────────┤\n",
              "│ batch_normalization_3                │ (\u001b[38;5;45mNone\u001b[0m, \u001b[38;5;34m16\u001b[0m, \u001b[38;5;34m16\u001b[0m, \u001b[38;5;34m56\u001b[0m)          │             \u001b[38;5;34m224\u001b[0m │\n",
              "│ (\u001b[38;5;33mBatchNormalization\u001b[0m)                 │                             │                 │\n",
              "├──────────────────────────────────────┼─────────────────────────────┼─────────────────┤\n",
              "│ conv2d_transpose_5 (\u001b[38;5;33mConv2DTranspose\u001b[0m) │ (\u001b[38;5;45mNone\u001b[0m, \u001b[38;5;34m32\u001b[0m, \u001b[38;5;34m32\u001b[0m, \u001b[38;5;34m28\u001b[0m)          │          \u001b[38;5;34m25,088\u001b[0m │\n",
              "├──────────────────────────────────────┼─────────────────────────────┼─────────────────┤\n",
              "│ conv2d_transpose_6 (\u001b[38;5;33mConv2DTranspose\u001b[0m) │ (\u001b[38;5;45mNone\u001b[0m, \u001b[38;5;34m32\u001b[0m, \u001b[38;5;34m32\u001b[0m, \u001b[38;5;34m28\u001b[0m)          │          \u001b[38;5;34m12,544\u001b[0m │\n",
              "├──────────────────────────────────────┼─────────────────────────────┼─────────────────┤\n",
              "│ batch_normalization_4                │ (\u001b[38;5;45mNone\u001b[0m, \u001b[38;5;34m32\u001b[0m, \u001b[38;5;34m32\u001b[0m, \u001b[38;5;34m28\u001b[0m)          │             \u001b[38;5;34m112\u001b[0m │\n",
              "│ (\u001b[38;5;33mBatchNormalization\u001b[0m)                 │                             │                 │\n",
              "├──────────────────────────────────────┼─────────────────────────────┼─────────────────┤\n",
              "│ conv2d_transpose_7 (\u001b[38;5;33mConv2DTranspose\u001b[0m) │ (\u001b[38;5;45mNone\u001b[0m, \u001b[38;5;34m32\u001b[0m, \u001b[38;5;34m32\u001b[0m, \u001b[38;5;34m1\u001b[0m)           │             \u001b[38;5;34m449\u001b[0m │\n",
              "└──────────────────────────────────────┴─────────────────────────────┴─────────────────┘\n"
            ],
            "text/html": [
              "<pre style=\"white-space:pre;overflow-x:auto;line-height:normal;font-family:Menlo,'DejaVu Sans Mono',consolas,'Courier New',monospace\">┏━━━━━━━━━━━━━━━━━━━━━━━━━━━━━━━━━━━━━━┳━━━━━━━━━━━━━━━━━━━━━━━━━━━━━┳━━━━━━━━━━━━━━━━━┓\n",
              "┃<span style=\"font-weight: bold\"> Layer (type)                         </span>┃<span style=\"font-weight: bold\"> Output Shape                </span>┃<span style=\"font-weight: bold\">         Param # </span>┃\n",
              "┡━━━━━━━━━━━━━━━━━━━━━━━━━━━━━━━━━━━━━━╇━━━━━━━━━━━━━━━━━━━━━━━━━━━━━╇━━━━━━━━━━━━━━━━━┩\n",
              "│ dense (<span style=\"color: #0087ff; text-decoration-color: #0087ff\">Dense</span>)                        │ (<span style=\"color: #00d7ff; text-decoration-color: #00d7ff\">None</span>, <span style=\"color: #00af00; text-decoration-color: #00af00\">784</span>)                 │           <span style=\"color: #00af00; text-decoration-color: #00af00\">7,840</span> │\n",
              "├──────────────────────────────────────┼─────────────────────────────┼─────────────────┤\n",
              "│ reshape (<span style=\"color: #0087ff; text-decoration-color: #0087ff\">Reshape</span>)                    │ (<span style=\"color: #00d7ff; text-decoration-color: #00d7ff\">None</span>, <span style=\"color: #00af00; text-decoration-color: #00af00\">28</span>, <span style=\"color: #00af00; text-decoration-color: #00af00\">28</span>, <span style=\"color: #00af00; text-decoration-color: #00af00\">1</span>)           │               <span style=\"color: #00af00; text-decoration-color: #00af00\">0</span> │\n",
              "├──────────────────────────────────────┼─────────────────────────────┼─────────────────┤\n",
              "│ conv2d (<span style=\"color: #0087ff; text-decoration-color: #0087ff\">Conv2D</span>)                      │ (<span style=\"color: #00d7ff; text-decoration-color: #00d7ff\">None</span>, <span style=\"color: #00af00; text-decoration-color: #00af00\">28</span>, <span style=\"color: #00af00; text-decoration-color: #00af00\">28</span>, <span style=\"color: #00af00; text-decoration-color: #00af00\">28</span>)          │             <span style=\"color: #00af00; text-decoration-color: #00af00\">448</span> │\n",
              "├──────────────────────────────────────┼─────────────────────────────┼─────────────────┤\n",
              "│ conv2d_1 (<span style=\"color: #0087ff; text-decoration-color: #0087ff\">Conv2D</span>)                    │ (<span style=\"color: #00d7ff; text-decoration-color: #00d7ff\">None</span>, <span style=\"color: #00af00; text-decoration-color: #00af00\">14</span>, <span style=\"color: #00af00; text-decoration-color: #00af00\">14</span>, <span style=\"color: #00af00; text-decoration-color: #00af00\">28</span>)          │          <span style=\"color: #00af00; text-decoration-color: #00af00\">12,544</span> │\n",
              "├──────────────────────────────────────┼─────────────────────────────┼─────────────────┤\n",
              "│ batch_normalization                  │ (<span style=\"color: #00d7ff; text-decoration-color: #00d7ff\">None</span>, <span style=\"color: #00af00; text-decoration-color: #00af00\">14</span>, <span style=\"color: #00af00; text-decoration-color: #00af00\">14</span>, <span style=\"color: #00af00; text-decoration-color: #00af00\">28</span>)          │             <span style=\"color: #00af00; text-decoration-color: #00af00\">112</span> │\n",
              "│ (<span style=\"color: #0087ff; text-decoration-color: #0087ff\">BatchNormalization</span>)                 │                             │                 │\n",
              "├──────────────────────────────────────┼─────────────────────────────┼─────────────────┤\n",
              "│ leaky_re_lu (<span style=\"color: #0087ff; text-decoration-color: #0087ff\">LeakyReLU</span>)              │ (<span style=\"color: #00d7ff; text-decoration-color: #00d7ff\">None</span>, <span style=\"color: #00af00; text-decoration-color: #00af00\">14</span>, <span style=\"color: #00af00; text-decoration-color: #00af00\">14</span>, <span style=\"color: #00af00; text-decoration-color: #00af00\">28</span>)          │               <span style=\"color: #00af00; text-decoration-color: #00af00\">0</span> │\n",
              "├──────────────────────────────────────┼─────────────────────────────┼─────────────────┤\n",
              "│ conv2d_2 (<span style=\"color: #0087ff; text-decoration-color: #0087ff\">Conv2D</span>)                    │ (<span style=\"color: #00d7ff; text-decoration-color: #00d7ff\">None</span>, <span style=\"color: #00af00; text-decoration-color: #00af00\">14</span>, <span style=\"color: #00af00; text-decoration-color: #00af00\">14</span>, <span style=\"color: #00af00; text-decoration-color: #00af00\">56</span>)          │          <span style=\"color: #00af00; text-decoration-color: #00af00\">25,088</span> │\n",
              "├──────────────────────────────────────┼─────────────────────────────┼─────────────────┤\n",
              "│ conv2d_3 (<span style=\"color: #0087ff; text-decoration-color: #0087ff\">Conv2D</span>)                    │ (<span style=\"color: #00d7ff; text-decoration-color: #00d7ff\">None</span>, <span style=\"color: #00af00; text-decoration-color: #00af00\">7</span>, <span style=\"color: #00af00; text-decoration-color: #00af00\">7</span>, <span style=\"color: #00af00; text-decoration-color: #00af00\">56</span>)            │          <span style=\"color: #00af00; text-decoration-color: #00af00\">50,176</span> │\n",
              "├──────────────────────────────────────┼─────────────────────────────┼─────────────────┤\n",
              "│ batch_normalization_1                │ (<span style=\"color: #00d7ff; text-decoration-color: #00d7ff\">None</span>, <span style=\"color: #00af00; text-decoration-color: #00af00\">7</span>, <span style=\"color: #00af00; text-decoration-color: #00af00\">7</span>, <span style=\"color: #00af00; text-decoration-color: #00af00\">56</span>)            │             <span style=\"color: #00af00; text-decoration-color: #00af00\">224</span> │\n",
              "│ (<span style=\"color: #0087ff; text-decoration-color: #0087ff\">BatchNormalization</span>)                 │                             │                 │\n",
              "├──────────────────────────────────────┼─────────────────────────────┼─────────────────┤\n",
              "│ leaky_re_lu_1 (<span style=\"color: #0087ff; text-decoration-color: #0087ff\">LeakyReLU</span>)            │ (<span style=\"color: #00d7ff; text-decoration-color: #00d7ff\">None</span>, <span style=\"color: #00af00; text-decoration-color: #00af00\">7</span>, <span style=\"color: #00af00; text-decoration-color: #00af00\">7</span>, <span style=\"color: #00af00; text-decoration-color: #00af00\">56</span>)            │               <span style=\"color: #00af00; text-decoration-color: #00af00\">0</span> │\n",
              "├──────────────────────────────────────┼─────────────────────────────┼─────────────────┤\n",
              "│ conv2d_transpose (<span style=\"color: #0087ff; text-decoration-color: #0087ff\">Conv2DTranspose</span>)   │ (<span style=\"color: #00d7ff; text-decoration-color: #00d7ff\">None</span>, <span style=\"color: #00af00; text-decoration-color: #00af00\">7</span>, <span style=\"color: #00af00; text-decoration-color: #00af00\">7</span>, <span style=\"color: #00af00; text-decoration-color: #00af00\">112</span>)           │         <span style=\"color: #00af00; text-decoration-color: #00af00\">100,352</span> │\n",
              "├──────────────────────────────────────┼─────────────────────────────┼─────────────────┤\n",
              "│ conv2d_4 (<span style=\"color: #0087ff; text-decoration-color: #0087ff\">Conv2D</span>)                    │ (<span style=\"color: #00d7ff; text-decoration-color: #00d7ff\">None</span>, <span style=\"color: #00af00; text-decoration-color: #00af00\">4</span>, <span style=\"color: #00af00; text-decoration-color: #00af00\">4</span>, <span style=\"color: #00af00; text-decoration-color: #00af00\">112</span>)           │         <span style=\"color: #00af00; text-decoration-color: #00af00\">200,704</span> │\n",
              "├──────────────────────────────────────┼─────────────────────────────┼─────────────────┤\n",
              "│ leaky_re_lu_2 (<span style=\"color: #0087ff; text-decoration-color: #0087ff\">LeakyReLU</span>)            │ (<span style=\"color: #00d7ff; text-decoration-color: #00d7ff\">None</span>, <span style=\"color: #00af00; text-decoration-color: #00af00\">4</span>, <span style=\"color: #00af00; text-decoration-color: #00af00\">4</span>, <span style=\"color: #00af00; text-decoration-color: #00af00\">112</span>)           │               <span style=\"color: #00af00; text-decoration-color: #00af00\">0</span> │\n",
              "├──────────────────────────────────────┼─────────────────────────────┼─────────────────┤\n",
              "│ conv2d_transpose_1 (<span style=\"color: #0087ff; text-decoration-color: #0087ff\">Conv2DTranspose</span>) │ (<span style=\"color: #00d7ff; text-decoration-color: #00d7ff\">None</span>, <span style=\"color: #00af00; text-decoration-color: #00af00\">4</span>, <span style=\"color: #00af00; text-decoration-color: #00af00\">4</span>, <span style=\"color: #00af00; text-decoration-color: #00af00\">112</span>)           │         <span style=\"color: #00af00; text-decoration-color: #00af00\">200,704</span> │\n",
              "├──────────────────────────────────────┼─────────────────────────────┼─────────────────┤\n",
              "│ conv2d_transpose_2 (<span style=\"color: #0087ff; text-decoration-color: #0087ff\">Conv2DTranspose</span>) │ (<span style=\"color: #00d7ff; text-decoration-color: #00d7ff\">None</span>, <span style=\"color: #00af00; text-decoration-color: #00af00\">8</span>, <span style=\"color: #00af00; text-decoration-color: #00af00\">8</span>, <span style=\"color: #00af00; text-decoration-color: #00af00\">112</span>)           │         <span style=\"color: #00af00; text-decoration-color: #00af00\">200,704</span> │\n",
              "├──────────────────────────────────────┼─────────────────────────────┼─────────────────┤\n",
              "│ batch_normalization_2                │ (<span style=\"color: #00d7ff; text-decoration-color: #00d7ff\">None</span>, <span style=\"color: #00af00; text-decoration-color: #00af00\">8</span>, <span style=\"color: #00af00; text-decoration-color: #00af00\">8</span>, <span style=\"color: #00af00; text-decoration-color: #00af00\">112</span>)           │             <span style=\"color: #00af00; text-decoration-color: #00af00\">448</span> │\n",
              "│ (<span style=\"color: #0087ff; text-decoration-color: #0087ff\">BatchNormalization</span>)                 │                             │                 │\n",
              "├──────────────────────────────────────┼─────────────────────────────┼─────────────────┤\n",
              "│ leaky_re_lu_3 (<span style=\"color: #0087ff; text-decoration-color: #0087ff\">LeakyReLU</span>)            │ (<span style=\"color: #00d7ff; text-decoration-color: #00d7ff\">None</span>, <span style=\"color: #00af00; text-decoration-color: #00af00\">8</span>, <span style=\"color: #00af00; text-decoration-color: #00af00\">8</span>, <span style=\"color: #00af00; text-decoration-color: #00af00\">112</span>)           │               <span style=\"color: #00af00; text-decoration-color: #00af00\">0</span> │\n",
              "├──────────────────────────────────────┼─────────────────────────────┼─────────────────┤\n",
              "│ conv2d_transpose_3 (<span style=\"color: #0087ff; text-decoration-color: #0087ff\">Conv2DTranspose</span>) │ (<span style=\"color: #00d7ff; text-decoration-color: #00d7ff\">None</span>, <span style=\"color: #00af00; text-decoration-color: #00af00\">8</span>, <span style=\"color: #00af00; text-decoration-color: #00af00\">8</span>, <span style=\"color: #00af00; text-decoration-color: #00af00\">56</span>)            │         <span style=\"color: #00af00; text-decoration-color: #00af00\">100,352</span> │\n",
              "├──────────────────────────────────────┼─────────────────────────────┼─────────────────┤\n",
              "│ conv2d_transpose_4 (<span style=\"color: #0087ff; text-decoration-color: #0087ff\">Conv2DTranspose</span>) │ (<span style=\"color: #00d7ff; text-decoration-color: #00d7ff\">None</span>, <span style=\"color: #00af00; text-decoration-color: #00af00\">16</span>, <span style=\"color: #00af00; text-decoration-color: #00af00\">16</span>, <span style=\"color: #00af00; text-decoration-color: #00af00\">56</span>)          │          <span style=\"color: #00af00; text-decoration-color: #00af00\">50,176</span> │\n",
              "├──────────────────────────────────────┼─────────────────────────────┼─────────────────┤\n",
              "│ batch_normalization_3                │ (<span style=\"color: #00d7ff; text-decoration-color: #00d7ff\">None</span>, <span style=\"color: #00af00; text-decoration-color: #00af00\">16</span>, <span style=\"color: #00af00; text-decoration-color: #00af00\">16</span>, <span style=\"color: #00af00; text-decoration-color: #00af00\">56</span>)          │             <span style=\"color: #00af00; text-decoration-color: #00af00\">224</span> │\n",
              "│ (<span style=\"color: #0087ff; text-decoration-color: #0087ff\">BatchNormalization</span>)                 │                             │                 │\n",
              "├──────────────────────────────────────┼─────────────────────────────┼─────────────────┤\n",
              "│ conv2d_transpose_5 (<span style=\"color: #0087ff; text-decoration-color: #0087ff\">Conv2DTranspose</span>) │ (<span style=\"color: #00d7ff; text-decoration-color: #00d7ff\">None</span>, <span style=\"color: #00af00; text-decoration-color: #00af00\">32</span>, <span style=\"color: #00af00; text-decoration-color: #00af00\">32</span>, <span style=\"color: #00af00; text-decoration-color: #00af00\">28</span>)          │          <span style=\"color: #00af00; text-decoration-color: #00af00\">25,088</span> │\n",
              "├──────────────────────────────────────┼─────────────────────────────┼─────────────────┤\n",
              "│ conv2d_transpose_6 (<span style=\"color: #0087ff; text-decoration-color: #0087ff\">Conv2DTranspose</span>) │ (<span style=\"color: #00d7ff; text-decoration-color: #00d7ff\">None</span>, <span style=\"color: #00af00; text-decoration-color: #00af00\">32</span>, <span style=\"color: #00af00; text-decoration-color: #00af00\">32</span>, <span style=\"color: #00af00; text-decoration-color: #00af00\">28</span>)          │          <span style=\"color: #00af00; text-decoration-color: #00af00\">12,544</span> │\n",
              "├──────────────────────────────────────┼─────────────────────────────┼─────────────────┤\n",
              "│ batch_normalization_4                │ (<span style=\"color: #00d7ff; text-decoration-color: #00d7ff\">None</span>, <span style=\"color: #00af00; text-decoration-color: #00af00\">32</span>, <span style=\"color: #00af00; text-decoration-color: #00af00\">32</span>, <span style=\"color: #00af00; text-decoration-color: #00af00\">28</span>)          │             <span style=\"color: #00af00; text-decoration-color: #00af00\">112</span> │\n",
              "│ (<span style=\"color: #0087ff; text-decoration-color: #0087ff\">BatchNormalization</span>)                 │                             │                 │\n",
              "├──────────────────────────────────────┼─────────────────────────────┼─────────────────┤\n",
              "│ conv2d_transpose_7 (<span style=\"color: #0087ff; text-decoration-color: #0087ff\">Conv2DTranspose</span>) │ (<span style=\"color: #00d7ff; text-decoration-color: #00d7ff\">None</span>, <span style=\"color: #00af00; text-decoration-color: #00af00\">32</span>, <span style=\"color: #00af00; text-decoration-color: #00af00\">32</span>, <span style=\"color: #00af00; text-decoration-color: #00af00\">1</span>)           │             <span style=\"color: #00af00; text-decoration-color: #00af00\">449</span> │\n",
              "└──────────────────────────────────────┴─────────────────────────────┴─────────────────┘\n",
              "</pre>\n"
            ]
          },
          "metadata": {}
        },
        {
          "output_type": "display_data",
          "data": {
            "text/plain": [
              "\u001b[1m Total params: \u001b[0m\u001b[38;5;34m988,289\u001b[0m (3.77 MB)\n"
            ],
            "text/html": [
              "<pre style=\"white-space:pre;overflow-x:auto;line-height:normal;font-family:Menlo,'DejaVu Sans Mono',consolas,'Courier New',monospace\"><span style=\"font-weight: bold\"> Total params: </span><span style=\"color: #00af00; text-decoration-color: #00af00\">988,289</span> (3.77 MB)\n",
              "</pre>\n"
            ]
          },
          "metadata": {}
        },
        {
          "output_type": "display_data",
          "data": {
            "text/plain": [
              "\u001b[1m Trainable params: \u001b[0m\u001b[38;5;34m987,729\u001b[0m (3.77 MB)\n"
            ],
            "text/html": [
              "<pre style=\"white-space:pre;overflow-x:auto;line-height:normal;font-family:Menlo,'DejaVu Sans Mono',consolas,'Courier New',monospace\"><span style=\"font-weight: bold\"> Trainable params: </span><span style=\"color: #00af00; text-decoration-color: #00af00\">987,729</span> (3.77 MB)\n",
              "</pre>\n"
            ]
          },
          "metadata": {}
        },
        {
          "output_type": "display_data",
          "data": {
            "text/plain": [
              "\u001b[1m Non-trainable params: \u001b[0m\u001b[38;5;34m560\u001b[0m (2.19 KB)\n"
            ],
            "text/html": [
              "<pre style=\"white-space:pre;overflow-x:auto;line-height:normal;font-family:Menlo,'DejaVu Sans Mono',consolas,'Courier New',monospace\"><span style=\"font-weight: bold\"> Non-trainable params: </span><span style=\"color: #00af00; text-decoration-color: #00af00\">560</span> (2.19 KB)\n",
              "</pre>\n"
            ]
          },
          "metadata": {}
        }
      ]
    },
    {
      "cell_type": "code",
      "source": [
        "def Discriminator():\n",
        "    model = Sequential()\n",
        "    model.add(tf.keras.layers.Input(INPUT_IMG))  # Входной слой с 1 каналом\n",
        "    model.add(Conv2D(SIZE, 4, strides=2, padding='same', kernel_initializer='he_normal', use_bias=False))\n",
        "    model.add(BatchNormalization())\n",
        "    model.add(LeakyReLU())\n",
        "    model.add(Conv2D(SIZE, 4, strides=2, padding='same', kernel_initializer='he_normal', use_bias=False))\n",
        "    model.add(BatchNormalization())\n",
        "    model.add(LeakyReLU())\n",
        "    model.add(Conv2D(SIZE * 2, 4, strides=2, padding='same', kernel_initializer='he_normal', use_bias=False))\n",
        "    model.add(BatchNormalization())\n",
        "    model.add(LeakyReLU())\n",
        "    model.add(Conv2D(SIZE * 2, 4, strides=2, padding='same', kernel_initializer='he_normal', use_bias=False))\n",
        "    model.add(BatchNormalization())\n",
        "    model.add(LeakyReLU())\n",
        "    model.add(Conv2D(SIZE * 4, 4, strides=2, padding='same', kernel_initializer='he_normal', use_bias=False))\n",
        "    model.add(LeakyReLU())\n",
        "    model.add(Flatten())\n",
        "    model.add(Dense(1, activation='sigmoid'))\n",
        "    return model\n"
      ],
      "metadata": {
        "id": "up6j9lJfazkY"
      },
      "execution_count": null,
      "outputs": []
    },
    {
      "cell_type": "code",
      "source": [
        "discriminator = Discriminator()\n",
        "discriminator.summary()"
      ],
      "metadata": {
        "id": "4OaCwnwsa12g",
        "colab": {
          "base_uri": "https://localhost:8080/",
          "height": 705
        },
        "collapsed": true,
        "outputId": "156f109a-527d-4d48-9d48-a52f1cc80f47"
      },
      "execution_count": null,
      "outputs": [
        {
          "output_type": "display_data",
          "data": {
            "text/plain": [
              "\u001b[1mModel: \"sequential_1\"\u001b[0m\n"
            ],
            "text/html": [
              "<pre style=\"white-space:pre;overflow-x:auto;line-height:normal;font-family:Menlo,'DejaVu Sans Mono',consolas,'Courier New',monospace\"><span style=\"font-weight: bold\">Model: \"sequential_1\"</span>\n",
              "</pre>\n"
            ]
          },
          "metadata": {}
        },
        {
          "output_type": "display_data",
          "data": {
            "text/plain": [
              "┏━━━━━━━━━━━━━━━━━━━━━━━━━━━━━━━━━━━━━━┳━━━━━━━━━━━━━━━━━━━━━━━━━━━━━┳━━━━━━━━━━━━━━━━━┓\n",
              "┃\u001b[1m \u001b[0m\u001b[1mLayer (type)                        \u001b[0m\u001b[1m \u001b[0m┃\u001b[1m \u001b[0m\u001b[1mOutput Shape               \u001b[0m\u001b[1m \u001b[0m┃\u001b[1m \u001b[0m\u001b[1m        Param #\u001b[0m\u001b[1m \u001b[0m┃\n",
              "┡━━━━━━━━━━━━━━━━━━━━━━━━━━━━━━━━━━━━━━╇━━━━━━━━━━━━━━━━━━━━━━━━━━━━━╇━━━━━━━━━━━━━━━━━┩\n",
              "│ conv2d_5 (\u001b[38;5;33mConv2D\u001b[0m)                    │ (\u001b[38;5;45mNone\u001b[0m, \u001b[38;5;34m14\u001b[0m, \u001b[38;5;34m14\u001b[0m, \u001b[38;5;34m28\u001b[0m)          │             \u001b[38;5;34m448\u001b[0m │\n",
              "├──────────────────────────────────────┼─────────────────────────────┼─────────────────┤\n",
              "│ batch_normalization_5                │ (\u001b[38;5;45mNone\u001b[0m, \u001b[38;5;34m14\u001b[0m, \u001b[38;5;34m14\u001b[0m, \u001b[38;5;34m28\u001b[0m)          │             \u001b[38;5;34m112\u001b[0m │\n",
              "│ (\u001b[38;5;33mBatchNormalization\u001b[0m)                 │                             │                 │\n",
              "├──────────────────────────────────────┼─────────────────────────────┼─────────────────┤\n",
              "│ leaky_re_lu_4 (\u001b[38;5;33mLeakyReLU\u001b[0m)            │ (\u001b[38;5;45mNone\u001b[0m, \u001b[38;5;34m14\u001b[0m, \u001b[38;5;34m14\u001b[0m, \u001b[38;5;34m28\u001b[0m)          │               \u001b[38;5;34m0\u001b[0m │\n",
              "├──────────────────────────────────────┼─────────────────────────────┼─────────────────┤\n",
              "│ conv2d_6 (\u001b[38;5;33mConv2D\u001b[0m)                    │ (\u001b[38;5;45mNone\u001b[0m, \u001b[38;5;34m7\u001b[0m, \u001b[38;5;34m7\u001b[0m, \u001b[38;5;34m28\u001b[0m)            │          \u001b[38;5;34m12,544\u001b[0m │\n",
              "├──────────────────────────────────────┼─────────────────────────────┼─────────────────┤\n",
              "│ batch_normalization_6                │ (\u001b[38;5;45mNone\u001b[0m, \u001b[38;5;34m7\u001b[0m, \u001b[38;5;34m7\u001b[0m, \u001b[38;5;34m28\u001b[0m)            │             \u001b[38;5;34m112\u001b[0m │\n",
              "│ (\u001b[38;5;33mBatchNormalization\u001b[0m)                 │                             │                 │\n",
              "├──────────────────────────────────────┼─────────────────────────────┼─────────────────┤\n",
              "│ leaky_re_lu_5 (\u001b[38;5;33mLeakyReLU\u001b[0m)            │ (\u001b[38;5;45mNone\u001b[0m, \u001b[38;5;34m7\u001b[0m, \u001b[38;5;34m7\u001b[0m, \u001b[38;5;34m28\u001b[0m)            │               \u001b[38;5;34m0\u001b[0m │\n",
              "├──────────────────────────────────────┼─────────────────────────────┼─────────────────┤\n",
              "│ conv2d_7 (\u001b[38;5;33mConv2D\u001b[0m)                    │ (\u001b[38;5;45mNone\u001b[0m, \u001b[38;5;34m4\u001b[0m, \u001b[38;5;34m4\u001b[0m, \u001b[38;5;34m56\u001b[0m)            │          \u001b[38;5;34m25,088\u001b[0m │\n",
              "├──────────────────────────────────────┼─────────────────────────────┼─────────────────┤\n",
              "│ batch_normalization_7                │ (\u001b[38;5;45mNone\u001b[0m, \u001b[38;5;34m4\u001b[0m, \u001b[38;5;34m4\u001b[0m, \u001b[38;5;34m56\u001b[0m)            │             \u001b[38;5;34m224\u001b[0m │\n",
              "│ (\u001b[38;5;33mBatchNormalization\u001b[0m)                 │                             │                 │\n",
              "├──────────────────────────────────────┼─────────────────────────────┼─────────────────┤\n",
              "│ leaky_re_lu_6 (\u001b[38;5;33mLeakyReLU\u001b[0m)            │ (\u001b[38;5;45mNone\u001b[0m, \u001b[38;5;34m4\u001b[0m, \u001b[38;5;34m4\u001b[0m, \u001b[38;5;34m56\u001b[0m)            │               \u001b[38;5;34m0\u001b[0m │\n",
              "├──────────────────────────────────────┼─────────────────────────────┼─────────────────┤\n",
              "│ conv2d_8 (\u001b[38;5;33mConv2D\u001b[0m)                    │ (\u001b[38;5;45mNone\u001b[0m, \u001b[38;5;34m2\u001b[0m, \u001b[38;5;34m2\u001b[0m, \u001b[38;5;34m56\u001b[0m)            │          \u001b[38;5;34m50,176\u001b[0m │\n",
              "├──────────────────────────────────────┼─────────────────────────────┼─────────────────┤\n",
              "│ batch_normalization_8                │ (\u001b[38;5;45mNone\u001b[0m, \u001b[38;5;34m2\u001b[0m, \u001b[38;5;34m2\u001b[0m, \u001b[38;5;34m56\u001b[0m)            │             \u001b[38;5;34m224\u001b[0m │\n",
              "│ (\u001b[38;5;33mBatchNormalization\u001b[0m)                 │                             │                 │\n",
              "├──────────────────────────────────────┼─────────────────────────────┼─────────────────┤\n",
              "│ leaky_re_lu_7 (\u001b[38;5;33mLeakyReLU\u001b[0m)            │ (\u001b[38;5;45mNone\u001b[0m, \u001b[38;5;34m2\u001b[0m, \u001b[38;5;34m2\u001b[0m, \u001b[38;5;34m56\u001b[0m)            │               \u001b[38;5;34m0\u001b[0m │\n",
              "├──────────────────────────────────────┼─────────────────────────────┼─────────────────┤\n",
              "│ conv2d_9 (\u001b[38;5;33mConv2D\u001b[0m)                    │ (\u001b[38;5;45mNone\u001b[0m, \u001b[38;5;34m1\u001b[0m, \u001b[38;5;34m1\u001b[0m, \u001b[38;5;34m112\u001b[0m)           │         \u001b[38;5;34m100,352\u001b[0m │\n",
              "├──────────────────────────────────────┼─────────────────────────────┼─────────────────┤\n",
              "│ leaky_re_lu_8 (\u001b[38;5;33mLeakyReLU\u001b[0m)            │ (\u001b[38;5;45mNone\u001b[0m, \u001b[38;5;34m1\u001b[0m, \u001b[38;5;34m1\u001b[0m, \u001b[38;5;34m112\u001b[0m)           │               \u001b[38;5;34m0\u001b[0m │\n",
              "├──────────────────────────────────────┼─────────────────────────────┼─────────────────┤\n",
              "│ flatten (\u001b[38;5;33mFlatten\u001b[0m)                    │ (\u001b[38;5;45mNone\u001b[0m, \u001b[38;5;34m112\u001b[0m)                 │               \u001b[38;5;34m0\u001b[0m │\n",
              "├──────────────────────────────────────┼─────────────────────────────┼─────────────────┤\n",
              "│ dense_1 (\u001b[38;5;33mDense\u001b[0m)                      │ (\u001b[38;5;45mNone\u001b[0m, \u001b[38;5;34m1\u001b[0m)                   │             \u001b[38;5;34m113\u001b[0m │\n",
              "└──────────────────────────────────────┴─────────────────────────────┴─────────────────┘\n"
            ],
            "text/html": [
              "<pre style=\"white-space:pre;overflow-x:auto;line-height:normal;font-family:Menlo,'DejaVu Sans Mono',consolas,'Courier New',monospace\">┏━━━━━━━━━━━━━━━━━━━━━━━━━━━━━━━━━━━━━━┳━━━━━━━━━━━━━━━━━━━━━━━━━━━━━┳━━━━━━━━━━━━━━━━━┓\n",
              "┃<span style=\"font-weight: bold\"> Layer (type)                         </span>┃<span style=\"font-weight: bold\"> Output Shape                </span>┃<span style=\"font-weight: bold\">         Param # </span>┃\n",
              "┡━━━━━━━━━━━━━━━━━━━━━━━━━━━━━━━━━━━━━━╇━━━━━━━━━━━━━━━━━━━━━━━━━━━━━╇━━━━━━━━━━━━━━━━━┩\n",
              "│ conv2d_5 (<span style=\"color: #0087ff; text-decoration-color: #0087ff\">Conv2D</span>)                    │ (<span style=\"color: #00d7ff; text-decoration-color: #00d7ff\">None</span>, <span style=\"color: #00af00; text-decoration-color: #00af00\">14</span>, <span style=\"color: #00af00; text-decoration-color: #00af00\">14</span>, <span style=\"color: #00af00; text-decoration-color: #00af00\">28</span>)          │             <span style=\"color: #00af00; text-decoration-color: #00af00\">448</span> │\n",
              "├──────────────────────────────────────┼─────────────────────────────┼─────────────────┤\n",
              "│ batch_normalization_5                │ (<span style=\"color: #00d7ff; text-decoration-color: #00d7ff\">None</span>, <span style=\"color: #00af00; text-decoration-color: #00af00\">14</span>, <span style=\"color: #00af00; text-decoration-color: #00af00\">14</span>, <span style=\"color: #00af00; text-decoration-color: #00af00\">28</span>)          │             <span style=\"color: #00af00; text-decoration-color: #00af00\">112</span> │\n",
              "│ (<span style=\"color: #0087ff; text-decoration-color: #0087ff\">BatchNormalization</span>)                 │                             │                 │\n",
              "├──────────────────────────────────────┼─────────────────────────────┼─────────────────┤\n",
              "│ leaky_re_lu_4 (<span style=\"color: #0087ff; text-decoration-color: #0087ff\">LeakyReLU</span>)            │ (<span style=\"color: #00d7ff; text-decoration-color: #00d7ff\">None</span>, <span style=\"color: #00af00; text-decoration-color: #00af00\">14</span>, <span style=\"color: #00af00; text-decoration-color: #00af00\">14</span>, <span style=\"color: #00af00; text-decoration-color: #00af00\">28</span>)          │               <span style=\"color: #00af00; text-decoration-color: #00af00\">0</span> │\n",
              "├──────────────────────────────────────┼─────────────────────────────┼─────────────────┤\n",
              "│ conv2d_6 (<span style=\"color: #0087ff; text-decoration-color: #0087ff\">Conv2D</span>)                    │ (<span style=\"color: #00d7ff; text-decoration-color: #00d7ff\">None</span>, <span style=\"color: #00af00; text-decoration-color: #00af00\">7</span>, <span style=\"color: #00af00; text-decoration-color: #00af00\">7</span>, <span style=\"color: #00af00; text-decoration-color: #00af00\">28</span>)            │          <span style=\"color: #00af00; text-decoration-color: #00af00\">12,544</span> │\n",
              "├──────────────────────────────────────┼─────────────────────────────┼─────────────────┤\n",
              "│ batch_normalization_6                │ (<span style=\"color: #00d7ff; text-decoration-color: #00d7ff\">None</span>, <span style=\"color: #00af00; text-decoration-color: #00af00\">7</span>, <span style=\"color: #00af00; text-decoration-color: #00af00\">7</span>, <span style=\"color: #00af00; text-decoration-color: #00af00\">28</span>)            │             <span style=\"color: #00af00; text-decoration-color: #00af00\">112</span> │\n",
              "│ (<span style=\"color: #0087ff; text-decoration-color: #0087ff\">BatchNormalization</span>)                 │                             │                 │\n",
              "├──────────────────────────────────────┼─────────────────────────────┼─────────────────┤\n",
              "│ leaky_re_lu_5 (<span style=\"color: #0087ff; text-decoration-color: #0087ff\">LeakyReLU</span>)            │ (<span style=\"color: #00d7ff; text-decoration-color: #00d7ff\">None</span>, <span style=\"color: #00af00; text-decoration-color: #00af00\">7</span>, <span style=\"color: #00af00; text-decoration-color: #00af00\">7</span>, <span style=\"color: #00af00; text-decoration-color: #00af00\">28</span>)            │               <span style=\"color: #00af00; text-decoration-color: #00af00\">0</span> │\n",
              "├──────────────────────────────────────┼─────────────────────────────┼─────────────────┤\n",
              "│ conv2d_7 (<span style=\"color: #0087ff; text-decoration-color: #0087ff\">Conv2D</span>)                    │ (<span style=\"color: #00d7ff; text-decoration-color: #00d7ff\">None</span>, <span style=\"color: #00af00; text-decoration-color: #00af00\">4</span>, <span style=\"color: #00af00; text-decoration-color: #00af00\">4</span>, <span style=\"color: #00af00; text-decoration-color: #00af00\">56</span>)            │          <span style=\"color: #00af00; text-decoration-color: #00af00\">25,088</span> │\n",
              "├──────────────────────────────────────┼─────────────────────────────┼─────────────────┤\n",
              "│ batch_normalization_7                │ (<span style=\"color: #00d7ff; text-decoration-color: #00d7ff\">None</span>, <span style=\"color: #00af00; text-decoration-color: #00af00\">4</span>, <span style=\"color: #00af00; text-decoration-color: #00af00\">4</span>, <span style=\"color: #00af00; text-decoration-color: #00af00\">56</span>)            │             <span style=\"color: #00af00; text-decoration-color: #00af00\">224</span> │\n",
              "│ (<span style=\"color: #0087ff; text-decoration-color: #0087ff\">BatchNormalization</span>)                 │                             │                 │\n",
              "├──────────────────────────────────────┼─────────────────────────────┼─────────────────┤\n",
              "│ leaky_re_lu_6 (<span style=\"color: #0087ff; text-decoration-color: #0087ff\">LeakyReLU</span>)            │ (<span style=\"color: #00d7ff; text-decoration-color: #00d7ff\">None</span>, <span style=\"color: #00af00; text-decoration-color: #00af00\">4</span>, <span style=\"color: #00af00; text-decoration-color: #00af00\">4</span>, <span style=\"color: #00af00; text-decoration-color: #00af00\">56</span>)            │               <span style=\"color: #00af00; text-decoration-color: #00af00\">0</span> │\n",
              "├──────────────────────────────────────┼─────────────────────────────┼─────────────────┤\n",
              "│ conv2d_8 (<span style=\"color: #0087ff; text-decoration-color: #0087ff\">Conv2D</span>)                    │ (<span style=\"color: #00d7ff; text-decoration-color: #00d7ff\">None</span>, <span style=\"color: #00af00; text-decoration-color: #00af00\">2</span>, <span style=\"color: #00af00; text-decoration-color: #00af00\">2</span>, <span style=\"color: #00af00; text-decoration-color: #00af00\">56</span>)            │          <span style=\"color: #00af00; text-decoration-color: #00af00\">50,176</span> │\n",
              "├──────────────────────────────────────┼─────────────────────────────┼─────────────────┤\n",
              "│ batch_normalization_8                │ (<span style=\"color: #00d7ff; text-decoration-color: #00d7ff\">None</span>, <span style=\"color: #00af00; text-decoration-color: #00af00\">2</span>, <span style=\"color: #00af00; text-decoration-color: #00af00\">2</span>, <span style=\"color: #00af00; text-decoration-color: #00af00\">56</span>)            │             <span style=\"color: #00af00; text-decoration-color: #00af00\">224</span> │\n",
              "│ (<span style=\"color: #0087ff; text-decoration-color: #0087ff\">BatchNormalization</span>)                 │                             │                 │\n",
              "├──────────────────────────────────────┼─────────────────────────────┼─────────────────┤\n",
              "│ leaky_re_lu_7 (<span style=\"color: #0087ff; text-decoration-color: #0087ff\">LeakyReLU</span>)            │ (<span style=\"color: #00d7ff; text-decoration-color: #00d7ff\">None</span>, <span style=\"color: #00af00; text-decoration-color: #00af00\">2</span>, <span style=\"color: #00af00; text-decoration-color: #00af00\">2</span>, <span style=\"color: #00af00; text-decoration-color: #00af00\">56</span>)            │               <span style=\"color: #00af00; text-decoration-color: #00af00\">0</span> │\n",
              "├──────────────────────────────────────┼─────────────────────────────┼─────────────────┤\n",
              "│ conv2d_9 (<span style=\"color: #0087ff; text-decoration-color: #0087ff\">Conv2D</span>)                    │ (<span style=\"color: #00d7ff; text-decoration-color: #00d7ff\">None</span>, <span style=\"color: #00af00; text-decoration-color: #00af00\">1</span>, <span style=\"color: #00af00; text-decoration-color: #00af00\">1</span>, <span style=\"color: #00af00; text-decoration-color: #00af00\">112</span>)           │         <span style=\"color: #00af00; text-decoration-color: #00af00\">100,352</span> │\n",
              "├──────────────────────────────────────┼─────────────────────────────┼─────────────────┤\n",
              "│ leaky_re_lu_8 (<span style=\"color: #0087ff; text-decoration-color: #0087ff\">LeakyReLU</span>)            │ (<span style=\"color: #00d7ff; text-decoration-color: #00d7ff\">None</span>, <span style=\"color: #00af00; text-decoration-color: #00af00\">1</span>, <span style=\"color: #00af00; text-decoration-color: #00af00\">1</span>, <span style=\"color: #00af00; text-decoration-color: #00af00\">112</span>)           │               <span style=\"color: #00af00; text-decoration-color: #00af00\">0</span> │\n",
              "├──────────────────────────────────────┼─────────────────────────────┼─────────────────┤\n",
              "│ flatten (<span style=\"color: #0087ff; text-decoration-color: #0087ff\">Flatten</span>)                    │ (<span style=\"color: #00d7ff; text-decoration-color: #00d7ff\">None</span>, <span style=\"color: #00af00; text-decoration-color: #00af00\">112</span>)                 │               <span style=\"color: #00af00; text-decoration-color: #00af00\">0</span> │\n",
              "├──────────────────────────────────────┼─────────────────────────────┼─────────────────┤\n",
              "│ dense_1 (<span style=\"color: #0087ff; text-decoration-color: #0087ff\">Dense</span>)                      │ (<span style=\"color: #00d7ff; text-decoration-color: #00d7ff\">None</span>, <span style=\"color: #00af00; text-decoration-color: #00af00\">1</span>)                   │             <span style=\"color: #00af00; text-decoration-color: #00af00\">113</span> │\n",
              "└──────────────────────────────────────┴─────────────────────────────┴─────────────────┘\n",
              "</pre>\n"
            ]
          },
          "metadata": {}
        },
        {
          "output_type": "display_data",
          "data": {
            "text/plain": [
              "\u001b[1m Total params: \u001b[0m\u001b[38;5;34m189,393\u001b[0m (739.82 KB)\n"
            ],
            "text/html": [
              "<pre style=\"white-space:pre;overflow-x:auto;line-height:normal;font-family:Menlo,'DejaVu Sans Mono',consolas,'Courier New',monospace\"><span style=\"font-weight: bold\"> Total params: </span><span style=\"color: #00af00; text-decoration-color: #00af00\">189,393</span> (739.82 KB)\n",
              "</pre>\n"
            ]
          },
          "metadata": {}
        },
        {
          "output_type": "display_data",
          "data": {
            "text/plain": [
              "\u001b[1m Trainable params: \u001b[0m\u001b[38;5;34m189,057\u001b[0m (738.50 KB)\n"
            ],
            "text/html": [
              "<pre style=\"white-space:pre;overflow-x:auto;line-height:normal;font-family:Menlo,'DejaVu Sans Mono',consolas,'Courier New',monospace\"><span style=\"font-weight: bold\"> Trainable params: </span><span style=\"color: #00af00; text-decoration-color: #00af00\">189,057</span> (738.50 KB)\n",
              "</pre>\n"
            ]
          },
          "metadata": {}
        },
        {
          "output_type": "display_data",
          "data": {
            "text/plain": [
              "\u001b[1m Non-trainable params: \u001b[0m\u001b[38;5;34m336\u001b[0m (1.31 KB)\n"
            ],
            "text/html": [
              "<pre style=\"white-space:pre;overflow-x:auto;line-height:normal;font-family:Menlo,'DejaVu Sans Mono',consolas,'Courier New',monospace\"><span style=\"font-weight: bold\"> Non-trainable params: </span><span style=\"color: #00af00; text-decoration-color: #00af00\">336</span> (1.31 KB)\n",
              "</pre>\n"
            ]
          },
          "metadata": {}
        }
      ]
    },
    {
      "cell_type": "code",
      "source": [
        "noise = np.random.normal(-1,1,(1,LATENT_DIM))\n",
        "img = generator(noise)\n",
        "plt.imshow(img[0,:,:,0])\n",
        "plt.show()"
      ],
      "metadata": {
        "id": "Mrj0RAJva5GD",
        "colab": {
          "base_uri": "https://localhost:8080/",
          "height": 430
        },
        "outputId": "14063c2c-a7e0-4bf8-80ba-00bb8bda8994"
      },
      "execution_count": null,
      "outputs": [
        {
          "output_type": "display_data",
          "data": {
            "text/plain": [
              "<Figure size 640x480 with 1 Axes>"
            ],
            "image/png": "[encoded data removed]"
          },
          "metadata": {}
        }
      ]
    },
    {
      "cell_type": "code",
      "source": [
        "optimizer_G = tf.keras.optimizers.RMSprop(learning_rate=.001)\n",
        "optimizer_D = tf.keras.optimizers.RMSprop(learning_rate=.001)\n",
        "\n",
        "# Этот метод возвращает вспомогательную функцию для вычисления перекрестных потерь энтропии\n",
        "cross_entropy = tf.keras.losses.BinaryCrossentropy()"
      ],
      "metadata": {
        "id": "uWgM1UfkbQZ8"
      },
      "execution_count": null,
      "outputs": []
    },
    {
      "cell_type": "code",
      "source": [
        "def discriminator_loss(fake_output, real_output):\n",
        "    fake_loss = cross_entropy(tf.zeros_like(fake_output), fake_output)\n",
        "    real_loss = cross_entropy(tf.ones_like(real_output), real_output)\n",
        "    return fake_loss + real_loss\n",
        "\n",
        "def generator_loss(fake_output):\n",
        "    return cross_entropy(tf.ones_like(fake_output), fake_output)\n",
        "\n",
        "@tf.function\n",
        "def train_steps(images):\n",
        "\n",
        "    # генерируем шум на входе генератора\n",
        "    noise = np.random.normal(0, 1, (BATCH_SIZE, LATENT_DIM))\n",
        "\n",
        "    # Инициализируем GradientTape (градиентную ленту) для дискриминатора и генератор\n",
        "    #  по отдельности, чтобы записать операции,\n",
        "    # выполняемые во время прямого прохода, включающего автодифференцирование.\n",
        "    with tf.GradientTape() as gen_tape , tf.GradientTape() as disc_tape:\n",
        "        # Запустим прямой проход шума через генератор.\n",
        "        # Операции применяемые каждым слоем к своим\n",
        "        # входным данным будут записаны на GradientTape, как на ленту магнитофона.\n",
        "        # Отсюда и название градиентной ленты.\n",
        "        generated_images = generator(noise)\n",
        "\n",
        "        # Также обеспечиваем прямой проход через дискриминатор для\n",
        "        # для реальных и фейковых изображений\n",
        "        fake_output = discriminator(generated_images)\n",
        "        real_output = discriminator(images)\n",
        "\n",
        "        # расчитываем функции ошибок (значения потерь)\n",
        "        gen_loss = generator_loss(fake_output)\n",
        "        dis_loss = discriminator_loss(fake_output, real_output)\n",
        "\n",
        "    # Используем gradient tape для автоматического извлечения градиентов\n",
        "    # обучаемых переменных относительно потерь.\n",
        "    gradient_of_generator = gen_tape.gradient(gen_loss, generator.trainable_variables)\n",
        "    gradient_of_discriminator = disc_tape.gradient(dis_loss, discriminator.trainable_variables)\n",
        "\n",
        "    # Выполним один шаг градиентного спуска, обновив\n",
        "    # значение переменных минимизирующих потери.\n",
        "    optimizer_G.apply_gradients(zip(gradient_of_generator,generator.trainable_variables))\n",
        "    optimizer_D.apply_gradients(zip(gradient_of_discriminator, discriminator.trainable_variables))\n",
        "\n",
        "    # Вернем значения потерь для визуализации\n",
        "    loss = {'gen_loss':gen_loss,\n",
        "           'disc_loss': dis_loss}\n",
        "    return loss"
      ],
      "metadata": {
        "id": "LnnDwr_Tbc4j"
      },
      "execution_count": null,
      "outputs": []
    },
    {
      "cell_type": "code",
      "source": [
        "import time\n",
        "def train(epochs, dataset):\n",
        "    D_loss=[] # список для сбора значений потерь для дискриминатора\n",
        "    G_loss=[] # список для сбора значений потерь для генератора\n",
        "    for epoch in range(epochs):\n",
        "        start = time.time()\n",
        "        print(\"\\nЭпоха : {}\".format(epoch + 1))\n",
        "        for images in dataset:\n",
        "            loss = train_steps(images)\n",
        "        print(\" Время:{}\".format(np.round(time.time() - start),2))\n",
        "        print(\"Generator Loss: {} Discriminator Loss: {}\".format(loss['gen_loss'],loss['disc_loss']))\n",
        "        D_loss.append(loss['disc_loss'])\n",
        "        G_loss.append(loss['gen_loss'])\n",
        "    return (G_loss, D_loss)"
      ],
      "metadata": {
        "id": "wKDZi2Fgblvc"
      },
      "execution_count": null,
      "outputs": []
    },
    {
      "cell_type": "code",
      "source": [
        "G, D = train(100, dataset)"
      ],
      "metadata": {
        "id": "pigsqxFsbmme",
        "colab": {
          "base_uri": "https://localhost:8080/"
        },
        "outputId": "f71cf4c9-b628-476d-882a-afd5bf9bb700"
      },
      "execution_count": null,
      "outputs": [
        {
          "output_type": "stream",
          "name": "stdout",
          "text": [
            "\n",
            "Эпоха : 1\n",
            " Время:23.0\n",
            "Generator Loss: 37.32375717163086 Discriminator Loss: 2.1258489413256143e-10\n",
            "\n",
            "Эпоха : 2\n",
            " Время:20.0\n",
            "Generator Loss: 36.94999313354492 Discriminator Loss: 9.296693970206604e-11\n",
            "\n",
            "Эпоха : 3\n",
            " Время:19.0\n",
            "Generator Loss: 36.74488067626953 Discriminator Loss: 5.4779809161020765e-11\n",
            "\n",
            "Эпоха : 4\n",
            " Время:18.0\n",
            "Generator Loss: 36.60662841796875 Discriminator Loss: 3.6901117578258535e-11\n",
            "\n",
            "Эпоха : 5\n",
            " Время:18.0\n",
            "Generator Loss: 36.50396728515625 Discriminator Loss: 2.6868455377249134e-11\n",
            "\n",
            "Эпоха : 6\n",
            " Время:18.0\n",
            "Generator Loss: 36.422149658203125 Discriminator Loss: 2.058742065713659e-11\n",
            "\n",
            "Эпоха : 7\n",
            " Время:18.0\n",
            "Generator Loss: 36.35460662841797 Discriminator Loss: 1.6366207000739763e-11\n",
            "\n",
            "Эпоха : 8\n",
            " Время:18.0\n",
            "Generator Loss: 36.29753875732422 Discriminator Loss: 1.3376411089893736e-11\n",
            "\n",
            "Эпоха : 9\n",
            " Время:18.0\n",
            "Generator Loss: 36.24828338623047 Discriminator Loss: 1.1167348296092783e-11\n",
            "\n",
            "Эпоха : 10\n",
            " Время:18.0\n",
            "Generator Loss: 36.206268310546875 Discriminator Loss: 9.486501861832863e-12\n",
            "\n",
            "Эпоха : 11\n",
            " Время:18.0\n",
            "Generator Loss: 36.169002532958984 Discriminator Loss: 8.172464441291716e-12\n",
            "\n",
            "Эпоха : 12\n",
            " Время:18.0\n",
            "Generator Loss: 36.1356201171875 Discriminator Loss: 7.12675881850422e-12\n",
            "\n",
            "Эпоха : 13\n",
            " Время:19.0\n",
            "Generator Loss: 36.10527420043945 Discriminator Loss: 6.275333551408746e-12\n",
            "\n",
            "Эпоха : 14\n",
            " Время:20.0\n",
            "Generator Loss: 36.07802200317383 Discriminator Loss: 5.57408112722424e-12\n",
            "\n",
            "Эпоха : 15\n",
            " Время:18.0\n",
            "Generator Loss: 36.053001403808594 Discriminator Loss: 4.9885174116526265e-12\n",
            "\n",
            "Эпоха : 16\n",
            " Время:18.0\n",
            "Generator Loss: 36.029659271240234 Discriminator Loss: 4.4944169913518905e-12\n",
            "\n",
            "Эпоха : 17\n",
            " Время:18.0\n",
            "Generator Loss: 36.007835388183594 Discriminator Loss: 4.07275255187578e-12\n",
            "\n",
            "Эпоха : 18\n",
            " Время:18.0\n",
            "Generator Loss: 35.98752212524414 Discriminator Loss: 3.710478105323212e-12\n",
            "\n",
            "Эпоха : 19\n",
            " Время:18.0\n",
            "Generator Loss: 35.96875 Discriminator Loss: 3.396579675504774e-12\n",
            "\n",
            "Эпоха : 20\n",
            " Время:18.0\n",
            "Generator Loss: 35.95106506347656 Discriminator Loss: 3.122470164373947e-12\n",
            "\n",
            "Эпоха : 21\n",
            " Время:18.0\n",
            "Generator Loss: 35.93439865112305 Discriminator Loss: 2.8817759810395582e-12\n",
            "\n",
            "Эпоха : 22\n",
            " Время:18.0\n",
            "Generator Loss: 35.91859817504883 Discriminator Loss: 2.6691053880978366e-12\n",
            "\n",
            "Эпоха : 23\n",
            " Время:18.0\n",
            "Generator Loss: 35.90364074707031 Discriminator Loss: 2.480082111899762e-12\n",
            "\n",
            "Эпоха : 24\n",
            " Время:18.0\n",
            "Generator Loss: 35.8895378112793 Discriminator Loss: 2.310732768323609e-12\n",
            "\n",
            "Эпоха : 25\n",
            " Время:18.0\n",
            "Generator Loss: 35.87612533569336 Discriminator Loss: 2.1591031913736902e-12\n",
            "\n",
            "Эпоха : 26\n",
            " Время:18.0\n",
            "Generator Loss: 35.863311767578125 Discriminator Loss: 2.0223300031124714e-12\n",
            "\n",
            "Эпоха : 27\n",
            " Время:18.0\n",
            "Generator Loss: 35.851097106933594 Discriminator Loss: 1.8987717214508093e-12\n",
            "\n",
            "Эпоха : 28\n",
            " Время:18.0\n",
            "Generator Loss: 35.839454650878906 Discriminator Loss: 1.7869175106613455e-12\n",
            "\n",
            "Эпоха : 29\n",
            " Время:18.0\n",
            "Generator Loss: 35.82826614379883 Discriminator Loss: 1.6849587046799397e-12\n",
            "\n",
            "Эпоха : 30\n",
            " Время:18.0\n",
            "Generator Loss: 35.81757354736328 Discriminator Loss: 1.5920396511520662e-12\n",
            "\n",
            "Эпоха : 31\n",
            " Время:18.0\n",
            "Generator Loss: 35.807273864746094 Discriminator Loss: 1.5068395749912034e-12\n",
            "\n",
            "Эпоха : 32\n",
            " Время:18.0\n",
            "Generator Loss: 35.79733657836914 Discriminator Loss: 1.4284814650600275e-12\n",
            "\n",
            "Эпоха : 33\n",
            " Время:18.0\n",
            "Generator Loss: 35.78775405883789 Discriminator Loss: 1.3563401703858835e-12\n",
            "\n",
            "Эпоха : 34\n",
            " Время:19.0\n",
            "Generator Loss: 35.778541564941406 Discriminator Loss: 1.2897270057488086e-12\n",
            "\n",
            "Эпоха : 35\n",
            " Время:19.0\n",
            "Generator Loss: 35.769596099853516 Discriminator Loss: 1.227954153290578e-12\n",
            "\n",
            "Эпоха : 36\n",
            " Время:19.0\n",
            "Generator Loss: 35.7609748840332 Discriminator Loss: 1.170807157821474e-12\n",
            "\n",
            "Эпоха : 37\n",
            " Время:18.0\n",
            "Generator Loss: 35.75259780883789 Discriminator Loss: 1.1175958162384925e-12\n",
            "\n",
            "Эпоха : 38\n",
            " Время:18.0\n",
            "Generator Loss: 35.74449920654297 Discriminator Loss: 1.0681635697479264e-12\n",
            "\n",
            "Эпоха : 39\n",
            " Время:18.0\n",
            "Generator Loss: 35.7365837097168 Discriminator Loss: 1.0218232510128544e-12\n",
            "\n",
            "Эпоха : 40\n",
            " Время:17.0\n",
            "Generator Loss: 35.72892761230469 Discriminator Loss: 9.786151923540931e-13\n",
            "\n",
            "Эпоха : 41\n",
            " Время:18.0\n",
            "Generator Loss: 35.72145462036133 Discriminator Loss: 9.38184534400588e-13\n",
            "\n",
            "Эпоха : 42\n",
            " Время:18.0\n",
            "Generator Loss: 35.71415710449219 Discriminator Loss: 9.002374041534866e-13\n",
            "\n",
            "Эпоха : 43\n",
            " Время:19.0\n",
            "Generator Loss: 35.70707321166992 Discriminator Loss: 8.646841923032333e-13\n",
            "\n",
            "Эпоха : 44\n",
            " Время:18.0\n",
            "Generator Loss: 35.700191497802734 Discriminator Loss: 8.312524930539911e-13\n",
            "\n",
            "Эпоха : 45\n",
            " Время:18.0\n",
            "Generator Loss: 35.6934928894043 Discriminator Loss: 7.997346816897288e-13\n",
            "\n",
            "Эпоха : 46\n",
            " Время:18.0\n",
            "Generator Loss: 35.686988830566406 Discriminator Loss: 7.700969311026651e-13\n",
            "\n",
            "Эпоха : 47\n",
            " Время:18.0\n",
            "Generator Loss: 35.680633544921875 Discriminator Loss: 7.421923861085367e-13\n",
            "\n",
            "Эпоха : 48\n",
            " Время:18.0\n",
            "Generator Loss: 35.674476623535156 Discriminator Loss: 7.15897772920332e-13\n",
            "\n",
            "Эпоха : 49\n",
            " Время:21.0\n",
            "Generator Loss: 35.66844940185547 Discriminator Loss: 6.909709349828264e-13\n",
            "\n",
            "Эпоха : 50\n",
            " Время:18.0\n",
            "Generator Loss: 35.66255569458008 Discriminator Loss: 6.674083486389593e-13\n",
            "\n",
            "Эпоха : 51\n",
            " Время:18.0\n",
            "Generator Loss: 35.65681457519531 Discriminator Loss: 6.450834874952016e-13\n",
            "\n",
            "Эпоха : 52\n",
            " Время:18.0\n",
            "Generator Loss: 35.65117263793945 Discriminator Loss: 6.238857629299599e-13\n",
            "\n",
            "Эпоха : 53\n",
            " Время:19.0\n",
            "Generator Loss: 35.64567947387695 Discriminator Loss: 6.037814562556698e-13\n",
            "\n",
            "Эпоха : 54\n",
            " Время:18.0\n",
            "Generator Loss: 35.64031219482422 Discriminator Loss: 5.84700636432206e-13\n",
            "\n",
            "Эпоха : 55\n",
            " Время:18.0\n",
            "Generator Loss: 35.63505172729492 Discriminator Loss: 5.665423100272016e-13\n",
            "\n",
            "Эпоха : 56\n",
            " Время:18.0\n",
            "Generator Loss: 35.629844665527344 Discriminator Loss: 5.492280350134771e-13\n",
            "\n",
            "Эпоха : 57\n",
            " Время:18.0\n",
            "Generator Loss: 35.62473678588867 Discriminator Loss: 5.327228458709699e-13\n",
            "\n",
            "Эпоха : 58\n",
            " Время:18.0\n",
            "Generator Loss: 35.61967468261719 Discriminator Loss: 5.169576789212926e-13\n",
            "\n",
            "Эпоха : 59\n",
            " Время:18.0\n",
            "Generator Loss: 35.614723205566406 Discriminator Loss: 5.019141027275131e-13\n",
            "\n",
            "Эпоха : 60\n",
            " Время:18.0\n",
            "Generator Loss: 35.609859466552734 Discriminator Loss: 4.875178494408161e-13\n",
            "\n",
            "Эпоха : 61\n",
            " Время:18.0\n",
            "Generator Loss: 35.60511016845703 Discriminator Loss: 4.738122329379924e-13\n",
            "\n",
            "Эпоха : 62\n",
            " Время:18.0\n",
            "Generator Loss: 35.600433349609375 Discriminator Loss: 4.606694799930144e-13\n",
            "\n",
            "Эпоха : 63\n",
            " Время:18.0\n",
            "Generator Loss: 35.595848083496094 Discriminator Loss: 4.480771222808988e-13\n",
            "\n",
            "Эпоха : 64\n",
            " Время:18.0\n",
            "Generator Loss: 35.591312408447266 Discriminator Loss: 4.3600133269386387e-13\n",
            "\n",
            "Эпоха : 65\n",
            " Время:18.0\n",
            "Generator Loss: 35.58687210083008 Discriminator Loss: 4.243934576594194e-13\n",
            "\n",
            "Эпоха : 66\n",
            " Время:18.0\n",
            "Generator Loss: 35.5825080871582 Discriminator Loss: 4.1328881506333404e-13\n",
            "\n",
            "Эпоха : 67\n",
            " Время:18.0\n",
            "Generator Loss: 35.57820510864258 Discriminator Loss: 4.0258603200248044e-13\n",
            "\n",
            "Эпоха : 68\n",
            " Время:18.0\n",
            "Generator Loss: 35.573997497558594 Discriminator Loss: 3.923752869925551e-13\n",
            "\n",
            "Эпоха : 69\n",
            " Время:18.0\n",
            "Generator Loss: 35.56985855102539 Discriminator Loss: 3.8257239173486446e-13\n",
            "\n",
            "Эпоха : 70\n",
            " Время:18.0\n",
            "Generator Loss: 35.5657958984375 Discriminator Loss: 3.731481540859144e-13\n",
            "\n",
            "Эпоха : 71\n",
            " Время:18.0\n",
            "Generator Loss: 35.561771392822266 Discriminator Loss: 3.640337543128064e-13\n",
            "\n",
            "Эпоха : 72\n",
            " Время:19.0\n",
            "Generator Loss: 35.55784606933594 Discriminator Loss: 3.552727231327657e-13\n",
            "\n",
            "Эпоха : 73\n",
            " Время:18.0\n",
            "Generator Loss: 35.553977966308594 Discriminator Loss: 3.4686150978367747e-13\n",
            "\n",
            "Эпоха : 74\n",
            " Время:18.0\n",
            "Generator Loss: 35.55015563964844 Discriminator Loss: 3.387100983801711e-13\n",
            "\n",
            "Эпоха : 75\n",
            " Время:18.0\n",
            "Generator Loss: 35.54638671875 Discriminator Loss: 3.308796108197204e-13\n",
            "\n",
            "Эпоха : 76\n",
            " Время:18.0\n",
            "Generator Loss: 35.54270553588867 Discriminator Loss: 3.2335831061380826e-13\n",
            "\n",
            "Эпоха : 77\n",
            " Время:18.0\n",
            "Generator Loss: 35.53905487060547 Discriminator Loss: 3.1608027827034757e-13\n",
            "\n",
            "Эпоха : 78\n",
            " Время:18.0\n",
            "Generator Loss: 35.535491943359375 Discriminator Loss: 3.090825392935287e-13\n",
            "\n",
            "Эпоха : 79\n",
            " Время:18.0\n",
            "Generator Loss: 35.53197479248047 Discriminator Loss: 3.023180935191744e-13\n",
            "\n",
            "Эпоха : 80\n",
            " Время:18.0\n",
            "Generator Loss: 35.52851486206055 Discriminator Loss: 2.957584806402569e-13\n",
            "\n",
            "Эпоха : 81\n",
            " Время:18.0\n",
            "Generator Loss: 35.52511215209961 Discriminator Loss: 2.8941961132365746e-13\n",
            "\n",
            "Эпоха : 82\n",
            " Время:18.0\n",
            "Generator Loss: 35.52178192138672 Discriminator Loss: 2.832888546140666e-13\n",
            "\n",
            "Эпоха : 83\n",
            " Время:18.0\n",
            "Generator Loss: 35.51847457885742 Discriminator Loss: 2.773571845283984e-13\n",
            "\n",
            "Эпоха : 84\n",
            " Время:18.0\n",
            "Generator Loss: 35.51522445678711 Discriminator Loss: 2.716407285739686e-13\n",
            "\n",
            "Эпоха : 85\n",
            " Время:18.0\n",
            "Generator Loss: 35.512020111083984 Discriminator Loss: 2.6609769075702783e-13\n",
            "\n",
            "Эпоха : 86\n",
            " Время:18.0\n",
            "Generator Loss: 35.50886154174805 Discriminator Loss: 2.607193432500876e-13\n",
            "\n",
            "Эпоха : 87\n",
            " Время:18.0\n",
            "Generator Loss: 35.5057373046875 Discriminator Loss: 2.554923774714807e-13\n",
            "\n",
            "Эпоха : 88\n",
            " Время:18.0\n",
            "Generator Loss: 35.50263595581055 Discriminator Loss: 2.5042736439238877e-13\n",
            "\n",
            "Эпоха : 89\n",
            " Время:17.0\n",
            "Generator Loss: 35.49959182739258 Discriminator Loss: 2.45516931438039e-13\n",
            "\n",
            "Эпоха : 90\n",
            " Время:18.0\n",
            "Generator Loss: 35.49656295776367 Discriminator Loss: 2.407632741178306e-13\n",
            "\n",
            "Эпоха : 91\n",
            " Время:18.0\n",
            "Generator Loss: 35.493568420410156 Discriminator Loss: 2.361410492059818e-13\n",
            "\n",
            "Эпоха : 92\n",
            " Время:18.0\n",
            "Generator Loss: 35.490638732910156 Discriminator Loss: 2.3166576079355905e-13\n",
            "\n",
            "Эпоха : 93\n",
            " Время:18.0\n",
            "Generator Loss: 35.48770523071289 Discriminator Loss: 2.2730501834065941e-13\n",
            "\n",
            "Эпоха : 94\n",
            " Время:18.0\n",
            "Generator Loss: 35.48482894897461 Discriminator Loss: 2.23075071327343e-13\n",
            "\n",
            "Эпоха : 95\n",
            " Время:18.0\n",
            "Generator Loss: 35.48197555541992 Discriminator Loss: 2.189574747641504e-13\n",
            "\n",
            "Эпоха : 96\n",
            " Время:18.0\n",
            "Generator Loss: 35.47916793823242 Discriminator Loss: 2.149796860710998e-13\n",
            "\n",
            "Эпоха : 97\n",
            " Время:18.0\n",
            "Generator Loss: 35.476409912109375 Discriminator Loss: 2.1111831358631983e-13\n",
            "\n",
            "Эпоха : 98\n",
            " Время:18.0\n",
            "Generator Loss: 35.473655700683594 Discriminator Loss: 2.0735220181491987e-13\n",
            "\n",
            "Эпоха : 99\n",
            " Время:18.0\n",
            "Generator Loss: 35.47092819213867 Discriminator Loss: 2.0368377665926085e-13\n",
            "\n",
            "Эпоха : 100\n",
            " Время:18.0\n",
            "Generator Loss: 35.46824645996094 Discriminator Loss: 2.001213593710166e-13\n"
          ]
        }
      ]
    },
    {
      "cell_type": "code",
      "source": [
        "def loss_plot(G, D):\n",
        "    plt.figure(figsize=(10,10))\n",
        "    plt.plot(G,color='red',label='Функция потерь на генераторе')\n",
        "    plt.plot(D,color='blue',label='Функция потерь на дискриминаторе')\n",
        "    plt.legend()\n",
        "    plt.xlabel('Эпоха')\n",
        "    plt.ylabel('Потери')\n",
        "    plt.title('Функции потерь в конце обучения на эпохе')\n",
        "    plt.show()\n",
        "\n",
        "loss_plot(G, D)"
      ],
      "metadata": {
        "colab": {
          "base_uri": "https://localhost:8080/",
          "height": 872
        },
        "id": "6H4DAT2y_mlg",
        "outputId": "2002b8ec-2976-49f7-c4a7-6361ae80254e"
      },
      "execution_count": null,
      "outputs": [
        {
          "output_type": "display_data",
          "data": {
            "text/plain": [
              "<Figure size 1000x1000 with 1 Axes>"
            ],
            "image/png": "[encoded data removed]"
          },
          "metadata": {}
        }
      ]
    },
    {
      "cell_type": "code",
      "source": [
        "def plot_generated_images(square = 2):\n",
        "    plt.figure(figsize = (12,12))\n",
        "    for i in range(square * square):\n",
        "        plt.subplot(square, square, i+1)\n",
        "        noise = np.random.normal(0,1,(1,LATENT_DIM))\n",
        "        img = generator(noise)\n",
        "        plt.imshow(np.clip((img[0,...]+1)/2, 0, 1))\n",
        "        plt.axis('off')\n",
        "        plt.grid()\n",
        "\n",
        "plot_generated_images(2)"
      ],
      "metadata": {
        "colab": {
          "base_uri": "https://localhost:8080/",
          "height": 961
        },
        "id": "pAphYQFU_vAY",
        "outputId": "0cb34e47-0b52-41fe-9e53-cbd5a7924d77"
      },
      "execution_count": null,
      "outputs": [
        {
          "output_type": "display_data",
          "data": {
            "text/plain": [
              "<Figure size 1200x1200 with 4 Axes>"
            ],
            "image/png": "[encoded data removed]"
          },
          "metadata": {}
        }
      ]
    }
  ]
}