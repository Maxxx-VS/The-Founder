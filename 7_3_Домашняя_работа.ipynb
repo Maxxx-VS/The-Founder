{
  "nbformat": 4,
  "nbformat_minor": 0,
  "metadata": {
    "colab": {
      "provenance": [],
      "include_colab_link": true
    },
    "kernelspec": {
      "name": "python3",
      "display_name": "Python 3"
    },
    "language_info": {
      "name": "python"
    }
  },
  "cells": [
    {
      "cell_type": "markdown",
      "metadata": {
        "id": "view-in-github",
        "colab_type": "text"
      },
      "source": [
        "<a href=\"https://colab.research.google.com/github/Maxxx-VS/The-Founder/blob/master/7_3_%D0%94%D0%BE%D0%BC%D0%B0%D1%88%D0%BD%D1%8F%D1%8F_%D1%80%D0%B0%D0%B1%D0%BE%D1%82%D0%B0.ipynb\" target=\"_parent\"><img src=\"https://colab.research.google.com/assets/colab-badge.svg\" alt=\"Open In Colab\"/></a>"
      ]
    },
    {
      "cell_type": "markdown",
      "source": [
        "**Навигация по уроку**\n",
        "\n",
        "1. [Библиотеки Python для Data Science](https://colab.research.google.com/drive/1VKRkuVNaSRPy6uNRhWLIlfaTnLPuyWcC)\n",
        "2. [Отзывы к фильмам (исследуем датасет IMDB)](https://colab.research.google.com/drive/1jL4XbkAMuMNVPXhfsE8Z2Z4h-sGtyAq1)\n",
        "3. Домашняя работа"
      ],
      "metadata": {
        "id": "8LIWrmOPjBO6"
      }
    },
    {
      "cell_type": "markdown",
      "source": [
        "Используя базу данных фильмов из практической части урока, проверте следующие гипотезы:\n",
        "\n",
        "1. Большинство фильмов выпускаются по пятницам\n",
        "2. Известные актеры снимаются в самых кассовых фильмах\n",
        "3. Известные актеры снимаются в самыx дорогих фильмах\n",
        "\n",
        "Построить графики по гипотезам. Сколько актеров из вашего результата вам знакомы?"
      ],
      "metadata": {
        "id": "295t3FpUh8SP"
      }
    },
    {
      "cell_type": "code",
      "source": [
        "import os\n",
        "import warnings\n",
        "import pandas as pd\n",
        "import numpy as np\n",
        "import datetime\n",
        "\n",
        "FILE_PATH = 'the_movies_dataset'\n",
        "dir_list = os.listdir(FILE_PATH)\n",
        "warnings.filterwarnings('ignore')\n",
        "\n",
        "# датафрейм из файла метаданных фильмов:\n",
        "df = pd.read_csv('the_movies_dataset/movies_metadata.csv')\n",
        "all_colums = df.columns\n",
        "\n",
        "# очищаю данные\n",
        "# удаляю избыточные данные циклом\n",
        "for i in all_colums:\n",
        "    if i != 'release_date':\n",
        "        df = df.drop([i], axis=1)\n",
        "    else:\n",
        "        df = df.rename(columns={'release_date': 'day_of_week'})\n",
        "\n",
        "# меняю пустые значения на 0\n",
        "df[df['day_of_week'] == 0].shape\n",
        "\n",
        "# меняю значения NaN на 0\n",
        "df['day_of_week'] = df['day_of_week'].replace(np.nan, 0)\n",
        "\n",
        "# определяю количество записей\n",
        "len_df = df.shape[0]\n",
        "\n",
        "# Пытаемся преобразовать строку вида 1995-10-30 в дни недели\n",
        "for j in df['day_of_week'][0:len_df]:\n",
        "    if j != 0 and len(j) == 10:\n",
        "        i_year = str(j).split('-')[0]\n",
        "        i_month = str(j).split('-')[1]\n",
        "        i_day = str(j).split('-')[2][0:3]\n",
        "        intDay = datetime.date(int(i_year), int(i_month), int(i_day)).weekday()\n",
        "        days = [\"Monday\", \"Tuesday\", \"Wednesday\", \"Thursday\", \"Friday\", \"Saturday\", \"Sunday\"]\n",
        "        df.replace(j, days[intDay], inplace=True)\n",
        "    else:\n",
        "        continue\n",
        "print(df['day_of_week'].head(60))\n",
        "print(df['day_of_week'].tail(60))"
      ],
      "metadata": {
        "id": "MVk6E8bxmlZP"
      },
      "execution_count": null,
      "outputs": []
    },
    {
      "cell_type": "code",
      "execution_count": null,
      "metadata": {
        "id": "El4o9_QWeq78"
      },
      "outputs": [],
      "source": [
        "#Напишите свое решение"
      ]
    }
  ]
}