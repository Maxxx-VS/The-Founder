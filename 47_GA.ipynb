{
  "nbformat": 4,
  "nbformat_minor": 0,
  "metadata": {
    "colab": {
      "provenance": [],
      "gpuType": "T4",
      "authorship_tag": "ABX9TyOGVdZkmORqMEMUJqHGH8mN",
      "include_colab_link": true
    },
    "kernelspec": {
      "name": "python3",
      "display_name": "Python 3"
    },
    "language_info": {
      "name": "python"
    },
    "accelerator": "GPU"
  },
  "cells": [
    {
      "cell_type": "markdown",
      "metadata": {
        "id": "view-in-github",
        "colab_type": "text"
      },
      "source": [
        "<a href=\"https://colab.research.google.com/github/Maxxx-VS/The-Founder/blob/master/47_GA.ipynb\" target=\"_parent\"><img src=\"https://colab.research.google.com/assets/colab-badge.svg\" alt=\"Open In Colab\"/></a>"
      ]
    },
    {
      "cell_type": "code",
      "source": [
        "%%capture\n",
        "!pip install deap tensorflow numpy scikit-learn"
      ],
      "metadata": {
        "id": "kcOXDKlN0EgJ"
      },
      "execution_count": 1,
      "outputs": []
    },
    {
      "cell_type": "code",
      "source": [
        "import random\n",
        "import numpy as np\n",
        "from deap import base, creator, tools, algorithms\n",
        "from tensorflow.keras import layers, models\n",
        "from tensorflow.keras.optimizers import Adam, SGD\n",
        "from tensorflow.keras.datasets import mnist\n",
        "from sklearn.model_selection import train_test_split\n",
        "\n",
        "# 1. Подготовка данных\n",
        "(x_train, y_train), (x_test, y_test) = mnist.load_data()\n",
        "x_train = x_train.reshape(-1, 28, 28, 1).astype('float32') / 255\n",
        "x_test = x_test.reshape(-1, 28, 28, 1).astype('float32') / 255\n",
        "\n",
        "x_train, x_val, y_train, y_val = train_test_split(x_train, y_train, test_size=0.2, random_state=42)\n",
        "\n",
        "# 2. Настройка генетического алгоритма\n",
        "creator.create(\"FitnessMax\", base.Fitness, weights=(1.0,))\n",
        "creator.create(\"Individual\", list, fitness=creator.FitnessMax)\n",
        "\n",
        "toolbox = base.Toolbox()\n",
        "\n",
        "# Параметры для оптимизации\n",
        "toolbox.register(\"conv_layers\", random.randint, 1, 3)\n",
        "toolbox.register(\"filters\", random.choice, [32, 64, 128])\n",
        "toolbox.register(\"dense_units\", random.choice, [128, 256])\n",
        "toolbox.register(\"learning_rate\", random.choice, [0.001, 0.0005, 0.0001])\n",
        "toolbox.register(\"optimizer\", random.choice, ['adam', 'sgd'])\n",
        "\n",
        "def create_individual():\n",
        "    return [\n",
        "        toolbox.conv_layers(),\n",
        "        toolbox.filters(),\n",
        "        toolbox.dense_units(),\n",
        "        float(toolbox.learning_rate()),  # Явное преобразование к float\n",
        "        toolbox.optimizer()\n",
        "    ]\n",
        "\n",
        "toolbox.register(\"individual\", tools.initIterate, creator.Individual, create_individual)\n",
        "toolbox.register(\"population\", tools.initRepeat, list, toolbox.individual)\n",
        "\n",
        "# 3. Функция оценки\n",
        "def evaluate(individual):\n",
        "    conv_layers, filters, dense_units, lr, optimizer = individual\n",
        "\n",
        "    # Явная проверка типа learning rate\n",
        "    if not isinstance(lr, float):\n",
        "        lr = float(lr)\n",
        "\n",
        "    model = models.Sequential()\n",
        "    model.add(layers.Conv2D(filters, (3, 3), activation='relu', input_shape=(28, 28, 1)))\n",
        "    model.add(layers.MaxPooling2D((2, 2)))\n",
        "\n",
        "    for _ in range(conv_layers-1):\n",
        "        model.add(layers.Conv2D(filters, (3, 3), activation='relu'))\n",
        "        model.add(layers.MaxPooling2D((2, 2)))\n",
        "\n",
        "    model.add(layers.Flatten())\n",
        "    model.add(layers.Dense(dense_units, activation='relu'))\n",
        "    model.add(layers.Dense(10, activation='softmax'))\n",
        "\n",
        "    # Создание оптимизатора с явным указанием типа\n",
        "    if optimizer == 'adam':\n",
        "        opt = Adam(learning_rate=lr)\n",
        "    else:\n",
        "        opt = SGD(learning_rate=lr)\n",
        "\n",
        "    model.compile(optimizer=opt,\n",
        "                  loss='sparse_categorical_crossentropy',\n",
        "                  metrics=['accuracy'])\n",
        "\n",
        "    history = model.fit(x_train, y_train,\n",
        "                        epochs=3,  # Уменьшено для ускорения\n",
        "                        validation_data=(x_val, y_val),\n",
        "                        verbose=0,\n",
        "                        batch_size=128)\n",
        "\n",
        "    return (history.history['val_accuracy'][-1],)\n",
        "\n",
        "# Настройка операторов генетического алгоритма\n",
        "toolbox.register(\"evaluate\", evaluate)\n",
        "toolbox.register(\"mate\", tools.cxTwoPoint)\n",
        "\n",
        "# Раздельная мутация для разных типов параметров\n",
        "def custom_mutate(individual):\n",
        "    # Мутация для целых чисел\n",
        "    individual[0] = random.randint(1, 3)\n",
        "    individual[1] = random.choice([32, 64, 128])\n",
        "    individual[2] = random.choice([128, 256])\n",
        "\n",
        "    # Мутация для learning rate\n",
        "    individual[3] = random.choice([0.001, 0.0005, 0.0001])\n",
        "\n",
        "    # Мутация для оптимизатора\n",
        "    individual[4] = random.choice(['adam', 'sgd'])\n",
        "    return individual,\n",
        "\n",
        "toolbox.register(\"mutate\", custom_mutate)\n",
        "toolbox.register(\"select\", tools.selTournament, tournsize=3)\n",
        "\n",
        "# 4. Запуск оптимизации\n",
        "population = toolbox.population(n=10)\n",
        "hof = tools.HallOfFame(3)\n",
        "stats = tools.Statistics(lambda ind: ind.fitness.values)\n",
        "stats.register(\"avg\", np.mean)\n",
        "stats.register(\"min\", np.min)\n",
        "stats.register(\"max\", np.max)\n",
        "\n",
        "result, log = algorithms.eaSimple(population, toolbox,\n",
        "                                  cxpb=0.7,\n",
        "                                  mutpb=0.3,\n",
        "                                  ngen=3,\n",
        "                                  stats=stats,\n",
        "                                  halloffame=hof,\n",
        "                                  verbose=True)\n",
        "\n",
        "# 5. Результаты\n",
        "best_ind = hof[0]\n",
        "print(\"\\nЛучшие гиперпараметры:\")\n",
        "print(f\"Сверточные слои: {best_ind[0]}\")\n",
        "print(f\"Фильтры: {best_ind[1]}\")\n",
        "print(f\"Нейроны в Dense: {best_ind[2]}\")\n",
        "print(f\"Learning rate: {float(best_ind[3])}\")  # Явное преобразование\n",
        "print(f\"Оптимизатор: {best_ind[4]}\")\n",
        "print(f\"Валидационная точность: {best_ind.fitness.values[0]:.4f}\")\n",
        "\n",
        "# 6. Финальная оценка\n",
        "final_model = models.Sequential()\n",
        "final_model.add(layers.Conv2D(best_ind[1], (3, 3), activation='relu', input_shape=(28, 28, 1)))\n",
        "final_model.add(layers.MaxPooling2D((2, 2)))\n",
        "for _ in range(best_ind[0]-1):\n",
        "    final_model.add(layers.Conv2D(best_ind[1], (3, 3), activation='relu'))\n",
        "    final_model.add(layers.MaxPooling2D((2, 2)))\n",
        "final_model.add(layers.Flatten())\n",
        "final_model.add(layers.Dense(best_ind[2], activation='relu'))\n",
        "final_model.add(layers.Dense(10, activation='softmax'))\n",
        "\n",
        "optimizer = Adam(learning_rate=float(best_ind[3])) if best_ind[4] == 'adam' else SGD(learning_rate=float(best_ind[3]))\n",
        "final_model.compile(optimizer=optimizer,\n",
        "                    loss='sparse_categorical_crossentropy',\n",
        "                    metrics=['accuracy'])\n",
        "\n",
        "final_model.fit(x_train, y_train, epochs=10, batch_size=128, verbose=0)\n",
        "test_loss, test_acc = final_model.evaluate(x_test, y_test, verbose=0)\n",
        "print(f\"\\nТочность на тестовых данных: {test_acc:.4f}\")"
      ],
      "metadata": {
        "colab": {
          "base_uri": "https://localhost:8080/"
        },
        "id": "oALI0lMH0Dgq",
        "outputId": "43094bb5-156a-4919-c5cb-e660f2f5c0a4"
      },
      "execution_count": 2,
      "outputs": [
        {
          "output_type": "stream",
          "name": "stdout",
          "text": [
            "Downloading data from https://storage.googleapis.com/tensorflow/tf-keras-datasets/mnist.npz\n",
            "\u001b[1m11490434/11490434\u001b[0m \u001b[32m━━━━━━━━━━━━━━━━━━━━\u001b[0m\u001b[37m\u001b[0m \u001b[1m0s\u001b[0m 0us/step\n"
          ]
        },
        {
          "output_type": "stream",
          "name": "stderr",
          "text": [
            "/usr/local/lib/python3.11/dist-packages/keras/src/layers/convolutional/base_conv.py:107: UserWarning: Do not pass an `input_shape`/`input_dim` argument to a layer. When using Sequential models, prefer using an `Input(shape)` object as the first layer in the model instead.\n",
            "  super().__init__(activity_regularizer=activity_regularizer, **kwargs)\n"
          ]
        },
        {
          "output_type": "stream",
          "name": "stdout",
          "text": [
            "gen\tnevals\tavg     \tmin    \tmax     \n",
            "0  \t10    \t0.514417\t0.08025\t0.985167\n",
            "1  \t3     \t0.841742\t0.100833\t0.985583\n",
            "2  \t10    \t0.742625\t0.101583\t0.988333\n",
            "3  \t6     \t0.983392\t0.963083\t0.988333\n",
            "\n",
            "Лучшие гиперпараметры:\n",
            "Сверточные слои: 2\n",
            "Фильтры: 32\n",
            "Нейроны в Dense: 256\n",
            "Learning rate: 0.001\n",
            "Оптимизатор: adam\n",
            "Валидационная точность: 0.9856\n",
            "\n",
            "Точность на тестовых данных: 0.9917\n"
          ]
        }
      ]
    },
    {
      "cell_type": "code",
      "source": [],
      "metadata": {
        "id": "ermnzOlyCkH7"
      },
      "execution_count": 2,
      "outputs": []
    },
    {
      "cell_type": "markdown",
      "source": [
        "### Выводы\n",
        "Генетический алгоритм позволяет эффективно оптимизировать гиперпараметры моделей. В данном случае:\n",
        "\n",
        "CNN обычно показывает наилучшую точность на изображениях.\n",
        "\n",
        "RNN может уступать из-за менее подходящей архитектуры для данных изображений.\n",
        "\n",
        "MLP проще, но менее точен по сравнению с CNN.\n",
        "\n",
        "Результаты могут варьироваться в зависимости от данных и параметров GA. Для сложных задач рекомендуется увеличивать размер популяции и количество поколений."
      ],
      "metadata": {
        "id": "sTzWk7PA6LP7"
      }
    }
  ]
}