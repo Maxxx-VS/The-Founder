{
  "nbformat": 4,
  "nbformat_minor": 0,
  "metadata": {
    "colab": {
      "provenance": [],
      "gpuType": "V28",
      "authorship_tag": "ABX9TyMCEouaFm9bFKUGttLKn93T",
      "include_colab_link": true
    },
    "kernelspec": {
      "name": "python3",
      "display_name": "Python 3"
    },
    "language_info": {
      "name": "python"
    },
    "accelerator": "TPU"
  },
  "cells": [
    {
      "cell_type": "markdown",
      "metadata": {
        "id": "view-in-github",
        "colab_type": "text"
      },
      "source": [
        "<a href=\"https://colab.research.google.com/github/Maxxx-VS/The-Founder/blob/master/37_4_Translate_%2B_Bogdanov.ipynb\" target=\"_parent\"><img src=\"https://colab.research.google.com/assets/colab-badge.svg\" alt=\"Open In Colab\"/></a>"
      ]
    },
    {
      "cell_type": "code",
      "execution_count": 1,
      "metadata": {
        "id": "tIVOxWU0PWJQ"
      },
      "outputs": [],
      "source": [
        "import numpy as np\n",
        "from random import randint\n",
        "import unicodedata\n",
        "import re\n",
        "import pandas as pd\n",
        "import tensorflow as tf\n",
        "import os\n",
        "import time\n",
        "\n",
        "from keras.models import Model, load_model\n",
        "from keras.layers import Dense, Embedding, GRU, Input, Dense, Embedding, Bidirectional, Concatenate, Dropout, Dot\n",
        "from keras.optimizers import RMSprop, Adadelta, Adam\n",
        "from keras.preprocessing.sequence import pad_sequences\n",
        "from tensorflow.keras.preprocessing.text import Tokenizer\n",
        "from keras import utils\n",
        "from keras.callbacks import EarlyStopping, ModelCheckpoint\n",
        "from keras.utils import plot_model\n",
        "from sklearn.model_selection import train_test_split\n",
        "\n",
        "import matplotlib.pyplot as plt\n",
        "import matplotlib.ticker as ticker\n",
        "import seaborn as sns\n",
        "%matplotlib inline\n",
        "\n",
        "import warnings\n",
        "warnings.filterwarnings('ignore')"
      ]
    },
    {
      "cell_type": "code",
      "source": [
        "!wget https://storage.yandexcloud.net/academy.ai/rus-eng.zip"
      ],
      "metadata": {
        "colab": {
          "base_uri": "https://localhost:8080/"
        },
        "id": "G9Vc73X-Pv-r",
        "outputId": "907bda38-17a6-451b-e08c-dbeaaf044aa5"
      },
      "execution_count": 2,
      "outputs": [
        {
          "output_type": "stream",
          "name": "stdout",
          "text": [
            "--2025-01-28 16:17:07--  https://storage.yandexcloud.net/academy.ai/rus-eng.zip\n",
            "Resolving storage.yandexcloud.net (storage.yandexcloud.net)... 213.180.193.243, 2a02:6b8::1d9\n",
            "Connecting to storage.yandexcloud.net (storage.yandexcloud.net)|213.180.193.243|:443... connected.\n",
            "HTTP request sent, awaiting response... 200 OK\n",
            "Length: 16305013 (16M) [application/x-zip-compressed]\n",
            "Saving to: ‘rus-eng.zip’\n",
            "\n",
            "rus-eng.zip         100%[===================>]  15.55M  8.94MB/s    in 1.7s    \n",
            "\n",
            "2025-01-28 16:17:10 (8.94 MB/s) - ‘rus-eng.zip’ saved [16305013/16305013]\n",
            "\n"
          ]
        }
      ]
    },
    {
      "cell_type": "code",
      "source": [
        "!unzip -o rus-eng.zip"
      ],
      "metadata": {
        "colab": {
          "base_uri": "https://localhost:8080/"
        },
        "id": "19eOkCcMPw4W",
        "outputId": "922bef3b-d6b7-4b8f-890b-4382116b0368"
      },
      "execution_count": 3,
      "outputs": [
        {
          "output_type": "stream",
          "name": "stdout",
          "text": [
            "Archive:  rus-eng.zip\n",
            "  inflating: rus.txt                 \n",
            "  inflating: _about.txt              \n"
          ]
        }
      ]
    },
    {
      "cell_type": "code",
      "source": [
        "BATCH_SIZE     = 512       # размер обучающего пакета.\n",
        "EPOCHS         = 3         # число эпох обучения.\n",
        "UNITS          = 1024      # число нейронов в рекуррентных с слоях.\n",
        "EMBED_DIM      = 256       # размерность эмбеддинга.\n",
        "NUM_SAMPLES    = 2500      # число примеров для обучения.\n",
        "FILE_NAME      = \"rus.txt\" # имя файла со словарем в архиве\n",
        "SOS            = '<start>' # токен начала последовательсти\n",
        "EOS            = '<end>'   # токен окончания последовательсти"
      ],
      "metadata": {
        "id": "sIfJ-GICPyyH"
      },
      "execution_count": 4,
      "outputs": []
    },
    {
      "cell_type": "code",
      "source": [
        "def preprocess_sentence(w):\n",
        "    w = re.sub(r\"([?.!,;:¿])\", r\" \\1 \", w)\n",
        "    w = re.sub(r'[\" \"]+', \" \", w)\n",
        "    w = re.sub(r\"[^a-zA-Zа-яёА-ЯЁ?'`.!,;:¿]+\", \" \", w)\n",
        "    w = w.rstrip().strip()\n",
        "    w = SOS + ' ' + w + ' ' + EOS\n",
        "\n",
        "    return w"
      ],
      "metadata": {
        "id": "qbN-FBsvP0cb"
      },
      "execution_count": 5,
      "outputs": []
    },
    {
      "cell_type": "code",
      "source": [
        "questions = [] # список входных фраз\n",
        "answers = []   # список ответных фраз\n",
        "\n",
        "with open(FILE_NAME, \"r\", encoding=\"utf-8\") as f: # открываем файл в режиме чтения\n",
        "    lines = f.read().split(\"\\n\")                    # считываем весь файл, разделяя на строки\n",
        "\n",
        "for line in lines[: min(NUM_SAMPLES, len(lines) - 1)]:\n",
        "    input_text, target_text, _ = line.split(\"\\t\")\n",
        "    questions.append(preprocess_sentence(input_text))\n",
        "    answers.append(preprocess_sentence(target_text))\n",
        "\n",
        "print(\"Число примеров:\", len(answers))\n",
        "random_index = randint(0, len(questions)-1)\n",
        "print(f'Вопрос : {questions[random_index]}') # Пример входной фразы\n",
        "print(f'Ответ : {answers[random_index]}')    # Пример ответной фразы"
      ],
      "metadata": {
        "colab": {
          "base_uri": "https://localhost:8080/"
        },
        "id": "8DbEq06XP2BD",
        "outputId": "4792fa95-f135-42c3-c93b-d5ca10ccc2fc"
      },
      "execution_count": 6,
      "outputs": [
        {
          "output_type": "stream",
          "name": "stdout",
          "text": [
            "Число примеров: 2500\n",
            "Вопрос : <start> Ask anyone . <end>\n",
            "Ответ : <start> Спроси у кого нибудь . <end>\n"
          ]
        }
      ]
    },
    {
      "cell_type": "code",
      "source": [
        "def tokenize(text): # функция принимает текст на заданном языке\n",
        "    tokenizer = Tokenizer(filters='')\n",
        "    tokenizer.fit_on_texts(text)\n",
        "    seq = tokenizer.texts_to_sequences(text)\n",
        "    pseq = pad_sequences(seq, padding='post')\n",
        "    return pseq, tokenizer"
      ],
      "metadata": {
        "id": "8vrGv3hoP8CD"
      },
      "execution_count": 7,
      "outputs": []
    },
    {
      "cell_type": "code",
      "source": [
        "paddedQuestions, tokenizer_en = tokenize(questions)    # формируем вектор фикс длины для вопросов  и токенизатор для английского языка\n",
        "paddedAnswers, tokenizer_ru   = tokenize(answers)      # формируем вектор фикс длины для ответов  и токенизатор для русского языка"
      ],
      "metadata": {
        "id": "CBga8HXEQo4z"
      },
      "execution_count": 8,
      "outputs": []
    },
    {
      "cell_type": "code",
      "source": [
        "max_length_ru = paddedAnswers.shape[1]\n",
        "max_length_en = paddedQuestions.shape[1]"
      ],
      "metadata": {
        "id": "E_q-BBaBQqgZ"
      },
      "execution_count": 9,
      "outputs": []
    },
    {
      "cell_type": "code",
      "source": [
        "questions_train, questions_val, answers_train, answers_val = train_test_split(paddedQuestions, paddedAnswers, test_size=0.2)"
      ],
      "metadata": {
        "id": "xI9z7yHRQsJ8"
      },
      "execution_count": 10,
      "outputs": []
    },
    {
      "cell_type": "code",
      "source": [
        "BUFFER_SIZE = len(questions_train)                     # случайно сэмплировать будем по всей длине обучающейся выборки\n",
        "STEPS_PER_EPOCH = len(questions_train)//BATCH_SIZE     # количество шагов в одной эпохе\n",
        "VOCAB_EN_SIZE = len(tokenizer_en.word_index) + 1\n",
        "VOCAB_RU_SIZE = len(tokenizer_ru.word_index) + 1"
      ],
      "metadata": {
        "id": "QvbxLyLGQudM"
      },
      "execution_count": 11,
      "outputs": []
    },
    {
      "cell_type": "code",
      "source": [
        "def convert(lang, tensor):\n",
        "  for t in tensor:\n",
        "    if t != 0:\n",
        "      print (\"%d ----> %s\" % (t, lang.index_word[t]))\n",
        "\n",
        "print (\"Исходный язык:\")\n",
        "convert(tokenizer_en, questions_train[0])\n",
        "print ()\n",
        "print (\"Целевой язык:\")\n",
        "convert(tokenizer_ru, answers_train[0])"
      ],
      "metadata": {
        "colab": {
          "base_uri": "https://localhost:8080/"
        },
        "id": "qhjiqSylQwM8",
        "outputId": "df28b442-8165-4b60-9e9d-ca423598190c"
      },
      "execution_count": 12,
      "outputs": [
        {
          "output_type": "stream",
          "name": "stdout",
          "text": [
            "Исходный язык:\n",
            "1 ----> <start>\n",
            "9 ----> tom\n",
            "581 ----> began\n",
            "3 ----> .\n",
            "2 ----> <end>\n",
            "\n",
            "Целевой язык:\n",
            "1 ----> <start>\n",
            "8 ----> том\n",
            "1451 ----> начал\n",
            "3 ----> .\n",
            "2 ----> <end>\n"
          ]
        }
      ]
    },
    {
      "cell_type": "code",
      "source": [
        "dataset = tf.data.Dataset.from_tensor_slices((questions_train, answers_train)).shuffle(BUFFER_SIZE)\n",
        "dataset = dataset.batch(BATCH_SIZE, drop_remainder=True)"
      ],
      "metadata": {
        "id": "tQtQfLtnQzYu"
      },
      "execution_count": 13,
      "outputs": []
    },
    {
      "cell_type": "code",
      "source": [
        "example_questions_batch, example_answers_batch = next(iter(dataset))\n",
        "print('Форма батчей ENG и RU: ', example_questions_batch.shape, example_answers_batch.shape)"
      ],
      "metadata": {
        "colab": {
          "base_uri": "https://localhost:8080/"
        },
        "id": "nLHb6pqeQ3kR",
        "outputId": "a610b636-5c40-4381-f6ff-3c455e6a128d"
      },
      "execution_count": 14,
      "outputs": [
        {
          "output_type": "stream",
          "name": "stdout",
          "text": [
            "Форма батчей ENG и RU:  (512, 7) (512, 9)\n"
          ]
        }
      ]
    },
    {
      "cell_type": "code",
      "source": [
        "class Encoder(tf.keras.Model):\n",
        "\n",
        "    def __init__(self, vocab_size, embedding_dim, enc_units, batch_sz):\n",
        "        super(Encoder, self).__init__()                                   # вызываем инициализацию родительского класса\n",
        "\n",
        "        self.batch_sz = batch_sz                                          # инициализируем переменную размера батча внутри класса\n",
        "        self.enc_units = enc_units                                        # инициализируем переменную размера слоя в кодировщике\n",
        "        self.embedding = tf.keras.layers.Embedding(vocab_size, embedding_dim)             # инициализируем слой эмбеддинга с заданными параметрами\n",
        "        self.gru = tf.keras.layers.GRU(self.enc_units, return_sequences=True, return_state=True, recurrent_initializer='glorot_uniform') # инициализируем рекуррентный слой с заданными параметрами\n",
        "\n",
        "    def call(self, x, hidden):   # начальное состояние\n",
        "        x = self.embedding(x)   # входящие тензоры преобразовываются эмбеддингом\n",
        "        output, state = self.gru(x, initial_state = hidden) # далее пропускаем через слой GRU и получаем выходные данные и новое состояние\n",
        "        return output, state # выход сети и состояние на выходе\n",
        "\n",
        "    def initialize_hidden_state(self):\n",
        "        return tf.zeros((self.batch_sz, self.enc_units))"
      ],
      "metadata": {
        "id": "VPkyc9X8Q4-E"
      },
      "execution_count": 15,
      "outputs": []
    },
    {
      "cell_type": "code",
      "source": [
        "encoder = Encoder(VOCAB_EN_SIZE, EMBED_DIM, UNITS, BATCH_SIZE)"
      ],
      "metadata": {
        "id": "l9bHpg-_RW2K"
      },
      "execution_count": 16,
      "outputs": []
    },
    {
      "cell_type": "code",
      "source": [
        "# ВЫБОР МЕХАНИЗМА ВНИМАНИЯ\n",
        "choice_dict = {\"BG\": \"Механизм внимания Богданова\",\n",
        "               \"LP\": \"Luong + точечное внимание\",\n",
        "               \"LG\": \"Luong + общее внимание\",\n",
        "               \"LU\": \"Luong + объединенное внимание\"}\n",
        "\n",
        "choice_attention_mechanism = input('''Выбор механизма внимания:\n",
        "                                      BG - Механизм внимания Богданова\n",
        "                                      LP - Luong + точечное внимание\n",
        "                                      LG - Luong + общее внимание\n",
        "                                      LU - Luong + объединенное внимание\n",
        "                                      ==> ''')\n",
        "\n",
        "print(f'Выбран: {choice_dict[choice_attention_mechanism]}')"
      ],
      "metadata": {
        "colab": {
          "base_uri": "https://localhost:8080/"
        },
        "id": "jVsJAhFYoT5i",
        "outputId": "2c56bdb6-b9e4-4aaa-f49c-1ca7c1a5fb06"
      },
      "execution_count": 17,
      "outputs": [
        {
          "output_type": "stream",
          "name": "stdout",
          "text": [
            "Выбор механизма внимания:\n",
            "                                      BG - Механизм внимания Богданова\n",
            "                                      LP - Luong + точечное внимание\n",
            "                                      LG - Luong + общее внимание\n",
            "                                      LU - Luong + объединенное внимание \n",
            "                                      ==> LG\n",
            "Выбран: Luong + общее внимание\n"
          ]
        }
      ]
    },
    {
      "cell_type": "code",
      "source": [
        "class BLA(Model):\n",
        "\n",
        "    def __init__(self, units):\n",
        "        super(BLA, self).__init__()\n",
        "        self.W1 = Dense(units)\n",
        "        self.W2 = Dense(units)\n",
        "        self.V =  Dense(1)\n",
        "\n",
        "    if choice_attention_mechanism == \"BG\": # Механизм внимания Богданова\n",
        "        def call(self, hidden_state, values):\n",
        "            hidden_with_time_axis = tf.expand_dims(hidden_state, 1)\n",
        "            score = self.V(tf.nn.tanh(self.W1(values) + self.W2(hidden_with_time_axis)))\n",
        "            attention_weights = tf.nn.softmax(score, axis=1)\n",
        "            context_vector = attention_weights * values\n",
        "            context_vector = tf.reduce_sum(context_vector, axis=1)\n",
        "            return context_vector, attention_weights\n",
        "\n",
        "            attention_layer = BLA(10)\n",
        "\n",
        "\n",
        "    elif choice_attention_mechanism == \"LP\": # Luong + точечное внимание\n",
        "        def call(self, hidden_state, values):\n",
        "            hidden_with_time_axis = tf.expand_dims(hidden_state, 1)\n",
        "            values_transposed = tf.transpose(values, perm=[0, 2, 1])\n",
        "            score = tf.transpose(tf.matmul(hidden_with_time_axis, values_transposed), perm=[0, 2, 1])\n",
        "            attention_weights = tf.nn.softmax(score, axis=1)\n",
        "            context_vector = attention_weights * values\n",
        "            context_vector = tf.reduce_sum(context_vector, axis=1)\n",
        "            return context_vector, attention_weights\n",
        "\n",
        "            attention_layer = BLA()\n",
        "\n",
        "\n",
        "    elif choice_attention_mechanism == \"LG\":  # Luong + общее внимание\n",
        "        def call(self, hidden_state, values):\n",
        "            hidden_with_time_axis = tf.expand_dims(hidden_state, 1)\n",
        "            values_transposed = tf.transpose(values, perm=[0, 2, 1])\n",
        "            score = tf.transpose(tf.matmul(hidden_with_time_axis, values_transposed), perm=[0, 2, 1])\n",
        "            attention_weights = tf.nn.softmax(score, axis=2)\n",
        "            context_vector = tf.reduce_sum(attention_weights * values, axis=1)\n",
        "            return context_vector, attention_weights\n",
        "\n",
        "            attention_layer = BLA()\n",
        "\n",
        "\n",
        "    elif choice_attention_mechanism == \"LU\":  # Luong + объединенное внимание\n",
        "        def call(self, hidden_state, values):\n",
        "            hidden_with_time_axis = tf.expand_dims(hidden_state, 1)\n",
        "            repeated_hidden = tf.tile(hidden_with_time_axis, [1, tf.shape(values)[1], 1])\n",
        "            concatenated = tf.concat([repeated_hidden, values], axis=-1)\n",
        "            score = tf.transpose(self.V(tf.nn.tanh(self.W1(concatenated))), perm=[0, 2, 1])\n",
        "            score = tf.transpose(score, perm=[0, 2, 1])\n",
        "            attention_weights = tf.nn.softmax(score, axis=2)\n",
        "            context_vector = tf.reduce_sum(attention_weights * values, axis=1)\n",
        "            return context_vector, attention_weights\n",
        "\n",
        "            attention_layer = BLA()\n",
        "\n",
        "    else:\n",
        "        print(\"Механизм внимания не выбран!\")"
      ],
      "metadata": {
        "id": "eDWa5Lb8pwsH"
      },
      "execution_count": 18,
      "outputs": []
    },
    {
      "cell_type": "code",
      "source": [
        "class Decoder(Model):\n",
        "\n",
        "    def __init__(self, vocab_size, embedding_dim, dec_units, batch_sz):\n",
        "        super(Decoder, self).__init__()                       # вызываем инициализацию родительского класса\n",
        "\n",
        "        self.batch_sz = batch_sz                              # инициализируем переменную размера батча внутри класса\n",
        "        self.dec_units = dec_units                            # инициализируем переменную размера слоя в декодировщике\n",
        "        self.embedding = Embedding(vocab_size, embedding_dim) # инициализируем слой эмбеддинга с заданными параметрами\n",
        "        self.gru = GRU(self.dec_units, return_sequences=True, return_state=True, recurrent_initializer='glorot_uniform') # инициализируем рекуррентный слой с заданными параметрами\n",
        "        self.fc = Dense(vocab_size) # полносвязный слой с размером словаря\n",
        "        self.attention = BLA(self.dec_units) # механизм внимания\n",
        "\n",
        "    def call(self, x, hidden, enc_output):\n",
        "\n",
        "        context_vector, attention_weights = self.attention(hidden, enc_output)\n",
        "        x = self.embedding(x)\n",
        "        x = tf.concat([tf.expand_dims(context_vector, 1), x], axis=-1)\n",
        "        output, state = self.gru(x, initial_state = hidden)\n",
        "        output = tf.reshape(output, (-1, output.shape[2]))\n",
        "        x = self.fc(output)\n",
        "\n",
        "        return x, state, attention_weights"
      ],
      "metadata": {
        "id": "AFU9hqo8SFJP"
      },
      "execution_count": 19,
      "outputs": []
    },
    {
      "cell_type": "code",
      "source": [
        "decoder = Decoder(VOCAB_RU_SIZE, EMBED_DIM, UNITS, BATCH_SIZE)"
      ],
      "metadata": {
        "id": "bz0TbhG1SXb3"
      },
      "execution_count": 20,
      "outputs": []
    },
    {
      "cell_type": "code",
      "source": [
        "optimizer = tf.keras.optimizers.Adam()\n",
        "\n",
        "def loss_function(real, pred):\n",
        "    mask = tf.math.logical_not(tf.math.equal(real, 0))\n",
        "    loss = tf.keras.losses.SparseCategoricalCrossentropy(from_logits=True, reduction='none')(real, pred)\n",
        "    mask = tf.cast(mask, dtype=loss.dtype) # приводим тип маски к типу потерь\n",
        "    loss *= mask                           # маскируем потери, избавляемся от заполняющих нулей\n",
        "\n",
        "    return tf.reduce_mean(loss) # вернем среднее значение тензора"
      ],
      "metadata": {
        "id": "A_ktJz-ESZux"
      },
      "execution_count": 21,
      "outputs": []
    },
    {
      "cell_type": "code",
      "source": [
        "checkpoint_dir = './training_checkpoints'\n",
        "checkpoint_prefix = os.path.join(checkpoint_dir, \"ckpt\")\n",
        "checkpoint = tf.train.Checkpoint(optimizer=optimizer, encoder=encoder, decoder=decoder)"
      ],
      "metadata": {
        "id": "ysvGHDe8SeW6"
      },
      "execution_count": 22,
      "outputs": []
    },
    {
      "cell_type": "code",
      "source": [
        "@tf.function\n",
        "def train_step(inp, targ, enc_hidden): # определим входную фразу, перевод и состояние кодировщика\n",
        "  loss = 0 # переменная для фиксации ошибки\n",
        "\n",
        "  with tf.GradientTape() as tape:\n",
        "      enc_output, enc_hidden = encoder(inp, enc_hidden)\n",
        "      dec_hidden = enc_hidden\n",
        "      dec_input = tf.expand_dims([tokenizer_ru.word_index[SOS]] * BATCH_SIZE, 1)\n",
        "\n",
        "      for t in range(1, targ.shape[1]): # для каждого слова из фразы\n",
        "          predictions, dec_hidden, _ = decoder(dec_input, dec_hidden, enc_output)\n",
        "          loss += loss_function(targ[:, t], predictions)\n",
        "          dec_input = tf.expand_dims(targ[:, t], 1)\n",
        "\n",
        "  batch_loss = (loss / int(targ.shape[1]))\n",
        "  variables = encoder.trainable_variables + decoder.trainable_variables\n",
        "  gradients = tape.gradient(loss, variables)\n",
        "  optimizer.apply_gradients(zip(gradients, variables))\n",
        "\n",
        "  return batch_loss"
      ],
      "metadata": {
        "id": "8Xsgy1fpSlH8"
      },
      "execution_count": 23,
      "outputs": []
    },
    {
      "cell_type": "code",
      "source": [
        "for epoch in range(EPOCHS):\n",
        "    start = time.time()\n",
        "    enc_hidden = encoder.initialize_hidden_state()\n",
        "    total_loss = 0\n",
        "\n",
        "    for (batch, (inp, targ)) in enumerate(dataset.take(STEPS_PER_EPOCH)):\n",
        "        batch_loss = train_step(inp, targ, enc_hidden)\n",
        "        total_loss += batch_loss\n",
        "\n",
        "    if (epoch + 1) % 5 == 0:\n",
        "        checkpoint.save(file_prefix = checkpoint_prefix)\n",
        "    print(f'Эпоха: {epoch + 1}  |  Потеря:  {(total_loss / STEPS_PER_EPOCH):.4f}  |  Время на эпоху: {time.time() - start} сек \\n' )"
      ],
      "metadata": {
        "colab": {
          "base_uri": "https://localhost:8080/"
        },
        "id": "ZdGD7ztwSrwf",
        "outputId": "35b746bc-0024-4c4f-db6e-d8d3964b0912"
      },
      "execution_count": 24,
      "outputs": [
        {
          "output_type": "stream",
          "name": "stdout",
          "text": [
            "Эпоха: 1  |  Потеря:  2.9402  |  Время на эпоху: 38.667118549346924 сек \n",
            "\n",
            "Эпоха: 2  |  Потеря:  2.5656  |  Время на эпоху: 26.799120664596558 сек \n",
            "\n",
            "Эпоха: 3  |  Потеря:  1.9690  |  Время на эпоху: 26.799891710281372 сек \n",
            "\n"
          ]
        }
      ]
    },
    {
      "cell_type": "code",
      "source": [
        "def evaluate(sentence):\n",
        "\n",
        "    attention_plot = np.zeros((max_length_ru, max_length_en))\n",
        "    sentence = preprocess_sentence(sentence)\n",
        "    words = sentence.split(' ')\n",
        "    inputs = list() # список для сбора токенов\n",
        "\n",
        "    for word in words:\n",
        "        try:\n",
        "            inputs.append(tokenizer_en.word_index[word]) # находим индекс в словаре и добавляем в список\n",
        "        except:\n",
        "            pass # игнорируем слово, которое не знаем\n",
        "\n",
        "    inputs = tf.keras.preprocessing.sequence.pad_sequences([inputs], maxlen=max_length_en, padding='post')\n",
        "    inputs = tf.convert_to_tensor(inputs)\n",
        "    print(inputs)\n",
        "    result = ''\n",
        "    hidden = [tf.zeros((1, UNITS))]\n",
        "    enc_out, enc_hidden = encoder(inputs, hidden)\n",
        "    dec_hidden = enc_hidden\n",
        "    dec_input = tf.expand_dims([tokenizer_ru.word_index[SOS]], 0)\n",
        "\n",
        "    for t in range(max_length_ru):\n",
        "        predictions, dec_hidden, attention_weights = decoder(dec_input, dec_hidden, enc_out)\n",
        "        attention_weights = tf.reshape(attention_weights, (-1, ))\n",
        "        attention_plot[t] = attention_weights.numpy()\n",
        "        predicted_id = tf.argmax(predictions[0]).numpy()\n",
        "        result += tokenizer_ru.index_word[predicted_id] + ' '\n",
        "\n",
        "        if tokenizer_ru.index_word[predicted_id] == EOS:\n",
        "            return result, sentence, attention_plot\n",
        "\n",
        "        dec_input = tf.expand_dims([predicted_id], 0)\n",
        "    return result, sentence, attention_plot"
      ],
      "metadata": {
        "id": "4obtqBbZS3aR"
      },
      "execution_count": 25,
      "outputs": []
    },
    {
      "cell_type": "code",
      "source": [
        "def plot_attention(attention, sentence, predicted_sentence):\n",
        "    fig = plt.figure(figsize=(3, 3))\n",
        "    ax = fig.add_subplot(1, 1, 1)\n",
        "    ax.matshow(attention, cmap='viridis') # рисуем 2d матрицу\n",
        "    fontdict = {'fontsize': 14}           # размер текста\n",
        "    ax.set_xticklabels([''] + sentence, fontdict=fontdict, rotation=90) # подписи по горизонтали\n",
        "    ax.set_yticklabels([''] + predicted_sentence, fontdict=fontdict)    # подписи по вертикали\n",
        "    ax.xaxis.set_major_locator(ticker.MultipleLocator(1))\n",
        "    ax.yaxis.set_major_locator(ticker.MultipleLocator(1))\n",
        "    plt.show()"
      ],
      "metadata": {
        "id": "RQUYIsDaTDQT"
      },
      "execution_count": 26,
      "outputs": []
    },
    {
      "cell_type": "code",
      "source": [
        "def translate(sentence):\n",
        "    result, sentence, attention_plot = evaluate(sentence)\n",
        "    print('Ввод: %s' % (sentence))\n",
        "    print(f'Перевод: {result}')\n",
        "    attention_plot = attention_plot[:len(result.split(' ')), :len(sentence.split(' '))]\n",
        "    plot_attention(attention_plot, sentence.split(' '), result.split(' '))"
      ],
      "metadata": {
        "id": "QrXEqhRFTOZz"
      },
      "execution_count": 27,
      "outputs": []
    },
    {
      "cell_type": "code",
      "source": [
        "checkpoint.restore(tf.train.latest_checkpoint(checkpoint_dir))"
      ],
      "metadata": {
        "colab": {
          "base_uri": "https://localhost:8080/"
        },
        "id": "HCLKq1TKTSuN",
        "outputId": "2a5dc221-6021-4918-c5e5-8450c91b3b43"
      },
      "execution_count": 28,
      "outputs": [
        {
          "output_type": "execute_result",
          "data": {
            "text/plain": [
              "<tensorflow.python.checkpoint.checkpoint.InitializationOnlyStatus at 0x793e646c1710>"
            ]
          },
          "metadata": {},
          "execution_count": 28
        }
      ]
    },
    {
      "cell_type": "code",
      "source": [
        "translate('moon red')"
      ],
      "metadata": {
        "colab": {
          "base_uri": "https://localhost:8080/",
          "height": 356
        },
        "id": "VAp10QBITUhN",
        "outputId": "6f390b68-1a38-426e-ba0f-dd5f177a2a0e"
      },
      "execution_count": 29,
      "outputs": [
        {
          "output_type": "stream",
          "name": "stdout",
          "text": [
            "tf.Tensor([[  1 174   2   0   0   0   0]], shape=(1, 7), dtype=int32)\n",
            "Ввод: <start> moon red <end>\n",
            "Перевод: я <end> \n"
          ]
        },
        {
          "output_type": "display_data",
          "data": {
            "text/plain": [
              "<Figure size 300x300 with 1 Axes>"
            ],
            "image/png": "[encoded data removed]"
          },
          "metadata": {}
        }
      ]
    },
    {
      "cell_type": "code",
      "source": [
        "# ЧАТ - БОТ\n",
        "\n",
        "text = input(\"Текст для перевода: \")\n",
        "while text != \"q\":\n",
        "    print(f\"Перевод: {translate(text)}\")\n",
        "    text = input(\"Текст для перевода: \")"
      ],
      "metadata": {
        "colab": {
          "base_uri": "https://localhost:8080/",
          "height": 894
        },
        "id": "QzRsClqnrRP3",
        "outputId": "fb36fecd-861b-41dc-e061-00b515976efa"
      },
      "execution_count": 33,
      "outputs": [
        {
          "output_type": "stream",
          "name": "stdout",
          "text": [
            "Текст для перевода: dog\n",
            "tf.Tensor([[  1 399   2   0   0   0   0]], shape=(1, 7), dtype=int32)\n",
            "Ввод: <start> dog <end>\n",
            "Перевод: я <end> \n"
          ]
        },
        {
          "output_type": "display_data",
          "data": {
            "text/plain": [
              "<Figure size 300x300 with 1 Axes>"
            ],
            "image/png": "[encoded data removed]"
          },
          "metadata": {}
        },
        {
          "output_type": "stream",
          "name": "stdout",
          "text": [
            "Перевод: None\n",
            "Текст для перевода: moon\n",
            "tf.Tensor([[1 2 0 0 0 0 0]], shape=(1, 7), dtype=int32)\n",
            "Ввод: <start> moon <end>\n",
            "Перевод: я <end> \n"
          ]
        },
        {
          "output_type": "display_data",
          "data": {
            "text/plain": [
              "<Figure size 300x300 with 1 Axes>"
            ],
            "image/png": "[encoded data removed]"
          },
          "metadata": {}
        },
        {
          "name": "stdout",
          "output_type": "stream",
          "text": [
            "Перевод: None\n",
            "Текст для перевода: q\n"
          ]
        }
      ]
    }
  ]
}