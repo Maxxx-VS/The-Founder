{
  "nbformat": 4,
  "nbformat_minor": 0,
  "metadata": {
    "colab": {
      "provenance": [],
      "gpuType": "V28",
      "authorship_tag": "ABX9TyNtnwS50UNvpK1BFdMClK6Z",
      "include_colab_link": true
    },
    "kernelspec": {
      "name": "python3",
      "display_name": "Python 3"
    },
    "language_info": {
      "name": "python"
    },
    "accelerator": "TPU"
  },
  "cells": [
    {
      "cell_type": "markdown",
      "metadata": {
        "id": "view-in-github",
        "colab_type": "text"
      },
      "source": [
        "<a href=\"https://colab.research.google.com/github/Maxxx-VS/The-Founder/blob/master/37_4_Translate_%2B_Bogdanov.ipynb\" target=\"_parent\"><img src=\"https://colab.research.google.com/assets/colab-badge.svg\" alt=\"Open In Colab\"/></a>"
      ]
    },
    {
      "cell_type": "code",
      "execution_count": 1,
      "metadata": {
        "id": "tIVOxWU0PWJQ"
      },
      "outputs": [],
      "source": [
        "import numpy as np\n",
        "from random import randint\n",
        "import unicodedata\n",
        "import re\n",
        "import pandas as pd\n",
        "import tensorflow as tf\n",
        "import os\n",
        "import time\n",
        "\n",
        "from keras.models import Model, load_model\n",
        "from keras.layers import Dense, Embedding, GRU, Input, Dense, Embedding, Bidirectional, Concatenate, Dropout, Dot\n",
        "from keras.optimizers import RMSprop, Adadelta, Adam\n",
        "from keras.preprocessing.sequence import pad_sequences\n",
        "from tensorflow.keras.preprocessing.text import Tokenizer\n",
        "from keras import utils\n",
        "from keras.callbacks import EarlyStopping, ModelCheckpoint\n",
        "from keras.utils import plot_model\n",
        "from sklearn.model_selection import train_test_split\n",
        "\n",
        "import matplotlib.pyplot as plt\n",
        "import matplotlib.ticker as ticker\n",
        "import seaborn as sns\n",
        "%matplotlib inline\n",
        "\n",
        "import warnings\n",
        "warnings.filterwarnings('ignore')"
      ]
    },
    {
      "cell_type": "code",
      "source": [
        "!wget https://storage.yandexcloud.net/academy.ai/rus-eng.zip"
      ],
      "metadata": {
        "colab": {
          "base_uri": "https://localhost:8080/"
        },
        "id": "G9Vc73X-Pv-r",
        "outputId": "3e7967e8-5ad2-4f4a-ac9b-233c80fc83b7"
      },
      "execution_count": 2,
      "outputs": [
        {
          "output_type": "stream",
          "name": "stdout",
          "text": [
            "--2025-01-26 13:57:16--  https://storage.yandexcloud.net/academy.ai/rus-eng.zip\n",
            "Resolving storage.yandexcloud.net (storage.yandexcloud.net)... 213.180.193.243, 2a02:6b8::1d9\n",
            "Connecting to storage.yandexcloud.net (storage.yandexcloud.net)|213.180.193.243|:443... connected.\n",
            "HTTP request sent, awaiting response... 200 OK\n",
            "Length: 16305013 (16M) [application/x-zip-compressed]\n",
            "Saving to: ‘rus-eng.zip’\n",
            "\n",
            "rus-eng.zip         100%[===================>]  15.55M  8.56MB/s    in 1.8s    \n",
            "\n",
            "2025-01-26 13:57:19 (8.56 MB/s) - ‘rus-eng.zip’ saved [16305013/16305013]\n",
            "\n"
          ]
        }
      ]
    },
    {
      "cell_type": "code",
      "source": [
        "!unzip -o rus-eng.zip"
      ],
      "metadata": {
        "colab": {
          "base_uri": "https://localhost:8080/"
        },
        "id": "19eOkCcMPw4W",
        "outputId": "fc0f23e7-4746-434a-d699-e1aafc13b647"
      },
      "execution_count": 3,
      "outputs": [
        {
          "output_type": "stream",
          "name": "stdout",
          "text": [
            "Archive:  rus-eng.zip\n",
            "  inflating: rus.txt                 \n",
            "  inflating: _about.txt              \n"
          ]
        }
      ]
    },
    {
      "cell_type": "code",
      "source": [
        "BATCH_SIZE     = 256       # размер обучающего пакета.\n",
        "EPOCHS         = 3        # число эпох обучения.\n",
        "UNITS          = 1024      # число нейронов в рекуррентных с слоях.\n",
        "EMBED_DIM      = 256       # размерность эмбеддинга.\n",
        "NUM_SAMPLES    = 2500     # число примеров для обучения.\n",
        "FILE_NAME      = \"rus.txt\" # имя файла со словарем в архиве\n",
        "SOS            = '<start>' # токен начала последовательсти\n",
        "EOS            = '<end>'   # токен окончания последовательсти"
      ],
      "metadata": {
        "id": "sIfJ-GICPyyH"
      },
      "execution_count": 4,
      "outputs": []
    },
    {
      "cell_type": "code",
      "source": [
        "def preprocess_sentence(w):\n",
        "    w = re.sub(r\"([?.!,;:¿])\", r\" \\1 \", w)\n",
        "    w = re.sub(r'[\" \"]+', \" \", w)\n",
        "    w = re.sub(r\"[^a-zA-Zа-яёА-ЯЁ?'`.!,;:¿]+\", \" \", w)\n",
        "    w = w.rstrip().strip()\n",
        "    w = SOS + ' ' + w + ' ' + EOS\n",
        "\n",
        "    return w"
      ],
      "metadata": {
        "id": "qbN-FBsvP0cb"
      },
      "execution_count": 5,
      "outputs": []
    },
    {
      "cell_type": "code",
      "source": [
        "questions = [] # список входных фраз\n",
        "answers = []   # список ответных фраз\n",
        "\n",
        "with open(FILE_NAME, \"r\", encoding=\"utf-8\") as f: # открываем файл в режиме чтения\n",
        "    lines = f.read().split(\"\\n\")                    # считываем весь файл, разделяя на строки\n",
        "\n",
        "for line in lines[: min(NUM_SAMPLES, len(lines) - 1)]:\n",
        "    # Разделяем строку по табам (входные данные, выходные и ненужный столбец)\n",
        "    input_text, target_text, _ = line.split(\"\\t\")\n",
        "\n",
        "    questions.append(preprocess_sentence(input_text))\n",
        "    answers.append(preprocess_sentence(target_text))\n",
        "\n",
        "print(\"Число примеров:\", len(answers))\n",
        "\n",
        "random_index = randint(0, len(questions)-1)\n",
        "print(f'Вопрос : {questions[random_index]}') # Пример входной фразы\n",
        "print(f'Ответ : {answers[random_index]}')    # Пример ответной фразы"
      ],
      "metadata": {
        "colab": {
          "base_uri": "https://localhost:8080/"
        },
        "id": "8DbEq06XP2BD",
        "outputId": "bac68b11-9562-4f2c-bc23-65c55754d986"
      },
      "execution_count": 6,
      "outputs": [
        {
          "output_type": "stream",
          "name": "stdout",
          "text": [
            "Число примеров: 2500\n",
            "Вопрос : <start> I'm naked . <end>\n",
            "Ответ : <start> Я раздетый . <end>\n"
          ]
        }
      ]
    },
    {
      "cell_type": "code",
      "source": [
        "def tokenize(text): # функция принимает текст на заданном языке\n",
        "    tokenizer = Tokenizer(filters='')\n",
        "    tokenizer.fit_on_texts(text)\n",
        "    seq = tokenizer.texts_to_sequences(text)\n",
        "    pseq = pad_sequences(seq, padding='post')\n",
        "    return pseq, tokenizer"
      ],
      "metadata": {
        "id": "8vrGv3hoP8CD"
      },
      "execution_count": 14,
      "outputs": []
    },
    {
      "cell_type": "code",
      "source": [
        "paddedQuestions, tokenizer_en = tokenize(questions)    # формируем вектор фикс длины для вопросов  и токенизатор для английского языка\n",
        "paddedAnswers, tokenizer_ru   = tokenize(answers)      # формируем вектор фикс длины для ответов  и токенизатор для русского языка"
      ],
      "metadata": {
        "id": "CBga8HXEQo4z"
      },
      "execution_count": 15,
      "outputs": []
    },
    {
      "cell_type": "code",
      "source": [
        "max_length_ru = paddedAnswers.shape[1]\n",
        "max_length_en = paddedQuestions.shape[1]"
      ],
      "metadata": {
        "id": "E_q-BBaBQqgZ"
      },
      "execution_count": 16,
      "outputs": []
    },
    {
      "cell_type": "code",
      "source": [
        "questions_train, questions_val, answers_train, answers_val = train_test_split(paddedQuestions, paddedAnswers, test_size=0.2)"
      ],
      "metadata": {
        "id": "xI9z7yHRQsJ8"
      },
      "execution_count": 17,
      "outputs": []
    },
    {
      "cell_type": "code",
      "source": [
        "BUFFER_SIZE = len(questions_train)                     # случайно сэмплировать будем по всей длине обучающейся выборки\n",
        "STEPS_PER_EPOCH = len(questions_train)//BATCH_SIZE     # количество шагов в одной эпохе\n",
        "VOCAB_EN_SIZE = len(tokenizer_en.word_index) + 1\n",
        "VOCAB_RU_SIZE = len(tokenizer_ru.word_index) + 1"
      ],
      "metadata": {
        "id": "QvbxLyLGQudM"
      },
      "execution_count": 18,
      "outputs": []
    },
    {
      "cell_type": "code",
      "source": [
        "def convert(lang, tensor):\n",
        "  for t in tensor:\n",
        "    if t != 0:\n",
        "      print (\"%d ----> %s\" % (t, lang.index_word[t]))\n",
        "\n",
        "print (\"Исходный язык:\")\n",
        "convert(tokenizer_en, questions_train[0])\n",
        "print ()\n",
        "print (\"Целевой язык:\")\n",
        "convert(tokenizer_ru, answers_train[0])"
      ],
      "metadata": {
        "colab": {
          "base_uri": "https://localhost:8080/"
        },
        "id": "qhjiqSylQwM8",
        "outputId": "0fa20df3-1747-4565-cc57-22fac2989388"
      },
      "execution_count": 19,
      "outputs": [
        {
          "output_type": "stream",
          "name": "stdout",
          "text": [
            "Исходный язык:\n",
            "1 ----> <start>\n",
            "4 ----> i\n",
            "325 ----> like\n",
            "5 ----> it\n",
            "3 ----> .\n",
            "2 ----> <end>\n",
            "\n",
            "Целевой язык:\n",
            "1 ----> <start>\n",
            "7 ----> это\n",
            "11 ----> мне\n",
            "330 ----> нравится\n",
            "3 ----> .\n",
            "2 ----> <end>\n"
          ]
        }
      ]
    },
    {
      "cell_type": "code",
      "source": [
        "dataset = tf.data.Dataset.from_tensor_slices((questions_train, answers_train)).shuffle(BUFFER_SIZE)\n",
        "dataset = dataset.batch(BATCH_SIZE, drop_remainder=True)"
      ],
      "metadata": {
        "id": "tQtQfLtnQzYu"
      },
      "execution_count": 20,
      "outputs": []
    },
    {
      "cell_type": "code",
      "source": [
        "example_questions_batch, example_answers_batch = next(iter(dataset))\n",
        "print('Форма батчей ENG и RU: ', example_questions_batch.shape, example_answers_batch.shape)"
      ],
      "metadata": {
        "colab": {
          "base_uri": "https://localhost:8080/"
        },
        "id": "nLHb6pqeQ3kR",
        "outputId": "7331ad57-7835-4485-cbd2-ac6083cadc45"
      },
      "execution_count": 21,
      "outputs": [
        {
          "output_type": "stream",
          "name": "stdout",
          "text": [
            "Форма батчей ENG и RU:  (256, 7) (256, 9)\n"
          ]
        }
      ]
    },
    {
      "cell_type": "code",
      "source": [
        "class Encoder(tf.keras.Model):\n",
        "\n",
        "  def __init__(self,\n",
        "               vocab_size,    # размер словаря\n",
        "               embedding_dim, # размер пространства эмбеддинга\n",
        "               enc_units,     # число нейронов в GRU\n",
        "               batch_sz):     # размер батча\n",
        "\n",
        "    super(Encoder, self).__init__()                                   # вызываем инициализацию родительского класса\n",
        "\n",
        "    self.batch_sz = batch_sz                                          # инициализируем переменную размера батча внутри класса\n",
        "    self.enc_units = enc_units                                        # инициализируем переменную размера слоя в кодировщике\n",
        "    self.embedding = tf.keras.layers.Embedding(vocab_size, embedding_dim)             # инициализируем слой эмбеддинга с заданными параметрами\n",
        "    self.gru = tf.keras.layers.GRU(self.enc_units, return_sequences=True, return_state=True, recurrent_initializer='glorot_uniform') # инициализируем рекуррентный слой с заданными параметрами\n",
        "\n",
        "\n",
        "\n",
        "  def call(self, x, hidden):   # начальное состояние\n",
        "    x = self.embedding(x)   # входящие тензоры преобразовываются эмбеддингом\n",
        "    output, state = self.gru(x, initial_state = hidden) # далее пропускаем через слой GRU и получаем выходные данные и новое состояние\n",
        "\n",
        "    return output, state # выход сети и состояние на выходе\n",
        "\n",
        "\n",
        "  def initialize_hidden_state(self):\n",
        "\n",
        "    return tf.zeros((self.batch_sz, self.enc_units))"
      ],
      "metadata": {
        "id": "VPkyc9X8Q4-E"
      },
      "execution_count": 22,
      "outputs": []
    },
    {
      "cell_type": "code",
      "source": [
        "encoder = Encoder(VOCAB_EN_SIZE, EMBED_DIM, UNITS, BATCH_SIZE)"
      ],
      "metadata": {
        "id": "l9bHpg-_RW2K"
      },
      "execution_count": 23,
      "outputs": []
    },
    {
      "cell_type": "code",
      "source": [
        "# ВЫБОР МЕХАНИЗМА ВНИМАНИЯ\n",
        "choice_dict = {\"BG\": \"Механизм внимания Богданова\",\n",
        "               \"LP\": \"Luong + точечное внимание\",\n",
        "               \"LG\": \"Luong + общее внимание\",\n",
        "               \"LU\": \"Luong + объединенное внимание\"}\n",
        "\n",
        "choice_attention_mechanism = input('''Выбор механизма внимания:\n",
        "                                      BG - Механизм внимания Богданова\n",
        "                                      LP - Luong + точечное внимание\n",
        "                                      LG - Luong + общее внимание\n",
        "                                      LU - Luong + объединенное внимание: ''')\n",
        "\n",
        "print(f'Выбран: {choice_dict[choice_attention_mechanism]}')"
      ],
      "metadata": {
        "colab": {
          "base_uri": "https://localhost:8080/"
        },
        "id": "jVsJAhFYoT5i",
        "outputId": "2e1d6388-a5de-41c0-bc9e-8e52abc61f9e"
      },
      "execution_count": 47,
      "outputs": [
        {
          "output_type": "stream",
          "name": "stdout",
          "text": [
            "Выбор механизма внимания:\n",
            "                                      BG - Механизм внимания Богданова\n",
            "                                      LP - Luong + точечное внимание\n",
            "                                      LG - Luong + общее внимание\n",
            "                                      LU - Luong + объединенное внимание: LP\n",
            "Выбран: Luong + точечное внимание\n"
          ]
        }
      ]
    },
    {
      "cell_type": "code",
      "source": [
        "class BLA(Model, choice_attention_mechanism):\n",
        "\n",
        "    if choice_attention_mechanism == \"BG\":\n",
        "        def __init__(self, units):\n",
        "            super(BLA, self).__init__()\n",
        "            self.W1 = Dense(units)\n",
        "            self.W2 = Dense(units)\n",
        "            self.V =  Dense(1)\n",
        "\n",
        "        def call(self, hidden_state, values):\n",
        "            hidden_with_time_axis = tf.expand_dims(hidden_state, 1)\n",
        "            score = self.V(tf.nn.tanh(self.W1(values) + self.W2(hidden_with_time_axis)))\n",
        "            attention_weights = tf.nn.softmax(score, axis=1)\n",
        "            context_vector = attention_weights * values\n",
        "            context_vector = tf.reduce_sum(context_vector, axis=1)\n",
        "            return context_vector, attention_weights\n",
        "\n",
        "    elif choice_attention_mechanism == \"LP\":\n",
        "        def __init__(self):\n",
        "            super(BLA, self).__init__()\n",
        "\n",
        "        def call(self, hidden_state, values):\n",
        "            hidden_with_time_axis = tf.expand_dims(hidden_state, 1)\n",
        "            values_transposed = tf.transpose(values, perm=[0, 2, 1])\n",
        "            score = tf.transpose(tf.matmul(hidden_with_time_axis, values_transposed), perm=[0, 2, 1])\n",
        "            attention_weights = tf.nn.softmax(score, axis=1)\n",
        "            context_vector = attention_weights * values\n",
        "            context_vector = tf.reduce_sum(context_vector, axis=1)\n",
        "            return context_vector, attention_weights"
      ],
      "metadata": {
        "id": "eDWa5Lb8pwsH"
      },
      "execution_count": null,
      "outputs": []
    },
    {
      "cell_type": "code",
      "source": [
        "attention_layer = BLA()"
      ],
      "metadata": {
        "id": "gB35MdzwtgQ1"
      },
      "execution_count": null,
      "outputs": []
    },
    {
      "cell_type": "code",
      "source": [
        "class BahdanauAttention(Model): # Название класса именем создателя механизма Дмитрия Богданова(Bahdanau)\n",
        "\n",
        "  # Создаем конструктор класса\n",
        "  def __init__(self, units):                        # число нейронов\n",
        "\n",
        "    super(BahdanauAttention, self).__init__() # вызываем инициализацию родительского класса\n",
        "    self.W1 = Dense(units)                    # создаем Dense с заданным числом нейронов\n",
        "    self.W2 = Dense(units)                    # создаем Dense с заданным числом нейронов\n",
        "    self.V =  Dense(1)                        # создаем Dense с числом нейронов =1\n",
        "\n",
        "  def call(self, hidden_state, values):      # выход кодировщика\n",
        "\n",
        "    hidden_with_time_axis = tf.expand_dims(hidden_state, 1)\n",
        "    score = self.V(tf.nn.tanh(self.W1(values) + self.W2(hidden_with_time_axis)))\n",
        "    attention_weights = tf.nn.softmax(score, axis=1)\n",
        "    context_vector = attention_weights * values # коэффициенты внимания перемножим со значениями выхода из кодировщика\n",
        "    context_vector = tf.reduce_sum(context_vector, axis=1) # размеры вектора контекста после суммирования будут (batch_size, hidden_size)\n",
        "\n",
        "    return context_vector, attention_weights\n"
      ],
      "metadata": {
        "id": "PoP9uU7MRZG2"
      },
      "execution_count": 26,
      "outputs": []
    },
    {
      "cell_type": "code",
      "source": [
        "attention_layer = BahdanauAttention(10)"
      ],
      "metadata": {
        "id": "bbyTuarVSDsW"
      },
      "execution_count": 27,
      "outputs": []
    },
    {
      "cell_type": "code",
      "source": [
        "class Decoder(Model):\n",
        "\n",
        "  # Конструктор класса\n",
        "  def __init__(self,\n",
        "               vocab_size,    # размер словаря\n",
        "               embedding_dim, # размерность пространства эмбеддинга\n",
        "               dec_units,     # число нейронов в GRU\n",
        "               batch_sz):     # размер батча\n",
        "\n",
        "    super(Decoder, self).__init__()                       # вызываем инициализацию родительского класса\n",
        "\n",
        "    self.batch_sz = batch_sz                              # инициализируем переменную размера батча внутри класса\n",
        "    self.dec_units = dec_units                            # инициализируем переменную размера слоя в декодировщике\n",
        "    self.embedding = Embedding(vocab_size, embedding_dim) # инициализируем слой эмбеддинга с заданными параметрами\n",
        "    self.gru = GRU(self.dec_units, return_sequences=True, return_state=True, recurrent_initializer='glorot_uniform') # инициализируем рекуррентный слой с заданными параметрами\n",
        "    self.fc = Dense(vocab_size) # полносвязный слой с размером словаря\n",
        "    self.attention = BahdanauAttention(self.dec_units) # механизм внимания\n",
        "\n",
        "  def call(self, x, hidden, enc_output):\n",
        "\n",
        "    context_vector, attention_weights = self.attention(hidden, enc_output)\n",
        "    x = self.embedding(x)\n",
        "    x = tf.concat([tf.expand_dims(context_vector, 1), x], axis=-1)\n",
        "    output, state = self.gru(x, initial_state = hidden)\n",
        "    output = tf.reshape(output, (-1, output.shape[2]))\n",
        "    x = self.fc(output)\n",
        "\n",
        "    return x, state, attention_weights"
      ],
      "metadata": {
        "id": "AFU9hqo8SFJP"
      },
      "execution_count": 28,
      "outputs": []
    },
    {
      "cell_type": "code",
      "source": [
        "decoder = Decoder(VOCAB_RU_SIZE, EMBED_DIM, UNITS, BATCH_SIZE)"
      ],
      "metadata": {
        "id": "bz0TbhG1SXb3"
      },
      "execution_count": 29,
      "outputs": []
    },
    {
      "cell_type": "code",
      "source": [
        "optimizer = tf.keras.optimizers.Adam()\n",
        "\n",
        "def loss_function(real, pred):\n",
        "  mask = tf.math.logical_not(tf.math.equal(real, 0))\n",
        "  loss = tf.keras.losses.SparseCategoricalCrossentropy(from_logits=True, reduction='none')(real, pred)\n",
        "  mask = tf.cast(mask, dtype=loss.dtype) # приводим тип маски к типу потерь\n",
        "  loss *= mask                           # маскируем потери, избавляемся от заполняющих нулей\n",
        "\n",
        "  return tf.reduce_mean(loss) # вернем среднее значение тензора"
      ],
      "metadata": {
        "id": "A_ktJz-ESZux"
      },
      "execution_count": 30,
      "outputs": []
    },
    {
      "cell_type": "code",
      "source": [
        "checkpoint_dir = './training_checkpoints'\n",
        "checkpoint_prefix = os.path.join(checkpoint_dir, \"ckpt\")\n",
        "checkpoint = tf.train.Checkpoint(optimizer=optimizer, encoder=encoder, decoder=decoder)"
      ],
      "metadata": {
        "id": "ysvGHDe8SeW6"
      },
      "execution_count": 31,
      "outputs": []
    },
    {
      "cell_type": "code",
      "source": [
        "@tf.function\n",
        "def train_step(inp, targ, enc_hidden): # определим входную фразу, перевод и состояние кодировщика\n",
        "  loss = 0 # переменная для фиксации ошибки\n",
        "  with tf.GradientTape() as tape:\n",
        "    enc_output, enc_hidden = encoder(inp, enc_hidden)\n",
        "    dec_hidden = enc_hidden\n",
        "    dec_input = tf.expand_dims([tokenizer_ru.word_index[SOS]] * BATCH_SIZE, 1)\n",
        "    for t in range(1, targ.shape[1]): # для каждого слова из фразы\n",
        "      predictions, dec_hidden, _ = decoder(dec_input, dec_hidden, enc_output)\n",
        "      loss += loss_function(targ[:, t], predictions)\n",
        "      dec_input = tf.expand_dims(targ[:, t], 1)\n",
        "  batch_loss = (loss / int(targ.shape[1]))\n",
        "  variables = encoder.trainable_variables + decoder.trainable_variables\n",
        "  gradients = tape.gradient(loss, variables)\n",
        "  optimizer.apply_gradients(zip(gradients, variables))\n",
        "  return batch_loss"
      ],
      "metadata": {
        "id": "8Xsgy1fpSlH8"
      },
      "execution_count": 32,
      "outputs": []
    },
    {
      "cell_type": "code",
      "source": [
        "for epoch in range(EPOCHS):\n",
        "  start = time.time()\n",
        "  enc_hidden = encoder.initialize_hidden_state()\n",
        "  total_loss = 0\n",
        "\n",
        "  for (batch, (inp, targ)) in enumerate(dataset.take(STEPS_PER_EPOCH)):\n",
        "    batch_loss = train_step(inp, targ, enc_hidden)\n",
        "    total_loss += batch_loss\n",
        "\n",
        "  if (epoch + 1) % 5 == 0:\n",
        "    checkpoint.save(file_prefix = checkpoint_prefix)\n",
        "  print(f'Эпоха: {epoch + 1}  |  Потеря:  {(total_loss / STEPS_PER_EPOCH):.4f}  |  Время на эпоху: {time.time() - start} сек \\n' )"
      ],
      "metadata": {
        "colab": {
          "base_uri": "https://localhost:8080/"
        },
        "id": "ZdGD7ztwSrwf",
        "outputId": "75de46fd-ca50-4594-f6aa-864a2f3e88e5"
      },
      "execution_count": 33,
      "outputs": [
        {
          "output_type": "stream",
          "name": "stdout",
          "text": [
            "Эпоха: 1  |  Потеря:  2.7277  |  Время на эпоху: 321.9989204406738 сек \n",
            "\n",
            "Эпоха: 2  |  Потеря:  1.8806  |  Время на эпоху: 307.00129747390747 сек \n",
            "\n",
            "Эпоха: 3  |  Потеря:  1.6550  |  Время на эпоху: 313.8809530735016 сек \n",
            "\n",
            "Эпоха: 4  |  Потеря:  1.5539  |  Время на эпоху: 316.6850063800812 сек \n",
            "\n",
            "Эпоха: 5  |  Потеря:  1.4887  |  Время на эпоху: 311.4577841758728 сек \n",
            "\n",
            "Эпоха: 6  |  Потеря:  1.4587  |  Время на эпоху: 308.6434452533722 сек \n",
            "\n",
            "Эпоха: 7  |  Потеря:  1.4226  |  Время на эпоху: 308.19126439094543 сек \n",
            "\n",
            "Эпоха: 8  |  Потеря:  1.3873  |  Время на эпоху: 307.9277355670929 сек \n",
            "\n",
            "Эпоха: 9  |  Потеря:  1.3384  |  Время на эпоху: 307.15942335128784 сек \n",
            "\n",
            "Эпоха: 10  |  Потеря:  1.2850  |  Время на эпоху: 307.7592604160309 сек \n",
            "\n"
          ]
        }
      ]
    },
    {
      "cell_type": "code",
      "source": [
        "def evaluate(sentence):\n",
        "\n",
        "    attention_plot = np.zeros((max_length_ru, max_length_en))\n",
        "    sentence = preprocess_sentence(sentence)\n",
        "    words = sentence.split(' ')\n",
        "    inputs = list() # список для сбора токенов\n",
        "\n",
        "    for word in words:\n",
        "        try:\n",
        "            inputs.append(tokenizer_en.word_index[word]) # находим индекс в словаре и добавляем в список\n",
        "        except:\n",
        "            pass # игнорируем слово, которое не знаем\n",
        "\n",
        "    inputs = tf.keras.preprocessing.sequence.pad_sequences([inputs], maxlen=max_length_en, padding='post')\n",
        "    inputs = tf.convert_to_tensor(inputs)\n",
        "    print(inputs)\n",
        "    result = ''\n",
        "    hidden = [tf.zeros((1, UNITS))]\n",
        "    enc_out, enc_hidden = encoder(inputs, hidden)\n",
        "    dec_hidden = enc_hidden\n",
        "    dec_input = tf.expand_dims([tokenizer_ru.word_index[SOS]], 0)\n",
        "\n",
        "    for t in range(max_length_ru):\n",
        "        predictions, dec_hidden, attention_weights = decoder(dec_input, dec_hidden, enc_out)\n",
        "        attention_weights = tf.reshape(attention_weights, (-1, ))\n",
        "        attention_plot[t] = attention_weights.numpy()\n",
        "        predicted_id = tf.argmax(predictions[0]).numpy()\n",
        "        result += tokenizer_ru.index_word[predicted_id] + ' '\n",
        "\n",
        "        if tokenizer_ru.index_word[predicted_id] == EOS:\n",
        "          return result, sentence, attention_plot\n",
        "\n",
        "        dec_input = tf.expand_dims([predicted_id], 0)\n",
        "\n",
        "    return result, sentence, attention_plot"
      ],
      "metadata": {
        "id": "4obtqBbZS3aR"
      },
      "execution_count": 34,
      "outputs": []
    },
    {
      "cell_type": "code",
      "source": [
        "def plot_attention(attention, sentence, predicted_sentence):\n",
        "    fig = plt.figure(figsize=(10,10))\n",
        "    ax = fig.add_subplot(1, 1, 1)\n",
        "    ax.matshow(attention, cmap='viridis') # рисуем 2d матрицу\n",
        "    fontdict = {'fontsize': 14}           # размер текста\n",
        "    ax.set_xticklabels([''] + sentence, fontdict=fontdict, rotation=90) # подписи по горизонтали\n",
        "    ax.set_yticklabels([''] + predicted_sentence, fontdict=fontdict)    # подписи по вертикали\n",
        "    ax.xaxis.set_major_locator(ticker.MultipleLocator(1))\n",
        "    ax.yaxis.set_major_locator(ticker.MultipleLocator(1))\n",
        "    plt.show()"
      ],
      "metadata": {
        "id": "RQUYIsDaTDQT"
      },
      "execution_count": 35,
      "outputs": []
    },
    {
      "cell_type": "code",
      "source": [
        "def translate(sentence):\n",
        "    result, sentence, attention_plot = evaluate(sentence)\n",
        "    print('Ввод: %s' % (sentence))\n",
        "    print(f'Перевод: {result}')\n",
        "    attention_plot = attention_plot[:len(result.split(' ')), :len(sentence.split(' '))]\n",
        "    plot_attention(attention_plot, sentence.split(' '), result.split(' '))"
      ],
      "metadata": {
        "id": "QrXEqhRFTOZz"
      },
      "execution_count": 36,
      "outputs": []
    },
    {
      "cell_type": "code",
      "source": [
        "checkpoint.restore(tf.train.latest_checkpoint(checkpoint_dir))"
      ],
      "metadata": {
        "colab": {
          "base_uri": "https://localhost:8080/"
        },
        "id": "HCLKq1TKTSuN",
        "outputId": "7dc47f85-656e-4605-89a9-e63bf4521eb2"
      },
      "execution_count": 37,
      "outputs": [
        {
          "output_type": "execute_result",
          "data": {
            "text/plain": [
              "<tensorflow.python.checkpoint.checkpoint.CheckpointLoadStatus at 0x7f98b8141950>"
            ]
          },
          "metadata": {},
          "execution_count": 37
        }
      ]
    },
    {
      "cell_type": "code",
      "source": [
        "translate('how are you?')"
      ],
      "metadata": {
        "colab": {
          "base_uri": "https://localhost:8080/",
          "height": 698
        },
        "id": "VAp10QBITUhN",
        "outputId": "5044d7d3-0ecc-4ed9-eb6c-0cc44fd41290"
      },
      "execution_count": 38,
      "outputs": [
        {
          "output_type": "stream",
          "name": "stdout",
          "text": [
            "tf.Tensor([[ 1 52 80 17  8  2  0]], shape=(1, 7), dtype=int32)\n",
            "Ввод: <start> how are you ? <end>\n",
            "Перевод: кто ! <end> \n"
          ]
        },
        {
          "output_type": "display_data",
          "data": {
            "text/plain": [
              "<Figure size 1000x1000 with 1 Axes>"
            ],
            "image/png": "[encoded data removed]"
          },
          "metadata": {}
        }
      ]
    },
    {
      "cell_type": "code",
      "source": [
        "translate('fighting elephant is walking')"
      ],
      "metadata": {
        "colab": {
          "base_uri": "https://localhost:8080/",
          "height": 706
        },
        "id": "Fk5lyB3T9hS3",
        "outputId": "936f8d5f-04b2-4928-d62c-0d8614aca416"
      },
      "execution_count": 39,
      "outputs": [
        {
          "output_type": "stream",
          "name": "stdout",
          "text": [
            "tf.Tensor([[ 1 20  2  0  0  0  0]], shape=(1, 7), dtype=int32)\n",
            "Ввод: <start> fighting elephant is walking <end>\n",
            "Перевод: не ! <end> \n"
          ]
        },
        {
          "output_type": "display_data",
          "data": {
            "text/plain": [
              "<Figure size 1000x1000 with 1 Axes>"
            ],
            "image/png": "[encoded data removed]"
          },
          "metadata": {}
        }
      ]
    }
  ]
}