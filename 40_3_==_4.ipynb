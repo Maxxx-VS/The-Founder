{
  "nbformat": 4,
  "nbformat_minor": 0,
  "metadata": {
    "colab": {
      "provenance": [],
      "gpuType": "T4",
      "authorship_tag": "ABX9TyOEw/3uVBiyjEjF8N0UEp6x",
      "include_colab_link": true
    },
    "kernelspec": {
      "name": "python3",
      "display_name": "Python 3"
    },
    "language_info": {
      "name": "python"
    },
    "accelerator": "GPU"
  },
  "cells": [
    {
      "cell_type": "markdown",
      "metadata": {
        "id": "view-in-github",
        "colab_type": "text"
      },
      "source": [
        "<a href=\"https://colab.research.google.com/github/Maxxx-VS/The-Founder/blob/master/40_3_%3D%3D_4.ipynb\" target=\"_parent\"><img src=\"https://colab.research.google.com/assets/colab-badge.svg\" alt=\"Open In Colab\"/></a>"
      ]
    },
    {
      "cell_type": "markdown",
      "source": [
        "1. Дообучи русскоязычную модель GPT для генерации фейковых новостей.\n",
        "2. Датасет необходимо найти самостоятельно.\n",
        "3. Приведи 5-10 примеров сгенерированных фейковых новостей на русском языке.\n",
        "4. Подбери параметры генерации, улучшите качество новостей.\n",
        "5. Изучи model.generate более детально.\n",
        "6. Добейся такой генерации, чтобы не было обрыва мысли, новость заканчивалась либо точкой, либо восклицательным знаком, либо вопросительным (если уместно).\n",
        "\n"
      ],
      "metadata": {
        "id": "qhi0RgoR73tC"
      }
    },
    {
      "cell_type": "code",
      "source": [
        "# Устанавливаем необходимые пакеты\n",
        "%%capture\n",
        "!pip install kaggle"
      ],
      "metadata": {
        "id": "W0wLAROqRLM_"
      },
      "execution_count": 110,
      "outputs": []
    },
    {
      "cell_type": "code",
      "execution_count": 111,
      "metadata": {
        "id": "tHM-ajR770TE"
      },
      "outputs": [],
      "source": [
        "# Импортируем необходимые библиотеки\n",
        "import kagglehub\n",
        "import pandas as pd\n",
        "from transformers import TextDataset, DataCollatorForLanguageModeling, Trainer, TrainingArguments\n",
        "from transformers import GPT2LMHeadModel, GPT2Tokenizer\n",
        "import torch\n",
        "DEVICE = torch.device(\"cuda:0\")"
      ]
    },
    {
      "cell_type": "code",
      "source": [
        "# Определяем GPT модель и токенизатор\n",
        "model_name = \"sberbank-ai/rugpt3medium_based_on_gpt2\"\n",
        "tokenizer = GPT2Tokenizer.from_pretrained(model_name)\n",
        "model = GPT2LMHeadModel.from_pretrained(model_name).to(DEVICE)"
      ],
      "metadata": {
        "id": "H0VTw9j38SbQ"
      },
      "execution_count": 112,
      "outputs": []
    },
    {
      "cell_type": "code",
      "source": [
        "path = kagglehub.dataset_download(\"vorvit/news-lenta-20-23\")\n",
        "print(\"Path to dataset files:\", path)\n",
        "df = pd.read_csv(path + \"/Lenta_sample.csv\", index_col=False)\n",
        "df.head(1)"
      ],
      "metadata": {
        "colab": {
          "base_uri": "https://localhost:8080/",
          "height": 205
        },
        "id": "xcE51KqUOTSg",
        "outputId": "ec221cf6-294e-40e2-b860-ef3891f271e1"
      },
      "execution_count": 113,
      "outputs": [
        {
          "output_type": "stream",
          "name": "stdout",
          "text": [
            "Warning: Looks like you're using an outdated `kagglehub` version (installed: 0.3.7), please consider upgrading to the latest version (0.3.8).\n",
            "Path to dataset files: /root/.cache/kagglehub/datasets/vorvit/news-lenta-20-23/versions/1\n"
          ]
        },
        {
          "output_type": "execute_result",
          "data": {
            "text/plain": [
              "    docid                                          url  \\\n",
              "0  943560  https://lenta.ru/news/2020/01/01/trudovaya/   \n",
              "\n",
              "                                        title    modified  lastmodtime  type  \\\n",
              "0  В России ввели электронные трудовые книжки  1577836860   1577866854     1   \n",
              "\n",
              "   domain  status  part  bloc tags  \\\n",
              "0       1       0     0     1  [2]   \n",
              "\n",
              "                                           image_url     pubdate  \\\n",
              "0  https://icdn.lenta.ru/images/2019/12/30/15/201...  1577836860   \n",
              "\n",
              "                                                text  \\\n",
              "0  Фото:  Юрий Мартьянов /« Коммерсантъ» В России...   \n",
              "\n",
              "                                            rightcol  \\\n",
              "0  Работодатели смогут передавать сведения в Пенс...   \n",
              "\n",
              "                                             snippet  \n",
              "0  Фото:  Юрий Мартьянов /« Коммерсантъ» В ... кн...  "
            ],
            "text/html": [
              "\n",
              "  <div id=\"df-ca8fe267-8092-4dcd-aff3-18522e865a41\" class=\"colab-df-container\">\n",
              "    <div>\n",
              "<style scoped>\n",
              "    .dataframe tbody tr th:only-of-type {\n",
              "        vertical-align: middle;\n",
              "    }\n",
              "\n",
              "    .dataframe tbody tr th {\n",
              "        vertical-align: top;\n",
              "    }\n",
              "\n",
              "    .dataframe thead th {\n",
              "        text-align: right;\n",
              "    }\n",
              "</style>\n",
              "<table border=\"1\" class=\"dataframe\">\n",
              "  <thead>\n",
              "    <tr style=\"text-align: right;\">\n",
              "      <th></th>\n",
              "      <th>docid</th>\n",
              "      <th>url</th>\n",
              "      <th>title</th>\n",
              "      <th>modified</th>\n",
              "      <th>lastmodtime</th>\n",
              "      <th>type</th>\n",
              "      <th>domain</th>\n",
              "      <th>status</th>\n",
              "      <th>part</th>\n",
              "      <th>bloc</th>\n",
              "      <th>tags</th>\n",
              "      <th>image_url</th>\n",
              "      <th>pubdate</th>\n",
              "      <th>text</th>\n",
              "      <th>rightcol</th>\n",
              "      <th>snippet</th>\n",
              "    </tr>\n",
              "  </thead>\n",
              "  <tbody>\n",
              "    <tr>\n",
              "      <th>0</th>\n",
              "      <td>943560</td>\n",
              "      <td>https://lenta.ru/news/2020/01/01/trudovaya/</td>\n",
              "      <td>В России ввели электронные трудовые книжки</td>\n",
              "      <td>1577836860</td>\n",
              "      <td>1577866854</td>\n",
              "      <td>1</td>\n",
              "      <td>1</td>\n",
              "      <td>0</td>\n",
              "      <td>0</td>\n",
              "      <td>1</td>\n",
              "      <td>[2]</td>\n",
              "      <td>https://icdn.lenta.ru/images/2019/12/30/15/201...</td>\n",
              "      <td>1577836860</td>\n",
              "      <td>Фото:  Юрий Мартьянов /« Коммерсантъ» В России...</td>\n",
              "      <td>Работодатели смогут передавать сведения в Пенс...</td>\n",
              "      <td>Фото:  Юрий Мартьянов /« Коммерсантъ» В ... кн...</td>\n",
              "    </tr>\n",
              "  </tbody>\n",
              "</table>\n",
              "</div>\n",
              "    <div class=\"colab-df-buttons\">\n",
              "\n",
              "  <div class=\"colab-df-container\">\n",
              "    <button class=\"colab-df-convert\" onclick=\"convertToInteractive('df-ca8fe267-8092-4dcd-aff3-18522e865a41')\"\n",
              "            title=\"Convert this dataframe to an interactive table.\"\n",
              "            style=\"display:none;\">\n",
              "\n",
              "  <svg xmlns=\"http://www.w3.org/2000/svg\" height=\"24px\" viewBox=\"0 -960 960 960\">\n",
              "    <path d=\"M120-120v-720h720v720H120Zm60-500h600v-160H180v160Zm220 220h160v-160H400v160Zm0 220h160v-160H400v160ZM180-400h160v-160H180v160Zm440 0h160v-160H620v160ZM180-180h160v-160H180v160Zm440 0h160v-160H620v160Z\"/>\n",
              "  </svg>\n",
              "    </button>\n",
              "\n",
              "  <style>\n",
              "    .colab-df-container {\n",
              "      display:flex;\n",
              "      gap: 12px;\n",
              "    }\n",
              "\n",
              "    .colab-df-convert {\n",
              "      background-color: #E8F0FE;\n",
              "      border: none;\n",
              "      border-radius: 50%;\n",
              "      cursor: pointer;\n",
              "      display: none;\n",
              "      fill: #1967D2;\n",
              "      height: 32px;\n",
              "      padding: 0 0 0 0;\n",
              "      width: 32px;\n",
              "    }\n",
              "\n",
              "    .colab-df-convert:hover {\n",
              "      background-color: #E2EBFA;\n",
              "      box-shadow: 0px 1px 2px rgba(60, 64, 67, 0.3), 0px 1px 3px 1px rgba(60, 64, 67, 0.15);\n",
              "      fill: #174EA6;\n",
              "    }\n",
              "\n",
              "    .colab-df-buttons div {\n",
              "      margin-bottom: 4px;\n",
              "    }\n",
              "\n",
              "    [theme=dark] .colab-df-convert {\n",
              "      background-color: #3B4455;\n",
              "      fill: #D2E3FC;\n",
              "    }\n",
              "\n",
              "    [theme=dark] .colab-df-convert:hover {\n",
              "      background-color: #434B5C;\n",
              "      box-shadow: 0px 1px 3px 1px rgba(0, 0, 0, 0.15);\n",
              "      filter: drop-shadow(0px 1px 2px rgba(0, 0, 0, 0.3));\n",
              "      fill: #FFFFFF;\n",
              "    }\n",
              "  </style>\n",
              "\n",
              "    <script>\n",
              "      const buttonEl =\n",
              "        document.querySelector('#df-ca8fe267-8092-4dcd-aff3-18522e865a41 button.colab-df-convert');\n",
              "      buttonEl.style.display =\n",
              "        google.colab.kernel.accessAllowed ? 'block' : 'none';\n",
              "\n",
              "      async function convertToInteractive(key) {\n",
              "        const element = document.querySelector('#df-ca8fe267-8092-4dcd-aff3-18522e865a41');\n",
              "        const dataTable =\n",
              "          await google.colab.kernel.invokeFunction('convertToInteractive',\n",
              "                                                    [key], {});\n",
              "        if (!dataTable) return;\n",
              "\n",
              "        const docLinkHtml = 'Like what you see? Visit the ' +\n",
              "          '<a target=\"_blank\" href=https://colab.research.google.com/notebooks/data_table.ipynb>data table notebook</a>'\n",
              "          + ' to learn more about interactive tables.';\n",
              "        element.innerHTML = '';\n",
              "        dataTable['output_type'] = 'display_data';\n",
              "        await google.colab.output.renderOutput(dataTable, element);\n",
              "        const docLink = document.createElement('div');\n",
              "        docLink.innerHTML = docLinkHtml;\n",
              "        element.appendChild(docLink);\n",
              "      }\n",
              "    </script>\n",
              "  </div>\n",
              "\n",
              "    </div>\n",
              "  </div>\n"
            ],
            "application/vnd.google.colaboratory.intrinsic+json": {
              "type": "dataframe",
              "variable_name": "df"
            }
          },
          "metadata": {},
          "execution_count": 113
        }
      ]
    },
    {
      "cell_type": "code",
      "source": [
        "df.columns"
      ],
      "metadata": {
        "colab": {
          "base_uri": "https://localhost:8080/"
        },
        "id": "sG7SyF8SSu5e",
        "outputId": "bada8d7f-a6a8-4755-c67e-02b32bc6363a"
      },
      "execution_count": 114,
      "outputs": [
        {
          "output_type": "execute_result",
          "data": {
            "text/plain": [
              "Index(['docid', 'url', 'title', 'modified', 'lastmodtime', 'type', 'domain',\n",
              "       'status', 'part', 'bloc', 'tags', 'image_url', 'pubdate', 'text',\n",
              "       'rightcol', 'snippet'],\n",
              "      dtype='object')"
            ]
          },
          "metadata": {},
          "execution_count": 114
        }
      ]
    },
    {
      "cell_type": "code",
      "source": [
        "df = df[[\"rightcol\"]]"
      ],
      "metadata": {
        "id": "rvrInGJfSxzG"
      },
      "execution_count": 115,
      "outputs": []
    },
    {
      "cell_type": "code",
      "source": [
        "df = df[:10000]"
      ],
      "metadata": {
        "id": "LVz1SwhoTb-5"
      },
      "execution_count": 116,
      "outputs": []
    },
    {
      "cell_type": "code",
      "source": [
        "df.info()"
      ],
      "metadata": {
        "colab": {
          "base_uri": "https://localhost:8080/"
        },
        "id": "6SI_rso3TB42",
        "outputId": "07606ab0-716a-4c56-f703-248f9d5a084f"
      },
      "execution_count": 117,
      "outputs": [
        {
          "output_type": "stream",
          "name": "stdout",
          "text": [
            "<class 'pandas.core.frame.DataFrame'>\n",
            "RangeIndex: 10000 entries, 0 to 9999\n",
            "Data columns (total 1 columns):\n",
            " #   Column    Non-Null Count  Dtype \n",
            "---  ------    --------------  ----- \n",
            " 0   rightcol  10000 non-null  object\n",
            "dtypes: object(1)\n",
            "memory usage: 78.3+ KB\n"
          ]
        }
      ]
    },
    {
      "cell_type": "code",
      "source": [
        "df"
      ],
      "metadata": {
        "colab": {
          "base_uri": "https://localhost:8080/",
          "height": 424
        },
        "id": "4uHGsH4BKJda",
        "outputId": "d010b27a-b9d4-4628-b20d-2c1a81675bbe"
      },
      "execution_count": 118,
      "outputs": [
        {
          "output_type": "execute_result",
          "data": {
            "text/plain": [
              "                                               rightcol\n",
              "0     Работодатели смогут передавать сведения в Пенс...\n",
              "1     Соответствующая запись появилась в Instagram-а...\n",
              "2             Вступил в силу принятый в 2018 году закон\n",
              "3     Спящие слишком мало или слишком много более по...\n",
              "4     Обнулить базу удастся при условии строго следо...\n",
              "...                                                 ...\n",
              "9995             Ан-2 при взлете не смог набрать высоту\n",
              "9996  Вспышка заболевания приведет к сокращению рост...\n",
              "9997         Каждый день он проводит у торгового центра\n",
              "9998  Кадры распространило Главное управление МЧС по...\n",
              "9999     Она предложила помощь своей бесплодной дочери \n",
              "\n",
              "[10000 rows x 1 columns]"
            ],
            "text/html": [
              "\n",
              "  <div id=\"df-36b48932-7753-42ae-86cf-b1925167f220\" class=\"colab-df-container\">\n",
              "    <div>\n",
              "<style scoped>\n",
              "    .dataframe tbody tr th:only-of-type {\n",
              "        vertical-align: middle;\n",
              "    }\n",
              "\n",
              "    .dataframe tbody tr th {\n",
              "        vertical-align: top;\n",
              "    }\n",
              "\n",
              "    .dataframe thead th {\n",
              "        text-align: right;\n",
              "    }\n",
              "</style>\n",
              "<table border=\"1\" class=\"dataframe\">\n",
              "  <thead>\n",
              "    <tr style=\"text-align: right;\">\n",
              "      <th></th>\n",
              "      <th>rightcol</th>\n",
              "    </tr>\n",
              "  </thead>\n",
              "  <tbody>\n",
              "    <tr>\n",
              "      <th>0</th>\n",
              "      <td>Работодатели смогут передавать сведения в Пенс...</td>\n",
              "    </tr>\n",
              "    <tr>\n",
              "      <th>1</th>\n",
              "      <td>Соответствующая запись появилась в Instagram-а...</td>\n",
              "    </tr>\n",
              "    <tr>\n",
              "      <th>2</th>\n",
              "      <td>Вступил в силу принятый в 2018 году закон</td>\n",
              "    </tr>\n",
              "    <tr>\n",
              "      <th>3</th>\n",
              "      <td>Спящие слишком мало или слишком много более по...</td>\n",
              "    </tr>\n",
              "    <tr>\n",
              "      <th>4</th>\n",
              "      <td>Обнулить базу удастся при условии строго следо...</td>\n",
              "    </tr>\n",
              "    <tr>\n",
              "      <th>...</th>\n",
              "      <td>...</td>\n",
              "    </tr>\n",
              "    <tr>\n",
              "      <th>9995</th>\n",
              "      <td>Ан-2 при взлете не смог набрать высоту</td>\n",
              "    </tr>\n",
              "    <tr>\n",
              "      <th>9996</th>\n",
              "      <td>Вспышка заболевания приведет к сокращению рост...</td>\n",
              "    </tr>\n",
              "    <tr>\n",
              "      <th>9997</th>\n",
              "      <td>Каждый день он проводит у торгового центра</td>\n",
              "    </tr>\n",
              "    <tr>\n",
              "      <th>9998</th>\n",
              "      <td>Кадры распространило Главное управление МЧС по...</td>\n",
              "    </tr>\n",
              "    <tr>\n",
              "      <th>9999</th>\n",
              "      <td>Она предложила помощь своей бесплодной дочери</td>\n",
              "    </tr>\n",
              "  </tbody>\n",
              "</table>\n",
              "<p>10000 rows × 1 columns</p>\n",
              "</div>\n",
              "    <div class=\"colab-df-buttons\">\n",
              "\n",
              "  <div class=\"colab-df-container\">\n",
              "    <button class=\"colab-df-convert\" onclick=\"convertToInteractive('df-36b48932-7753-42ae-86cf-b1925167f220')\"\n",
              "            title=\"Convert this dataframe to an interactive table.\"\n",
              "            style=\"display:none;\">\n",
              "\n",
              "  <svg xmlns=\"http://www.w3.org/2000/svg\" height=\"24px\" viewBox=\"0 -960 960 960\">\n",
              "    <path d=\"M120-120v-720h720v720H120Zm60-500h600v-160H180v160Zm220 220h160v-160H400v160Zm0 220h160v-160H400v160ZM180-400h160v-160H180v160Zm440 0h160v-160H620v160ZM180-180h160v-160H180v160Zm440 0h160v-160H620v160Z\"/>\n",
              "  </svg>\n",
              "    </button>\n",
              "\n",
              "  <style>\n",
              "    .colab-df-container {\n",
              "      display:flex;\n",
              "      gap: 12px;\n",
              "    }\n",
              "\n",
              "    .colab-df-convert {\n",
              "      background-color: #E8F0FE;\n",
              "      border: none;\n",
              "      border-radius: 50%;\n",
              "      cursor: pointer;\n",
              "      display: none;\n",
              "      fill: #1967D2;\n",
              "      height: 32px;\n",
              "      padding: 0 0 0 0;\n",
              "      width: 32px;\n",
              "    }\n",
              "\n",
              "    .colab-df-convert:hover {\n",
              "      background-color: #E2EBFA;\n",
              "      box-shadow: 0px 1px 2px rgba(60, 64, 67, 0.3), 0px 1px 3px 1px rgba(60, 64, 67, 0.15);\n",
              "      fill: #174EA6;\n",
              "    }\n",
              "\n",
              "    .colab-df-buttons div {\n",
              "      margin-bottom: 4px;\n",
              "    }\n",
              "\n",
              "    [theme=dark] .colab-df-convert {\n",
              "      background-color: #3B4455;\n",
              "      fill: #D2E3FC;\n",
              "    }\n",
              "\n",
              "    [theme=dark] .colab-df-convert:hover {\n",
              "      background-color: #434B5C;\n",
              "      box-shadow: 0px 1px 3px 1px rgba(0, 0, 0, 0.15);\n",
              "      filter: drop-shadow(0px 1px 2px rgba(0, 0, 0, 0.3));\n",
              "      fill: #FFFFFF;\n",
              "    }\n",
              "  </style>\n",
              "\n",
              "    <script>\n",
              "      const buttonEl =\n",
              "        document.querySelector('#df-36b48932-7753-42ae-86cf-b1925167f220 button.colab-df-convert');\n",
              "      buttonEl.style.display =\n",
              "        google.colab.kernel.accessAllowed ? 'block' : 'none';\n",
              "\n",
              "      async function convertToInteractive(key) {\n",
              "        const element = document.querySelector('#df-36b48932-7753-42ae-86cf-b1925167f220');\n",
              "        const dataTable =\n",
              "          await google.colab.kernel.invokeFunction('convertToInteractive',\n",
              "                                                    [key], {});\n",
              "        if (!dataTable) return;\n",
              "\n",
              "        const docLinkHtml = 'Like what you see? Visit the ' +\n",
              "          '<a target=\"_blank\" href=https://colab.research.google.com/notebooks/data_table.ipynb>data table notebook</a>'\n",
              "          + ' to learn more about interactive tables.';\n",
              "        element.innerHTML = '';\n",
              "        dataTable['output_type'] = 'display_data';\n",
              "        await google.colab.output.renderOutput(dataTable, element);\n",
              "        const docLink = document.createElement('div');\n",
              "        docLink.innerHTML = docLinkHtml;\n",
              "        element.appendChild(docLink);\n",
              "      }\n",
              "    </script>\n",
              "  </div>\n",
              "\n",
              "\n",
              "<div id=\"df-e3629081-79a6-4db4-87e9-f5e8503df88a\">\n",
              "  <button class=\"colab-df-quickchart\" onclick=\"quickchart('df-e3629081-79a6-4db4-87e9-f5e8503df88a')\"\n",
              "            title=\"Suggest charts\"\n",
              "            style=\"display:none;\">\n",
              "\n",
              "<svg xmlns=\"http://www.w3.org/2000/svg\" height=\"24px\"viewBox=\"0 0 24 24\"\n",
              "     width=\"24px\">\n",
              "    <g>\n",
              "        <path d=\"M19 3H5c-1.1 0-2 .9-2 2v14c0 1.1.9 2 2 2h14c1.1 0 2-.9 2-2V5c0-1.1-.9-2-2-2zM9 17H7v-7h2v7zm4 0h-2V7h2v10zm4 0h-2v-4h2v4z\"/>\n",
              "    </g>\n",
              "</svg>\n",
              "  </button>\n",
              "\n",
              "<style>\n",
              "  .colab-df-quickchart {\n",
              "      --bg-color: #E8F0FE;\n",
              "      --fill-color: #1967D2;\n",
              "      --hover-bg-color: #E2EBFA;\n",
              "      --hover-fill-color: #174EA6;\n",
              "      --disabled-fill-color: #AAA;\n",
              "      --disabled-bg-color: #DDD;\n",
              "  }\n",
              "\n",
              "  [theme=dark] .colab-df-quickchart {\n",
              "      --bg-color: #3B4455;\n",
              "      --fill-color: #D2E3FC;\n",
              "      --hover-bg-color: #434B5C;\n",
              "      --hover-fill-color: #FFFFFF;\n",
              "      --disabled-bg-color: #3B4455;\n",
              "      --disabled-fill-color: #666;\n",
              "  }\n",
              "\n",
              "  .colab-df-quickchart {\n",
              "    background-color: var(--bg-color);\n",
              "    border: none;\n",
              "    border-radius: 50%;\n",
              "    cursor: pointer;\n",
              "    display: none;\n",
              "    fill: var(--fill-color);\n",
              "    height: 32px;\n",
              "    padding: 0;\n",
              "    width: 32px;\n",
              "  }\n",
              "\n",
              "  .colab-df-quickchart:hover {\n",
              "    background-color: var(--hover-bg-color);\n",
              "    box-shadow: 0 1px 2px rgba(60, 64, 67, 0.3), 0 1px 3px 1px rgba(60, 64, 67, 0.15);\n",
              "    fill: var(--button-hover-fill-color);\n",
              "  }\n",
              "\n",
              "  .colab-df-quickchart-complete:disabled,\n",
              "  .colab-df-quickchart-complete:disabled:hover {\n",
              "    background-color: var(--disabled-bg-color);\n",
              "    fill: var(--disabled-fill-color);\n",
              "    box-shadow: none;\n",
              "  }\n",
              "\n",
              "  .colab-df-spinner {\n",
              "    border: 2px solid var(--fill-color);\n",
              "    border-color: transparent;\n",
              "    border-bottom-color: var(--fill-color);\n",
              "    animation:\n",
              "      spin 1s steps(1) infinite;\n",
              "  }\n",
              "\n",
              "  @keyframes spin {\n",
              "    0% {\n",
              "      border-color: transparent;\n",
              "      border-bottom-color: var(--fill-color);\n",
              "      border-left-color: var(--fill-color);\n",
              "    }\n",
              "    20% {\n",
              "      border-color: transparent;\n",
              "      border-left-color: var(--fill-color);\n",
              "      border-top-color: var(--fill-color);\n",
              "    }\n",
              "    30% {\n",
              "      border-color: transparent;\n",
              "      border-left-color: var(--fill-color);\n",
              "      border-top-color: var(--fill-color);\n",
              "      border-right-color: var(--fill-color);\n",
              "    }\n",
              "    40% {\n",
              "      border-color: transparent;\n",
              "      border-right-color: var(--fill-color);\n",
              "      border-top-color: var(--fill-color);\n",
              "    }\n",
              "    60% {\n",
              "      border-color: transparent;\n",
              "      border-right-color: var(--fill-color);\n",
              "    }\n",
              "    80% {\n",
              "      border-color: transparent;\n",
              "      border-right-color: var(--fill-color);\n",
              "      border-bottom-color: var(--fill-color);\n",
              "    }\n",
              "    90% {\n",
              "      border-color: transparent;\n",
              "      border-bottom-color: var(--fill-color);\n",
              "    }\n",
              "  }\n",
              "</style>\n",
              "\n",
              "  <script>\n",
              "    async function quickchart(key) {\n",
              "      const quickchartButtonEl =\n",
              "        document.querySelector('#' + key + ' button');\n",
              "      quickchartButtonEl.disabled = true;  // To prevent multiple clicks.\n",
              "      quickchartButtonEl.classList.add('colab-df-spinner');\n",
              "      try {\n",
              "        const charts = await google.colab.kernel.invokeFunction(\n",
              "            'suggestCharts', [key], {});\n",
              "      } catch (error) {\n",
              "        console.error('Error during call to suggestCharts:', error);\n",
              "      }\n",
              "      quickchartButtonEl.classList.remove('colab-df-spinner');\n",
              "      quickchartButtonEl.classList.add('colab-df-quickchart-complete');\n",
              "    }\n",
              "    (() => {\n",
              "      let quickchartButtonEl =\n",
              "        document.querySelector('#df-e3629081-79a6-4db4-87e9-f5e8503df88a button');\n",
              "      quickchartButtonEl.style.display =\n",
              "        google.colab.kernel.accessAllowed ? 'block' : 'none';\n",
              "    })();\n",
              "  </script>\n",
              "</div>\n",
              "    </div>\n",
              "  </div>\n"
            ],
            "application/vnd.google.colaboratory.intrinsic+json": {
              "type": "dataframe",
              "variable_name": "df",
              "summary": "{\n  \"name\": \"df\",\n  \"rows\": 10000,\n  \"fields\": [\n    {\n      \"column\": \"rightcol\",\n      \"properties\": {\n        \"dtype\": \"string\",\n        \"num_unique_values\": 9957,\n        \"samples\": [\n          \"\\u0418\\u0442\\u0430\\u043b\\u0438\\u044f - \\u0421\\u0435\\u0440\\u0438\\u044f \\u0410 - 21-\\u0439 \\u0442\\u0443\\u0440 - \\u0411\\u0440\\u0435\\u0448\\u0438\\u044f-\\u041c\\u0438\\u043b\\u0430\\u043d - 2020-01-24 - 22:45\",\n          \"\\u041c\\u043e\\u0441\\u043a\\u0432\\u0430 \\u0440\\u0430\\u0441\\u0441\\u043a\\u0430\\u0437\\u0430\\u043b\\u0430 \\u043e \\u0441\\u0432\\u043e\\u0438\\u0445 \\u043f\\u043e\\u0442\\u0435\\u0440\\u044f\\u0445\",\n          \"\\u041f\\u0435\\u0432\\u0435\\u0446 \\u0437\\u0430\\u044f\\u0432\\u0438\\u043b, \\u0447\\u0442\\u043e \\u0435\\u0433\\u043e \\u0448\\u043e\\u043a\\u0438\\u0440\\u043e\\u0432\\u0430\\u043b\\u0430 \\u0432\\u043d\\u0435\\u0437\\u0430\\u043f\\u043d\\u0430\\u044f \\u0431\\u043e\\u043b\\u0435\\u0437\\u043d\\u044c \"\n        ],\n        \"semantic_type\": \"\",\n        \"description\": \"\"\n      }\n    }\n  ]\n}"
            }
          },
          "metadata": {},
          "execution_count": 118
        }
      ]
    },
    {
      "cell_type": "code",
      "source": [
        "# Записываем строку в файл\n",
        "with open('output.txt', 'w') as file:\n",
        "    for index, row in df.iterrows():\n",
        "        # Форматируем строку для записи\n",
        "        line = f\"{row['rightcol']}\\n\"\n",
        "        file.write(line)\n",
        "\n",
        "print(\"Строки DataFrame успешно записаны в отдельные текстовые файлы.\")"
      ],
      "metadata": {
        "id": "dPdKDjcyU-Ia",
        "colab": {
          "base_uri": "https://localhost:8080/"
        },
        "outputId": "45e9fcf5-45ab-48e9-8c6d-7eea95a9bd80"
      },
      "execution_count": 119,
      "outputs": [
        {
          "output_type": "stream",
          "name": "stdout",
          "text": [
            "Строки DataFrame успешно записаны в отдельные текстовые файлы.\n"
          ]
        }
      ]
    },
    {
      "cell_type": "code",
      "source": [
        "# Загружаем и создаем датасет\n",
        "train_path = '/content/output.txt'\n",
        "train_dataset = TextDataset(tokenizer=tokenizer, file_path=train_path, block_size=64)\n",
        "data_collator = DataCollatorForLanguageModeling(tokenizer=tokenizer, mlm=False)"
      ],
      "metadata": {
        "id": "jZSyk9TZ8i7g",
        "colab": {
          "base_uri": "https://localhost:8080/"
        },
        "outputId": "3f8f49b6-c8c0-48ef-b730-1787b325e736"
      },
      "execution_count": 120,
      "outputs": [
        {
          "output_type": "stream",
          "name": "stderr",
          "text": [
            "/usr/local/lib/python3.11/dist-packages/transformers/data/datasets/language_modeling.py:53: FutureWarning: This dataset will be removed from the library soon, preprocessing should be handled with the 🤗 Datasets library. You can have a look at this example script for pointers: https://github.com/huggingface/transformers/blob/main/examples/pytorch/language-modeling/run_mlm.py\n",
            "  warnings.warn(\n"
          ]
        }
      ]
    },
    {
      "cell_type": "code",
      "source": [
        "# Параметры для обучения\n",
        "training_args = TrainingArguments(\n",
        "    output_dir=\"./finetuned\",       # директория с выходными данными\n",
        "    overwrite_output_dir=True,      # перезаписываем содержимое выходной директории при каждом запуске\n",
        "    num_train_epochs=50,            # число эпох обучения\n",
        "    per_device_train_batch_size=32, # batch size для обучения\n",
        "    per_device_eval_batch_size=32,  # batch size для выполнения\n",
        "    warmup_steps=10,                # количество шагов для \"прогрева\" (управление скоростью обучения)\n",
        "    gradient_accumulation_steps=16,) # накопление градиента (16 шагов накапливаем градиенты для batch_size, эмуляция вычисления на пакете 16 * 32 для слабых GPU)\n",
        "\n",
        "# Инициализируем класс обучения\n",
        "trainer = Trainer(\n",
        "    model=model,                 # модель\n",
        "    args=training_args,          # параметры обучения\n",
        "    data_collator=data_collator, # загрузчик данных\n",
        "    train_dataset=train_dataset, # датасет для обучения\n",
        "    optimizers = (torch.optim.AdamW(model.parameters(), lr=1e-5), None)) # оптимизатор"
      ],
      "metadata": {
        "id": "KzDppOOt8xSE"
      },
      "execution_count": 121,
      "outputs": []
    },
    {
      "cell_type": "code",
      "source": [
        "# Запуск обучения\n",
        "trainer.train()"
      ],
      "metadata": {
        "id": "TdqTOgGD9KeP",
        "colab": {
          "base_uri": "https://localhost:8080/",
          "height": 127
        },
        "outputId": "73955720-eed2-41e5-f3d0-12dca570ad1e"
      },
      "execution_count": 122,
      "outputs": [
        {
          "output_type": "display_data",
          "data": {
            "text/plain": [
              "<IPython.core.display.HTML object>"
            ],
            "text/html": [
              "\n",
              "    <div>\n",
              "      \n",
              "      <progress value='0' max='50' style='width:300px; height:20px; vertical-align: middle;'></progress>\n",
              "      [ 0/50 : < :, Epoch 0/50]\n",
              "    </div>\n",
              "    <table border=\"1\" class=\"dataframe\">\n",
              "  <thead>\n",
              " <tr style=\"text-align: left;\">\n",
              "      <th>Step</th>\n",
              "      <th>Training Loss</th>\n",
              "    </tr>\n",
              "  </thead>\n",
              "  <tbody>\n",
              "  </tbody>\n",
              "</table><p>"
            ]
          },
          "metadata": {}
        },
        {
          "output_type": "execute_result",
          "data": {
            "text/plain": [
              "TrainOutput(global_step=0, training_loss=194518.2647705078, metrics={'train_runtime': 330.7806, 'train_samples_per_second': 32.197, 'train_steps_per_second': 0.151, 'total_flos': 928700694528000.0, 'train_loss': 194518.2647705078, 'epoch': 0})"
            ]
          },
          "metadata": {},
          "execution_count": 122
        }
      ]
    },
    {
      "cell_type": "code",
      "source": [
        "text = \"Не новость:\"\n",
        "input_ids = tokenizer.encode(text, return_tensors=\"pt\").to(DEVICE)\n",
        "model.eval()\n",
        "print()"
      ],
      "metadata": {
        "id": "VlnE5Btv9MC1",
        "colab": {
          "base_uri": "https://localhost:8080/"
        },
        "outputId": "2e665d75-027e-4c0c-866d-969af31ec53d"
      },
      "execution_count": 123,
      "outputs": [
        {
          "output_type": "stream",
          "name": "stdout",
          "text": [
            "\n"
          ]
        }
      ]
    },
    {
      "cell_type": "code",
      "source": [
        "do_sample=True           # Когда do_sample=True, модель использует стохастический выбор\n",
        "num_beams=2              # Чем больше значение num_beams, тем выше вероятность найти лучшую последовательность\n",
        "temperature=1.9          # Температура воздействует на вероятности. Если вам нужен более творческий и непредсказуемый текст, увеличьте температуру.\n",
        "top_k=200                # Определяет максимальное количество наиболее вероятных токенов. Уменьшая количество рассматриваемых токенов, можно снизить вероятность появления бессмысленных или несвязанных предложений\n",
        "top_p=0.9                # Все токены, чьи суммарные вероятности меньше этого порога, отбрасываются, и выбор следующего токена производится только из оставшихся.\n",
        "min_length=50           # Минимальная длина текста\n",
        "max_length=300           # Определяет максимальную длину генерируемого текста\n",
        "no_repeat_ngram_size=3  # Запрет на повторение n-грамм"
      ],
      "metadata": {
        "id": "_bTPHthMJUpA"
      },
      "execution_count": 147,
      "outputs": []
    },
    {
      "cell_type": "code",
      "source": [
        "for i in range(1, 6):\n",
        "    out = model.generate(input_ids,\n",
        "                    do_sample=do_sample,\n",
        "                    num_beams=num_beams,\n",
        "                    temperature=temperature,\n",
        "                    top_k=top_k,\n",
        "                    top_p=top_p,\n",
        "                    min_length=min_length,\n",
        "                    max_length=max_length,\n",
        "                    no_repeat_ngram_size=no_repeat_ngram_size,\n",
        "                    eos_token_id=model.config.eos_token_id,)\n",
        "    print(f\"*****№{i}*****\")\n",
        "    generated_text = list(map(tokenizer.decode, out))[0]\n",
        "    print(*generated_text.split(\"\\n\")[:1], '\\n')"
      ],
      "metadata": {
        "colab": {
          "base_uri": "https://localhost:8080/"
        },
        "id": "v-XoxwRSXzQW",
        "outputId": "ceac4b6d-e84f-4b85-a1d2-79927862304e"
      },
      "execution_count": 148,
      "outputs": [
        {
          "output_type": "stream",
          "name": "stdout",
          "text": [
            "*****№1*****\n",
            "Не новость: \n",
            "\n",
            "*****№2*****\n",
            "Не новость: как мы в этом убедимся подробно расскажу, но сегодня я расскажу как работает такая система. \n",
            "\n",
            "*****№3*****\n",
            "Не новость: я еще в июне заметил в своих контактах упоминание, что их любимый чай - Чайна глорифи. В какой-то день как всегда пошел дождь и хотелось выпить не в кафе, а в магазинчике с очень хорошим чаем (я по натуре своей не люблю большие супермаркеты). Под вечер, отоварившись, поехал домой.  \n",
            "\n",
            "*****№4*****\n",
            "Не новость: каждый пятый мужчина-психотерапевт в мире является отцом. (Brian Kerr, «Activity Changes Your Children to Talk», Daily Mail, June 25, 2007)  \n",
            "\n",
            "*****№5*****\n",
            "Не новость: мы не знаем истинных мотивов войны, но можем лишь предполагать, когда и почему это случилось. Если бы кто‑нибудь мог просто, ясно и четко ответить, каким именно образом случилось то, что случилось... \n",
            "\n"
          ]
        }
      ]
    }
  ]
}