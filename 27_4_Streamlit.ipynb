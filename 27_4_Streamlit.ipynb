{
  "nbformat": 4,
  "nbformat_minor": 0,
  "metadata": {
    "colab": {
      "provenance": [],
      "authorship_tag": "ABX9TyP9lQh5UBejQJ/+v1QmRG1b",
      "include_colab_link": true
    },
    "kernelspec": {
      "name": "python3",
      "display_name": "Python 3"
    },
    "language_info": {
      "name": "python"
    }
  },
  "cells": [
    {
      "cell_type": "markdown",
      "metadata": {
        "id": "view-in-github",
        "colab_type": "text"
      },
      "source": [
        "<a href=\"https://colab.research.google.com/github/Maxxx-VS/The-Founder/blob/master/27_4_Streamlit.ipynb\" target=\"_parent\"><img src=\"https://colab.research.google.com/assets/colab-badge.svg\" alt=\"Open In Colab\"/></a>"
      ]
    },
    {
      "cell_type": "markdown",
      "source": [
        "1. Определитесь, какую задачу будет решать ваша нейронная сеть.\n",
        "2. Продумайте интерфейс взаимодействия с пользователем, какими параметрами модели пользователь будет управлять.\n",
        "3. Обучите модель на любом публичном датасете или возьмите из любого предыдущего урока. Вспомните как происходит загрузка и выгрузка моделей в Keras.\n",
        "4. Загрузите обученную модель в Colab с интерфейсом (деплой модели).\n",
        "5. Создайте интерфейс для инференса вашей модели (для запросов к модели).\n",
        "6. Изучите как происходит загрузка файлов для моделей с помощью Streamlit по [ссылке](https://docs.streamlit.io/develop/api-reference/widgets/st.file_uploader).\n",
        "7. Добавьте в интерфейс возможность загрузки пользовательских данных для инференса. Это может быть текстовый файл, картинка, аудиофайл или др.\n",
        "8. Выполнив задание, получите 3 балла.\n",
        "9. Вы также можете получить дополнительные 2 балла, если реализуете в одном интерфейсе обучение модели и её инференс."
      ],
      "metadata": {
        "id": "2B6FKlixJm93"
      }
    },
    {
      "cell_type": "code",
      "execution_count": 140,
      "metadata": {
        "colab": {
          "base_uri": "https://localhost:8080/"
        },
        "collapsed": true,
        "id": "aFrrVAVHJgX1",
        "outputId": "bd3f53b0-4416-419e-b26a-267b48c30856"
      },
      "outputs": [
        {
          "output_type": "stream",
          "name": "stdout",
          "text": [
            "Requirement already satisfied: streamlit in /usr/local/lib/python3.10/dist-packages (1.40.0)\n",
            "Requirement already satisfied: altair<6,>=4.0 in /usr/local/lib/python3.10/dist-packages (from streamlit) (4.2.2)\n",
            "Requirement already satisfied: blinker<2,>=1.0.0 in /usr/lib/python3/dist-packages (from streamlit) (1.4)\n",
            "Requirement already satisfied: cachetools<6,>=4.0 in /usr/local/lib/python3.10/dist-packages (from streamlit) (5.5.0)\n",
            "Requirement already satisfied: click<9,>=7.0 in /usr/local/lib/python3.10/dist-packages (from streamlit) (8.1.7)\n",
            "Requirement already satisfied: numpy<3,>=1.20 in /usr/local/lib/python3.10/dist-packages (from streamlit) (1.26.4)\n",
            "Requirement already satisfied: packaging<25,>=20 in /usr/local/lib/python3.10/dist-packages (from streamlit) (24.1)\n",
            "Requirement already satisfied: pandas<3,>=1.4.0 in /usr/local/lib/python3.10/dist-packages (from streamlit) (2.2.2)\n",
            "Requirement already satisfied: pillow<12,>=7.1.0 in /usr/local/lib/python3.10/dist-packages (from streamlit) (10.4.0)\n",
            "Requirement already satisfied: protobuf<6,>=3.20 in /usr/local/lib/python3.10/dist-packages (from streamlit) (3.20.3)\n",
            "Requirement already satisfied: pyarrow>=7.0 in /usr/local/lib/python3.10/dist-packages (from streamlit) (17.0.0)\n",
            "Requirement already satisfied: requests<3,>=2.27 in /usr/local/lib/python3.10/dist-packages (from streamlit) (2.32.3)\n",
            "Requirement already satisfied: rich<14,>=10.14.0 in /usr/local/lib/python3.10/dist-packages (from streamlit) (13.9.3)\n",
            "Requirement already satisfied: tenacity<10,>=8.1.0 in /usr/local/lib/python3.10/dist-packages (from streamlit) (9.0.0)\n",
            "Requirement already satisfied: toml<2,>=0.10.1 in /usr/local/lib/python3.10/dist-packages (from streamlit) (0.10.2)\n",
            "Requirement already satisfied: typing-extensions<5,>=4.3.0 in /usr/local/lib/python3.10/dist-packages (from streamlit) (4.12.2)\n",
            "Requirement already satisfied: gitpython!=3.1.19,<4,>=3.0.7 in /usr/local/lib/python3.10/dist-packages (from streamlit) (3.1.43)\n",
            "Requirement already satisfied: pydeck<1,>=0.8.0b4 in /usr/local/lib/python3.10/dist-packages (from streamlit) (0.9.1)\n",
            "Requirement already satisfied: tornado<7,>=6.0.3 in /usr/local/lib/python3.10/dist-packages (from streamlit) (6.3.3)\n",
            "Requirement already satisfied: watchdog<6,>=2.1.5 in /usr/local/lib/python3.10/dist-packages (from streamlit) (5.0.3)\n",
            "Requirement already satisfied: entrypoints in /usr/local/lib/python3.10/dist-packages (from altair<6,>=4.0->streamlit) (0.4)\n",
            "Requirement already satisfied: jinja2 in /usr/local/lib/python3.10/dist-packages (from altair<6,>=4.0->streamlit) (3.1.4)\n",
            "Requirement already satisfied: jsonschema>=3.0 in /usr/local/lib/python3.10/dist-packages (from altair<6,>=4.0->streamlit) (4.23.0)\n",
            "Requirement already satisfied: toolz in /usr/local/lib/python3.10/dist-packages (from altair<6,>=4.0->streamlit) (0.12.1)\n",
            "Requirement already satisfied: gitdb<5,>=4.0.1 in /usr/local/lib/python3.10/dist-packages (from gitpython!=3.1.19,<4,>=3.0.7->streamlit) (4.0.11)\n",
            "Requirement already satisfied: python-dateutil>=2.8.2 in /usr/local/lib/python3.10/dist-packages (from pandas<3,>=1.4.0->streamlit) (2.8.2)\n",
            "Requirement already satisfied: pytz>=2020.1 in /usr/local/lib/python3.10/dist-packages (from pandas<3,>=1.4.0->streamlit) (2024.2)\n",
            "Requirement already satisfied: tzdata>=2022.7 in /usr/local/lib/python3.10/dist-packages (from pandas<3,>=1.4.0->streamlit) (2024.2)\n",
            "Requirement already satisfied: charset-normalizer<4,>=2 in /usr/local/lib/python3.10/dist-packages (from requests<3,>=2.27->streamlit) (3.4.0)\n",
            "Requirement already satisfied: idna<4,>=2.5 in /usr/local/lib/python3.10/dist-packages (from requests<3,>=2.27->streamlit) (3.10)\n",
            "Requirement already satisfied: urllib3<3,>=1.21.1 in /usr/local/lib/python3.10/dist-packages (from requests<3,>=2.27->streamlit) (2.2.3)\n",
            "Requirement already satisfied: certifi>=2017.4.17 in /usr/local/lib/python3.10/dist-packages (from requests<3,>=2.27->streamlit) (2024.8.30)\n",
            "Requirement already satisfied: markdown-it-py>=2.2.0 in /usr/local/lib/python3.10/dist-packages (from rich<14,>=10.14.0->streamlit) (3.0.0)\n",
            "Requirement already satisfied: pygments<3.0.0,>=2.13.0 in /usr/local/lib/python3.10/dist-packages (from rich<14,>=10.14.0->streamlit) (2.18.0)\n",
            "Requirement already satisfied: smmap<6,>=3.0.1 in /usr/local/lib/python3.10/dist-packages (from gitdb<5,>=4.0.1->gitpython!=3.1.19,<4,>=3.0.7->streamlit) (5.0.1)\n",
            "Requirement already satisfied: MarkupSafe>=2.0 in /usr/local/lib/python3.10/dist-packages (from jinja2->altair<6,>=4.0->streamlit) (3.0.2)\n",
            "Requirement already satisfied: attrs>=22.2.0 in /usr/local/lib/python3.10/dist-packages (from jsonschema>=3.0->altair<6,>=4.0->streamlit) (24.2.0)\n",
            "Requirement already satisfied: jsonschema-specifications>=2023.03.6 in /usr/local/lib/python3.10/dist-packages (from jsonschema>=3.0->altair<6,>=4.0->streamlit) (2024.10.1)\n",
            "Requirement already satisfied: referencing>=0.28.4 in /usr/local/lib/python3.10/dist-packages (from jsonschema>=3.0->altair<6,>=4.0->streamlit) (0.35.1)\n",
            "Requirement already satisfied: rpds-py>=0.7.1 in /usr/local/lib/python3.10/dist-packages (from jsonschema>=3.0->altair<6,>=4.0->streamlit) (0.20.0)\n",
            "Requirement already satisfied: mdurl~=0.1 in /usr/local/lib/python3.10/dist-packages (from markdown-it-py>=2.2.0->rich<14,>=10.14.0->streamlit) (0.1.2)\n",
            "Requirement already satisfied: six>=1.5 in /usr/local/lib/python3.10/dist-packages (from python-dateutil>=2.8.2->pandas<3,>=1.4.0->streamlit) (1.16.0)\n"
          ]
        }
      ],
      "source": [
        "!pip install streamlit"
      ]
    },
    {
      "cell_type": "code",
      "source": [
        "%%writefile main.py\n",
        "\n",
        "# импортируем необходимые бибилиотеки\n",
        "import streamlit as st\n",
        "import tensorflow as tf\n",
        "import numpy as np\n",
        "import pandas as pd\n",
        "from io import StringIO\n",
        "from keras import models\n",
        "from keras import layers\n",
        "from sklearn.metrics import mean_squared_error, mean_absolute_error\n",
        "from sklearn.model_selection import train_test_split\n",
        "from tensorflow import keras\n",
        "\n",
        "df_TransNeft = pd.DataFrame({'select': [0, 1]})\n",
        "\n",
        "# ввод данных пользователю\n",
        "st.header(\"MVP системы прогнозироваия выпуска продукции\")\n",
        "\n",
        "# загрузка ДС\n",
        "uploaded_file = st.file_uploader(\"Choose a file\")\n",
        "if uploaded_file is not None:\n",
        "    data = pd.read_excel(uploaded_file)\n",
        "    st.write(data)\n",
        "\n",
        "# обучение модели\n",
        "l_column, r_column = st.columns(2)\n",
        "\n",
        "if l_column.button('TRAIN'):\n",
        "    x_data = data[['Tovar_svar', 'Sborka_chel', 'Svarka_chel', 'Transneft', 'Tovar_nesvar']]\n",
        "    y_data = data[['Tovar_fact']]\n",
        "    X_train, X_test, y_train, y_test = train_test_split(x_data, y_data, test_size=0.1, random_state=42)\n",
        "    model = models.Sequential()\n",
        "    model.add(layers.Dense(10, activation='relu', input_shape=(5,)))\n",
        "    model.add(layers.Dropout(0.1))\n",
        "    model.add(layers.Dense(1, activation='linear'))\n",
        "    EPOCHS = 10\n",
        "    BATCH_SIZE = 43\n",
        "    model.compile(optimizer='adam', loss='mse', metrics=['mae'])\n",
        "    history = model.fit(X_train, y_train, epochs=EPOCHS, batch_size=BATCH_SIZE, validation_split=0.05)\n",
        "    model.save(\"/content/OEMZ_1.keras\")\n",
        "    test_accuracy = model.evaluate(X_test, y_test)\n",
        "    st.write(round(test_accuracy[1], 2))\n",
        "\n",
        "\n",
        "\n",
        "# загрузка сохраненной модели\n",
        "model_loaded = tf.keras.models.load_model('/content/OEMZ.keras')\n",
        "\n",
        "# вывод карты\n",
        "st.subheader(\"Производство на карте:\")\n",
        "map_data = pd.DataFrame(\n",
        "    np.random.randn(1, 2) / [1000, 1000] + [55.016172, 73.195062],\n",
        "    columns=['lat', 'lon'])\n",
        "\n",
        "st.map(map_data)\n",
        "\n",
        "# запрос данных\n",
        "st.subheader(\"Введите имеющиеся данные:\")\n",
        "\n",
        "x1 = st.slider('Товарный выпуск свариваемых м/к, тонн', min_value=0, max_value=1500)\n",
        "x2 = st.slider('Суммарная явочная численность *СБОРЩИКОВ* м/к, чел.', min_value=0, max_value=1000)\n",
        "x3 = st.slider('Суммарная явочная численность *СВАРЩИКОВ* м/к, чел.', min_value=0, max_value=1000)\n",
        "x4 = chosen = st.radio('Наличие заказов Транснефть (0 - нет, 1 - да)', df_TransNeft['select'])\n",
        "x5 = st.slider('Товарный выпуск не свариваемых м/к, тонн', min_value=0, max_value=2500)\n",
        "\n",
        "st.subheader(\"Данные в табличном виде:\")\n",
        "\n",
        "data_user = pd.DataFrame({\n",
        "  'Сварка товар, тн': [x1],\n",
        "  'Сборщики, чел': [x2],\n",
        "  'Сварщики, чел': [x3],\n",
        "  'Транснефть': [x4],\n",
        "  'Несварные товар, тн': [x5]})\n",
        "\n",
        "st.write(data_user)\n",
        "\n",
        "# вывод результата\n",
        "st.subheader(\"Прогноз выпуска товарно продукции, тонн\")\n",
        "y_pred = model_loaded.predict(data_user)\n",
        "\n",
        "left_column, right_column = st.columns(2)\n",
        "\n",
        "if left_column.button('RESULT'):\n",
        "    st.write(int(y_pred))"
      ],
      "metadata": {
        "colab": {
          "base_uri": "https://localhost:8080/"
        },
        "id": "MUFizm9GJ0Gz",
        "outputId": "fbfaa0a3-70fd-4947-a87f-abb16be480f5"
      },
      "execution_count": 196,
      "outputs": [
        {
          "output_type": "stream",
          "name": "stdout",
          "text": [
            "Overwriting main.py\n"
          ]
        }
      ]
    },
    {
      "cell_type": "code",
      "source": [
        "!streamlit run main.py --server.address=localhost >/content/logs.txt & ssh -o \"StrictHostKeyChecking no\" -R 80:localhost:8501 serveo.net"
      ],
      "metadata": {
        "colab": {
          "base_uri": "https://localhost:8080/"
        },
        "id": "CnfZDSY4J7rr",
        "outputId": "7e6adb02-4036-4738-c760-4c7de46f7321"
      },
      "execution_count": 197,
      "outputs": [
        {
          "output_type": "stream",
          "name": "stdout",
          "text": [
            "\u001b[32mForwarding HTTP traffic from https://2e2d8ed230e905abd3d38fa5b45a6399.serveo.net\n",
            "\u001b[0mHTTP request from 95.26.217.10 to https://2e2d8ed230e905abd3d38fa5b45a6399.serveo.net/\n",
            "HTTP request from 95.26.217.10 to https://2e2d8ed230e905abd3d38fa5b45a6399.serveo.net/static/css/main.a1bc16b2.css\n",
            "HTTP request from 95.26.217.10 to https://2e2d8ed230e905abd3d38fa5b45a6399.serveo.net/static/media/SourceSansPro-Regular.0d69e5ff5e92ac64a0c9.woff2\n",
            "HTTP request from 95.26.217.10 to https://2e2d8ed230e905abd3d38fa5b45a6399.serveo.net/static/media/SourceSansPro-SemiBold.abed79cd0df1827e18cf.woff2\n",
            "HTTP request from 95.26.217.10 to https://2e2d8ed230e905abd3d38fa5b45a6399.serveo.net/static/media/SourceSansPro-Bold.118dea98980e20a81ced.woff2\n",
            "HTTP request from 95.26.217.10 to https://2e2d8ed230e905abd3d38fa5b45a6399.serveo.net/static/js/main.754d974e.js\n",
            "HTTP request from 95.26.217.10 to https://2e2d8ed230e905abd3d38fa5b45a6399.serveo.net/_stcore/health\n",
            "HTTP request from 95.26.217.10 to https://2e2d8ed230e905abd3d38fa5b45a6399.serveo.net/_stcore/host-config\n",
            "HTTP request from 95.26.217.10 to https://2e2d8ed230e905abd3d38fa5b45a6399.serveo.net/favicon.png\n",
            "HTTP request from 95.26.217.10 to https://2e2d8ed230e905abd3d38fa5b45a6399.serveo.net/_stcore/stream\n",
            "2024-11-10 08:01:41.918648: E external/local_xla/xla/stream_executor/cuda/cuda_fft.cc:485] Unable to register cuFFT factory: Attempting to register factory for plugin cuFFT when one has already been registered\n",
            "2024-11-10 08:01:41.948896: E external/local_xla/xla/stream_executor/cuda/cuda_dnn.cc:8454] Unable to register cuDNN factory: Attempting to register factory for plugin cuDNN when one has already been registered\n",
            "2024-11-10 08:01:41.959768: E external/local_xla/xla/stream_executor/cuda/cuda_blas.cc:1452] Unable to register cuBLAS factory: Attempting to register factory for plugin cuBLAS when one has already been registered\n",
            "2024-11-10 08:01:41.980619: I tensorflow/core/platform/cpu_feature_guard.cc:210] This TensorFlow binary is optimized to use available CPU instructions in performance-critical operations.\n",
            "To enable the following instructions: AVX2 FMA, in other operations, rebuild TensorFlow with the appropriate compiler flags.\n",
            "2024-11-10 08:01:43.463285: W tensorflow/compiler/tf2tensorrt/utils/py_utils.cc:38] TF-TRT Warning: Could not find TensorRT\n",
            "HTTP request from 95.26.217.10 to https://2e2d8ed230e905abd3d38fa5b45a6399.serveo.net/static/js/766.e3700e32.chunk.js\n",
            "HTTP request from 95.26.217.10 to https://2e2d8ed230e905abd3d38fa5b45a6399.serveo.net/static/js/2627.2462a014.chunk.js\n",
            "HTTP request from 95.26.217.10 to https://2e2d8ed230e905abd3d38fa5b45a6399.serveo.net/static/js/5281.5e3aa7c6.chunk.js\n",
            "HTTP request from 95.26.217.10 to https://2e2d8ed230e905abd3d38fa5b45a6399.serveo.net/static/js/9060.1ec8dc2b.chunk.js\n",
            "HTTP request from 95.26.217.10 to https://2e2d8ed230e905abd3d38fa5b45a6399.serveo.net/static/css/1504.8b8f33d6.chunk.css\n",
            "HTTP request from 95.26.217.10 to https://2e2d8ed230e905abd3d38fa5b45a6399.serveo.net/static/js/2601.677fbaac.chunk.js\n",
            "HTTP request from 95.26.217.10 to https://2e2d8ed230e905abd3d38fa5b45a6399.serveo.net/static/js/1504.51c32670.chunk.js\n",
            "HTTP request from 95.26.217.10 to https://2e2d8ed230e905abd3d38fa5b45a6399.serveo.net/static/js/8380.9d225c39.chunk.js\n",
            "HTTP request from 95.26.217.10 to https://2e2d8ed230e905abd3d38fa5b45a6399.serveo.net/static/js/5764.5a55e5be.chunk.js\n",
            "HTTP request from 95.26.217.10 to https://2e2d8ed230e905abd3d38fa5b45a6399.serveo.net/static/js/9114.ee2dff18.chunk.js\n",
            "HTTP request from 95.26.217.10 to https://2e2d8ed230e905abd3d38fa5b45a6399.serveo.net/static/js/223.7f54d4fe.chunk.js\n",
            "HTTP request from 95.26.217.10 to https://2e2d8ed230e905abd3d38fa5b45a6399.serveo.net/static/js/6088.cf24e25c.chunk.js\n",
            "HTTP request from 95.26.217.10 to https://2e2d8ed230e905abd3d38fa5b45a6399.serveo.net/static/css/9943.d452238e.chunk.css\n",
            "HTTP request from 95.26.217.10 to https://2e2d8ed230e905abd3d38fa5b45a6399.serveo.net/static/js/4133.5d5fe118.chunk.js\n",
            "HTTP request from 95.26.217.10 to https://2e2d8ed230e905abd3d38fa5b45a6399.serveo.net/static/js/5503.0917ff70.chunk.js\n",
            "HTTP request from 95.26.217.10 to https://2e2d8ed230e905abd3d38fa5b45a6399.serveo.net/static/js/9943.ac0530dc.chunk.js\n",
            "HTTP request from 95.26.217.10 to https://2e2d8ed230e905abd3d38fa5b45a6399.serveo.net/static/media/SourceCodePro-Regular.84b900b88d09398d86b0.woff2\n",
            "HTTP request from 95.26.217.10 to https://2e2d8ed230e905abd3d38fa5b45a6399.serveo.net/static/media/SourceSansPro-Italic.8a9bfea74d43927d6eec.woff2\n",
            "HTTP request from 95.26.217.10 to https://2e2d8ed230e905abd3d38fa5b45a6399.serveo.net/_stcore/upload_file/6411647c-6966-445c-88a8-1cda18f74796/b1e756c2-4a13-44d3-91ac-0e66f4173cd6\n",
            "/usr/local/lib/python3.10/dist-packages/keras/src/layers/core/dense.py:87: UserWarning: Do not pass an `input_shape`/`input_dim` argument to a layer. When using Sequential models, prefer using an `Input(shape)` object as the first layer in the model instead.\n",
            "  super().__init__(activity_regularizer=activity_regularizer, **kwargs)\n",
            "WARNING:tensorflow:5 out of the last 5 calls to <function TensorFlowTrainer.make_predict_function.<locals>.one_step_on_data_distributed at 0xddaafe92440> triggered tf.function retracing. Tracing is expensive and the excessive number of tracings could be due to (1) creating @tf.function repeatedly in a loop, (2) passing tensors with different shapes, (3) passing Python objects instead of tensors. For (1), please define your @tf.function outside of the loop. For (2), @tf.function has reduce_retracing=True option that can avoid unnecessary retracing. For (3), please refer to https://www.tensorflow.org/guide/function#controlling_retracing and https://www.tensorflow.org/api_docs/python/tf/function for  more details.\n",
            "WARNING:tensorflow:6 out of the last 6 calls to <function TensorFlowTrainer.make_predict_function.<locals>.one_step_on_data_distributed at 0xddaaf377400> triggered tf.function retracing. Tracing is expensive and the excessive number of tracings could be due to (1) creating @tf.function repeatedly in a loop, (2) passing tensors with different shapes, (3) passing Python objects instead of tensors. For (1), please define your @tf.function outside of the loop. For (2), @tf.function has reduce_retracing=True option that can avoid unnecessary retracing. For (3), please refer to https://www.tensorflow.org/guide/function#controlling_retracing and https://www.tensorflow.org/api_docs/python/tf/function for  more details.\n",
            "/content/main.py:84: DeprecationWarning: Conversion of an array with ndim > 0 to a scalar is deprecated, and will error in future. Ensure you extract a single element from your array before performing this operation. (Deprecated NumPy 1.25.)\n",
            "  st.write(int(y_pred))\n",
            "/usr/local/lib/python3.10/dist-packages/keras/src/layers/core/dense.py:87: UserWarning: Do not pass an `input_shape`/`input_dim` argument to a layer. When using Sequential models, prefer using an `Input(shape)` object as the first layer in the model instead.\n",
            "  super().__init__(activity_regularizer=activity_regularizer, **kwargs)\n",
            "/content/main.py:84: DeprecationWarning: Conversion of an array with ndim > 0 to a scalar is deprecated, and will error in future. Ensure you extract a single element from your array before performing this operation. (Deprecated NumPy 1.25.)\n",
            "  st.write(int(y_pred))\n"
          ]
        }
      ]
    }
  ]
}