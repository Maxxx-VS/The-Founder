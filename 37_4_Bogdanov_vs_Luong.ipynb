{
  "nbformat": 4,
  "nbformat_minor": 0,
  "metadata": {
    "colab": {
      "provenance": [],
      "authorship_tag": "ABX9TyPr3x0L9hyMU6MTADSOxrnN",
      "include_colab_link": true
    },
    "kernelspec": {
      "name": "python3",
      "display_name": "Python 3"
    },
    "language_info": {
      "name": "python"
    }
  },
  "cells": [
    {
      "cell_type": "markdown",
      "metadata": {
        "id": "view-in-github",
        "colab_type": "text"
      },
      "source": [
        "<a href=\"https://colab.research.google.com/github/Maxxx-VS/The-Founder/blob/master/37_4_Bogdanov_vs_Luong.ipynb\" target=\"_parent\"><img src=\"https://colab.research.google.com/assets/colab-badge.svg\" alt=\"Open In Colab\"/></a>"
      ]
    },
    {
      "cell_type": "code",
      "execution_count": 1,
      "metadata": {
        "id": "tIVOxWU0PWJQ"
      },
      "outputs": [],
      "source": [
        "import numpy as np\n",
        "from random import randint\n",
        "import unicodedata\n",
        "import re\n",
        "import pandas as pd\n",
        "import tensorflow as tf\n",
        "import os\n",
        "import time\n",
        "\n",
        "from keras.models import Model, load_model\n",
        "from keras.layers import Dense, Embedding, GRU, Input, Dense, Embedding, Bidirectional, Concatenate, Dropout, Dot\n",
        "from keras.optimizers import RMSprop, Adadelta, Adam\n",
        "from keras.preprocessing.sequence import pad_sequences\n",
        "from tensorflow.keras.preprocessing.text import Tokenizer\n",
        "from keras import utils\n",
        "from keras.callbacks import EarlyStopping, ModelCheckpoint\n",
        "from keras.utils import plot_model\n",
        "from sklearn.model_selection import train_test_split\n",
        "\n",
        "import matplotlib.pyplot as plt\n",
        "import matplotlib.ticker as ticker\n",
        "import seaborn as sns\n",
        "%matplotlib inline\n",
        "\n",
        "import warnings\n",
        "warnings.filterwarnings('ignore')"
      ]
    },
    {
      "cell_type": "code",
      "source": [
        "!unzip -o bel-eng.zip"
      ],
      "metadata": {
        "colab": {
          "base_uri": "https://localhost:8080/"
        },
        "id": "WoAZTEh3RtQv",
        "outputId": "cc1c9938-b77c-4e40-c7bb-6265e811d05e"
      },
      "execution_count": 6,
      "outputs": [
        {
          "output_type": "stream",
          "name": "stdout",
          "text": [
            "Archive:  bel-eng.zip\n",
            "  inflating: _about.txt              \n",
            "  inflating: bel.txt                 \n"
          ]
        }
      ]
    },
    {
      "cell_type": "code",
      "source": [
        "BATCH_SIZE     = 128       # размер обучающего пакета.\n",
        "EPOCHS         = 10          # число эпох обучения.\n",
        "UNITS          = 1024      # число нейронов в рекуррентных с слоях.\n",
        "EMBED_DIM      = 256       # размерность эмбеддинга.\n",
        "NUM_SAMPLES    = 2500      # число примеров для обучения.\n",
        "FILE_NAME      = \"bel.txt\" # имя файла со словарем в архиве\n",
        "SOS            = '<start>' # токен начала последовательсти\n",
        "EOS            = '<end>'   # токен окончания последовательсти"
      ],
      "metadata": {
        "id": "sIfJ-GICPyyH"
      },
      "execution_count": 7,
      "outputs": []
    },
    {
      "cell_type": "code",
      "source": [
        "def preprocess_sentence(w):\n",
        "    w = re.sub(r\"([?.!,;:¿])\", r\" \\1 \", w)\n",
        "    w = re.sub(r'[\" \"]+', \" \", w)\n",
        "    w = re.sub(r\"[^a-zA-Zа-яёА-ЯЁ?'`.!,;:¿]+\", \" \", w)\n",
        "    w = w.rstrip().strip()\n",
        "    w = SOS + ' ' + w + ' ' + EOS\n",
        "\n",
        "    return w"
      ],
      "metadata": {
        "id": "qbN-FBsvP0cb"
      },
      "execution_count": 8,
      "outputs": []
    },
    {
      "cell_type": "code",
      "source": [
        "questions = []\n",
        "answers = []\n",
        "\n",
        "with open(FILE_NAME, \"r\", encoding=\"utf-8\") as f:\n",
        "    lines = f.read().split(\"\\n\")"
      ],
      "metadata": {
        "id": "dJbxWdbkPVvP"
      },
      "execution_count": null,
      "outputs": []
    },
    {
      "cell_type": "code",
      "source": [
        "questions = [] # список входных фраз\n",
        "answers = []   # список ответных фраз\n",
        "\n",
        "with open(FILE_NAME, \"r\", encoding=\"utf-8\") as f: # открываем файл в режиме чтения\n",
        "    lines = f.read().split(\"\\n\")                    # считываем весь файл, разделяя на строки\n",
        "\n",
        "for line in lines[: min(NUM_SAMPLES, len(lines) - 1)]:\n",
        "    input_text, target_text, _ = line.split(\"\\t\")\n",
        "    questions.append(preprocess_sentence(input_text))\n",
        "    answers.append(preprocess_sentence(target_text))\n",
        "\n",
        "print(\"Число примеров:\", len(answers))\n",
        "random_index = randint(0, len(questions)-1)\n",
        "print(f'Вопрос : {questions[random_index]}') # Пример входной фразы\n",
        "print(f'Ответ : {answers[random_index]}')    # Пример ответной фразы"
      ],
      "metadata": {
        "colab": {
          "base_uri": "https://localhost:8080/"
        },
        "id": "8DbEq06XP2BD",
        "outputId": "d515b5c0-2ed3-405a-e8ad-ab764bf214e7"
      },
      "execution_count": 9,
      "outputs": [
        {
          "output_type": "stream",
          "name": "stdout",
          "text": [
            "Число примеров: 2500\n",
            "Вопрос : <start> You're cute . <end>\n",
            "Ответ : <start> Ты м лы . <end>\n"
          ]
        }
      ]
    },
    {
      "cell_type": "code",
      "source": [
        "print(questions[:5])"
      ],
      "metadata": {
        "colab": {
          "base_uri": "https://localhost:8080/"
        },
        "id": "IFkC1GETOq-C",
        "outputId": "60dd88a4-4c8b-4501-8be6-994dfe243d33"
      },
      "execution_count": 10,
      "outputs": [
        {
          "output_type": "stream",
          "name": "stdout",
          "text": [
            "['<start> Hi . <end>', '<start> Wow ! <end>', '<start> Fire ! <end>', '<start> Jump . <end>', '<start> Stop ! <end>']\n"
          ]
        }
      ]
    },
    {
      "cell_type": "code",
      "source": [
        "print(answers[:5])"
      ],
      "metadata": {
        "colab": {
          "base_uri": "https://localhost:8080/"
        },
        "id": "25zTNFcZOwdG",
        "outputId": "b80532f4-4245-43b0-ac6e-564fe51c8501"
      },
      "execution_count": 11,
      "outputs": [
        {
          "output_type": "stream",
          "name": "stdout",
          "text": [
            "['<start> Дабрыдзень . <end>', '<start> Н што сабе ! <end>', '<start> Агонь ! <end>', '<start> Скачы ! <end>', '<start> Спын ся ! <end>']\n"
          ]
        }
      ]
    },
    {
      "cell_type": "code",
      "source": [
        "def tokenize(text): # функция принимает текст на заданном языке\n",
        "    tokenizer = Tokenizer(filters='')\n",
        "    tokenizer.fit_on_texts(text)\n",
        "    seq = tokenizer.texts_to_sequences(text)\n",
        "    pseq = pad_sequences(seq, padding='post')\n",
        "    return pseq, tokenizer"
      ],
      "metadata": {
        "id": "8vrGv3hoP8CD"
      },
      "execution_count": null,
      "outputs": []
    },
    {
      "cell_type": "code",
      "source": [
        "paddedQuestions, tokenizer_en = tokenize(questions)    # формируем вектор фикс длины для вопросов  и токенизатор для английского языка\n",
        "paddedAnswers, tokenizer_ru   = tokenize(answers)      # формируем вектор фикс длины для ответов  и токенизатор для русского языка"
      ],
      "metadata": {
        "id": "CBga8HXEQo4z"
      },
      "execution_count": null,
      "outputs": []
    },
    {
      "cell_type": "code",
      "source": [
        "max_length_ru = paddedAnswers.shape[1]\n",
        "max_length_en = paddedQuestions.shape[1]"
      ],
      "metadata": {
        "id": "E_q-BBaBQqgZ"
      },
      "execution_count": null,
      "outputs": []
    },
    {
      "cell_type": "code",
      "source": [
        "questions_train, questions_val, answers_train, answers_val = train_test_split(paddedQuestions, paddedAnswers, test_size=0.2)"
      ],
      "metadata": {
        "id": "xI9z7yHRQsJ8"
      },
      "execution_count": null,
      "outputs": []
    },
    {
      "cell_type": "code",
      "source": [
        "BUFFER_SIZE = len(questions_train)                     # случайно сэмплировать будем по всей длине обучающейся выборки\n",
        "STEPS_PER_EPOCH = len(questions_train)//BATCH_SIZE     # количество шагов в одной эпохе\n",
        "VOCAB_EN_SIZE = len(tokenizer_en.word_index) + 1\n",
        "VOCAB_RU_SIZE = len(tokenizer_ru.word_index) + 1"
      ],
      "metadata": {
        "id": "QvbxLyLGQudM"
      },
      "execution_count": null,
      "outputs": []
    },
    {
      "cell_type": "code",
      "source": [
        "def convert(lang, tensor):\n",
        "  for t in tensor:\n",
        "    if t != 0:\n",
        "      print (\"%d ----> %s\" % (t, lang.index_word[t]))\n",
        "\n",
        "print (\"Исходный язык:\")\n",
        "convert(tokenizer_en, questions_train[0])\n",
        "print ()\n",
        "print (\"Целевой язык:\")\n",
        "convert(tokenizer_ru, answers_train[0])"
      ],
      "metadata": {
        "colab": {
          "base_uri": "https://localhost:8080/"
        },
        "id": "qhjiqSylQwM8",
        "outputId": "e708b045-447d-4e3d-d7ef-3c075a5bb5e0"
      },
      "execution_count": null,
      "outputs": [
        {
          "output_type": "stream",
          "name": "stdout",
          "text": [
            "Исходный язык:\n",
            "1 ----> <start>\n",
            "81 ----> what's\n",
            "20 ----> your\n",
            "260 ----> favorite\n",
            "456 ----> food\n",
            "6 ----> ?\n",
            "2 ----> <end>\n",
            "\n",
            "Целевой язык:\n",
            "1 ----> <start>\n",
            "161 ----> якая\n",
            "23 ----> цябе\n",
            "143 ----> люб\n",
            "62 ----> мая\n",
            "488 ----> ежа\n",
            "5 ----> ?\n",
            "2 ----> <end>\n"
          ]
        }
      ]
    },
    {
      "cell_type": "code",
      "source": [
        "dataset = tf.data.Dataset.from_tensor_slices((questions_train, answers_train)).shuffle(BUFFER_SIZE)\n",
        "dataset = dataset.batch(BATCH_SIZE, drop_remainder=True)"
      ],
      "metadata": {
        "id": "tQtQfLtnQzYu"
      },
      "execution_count": null,
      "outputs": []
    },
    {
      "cell_type": "code",
      "source": [
        "example_questions_batch, example_answers_batch = next(iter(dataset))\n",
        "print('Форма батчей ENG и RU: ', example_questions_batch.shape, example_answers_batch.shape)"
      ],
      "metadata": {
        "colab": {
          "base_uri": "https://localhost:8080/"
        },
        "id": "nLHb6pqeQ3kR",
        "outputId": "f790fae5-489c-42c1-c1ed-47ce04680b27"
      },
      "execution_count": null,
      "outputs": [
        {
          "output_type": "stream",
          "name": "stdout",
          "text": [
            "Форма батчей ENG и RU:  (128, 12) (128, 14)\n"
          ]
        }
      ]
    },
    {
      "cell_type": "code",
      "source": [
        "class Encoder(tf.keras.Model):\n",
        "\n",
        "    def __init__(self, vocab_size, embedding_dim, enc_units, batch_sz):\n",
        "        super(Encoder, self).__init__()                                   # вызываем инициализацию родительского класса\n",
        "\n",
        "        self.batch_sz = batch_sz                                          # инициализируем переменную размера батча внутри класса\n",
        "        self.enc_units = enc_units                                        # инициализируем переменную размера слоя в кодировщике\n",
        "        self.embedding = tf.keras.layers.Embedding(vocab_size, embedding_dim)             # инициализируем слой эмбеддинга с заданными параметрами\n",
        "        self.gru = tf.keras.layers.GRU(self.enc_units, return_sequences=True, return_state=True, recurrent_initializer='glorot_uniform') # инициализируем рекуррентный слой с заданными параметрами\n",
        "\n",
        "    def call(self, x, hidden):   # начальное состояние\n",
        "        x = self.embedding(x)   # входящие тензоры преобразовываются эмбеддингом\n",
        "        output, state = self.gru(x, initial_state = hidden) # далее пропускаем через слой GRU и получаем выходные данные и новое состояние\n",
        "        return output, state # выход сети и состояние на выходе\n",
        "\n",
        "    def initialize_hidden_state(self):\n",
        "        return tf.zeros((self.batch_sz, self.enc_units))"
      ],
      "metadata": {
        "id": "VPkyc9X8Q4-E"
      },
      "execution_count": null,
      "outputs": []
    },
    {
      "cell_type": "code",
      "source": [
        "encoder = Encoder(VOCAB_EN_SIZE, EMBED_DIM, UNITS, BATCH_SIZE)"
      ],
      "metadata": {
        "id": "l9bHpg-_RW2K"
      },
      "execution_count": null,
      "outputs": []
    },
    {
      "cell_type": "code",
      "source": [
        "# ВЫБОР МЕХАНИЗМА ВНИМАНИЯ\n",
        "choice_dict = {\"BG\": \"Механизм внимания Богданова\",\n",
        "               \"LP\": \"Luong + точечное внимание\",\n",
        "               \"LG\": \"Luong + общее внимание\",\n",
        "               \"LU\": \"Luong + объединенное внимание\"}\n",
        "\n",
        "choice_attention_mechanism = input('''Выбор механизма внимания:\n",
        "                                      BG - Механизм внимания Богданова\n",
        "                                      LP - Luong + точечное внимание\n",
        "                                      LG - Luong + общее внимание\n",
        "                                      LU - Luong + объединенное внимание\n",
        "                                      ==> ''')\n",
        "\n",
        "print(f'Выбран: {choice_dict[choice_attention_mechanism]}')"
      ],
      "metadata": {
        "colab": {
          "base_uri": "https://localhost:8080/"
        },
        "id": "jVsJAhFYoT5i",
        "outputId": "8d8bcfa6-52e0-4290-faa4-83901c0f9729"
      },
      "execution_count": null,
      "outputs": [
        {
          "output_type": "stream",
          "name": "stdout",
          "text": [
            "Выбор механизма внимания:\n",
            "                                      BG - Механизм внимания Богданова\n",
            "                                      LP - Luong + точечное внимание\n",
            "                                      LG - Luong + общее внимание\n",
            "                                      LU - Luong + объединенное внимание\n",
            "                                      ==> LP\n",
            "Выбран: Luong + точечное внимание\n"
          ]
        }
      ]
    },
    {
      "cell_type": "code",
      "source": [
        "class BLA(Model):\n",
        "\n",
        "    def __init__(self, units):\n",
        "        super(BLA, self).__init__()\n",
        "        self.W1 = Dense(units)\n",
        "        self.W2 = Dense(units)\n",
        "        self.V =  Dense(1)\n",
        "\n",
        "    if choice_attention_mechanism == \"BG\": # Механизм внимания Богданова\n",
        "        def call(self, hidden_state, values):\n",
        "            hidden_with_time_axis = tf.expand_dims(hidden_state, 1)\n",
        "            score = self.V(tf.nn.tanh(self.W1(values) + self.W2(hidden_with_time_axis)))\n",
        "            attention_weights = tf.nn.softmax(score, axis=1)\n",
        "            context_vector = attention_weights * values\n",
        "            context_vector = tf.reduce_sum(context_vector, axis=1)\n",
        "            return context_vector, attention_weights\n",
        "\n",
        "            attention_layer = BLA(10)\n",
        "\n",
        "\n",
        "    elif choice_attention_mechanism == \"LP\": # Luong + точечное внимание\n",
        "        def call(self, hidden_state, values):\n",
        "            hidden_with_time_axis = tf.expand_dims(hidden_state, 1)\n",
        "            values_transposed = tf.transpose(values, perm=[0, 2, 1])\n",
        "            score = tf.transpose(tf.matmul(hidden_with_time_axis, values_transposed), perm=[0, 2, 1])\n",
        "            attention_weights = tf.nn.softmax(score, axis=1)\n",
        "            context_vector = attention_weights * values\n",
        "            context_vector = tf.reduce_sum(context_vector, axis=1)\n",
        "            return context_vector, attention_weights\n",
        "\n",
        "            attention_layer = BLA()\n",
        "\n",
        "\n",
        "    elif choice_attention_mechanism == \"LG\":  # Luong + общее внимание\n",
        "        def call(self, hidden_state, values):\n",
        "            hidden_with_time_axis = tf.expand_dims(hidden_state, 1)\n",
        "            values_transposed = tf.transpose(values, perm=[0, 2, 1])\n",
        "            score = tf.transpose(tf.matmul(hidden_with_time_axis, values_transposed), perm=[0, 2, 1])\n",
        "            attention_weights = tf.nn.softmax(score, axis=2)\n",
        "            context_vector = tf.reduce_sum(attention_weights * values, axis=1)\n",
        "            return context_vector, attention_weights\n",
        "\n",
        "            attention_layer = BLA()\n",
        "\n",
        "\n",
        "    elif choice_attention_mechanism == \"LU\":  # Luong + объединенное внимание\n",
        "        def call(self, hidden_state, values):\n",
        "            hidden_with_time_axis = tf.expand_dims(hidden_state, 1)\n",
        "            repeated_hidden = tf.tile(hidden_with_time_axis, [1, tf.shape(values)[1], 1])\n",
        "            concatenated = tf.concat([repeated_hidden, values], axis=-1)\n",
        "            score = tf.transpose(self.V(tf.nn.tanh(self.W1(concatenated))), perm=[0, 2, 1])\n",
        "            score = tf.transpose(score, perm=[0, 2, 1])\n",
        "            attention_weights = tf.nn.softmax(score, axis=2)\n",
        "            context_vector = tf.reduce_sum(attention_weights * values, axis=1)\n",
        "            return context_vector, attention_weights\n",
        "\n",
        "            attention_layer = BLA()\n",
        "\n",
        "    else:\n",
        "        print(\"Механизм внимания не выбран!\")"
      ],
      "metadata": {
        "id": "eDWa5Lb8pwsH"
      },
      "execution_count": null,
      "outputs": []
    },
    {
      "cell_type": "code",
      "source": [
        "class Decoder(Model):\n",
        "\n",
        "    def __init__(self, vocab_size, embedding_dim, dec_units, batch_sz):\n",
        "        super(Decoder, self).__init__()                       # вызываем инициализацию родительского класса\n",
        "\n",
        "        self.batch_sz = batch_sz                              # инициализируем переменную размера батча внутри класса\n",
        "        self.dec_units = dec_units                            # инициализируем переменную размера слоя в декодировщике\n",
        "        self.embedding = Embedding(vocab_size, embedding_dim) # инициализируем слой эмбеддинга с заданными параметрами\n",
        "        self.gru = GRU(self.dec_units, return_sequences=True, return_state=True, recurrent_initializer='glorot_uniform') # инициализируем рекуррентный слой с заданными параметрами\n",
        "        self.fc = Dense(vocab_size) # полносвязный слой с размером словаря\n",
        "        self.attention = BLA(self.dec_units) # механизм внимания\n",
        "\n",
        "    def call(self, x, hidden, enc_output):\n",
        "\n",
        "        context_vector, attention_weights = self.attention(hidden, enc_output)\n",
        "        x = self.embedding(x)\n",
        "        x = tf.concat([tf.expand_dims(context_vector, 1), x], axis=-1)\n",
        "        output, state = self.gru(x, initial_state = hidden)\n",
        "        output = tf.reshape(output, (-1, output.shape[2]))\n",
        "        x = self.fc(output)\n",
        "\n",
        "        return x, state, attention_weights"
      ],
      "metadata": {
        "id": "AFU9hqo8SFJP"
      },
      "execution_count": null,
      "outputs": []
    },
    {
      "cell_type": "code",
      "source": [
        "decoder = Decoder(VOCAB_RU_SIZE, EMBED_DIM, UNITS, BATCH_SIZE)"
      ],
      "metadata": {
        "id": "bz0TbhG1SXb3"
      },
      "execution_count": null,
      "outputs": []
    },
    {
      "cell_type": "code",
      "source": [
        "optimizer = tf.keras.optimizers.Adam()\n",
        "\n",
        "def loss_function(real, pred):\n",
        "    mask = tf.math.logical_not(tf.math.equal(real, 0))\n",
        "    loss = tf.keras.losses.SparseCategoricalCrossentropy(from_logits=True, reduction='none')(real, pred)\n",
        "    mask = tf.cast(mask, dtype=loss.dtype) # приводим тип маски к типу потерь\n",
        "    loss *= mask                           # маскируем потери, избавляемся от заполняющих нулей\n",
        "\n",
        "    return tf.reduce_mean(loss) # вернем среднее значение тензора"
      ],
      "metadata": {
        "id": "A_ktJz-ESZux"
      },
      "execution_count": null,
      "outputs": []
    },
    {
      "cell_type": "code",
      "source": [
        "checkpoint_dir = './training_checkpoints'\n",
        "checkpoint_prefix = os.path.join(checkpoint_dir, \"ckpt\")\n",
        "checkpoint = tf.train.Checkpoint(optimizer=optimizer, encoder=encoder, decoder=decoder)"
      ],
      "metadata": {
        "id": "ysvGHDe8SeW6"
      },
      "execution_count": null,
      "outputs": []
    },
    {
      "cell_type": "code",
      "source": [
        "@tf.function\n",
        "def train_step(inp, targ, enc_hidden): # определим входную фразу, перевод и состояние кодировщика\n",
        "  loss = 0 # переменная для фиксации ошибки\n",
        "\n",
        "  with tf.GradientTape() as tape:\n",
        "      enc_output, enc_hidden = encoder(inp, enc_hidden)\n",
        "      dec_hidden = enc_hidden\n",
        "      dec_input = tf.expand_dims([tokenizer_ru.word_index[SOS]] * BATCH_SIZE, 1)\n",
        "\n",
        "      for t in range(1, targ.shape[1]): # для каждого слова из фразы\n",
        "          predictions, dec_hidden, _ = decoder(dec_input, dec_hidden, enc_output)\n",
        "          loss += loss_function(targ[:, t], predictions)\n",
        "          dec_input = tf.expand_dims(targ[:, t], 1)\n",
        "\n",
        "  batch_loss = (loss / int(targ.shape[1]))\n",
        "  variables = encoder.trainable_variables + decoder.trainable_variables\n",
        "  gradients = tape.gradient(loss, variables)\n",
        "  optimizer.apply_gradients(zip(gradients, variables))\n",
        "\n",
        "  return batch_loss"
      ],
      "metadata": {
        "id": "8Xsgy1fpSlH8"
      },
      "execution_count": null,
      "outputs": []
    },
    {
      "cell_type": "code",
      "source": [
        "for epoch in range(EPOCHS):\n",
        "    start = time.time()\n",
        "    enc_hidden = encoder.initialize_hidden_state()\n",
        "    total_loss = 0\n",
        "\n",
        "    for (batch, (inp, targ)) in enumerate(dataset.take(STEPS_PER_EPOCH)):\n",
        "        batch_loss = train_step(inp, targ, enc_hidden)\n",
        "        total_loss += batch_loss\n",
        "\n",
        "    if (epoch + 1) % 5 == 0:\n",
        "        checkpoint.save(file_prefix = checkpoint_prefix)\n",
        "    print(f'Эпоха: {epoch + 1}  |  Потеря:  {(total_loss / STEPS_PER_EPOCH):.4f}  |  Время на эпоху: {time.time() - start} сек \\n' )"
      ],
      "metadata": {
        "colab": {
          "base_uri": "https://localhost:8080/"
        },
        "id": "ZdGD7ztwSrwf",
        "outputId": "b5375acd-c108-4e74-d2f1-4abc6ef9614e"
      },
      "execution_count": null,
      "outputs": [
        {
          "output_type": "stream",
          "name": "stdout",
          "text": [
            "Эпоха: 1  |  Потеря:  2.5186  |  Время на эпоху: 125.68926239013672 сек \n",
            "\n",
            "Эпоха: 2  |  Потеря:  1.9987  |  Время на эпоху: 103.89774894714355 сек \n",
            "\n",
            "Эпоха: 3  |  Потеря:  1.8814  |  Время на эпоху: 104.29428362846375 сек \n",
            "\n",
            "Эпоха: 4  |  Потеря:  1.7950  |  Время на эпоху: 102.60634255409241 сек \n",
            "\n",
            "Эпоха: 5  |  Потеря:  1.6932  |  Время на эпоху: 99.29728412628174 сек \n",
            "\n",
            "Эпоха: 6  |  Потеря:  1.5650  |  Время на эпоху: 100.4002845287323 сек \n",
            "\n",
            "Эпоха: 7  |  Потеря:  1.4500  |  Время на эпоху: 98.80376124382019 сек \n",
            "\n",
            "Эпоха: 8  |  Потеря:  1.3473  |  Время на эпоху: 99.10081386566162 сек \n",
            "\n",
            "Эпоха: 9  |  Потеря:  1.2429  |  Время на эпоху: 94.39889860153198 сек \n",
            "\n",
            "Эпоха: 10  |  Потеря:  1.1439  |  Время на эпоху: 97.09844493865967 сек \n",
            "\n"
          ]
        }
      ]
    },
    {
      "cell_type": "code",
      "source": [
        "def evaluate(sentence):\n",
        "\n",
        "    attention_plot = np.zeros((max_length_ru, max_length_en))\n",
        "    sentence = preprocess_sentence(sentence)\n",
        "    words = sentence.split(' ')\n",
        "    inputs = list() # список для сбора токенов\n",
        "\n",
        "    for word in words:\n",
        "        try:\n",
        "            inputs.append(tokenizer_en.word_index[word]) # находим индекс в словаре и добавляем в список\n",
        "        except:\n",
        "            pass # игнорируем слово, которое не знаем\n",
        "\n",
        "    inputs = tf.keras.preprocessing.sequence.pad_sequences([inputs], maxlen=max_length_en, padding='post')\n",
        "    inputs = tf.convert_to_tensor(inputs)\n",
        "    print(inputs)\n",
        "    result = ''\n",
        "    hidden = [tf.zeros((1, UNITS))]\n",
        "    enc_out, enc_hidden = encoder(inputs, hidden)\n",
        "    dec_hidden = enc_hidden\n",
        "    dec_input = tf.expand_dims([tokenizer_ru.word_index[SOS]], 0)\n",
        "\n",
        "    for t in range(max_length_ru):\n",
        "        predictions, dec_hidden, attention_weights = decoder(dec_input, dec_hidden, enc_out)\n",
        "        attention_weights = tf.reshape(attention_weights, (-1, ))\n",
        "        attention_plot[t] = attention_weights.numpy()\n",
        "        predicted_id = tf.argmax(predictions[0]).numpy()\n",
        "        result += tokenizer_ru.index_word[predicted_id] + ' '\n",
        "\n",
        "        if tokenizer_ru.index_word[predicted_id] == EOS:\n",
        "            return result, sentence, attention_plot\n",
        "\n",
        "        dec_input = tf.expand_dims([predicted_id], 0)\n",
        "    return result, sentence, attention_plot"
      ],
      "metadata": {
        "id": "4obtqBbZS3aR"
      },
      "execution_count": null,
      "outputs": []
    },
    {
      "cell_type": "code",
      "source": [
        "def plot_attention(attention, sentence, predicted_sentence):\n",
        "    fig = plt.figure(figsize=(3, 3))\n",
        "    ax = fig.add_subplot(1, 1, 1)\n",
        "    ax.matshow(attention, cmap='viridis') # рисуем 2d матрицу\n",
        "    fontdict = {'fontsize': 14}           # размер текста\n",
        "    ax.set_xticklabels([''] + sentence, fontdict=fontdict, rotation=90) # подписи по горизонтали\n",
        "    ax.set_yticklabels([''] + predicted_sentence, fontdict=fontdict)    # подписи по вертикали\n",
        "    ax.xaxis.set_major_locator(ticker.MultipleLocator(1))\n",
        "    ax.yaxis.set_major_locator(ticker.MultipleLocator(1))\n",
        "    plt.show()"
      ],
      "metadata": {
        "id": "RQUYIsDaTDQT"
      },
      "execution_count": null,
      "outputs": []
    },
    {
      "cell_type": "code",
      "source": [
        "def translate(sentence):\n",
        "    result, sentence, attention_plot = evaluate(sentence)\n",
        "    print('Ввод: %s' % (sentence))\n",
        "    print(f'Перевод: {result}')\n",
        "    attention_plot = attention_plot[:len(result.split(' ')), :len(sentence.split(' '))]\n",
        "    plot_attention(attention_plot, sentence.split(' '), result.split(' '))"
      ],
      "metadata": {
        "id": "QrXEqhRFTOZz"
      },
      "execution_count": null,
      "outputs": []
    },
    {
      "cell_type": "code",
      "source": [
        "checkpoint.restore(tf.train.latest_checkpoint(checkpoint_dir))"
      ],
      "metadata": {
        "colab": {
          "base_uri": "https://localhost:8080/"
        },
        "id": "HCLKq1TKTSuN",
        "outputId": "bb66e89f-9388-4df8-f58e-b6f7d4f74ae7"
      },
      "execution_count": null,
      "outputs": [
        {
          "output_type": "execute_result",
          "data": {
            "text/plain": [
              "<tensorflow.python.checkpoint.checkpoint.CheckpointLoadStatus at 0x7eef3c398410>"
            ]
          },
          "metadata": {},
          "execution_count": 56
        }
      ]
    },
    {
      "cell_type": "code",
      "source": [
        "# ЧАТ - БОТ\n",
        "\n",
        "text = input(\"Текст для перевода: \")\n",
        "while text != \"q\":\n",
        "    print(f\"Перевод: {translate(text)}\")\n",
        "    text = input(\"Текст для перевода: \")"
      ],
      "metadata": {
        "colab": {
          "base_uri": "https://localhost:8080/",
          "height": 916
        },
        "id": "QzRsClqnrRP3",
        "outputId": "63b3c1b5-6224-489e-96af-80c6c8c5a4f2"
      },
      "execution_count": null,
      "outputs": [
        {
          "output_type": "stream",
          "name": "stdout",
          "text": [
            "Текст для перевода: Бульба\n",
            "tf.Tensor([[1 2 0 0 0 0 0 0 0 0 0 0]], shape=(1, 12), dtype=int32)\n",
            "Ввод: <start> Бульба <end>\n",
            "Перевод: сыходзь ! <end> \n"
          ]
        },
        {
          "output_type": "display_data",
          "data": {
            "text/plain": [
              "<Figure size 300x300 with 1 Axes>"
            ],
            "image/png": "[encoded data removed]"
          },
          "metadata": {}
        },
        {
          "output_type": "stream",
          "name": "stdout",
          "text": [
            "Перевод: None\n",
            "Текст для перевода: Белы\n",
            "tf.Tensor([[1 2 0 0 0 0 0 0 0 0 0 0]], shape=(1, 12), dtype=int32)\n",
            "Ввод: <start> Белы <end>\n",
            "Перевод: сыходзь ! <end> \n"
          ]
        },
        {
          "output_type": "display_data",
          "data": {
            "text/plain": [
              "<Figure size 300x300 with 1 Axes>"
            ],
            "image/png": "[encoded data removed]"
          },
          "metadata": {}
        },
        {
          "output_type": "stream",
          "name": "stdout",
          "text": [
            "Перевод: None\n"
          ]
        }
      ]
    }
  ]
}