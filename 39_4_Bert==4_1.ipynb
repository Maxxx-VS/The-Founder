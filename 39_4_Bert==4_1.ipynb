{
  "nbformat": 4,
  "nbformat_minor": 0,
  "metadata": {
    "colab": {
      "provenance": [],
      "authorship_tag": "ABX9TyN3GIBNNGdFFFPex/ghz88e",
      "include_colab_link": true
    },
    "kernelspec": {
      "name": "python3",
      "display_name": "Python 3"
    },
    "language_info": {
      "name": "python"
    }
  },
  "cells": [
    {
      "cell_type": "markdown",
      "metadata": {
        "id": "view-in-github",
        "colab_type": "text"
      },
      "source": [
        "<a href=\"https://colab.research.google.com/github/Maxxx-VS/The-Founder/blob/master/39_4_Bert%3D%3D4_1.ipynb\" target=\"_parent\"><img src=\"https://colab.research.google.com/assets/colab-badge.svg\" alt=\"Open In Colab\"/></a>"
      ]
    },
    {
      "cell_type": "code",
      "execution_count": null,
      "metadata": {
        "id": "yK7mbmPBlApm"
      },
      "outputs": [],
      "source": [
        "# from transformers import pipeline\n",
        "# model = pipeline(model=\"seara/rubert-tiny2-russian-sentiment\")\n",
        "# model(\"Я тебя не\")"
      ]
    },
    {
      "cell_type": "code",
      "source": [
        "%%capture\n",
        "!pip install emoji==1.4.1\n",
        "!pip install imblearn"
      ],
      "metadata": {
        "id": "Ky4ACzXTlDO0"
      },
      "execution_count": 1,
      "outputs": []
    },
    {
      "cell_type": "code",
      "source": [
        "import numpy as np\n",
        "import pandas as pd\n",
        "import re, string\n",
        "import emoji\n",
        "import nltk\n",
        "from sklearn import preprocessing\n",
        "from imblearn.over_sampling import RandomOverSampler\n",
        "from sklearn.model_selection import train_test_split\n",
        "from sklearn.feature_extraction.text import CountVectorizer\n",
        "from sklearn.feature_extraction.text import TfidfTransformer\n",
        "from sklearn.naive_bayes import MultinomialNB\n",
        "from transformers import BertTokenizerFast\n",
        "from transformers import TFBertModel\n",
        "from transformers import RobertaTokenizerFast\n",
        "from transformers import TFRobertaModel\n",
        "import tensorflow as tf\n",
        "from tensorflow import keras\n",
        "from sklearn.metrics import accuracy_score, f1_score\n",
        "from sklearn.metrics import classification_report, confusion_matrix\n",
        "seed=42\n",
        "import matplotlib.pyplot as plt\n",
        "import seaborn as sns\n",
        "sns.set_style(\"whitegrid\")\n",
        "sns.despine()\n",
        "plt.style.use(\"Solarize_Light2\")\n",
        "plt.rc(\"figure\", autolayout=True)\n",
        "plt.rc(\"axes\", labelweight=\"bold\", labelsize=\"large\", titleweight=\"bold\", titlepad=10)\n",
        "import warnings\n",
        "warnings.filterwarnings(\"ignore\")"
      ],
      "metadata": {
        "colab": {
          "base_uri": "https://localhost:8080/",
          "height": 34
        },
        "id": "pdbpyb9NlEXn",
        "outputId": "1007159c-59ff-4d22-9e80-86bfce22ec81"
      },
      "execution_count": 2,
      "outputs": [
        {
          "output_type": "display_data",
          "data": {
            "text/plain": [
              "<Figure size 640x480 with 0 Axes>"
            ]
          },
          "metadata": {}
        }
      ]
    },
    {
      "cell_type": "code",
      "source": [
        "def conf_matrix(y, y_pred, title):\n",
        "    fig, ax =plt.subplots(figsize=(5,5))\n",
        "    labels = ['perfumes', 'smartphones', 'car-electronics', 'memory-cards',\n",
        "       'wearables', 'tires', 'power-banks', 'portable-speakers',\n",
        "       'car-audio', 'books', 'beauty', 'small-home-appl',\n",
        "       'kitchen-home-appl']\n",
        "    ax=sns.heatmap(confusion_matrix(y, y_pred), annot=True, cmap=\"Blues\", fmt='g', cbar=False, annot_kws={\"size\":25})\n",
        "    plt.title(title, fontsize=20)\n",
        "    ax.xaxis.set_ticklabels(labels, fontsize=17)\n",
        "    ax.yaxis.set_ticklabels(labels, fontsize=17)\n",
        "    ax.set_ylabel('Тест', fontsize=20)\n",
        "    ax.set_xlabel('Предсказание', fontsize=20)\n",
        "    plt.show()"
      ],
      "metadata": {
        "id": "HI1Nf43llF7n"
      },
      "execution_count": 3,
      "outputs": []
    },
    {
      "cell_type": "code",
      "source": [
        "# Загружаем датасет\n",
        "df = pd.read_csv(\"/content/sample_data/kaspi_reviews.csv\", encoding='utf-8')\n",
        "df.columns"
      ],
      "metadata": {
        "colab": {
          "base_uri": "https://localhost:8080/"
        },
        "id": "wnx0Hd9blSYf",
        "outputId": "5b1f7749-888c-4bff-b877-b3412339f0da"
      },
      "execution_count": 4,
      "outputs": [
        {
          "output_type": "execute_result",
          "data": {
            "text/plain": [
              "Index(['Unnamed: 0', 'text', 'plus', 'minus', 'language', 'rating',\n",
              "       'category'],\n",
              "      dtype='object')"
            ]
          },
          "metadata": {},
          "execution_count": 4
        }
      ]
    },
    {
      "cell_type": "code",
      "source": [
        "df"
      ],
      "metadata": {
        "colab": {
          "base_uri": "https://localhost:8080/",
          "height": 597
        },
        "id": "hLkHSAKulgWG",
        "outputId": "842bbc9d-1ad9-4eb3-bde7-7cc56098b32a"
      },
      "execution_count": 5,
      "outputs": [
        {
          "output_type": "execute_result",
          "data": {
            "text/plain": [
              "        Unnamed: 0                                               text  \\\n",
              "0                0  Парфюм оригинальный. Всё, как в профессиональн...   \n",
              "1                1  Мой любимый DKNY. Запах просто шикарный. Спаси...   \n",
              "2                2                                                NaN   \n",
              "3                3                                                NaN   \n",
              "4                4  Запах просто классный, как раз то, что мне нуж...   \n",
              "...            ...                                                ...   \n",
              "119043      119043                                                NaN   \n",
              "119044      119044  Вполне сносные наушники, но, думаю, не стоит с...   \n",
              "119045      119045                              Наушники просто супер   \n",
              "119046      119046                                                NaN   \n",
              "119047      119047                                                NaN   \n",
              "\n",
              "                                                     plus  \\\n",
              "0                                                     NaN   \n",
              "1                                                     NaN   \n",
              "2       Шикарный запах! Безумно нравится! Не пожалеете...   \n",
              "3                                       Иісі қатты ұнады.   \n",
              "4       Мне все понравилось - и качество товара, и зап...   \n",
              "...                                                   ...   \n",
              "119043  Звук выше среднего, немного токсичные высокие ...   \n",
              "119044                                                NaN   \n",
              "119045                                                NaN   \n",
              "119046                                          Всё супер   \n",
              "119047  Отличный звук. Система шумоподавления. Качеств...   \n",
              "\n",
              "                                                    minus language  rating  \\\n",
              "0                                                     NaN  russian     5.0   \n",
              "1                                                     NaN  russian     5.0   \n",
              "2                                                     NaN  russian     5.0   \n",
              "3                                                     NaN   kazakh     5.0   \n",
              "4       Единственное, что мне не понравилось, это то, ...  russian     4.0   \n",
              "...                                                   ...      ...     ...   \n",
              "119043                      Нет aptx, немного тяжеловаты.  russian     5.0   \n",
              "119044                                                NaN  russian     4.0   \n",
              "119045                                                NaN  russian     5.0   \n",
              "119046                                     Басов маловато  russian     4.0   \n",
              "119047                            Что не купил их раньше.  russian     5.0   \n",
              "\n",
              "          category  \n",
              "0         perfumes  \n",
              "1         perfumes  \n",
              "2         perfumes  \n",
              "3         perfumes  \n",
              "4         perfumes  \n",
              "...            ...  \n",
              "119043  headphones  \n",
              "119044  headphones  \n",
              "119045  headphones  \n",
              "119046  headphones  \n",
              "119047  headphones  \n",
              "\n",
              "[119048 rows x 7 columns]"
            ],
            "text/html": [
              "\n",
              "  <div id=\"df-9c0e542d-7133-4c89-9ca3-4ec86decf122\" class=\"colab-df-container\">\n",
              "    <div>\n",
              "<style scoped>\n",
              "    .dataframe tbody tr th:only-of-type {\n",
              "        vertical-align: middle;\n",
              "    }\n",
              "\n",
              "    .dataframe tbody tr th {\n",
              "        vertical-align: top;\n",
              "    }\n",
              "\n",
              "    .dataframe thead th {\n",
              "        text-align: right;\n",
              "    }\n",
              "</style>\n",
              "<table border=\"1\" class=\"dataframe\">\n",
              "  <thead>\n",
              "    <tr style=\"text-align: right;\">\n",
              "      <th></th>\n",
              "      <th>Unnamed: 0</th>\n",
              "      <th>text</th>\n",
              "      <th>plus</th>\n",
              "      <th>minus</th>\n",
              "      <th>language</th>\n",
              "      <th>rating</th>\n",
              "      <th>category</th>\n",
              "    </tr>\n",
              "  </thead>\n",
              "  <tbody>\n",
              "    <tr>\n",
              "      <th>0</th>\n",
              "      <td>0</td>\n",
              "      <td>Парфюм оригинальный. Всё, как в профессиональн...</td>\n",
              "      <td>NaN</td>\n",
              "      <td>NaN</td>\n",
              "      <td>russian</td>\n",
              "      <td>5.0</td>\n",
              "      <td>perfumes</td>\n",
              "    </tr>\n",
              "    <tr>\n",
              "      <th>1</th>\n",
              "      <td>1</td>\n",
              "      <td>Мой любимый DKNY. Запах просто шикарный. Спаси...</td>\n",
              "      <td>NaN</td>\n",
              "      <td>NaN</td>\n",
              "      <td>russian</td>\n",
              "      <td>5.0</td>\n",
              "      <td>perfumes</td>\n",
              "    </tr>\n",
              "    <tr>\n",
              "      <th>2</th>\n",
              "      <td>2</td>\n",
              "      <td>NaN</td>\n",
              "      <td>Шикарный запах! Безумно нравится! Не пожалеете...</td>\n",
              "      <td>NaN</td>\n",
              "      <td>russian</td>\n",
              "      <td>5.0</td>\n",
              "      <td>perfumes</td>\n",
              "    </tr>\n",
              "    <tr>\n",
              "      <th>3</th>\n",
              "      <td>3</td>\n",
              "      <td>NaN</td>\n",
              "      <td>Иісі қатты ұнады.</td>\n",
              "      <td>NaN</td>\n",
              "      <td>kazakh</td>\n",
              "      <td>5.0</td>\n",
              "      <td>perfumes</td>\n",
              "    </tr>\n",
              "    <tr>\n",
              "      <th>4</th>\n",
              "      <td>4</td>\n",
              "      <td>Запах просто классный, как раз то, что мне нуж...</td>\n",
              "      <td>Мне все понравилось - и качество товара, и зап...</td>\n",
              "      <td>Единственное, что мне не понравилось, это то, ...</td>\n",
              "      <td>russian</td>\n",
              "      <td>4.0</td>\n",
              "      <td>perfumes</td>\n",
              "    </tr>\n",
              "    <tr>\n",
              "      <th>...</th>\n",
              "      <td>...</td>\n",
              "      <td>...</td>\n",
              "      <td>...</td>\n",
              "      <td>...</td>\n",
              "      <td>...</td>\n",
              "      <td>...</td>\n",
              "      <td>...</td>\n",
              "    </tr>\n",
              "    <tr>\n",
              "      <th>119043</th>\n",
              "      <td>119043</td>\n",
              "      <td>NaN</td>\n",
              "      <td>Звук выше среднего, немного токсичные высокие ...</td>\n",
              "      <td>Нет aptx, немного тяжеловаты.</td>\n",
              "      <td>russian</td>\n",
              "      <td>5.0</td>\n",
              "      <td>headphones</td>\n",
              "    </tr>\n",
              "    <tr>\n",
              "      <th>119044</th>\n",
              "      <td>119044</td>\n",
              "      <td>Вполне сносные наушники, но, думаю, не стоит с...</td>\n",
              "      <td>NaN</td>\n",
              "      <td>NaN</td>\n",
              "      <td>russian</td>\n",
              "      <td>4.0</td>\n",
              "      <td>headphones</td>\n",
              "    </tr>\n",
              "    <tr>\n",
              "      <th>119045</th>\n",
              "      <td>119045</td>\n",
              "      <td>Наушники просто супер</td>\n",
              "      <td>NaN</td>\n",
              "      <td>NaN</td>\n",
              "      <td>russian</td>\n",
              "      <td>5.0</td>\n",
              "      <td>headphones</td>\n",
              "    </tr>\n",
              "    <tr>\n",
              "      <th>119046</th>\n",
              "      <td>119046</td>\n",
              "      <td>NaN</td>\n",
              "      <td>Всё супер</td>\n",
              "      <td>Басов маловато</td>\n",
              "      <td>russian</td>\n",
              "      <td>4.0</td>\n",
              "      <td>headphones</td>\n",
              "    </tr>\n",
              "    <tr>\n",
              "      <th>119047</th>\n",
              "      <td>119047</td>\n",
              "      <td>NaN</td>\n",
              "      <td>Отличный звук. Система шумоподавления. Качеств...</td>\n",
              "      <td>Что не купил их раньше.</td>\n",
              "      <td>russian</td>\n",
              "      <td>5.0</td>\n",
              "      <td>headphones</td>\n",
              "    </tr>\n",
              "  </tbody>\n",
              "</table>\n",
              "<p>119048 rows × 7 columns</p>\n",
              "</div>\n",
              "    <div class=\"colab-df-buttons\">\n",
              "\n",
              "  <div class=\"colab-df-container\">\n",
              "    <button class=\"colab-df-convert\" onclick=\"convertToInteractive('df-9c0e542d-7133-4c89-9ca3-4ec86decf122')\"\n",
              "            title=\"Convert this dataframe to an interactive table.\"\n",
              "            style=\"display:none;\">\n",
              "\n",
              "  <svg xmlns=\"http://www.w3.org/2000/svg\" height=\"24px\" viewBox=\"0 -960 960 960\">\n",
              "    <path d=\"M120-120v-720h720v720H120Zm60-500h600v-160H180v160Zm220 220h160v-160H400v160Zm0 220h160v-160H400v160ZM180-400h160v-160H180v160Zm440 0h160v-160H620v160ZM180-180h160v-160H180v160Zm440 0h160v-160H620v160Z\"/>\n",
              "  </svg>\n",
              "    </button>\n",
              "\n",
              "  <style>\n",
              "    .colab-df-container {\n",
              "      display:flex;\n",
              "      gap: 12px;\n",
              "    }\n",
              "\n",
              "    .colab-df-convert {\n",
              "      background-color: #E8F0FE;\n",
              "      border: none;\n",
              "      border-radius: 50%;\n",
              "      cursor: pointer;\n",
              "      display: none;\n",
              "      fill: #1967D2;\n",
              "      height: 32px;\n",
              "      padding: 0 0 0 0;\n",
              "      width: 32px;\n",
              "    }\n",
              "\n",
              "    .colab-df-convert:hover {\n",
              "      background-color: #E2EBFA;\n",
              "      box-shadow: 0px 1px 2px rgba(60, 64, 67, 0.3), 0px 1px 3px 1px rgba(60, 64, 67, 0.15);\n",
              "      fill: #174EA6;\n",
              "    }\n",
              "\n",
              "    .colab-df-buttons div {\n",
              "      margin-bottom: 4px;\n",
              "    }\n",
              "\n",
              "    [theme=dark] .colab-df-convert {\n",
              "      background-color: #3B4455;\n",
              "      fill: #D2E3FC;\n",
              "    }\n",
              "\n",
              "    [theme=dark] .colab-df-convert:hover {\n",
              "      background-color: #434B5C;\n",
              "      box-shadow: 0px 1px 3px 1px rgba(0, 0, 0, 0.15);\n",
              "      filter: drop-shadow(0px 1px 2px rgba(0, 0, 0, 0.3));\n",
              "      fill: #FFFFFF;\n",
              "    }\n",
              "  </style>\n",
              "\n",
              "    <script>\n",
              "      const buttonEl =\n",
              "        document.querySelector('#df-9c0e542d-7133-4c89-9ca3-4ec86decf122 button.colab-df-convert');\n",
              "      buttonEl.style.display =\n",
              "        google.colab.kernel.accessAllowed ? 'block' : 'none';\n",
              "\n",
              "      async function convertToInteractive(key) {\n",
              "        const element = document.querySelector('#df-9c0e542d-7133-4c89-9ca3-4ec86decf122');\n",
              "        const dataTable =\n",
              "          await google.colab.kernel.invokeFunction('convertToInteractive',\n",
              "                                                    [key], {});\n",
              "        if (!dataTable) return;\n",
              "\n",
              "        const docLinkHtml = 'Like what you see? Visit the ' +\n",
              "          '<a target=\"_blank\" href=https://colab.research.google.com/notebooks/data_table.ipynb>data table notebook</a>'\n",
              "          + ' to learn more about interactive tables.';\n",
              "        element.innerHTML = '';\n",
              "        dataTable['output_type'] = 'display_data';\n",
              "        await google.colab.output.renderOutput(dataTable, element);\n",
              "        const docLink = document.createElement('div');\n",
              "        docLink.innerHTML = docLinkHtml;\n",
              "        element.appendChild(docLink);\n",
              "      }\n",
              "    </script>\n",
              "  </div>\n",
              "\n",
              "\n",
              "<div id=\"df-6c7a8c98-ec8e-44e1-b045-e7e807440bf6\">\n",
              "  <button class=\"colab-df-quickchart\" onclick=\"quickchart('df-6c7a8c98-ec8e-44e1-b045-e7e807440bf6')\"\n",
              "            title=\"Suggest charts\"\n",
              "            style=\"display:none;\">\n",
              "\n",
              "<svg xmlns=\"http://www.w3.org/2000/svg\" height=\"24px\"viewBox=\"0 0 24 24\"\n",
              "     width=\"24px\">\n",
              "    <g>\n",
              "        <path d=\"M19 3H5c-1.1 0-2 .9-2 2v14c0 1.1.9 2 2 2h14c1.1 0 2-.9 2-2V5c0-1.1-.9-2-2-2zM9 17H7v-7h2v7zm4 0h-2V7h2v10zm4 0h-2v-4h2v4z\"/>\n",
              "    </g>\n",
              "</svg>\n",
              "  </button>\n",
              "\n",
              "<style>\n",
              "  .colab-df-quickchart {\n",
              "      --bg-color: #E8F0FE;\n",
              "      --fill-color: #1967D2;\n",
              "      --hover-bg-color: #E2EBFA;\n",
              "      --hover-fill-color: #174EA6;\n",
              "      --disabled-fill-color: #AAA;\n",
              "      --disabled-bg-color: #DDD;\n",
              "  }\n",
              "\n",
              "  [theme=dark] .colab-df-quickchart {\n",
              "      --bg-color: #3B4455;\n",
              "      --fill-color: #D2E3FC;\n",
              "      --hover-bg-color: #434B5C;\n",
              "      --hover-fill-color: #FFFFFF;\n",
              "      --disabled-bg-color: #3B4455;\n",
              "      --disabled-fill-color: #666;\n",
              "  }\n",
              "\n",
              "  .colab-df-quickchart {\n",
              "    background-color: var(--bg-color);\n",
              "    border: none;\n",
              "    border-radius: 50%;\n",
              "    cursor: pointer;\n",
              "    display: none;\n",
              "    fill: var(--fill-color);\n",
              "    height: 32px;\n",
              "    padding: 0;\n",
              "    width: 32px;\n",
              "  }\n",
              "\n",
              "  .colab-df-quickchart:hover {\n",
              "    background-color: var(--hover-bg-color);\n",
              "    box-shadow: 0 1px 2px rgba(60, 64, 67, 0.3), 0 1px 3px 1px rgba(60, 64, 67, 0.15);\n",
              "    fill: var(--button-hover-fill-color);\n",
              "  }\n",
              "\n",
              "  .colab-df-quickchart-complete:disabled,\n",
              "  .colab-df-quickchart-complete:disabled:hover {\n",
              "    background-color: var(--disabled-bg-color);\n",
              "    fill: var(--disabled-fill-color);\n",
              "    box-shadow: none;\n",
              "  }\n",
              "\n",
              "  .colab-df-spinner {\n",
              "    border: 2px solid var(--fill-color);\n",
              "    border-color: transparent;\n",
              "    border-bottom-color: var(--fill-color);\n",
              "    animation:\n",
              "      spin 1s steps(1) infinite;\n",
              "  }\n",
              "\n",
              "  @keyframes spin {\n",
              "    0% {\n",
              "      border-color: transparent;\n",
              "      border-bottom-color: var(--fill-color);\n",
              "      border-left-color: var(--fill-color);\n",
              "    }\n",
              "    20% {\n",
              "      border-color: transparent;\n",
              "      border-left-color: var(--fill-color);\n",
              "      border-top-color: var(--fill-color);\n",
              "    }\n",
              "    30% {\n",
              "      border-color: transparent;\n",
              "      border-left-color: var(--fill-color);\n",
              "      border-top-color: var(--fill-color);\n",
              "      border-right-color: var(--fill-color);\n",
              "    }\n",
              "    40% {\n",
              "      border-color: transparent;\n",
              "      border-right-color: var(--fill-color);\n",
              "      border-top-color: var(--fill-color);\n",
              "    }\n",
              "    60% {\n",
              "      border-color: transparent;\n",
              "      border-right-color: var(--fill-color);\n",
              "    }\n",
              "    80% {\n",
              "      border-color: transparent;\n",
              "      border-right-color: var(--fill-color);\n",
              "      border-bottom-color: var(--fill-color);\n",
              "    }\n",
              "    90% {\n",
              "      border-color: transparent;\n",
              "      border-bottom-color: var(--fill-color);\n",
              "    }\n",
              "  }\n",
              "</style>\n",
              "\n",
              "  <script>\n",
              "    async function quickchart(key) {\n",
              "      const quickchartButtonEl =\n",
              "        document.querySelector('#' + key + ' button');\n",
              "      quickchartButtonEl.disabled = true;  // To prevent multiple clicks.\n",
              "      quickchartButtonEl.classList.add('colab-df-spinner');\n",
              "      try {\n",
              "        const charts = await google.colab.kernel.invokeFunction(\n",
              "            'suggestCharts', [key], {});\n",
              "      } catch (error) {\n",
              "        console.error('Error during call to suggestCharts:', error);\n",
              "      }\n",
              "      quickchartButtonEl.classList.remove('colab-df-spinner');\n",
              "      quickchartButtonEl.classList.add('colab-df-quickchart-complete');\n",
              "    }\n",
              "    (() => {\n",
              "      let quickchartButtonEl =\n",
              "        document.querySelector('#df-6c7a8c98-ec8e-44e1-b045-e7e807440bf6 button');\n",
              "      quickchartButtonEl.style.display =\n",
              "        google.colab.kernel.accessAllowed ? 'block' : 'none';\n",
              "    })();\n",
              "  </script>\n",
              "</div>\n",
              "    </div>\n",
              "  </div>\n"
            ],
            "application/vnd.google.colaboratory.intrinsic+json": {
              "type": "dataframe",
              "variable_name": "df"
            }
          },
          "metadata": {},
          "execution_count": 5
        }
      ]
    },
    {
      "cell_type": "code",
      "source": [
        "# Удаляем строки с казахским языком\n",
        "df = df.drop(df[df['language'] == \"kazakh\"].index)"
      ],
      "metadata": {
        "id": "Eqj39NDulinL"
      },
      "execution_count": 6,
      "outputs": []
    },
    {
      "cell_type": "code",
      "source": [
        "# Удаляем лишние столбцы\n",
        "df = df.drop(['Unnamed: 0', 'plus', 'minus', 'language', 'rating'], axis=1)"
      ],
      "metadata": {
        "id": "N838Mq1llkD3"
      },
      "execution_count": 7,
      "outputs": []
    },
    {
      "cell_type": "code",
      "source": [
        "# Удаляем все строки с пропущенными значениями\n",
        "df = df.dropna()"
      ],
      "metadata": {
        "id": "wNITbqtAll3x"
      },
      "execution_count": 8,
      "outputs": []
    },
    {
      "cell_type": "code",
      "source": [
        "df.info()"
      ],
      "metadata": {
        "colab": {
          "base_uri": "https://localhost:8080/"
        },
        "id": "fe3Vhsh0ln2L",
        "outputId": "9de51b9d-5f46-4477-ada4-4fcec31174d8"
      },
      "execution_count": 9,
      "outputs": [
        {
          "output_type": "stream",
          "name": "stdout",
          "text": [
            "<class 'pandas.core.frame.DataFrame'>\n",
            "Index: 55938 entries, 0 to 119045\n",
            "Data columns (total 2 columns):\n",
            " #   Column    Non-Null Count  Dtype \n",
            "---  ------    --------------  ----- \n",
            " 0   text      55938 non-null  object\n",
            " 1   category  55938 non-null  object\n",
            "dtypes: object(2)\n",
            "memory usage: 1.3+ MB\n"
          ]
        }
      ]
    },
    {
      "cell_type": "code",
      "source": [
        "df['category'].unique()"
      ],
      "metadata": {
        "colab": {
          "base_uri": "https://localhost:8080/"
        },
        "id": "RjyOPDE9lpIt",
        "outputId": "3349c252-84ad-41cb-faa9-875bc0dd0f28"
      },
      "execution_count": 10,
      "outputs": [
        {
          "output_type": "execute_result",
          "data": {
            "text/plain": [
              "array(['perfumes', 'smartphones', 'car-electronics', 'memory-cards',\n",
              "       'wearables', 'tires', 'power-banks', 'portable-speakers',\n",
              "       'car-audio', 'books', 'beauty', 'small-home-appl',\n",
              "       'kitchen-home-appl', 'big-home-appl', 'climate-equipment',\n",
              "       'watches', 'headphones'], dtype=object)"
            ]
          },
          "metadata": {},
          "execution_count": 10
        }
      ]
    },
    {
      "cell_type": "code",
      "source": [
        "df['category'].value_counts()"
      ],
      "metadata": {
        "colab": {
          "base_uri": "https://localhost:8080/",
          "height": 649
        },
        "id": "Rm81GiKWlqUE",
        "outputId": "5ceada6c-a564-4dff-d3cb-8de74548e563"
      },
      "execution_count": 11,
      "outputs": [
        {
          "output_type": "execute_result",
          "data": {
            "text/plain": [
              "category\n",
              "smartphones          21497\n",
              "kitchen-home-appl     5961\n",
              "small-home-appl       5803\n",
              "big-home-appl         5556\n",
              "headphones            3076\n",
              "beauty                3076\n",
              "climate-equipment     2451\n",
              "tires                 1890\n",
              "car-electronics       1833\n",
              "perfumes              1072\n",
              "watches                984\n",
              "car-audio              961\n",
              "wearables              840\n",
              "power-banks            289\n",
              "memory-cards           242\n",
              "portable-speakers      214\n",
              "books                  193\n",
              "Name: count, dtype: int64"
            ],
            "text/html": [
              "<div>\n",
              "<style scoped>\n",
              "    .dataframe tbody tr th:only-of-type {\n",
              "        vertical-align: middle;\n",
              "    }\n",
              "\n",
              "    .dataframe tbody tr th {\n",
              "        vertical-align: top;\n",
              "    }\n",
              "\n",
              "    .dataframe thead th {\n",
              "        text-align: right;\n",
              "    }\n",
              "</style>\n",
              "<table border=\"1\" class=\"dataframe\">\n",
              "  <thead>\n",
              "    <tr style=\"text-align: right;\">\n",
              "      <th></th>\n",
              "      <th>count</th>\n",
              "    </tr>\n",
              "    <tr>\n",
              "      <th>category</th>\n",
              "      <th></th>\n",
              "    </tr>\n",
              "  </thead>\n",
              "  <tbody>\n",
              "    <tr>\n",
              "      <th>smartphones</th>\n",
              "      <td>21497</td>\n",
              "    </tr>\n",
              "    <tr>\n",
              "      <th>kitchen-home-appl</th>\n",
              "      <td>5961</td>\n",
              "    </tr>\n",
              "    <tr>\n",
              "      <th>small-home-appl</th>\n",
              "      <td>5803</td>\n",
              "    </tr>\n",
              "    <tr>\n",
              "      <th>big-home-appl</th>\n",
              "      <td>5556</td>\n",
              "    </tr>\n",
              "    <tr>\n",
              "      <th>headphones</th>\n",
              "      <td>3076</td>\n",
              "    </tr>\n",
              "    <tr>\n",
              "      <th>beauty</th>\n",
              "      <td>3076</td>\n",
              "    </tr>\n",
              "    <tr>\n",
              "      <th>climate-equipment</th>\n",
              "      <td>2451</td>\n",
              "    </tr>\n",
              "    <tr>\n",
              "      <th>tires</th>\n",
              "      <td>1890</td>\n",
              "    </tr>\n",
              "    <tr>\n",
              "      <th>car-electronics</th>\n",
              "      <td>1833</td>\n",
              "    </tr>\n",
              "    <tr>\n",
              "      <th>perfumes</th>\n",
              "      <td>1072</td>\n",
              "    </tr>\n",
              "    <tr>\n",
              "      <th>watches</th>\n",
              "      <td>984</td>\n",
              "    </tr>\n",
              "    <tr>\n",
              "      <th>car-audio</th>\n",
              "      <td>961</td>\n",
              "    </tr>\n",
              "    <tr>\n",
              "      <th>wearables</th>\n",
              "      <td>840</td>\n",
              "    </tr>\n",
              "    <tr>\n",
              "      <th>power-banks</th>\n",
              "      <td>289</td>\n",
              "    </tr>\n",
              "    <tr>\n",
              "      <th>memory-cards</th>\n",
              "      <td>242</td>\n",
              "    </tr>\n",
              "    <tr>\n",
              "      <th>portable-speakers</th>\n",
              "      <td>214</td>\n",
              "    </tr>\n",
              "    <tr>\n",
              "      <th>books</th>\n",
              "      <td>193</td>\n",
              "    </tr>\n",
              "  </tbody>\n",
              "</table>\n",
              "</div><br><label><b>dtype:</b> int64</label>"
            ]
          },
          "metadata": {},
          "execution_count": 11
        }
      ]
    },
    {
      "cell_type": "code",
      "source": [
        "df"
      ],
      "metadata": {
        "colab": {
          "base_uri": "https://localhost:8080/",
          "height": 424
        },
        "id": "72nhDznYlrzX",
        "outputId": "b65e7f5a-8190-414d-b553-06edc4cc390d"
      },
      "execution_count": 12,
      "outputs": [
        {
          "output_type": "execute_result",
          "data": {
            "text/plain": [
              "                                                     text    category\n",
              "0       Парфюм оригинальный. Всё, как в профессиональн...    perfumes\n",
              "1       Мой любимый DKNY. Запах просто шикарный. Спаси...    perfumes\n",
              "4       Запах просто классный, как раз то, что мне нуж...    perfumes\n",
              "5       Парфюм хороший, оригинал! Магазин Parfum-Shop-...    perfumes\n",
              "6                                Доставка работает супер!    perfumes\n",
              "...                                                   ...         ...\n",
              "119039  С большим телефоном без наушников себя не пред...  headphones\n",
              "119040  Купил наушники 3 недели назад, сначала очень п...  headphones\n",
              "119042                                   Хорошие наушники  headphones\n",
              "119044  Вполне сносные наушники, но, думаю, не стоит с...  headphones\n",
              "119045                              Наушники просто супер  headphones\n",
              "\n",
              "[55938 rows x 2 columns]"
            ],
            "text/html": [
              "\n",
              "  <div id=\"df-35f9d472-e442-49de-98ce-05b761b8b11a\" class=\"colab-df-container\">\n",
              "    <div>\n",
              "<style scoped>\n",
              "    .dataframe tbody tr th:only-of-type {\n",
              "        vertical-align: middle;\n",
              "    }\n",
              "\n",
              "    .dataframe tbody tr th {\n",
              "        vertical-align: top;\n",
              "    }\n",
              "\n",
              "    .dataframe thead th {\n",
              "        text-align: right;\n",
              "    }\n",
              "</style>\n",
              "<table border=\"1\" class=\"dataframe\">\n",
              "  <thead>\n",
              "    <tr style=\"text-align: right;\">\n",
              "      <th></th>\n",
              "      <th>text</th>\n",
              "      <th>category</th>\n",
              "    </tr>\n",
              "  </thead>\n",
              "  <tbody>\n",
              "    <tr>\n",
              "      <th>0</th>\n",
              "      <td>Парфюм оригинальный. Всё, как в профессиональн...</td>\n",
              "      <td>perfumes</td>\n",
              "    </tr>\n",
              "    <tr>\n",
              "      <th>1</th>\n",
              "      <td>Мой любимый DKNY. Запах просто шикарный. Спаси...</td>\n",
              "      <td>perfumes</td>\n",
              "    </tr>\n",
              "    <tr>\n",
              "      <th>4</th>\n",
              "      <td>Запах просто классный, как раз то, что мне нуж...</td>\n",
              "      <td>perfumes</td>\n",
              "    </tr>\n",
              "    <tr>\n",
              "      <th>5</th>\n",
              "      <td>Парфюм хороший, оригинал! Магазин Parfum-Shop-...</td>\n",
              "      <td>perfumes</td>\n",
              "    </tr>\n",
              "    <tr>\n",
              "      <th>6</th>\n",
              "      <td>Доставка работает супер!</td>\n",
              "      <td>perfumes</td>\n",
              "    </tr>\n",
              "    <tr>\n",
              "      <th>...</th>\n",
              "      <td>...</td>\n",
              "      <td>...</td>\n",
              "    </tr>\n",
              "    <tr>\n",
              "      <th>119039</th>\n",
              "      <td>С большим телефоном без наушников себя не пред...</td>\n",
              "      <td>headphones</td>\n",
              "    </tr>\n",
              "    <tr>\n",
              "      <th>119040</th>\n",
              "      <td>Купил наушники 3 недели назад, сначала очень п...</td>\n",
              "      <td>headphones</td>\n",
              "    </tr>\n",
              "    <tr>\n",
              "      <th>119042</th>\n",
              "      <td>Хорошие наушники</td>\n",
              "      <td>headphones</td>\n",
              "    </tr>\n",
              "    <tr>\n",
              "      <th>119044</th>\n",
              "      <td>Вполне сносные наушники, но, думаю, не стоит с...</td>\n",
              "      <td>headphones</td>\n",
              "    </tr>\n",
              "    <tr>\n",
              "      <th>119045</th>\n",
              "      <td>Наушники просто супер</td>\n",
              "      <td>headphones</td>\n",
              "    </tr>\n",
              "  </tbody>\n",
              "</table>\n",
              "<p>55938 rows × 2 columns</p>\n",
              "</div>\n",
              "    <div class=\"colab-df-buttons\">\n",
              "\n",
              "  <div class=\"colab-df-container\">\n",
              "    <button class=\"colab-df-convert\" onclick=\"convertToInteractive('df-35f9d472-e442-49de-98ce-05b761b8b11a')\"\n",
              "            title=\"Convert this dataframe to an interactive table.\"\n",
              "            style=\"display:none;\">\n",
              "\n",
              "  <svg xmlns=\"http://www.w3.org/2000/svg\" height=\"24px\" viewBox=\"0 -960 960 960\">\n",
              "    <path d=\"M120-120v-720h720v720H120Zm60-500h600v-160H180v160Zm220 220h160v-160H400v160Zm0 220h160v-160H400v160ZM180-400h160v-160H180v160Zm440 0h160v-160H620v160ZM180-180h160v-160H180v160Zm440 0h160v-160H620v160Z\"/>\n",
              "  </svg>\n",
              "    </button>\n",
              "\n",
              "  <style>\n",
              "    .colab-df-container {\n",
              "      display:flex;\n",
              "      gap: 12px;\n",
              "    }\n",
              "\n",
              "    .colab-df-convert {\n",
              "      background-color: #E8F0FE;\n",
              "      border: none;\n",
              "      border-radius: 50%;\n",
              "      cursor: pointer;\n",
              "      display: none;\n",
              "      fill: #1967D2;\n",
              "      height: 32px;\n",
              "      padding: 0 0 0 0;\n",
              "      width: 32px;\n",
              "    }\n",
              "\n",
              "    .colab-df-convert:hover {\n",
              "      background-color: #E2EBFA;\n",
              "      box-shadow: 0px 1px 2px rgba(60, 64, 67, 0.3), 0px 1px 3px 1px rgba(60, 64, 67, 0.15);\n",
              "      fill: #174EA6;\n",
              "    }\n",
              "\n",
              "    .colab-df-buttons div {\n",
              "      margin-bottom: 4px;\n",
              "    }\n",
              "\n",
              "    [theme=dark] .colab-df-convert {\n",
              "      background-color: #3B4455;\n",
              "      fill: #D2E3FC;\n",
              "    }\n",
              "\n",
              "    [theme=dark] .colab-df-convert:hover {\n",
              "      background-color: #434B5C;\n",
              "      box-shadow: 0px 1px 3px 1px rgba(0, 0, 0, 0.15);\n",
              "      filter: drop-shadow(0px 1px 2px rgba(0, 0, 0, 0.3));\n",
              "      fill: #FFFFFF;\n",
              "    }\n",
              "  </style>\n",
              "\n",
              "    <script>\n",
              "      const buttonEl =\n",
              "        document.querySelector('#df-35f9d472-e442-49de-98ce-05b761b8b11a button.colab-df-convert');\n",
              "      buttonEl.style.display =\n",
              "        google.colab.kernel.accessAllowed ? 'block' : 'none';\n",
              "\n",
              "      async function convertToInteractive(key) {\n",
              "        const element = document.querySelector('#df-35f9d472-e442-49de-98ce-05b761b8b11a');\n",
              "        const dataTable =\n",
              "          await google.colab.kernel.invokeFunction('convertToInteractive',\n",
              "                                                    [key], {});\n",
              "        if (!dataTable) return;\n",
              "\n",
              "        const docLinkHtml = 'Like what you see? Visit the ' +\n",
              "          '<a target=\"_blank\" href=https://colab.research.google.com/notebooks/data_table.ipynb>data table notebook</a>'\n",
              "          + ' to learn more about interactive tables.';\n",
              "        element.innerHTML = '';\n",
              "        dataTable['output_type'] = 'display_data';\n",
              "        await google.colab.output.renderOutput(dataTable, element);\n",
              "        const docLink = document.createElement('div');\n",
              "        docLink.innerHTML = docLinkHtml;\n",
              "        element.appendChild(docLink);\n",
              "      }\n",
              "    </script>\n",
              "  </div>\n",
              "\n",
              "\n",
              "<div id=\"df-7bbf74f1-943c-4ee9-b80e-4dd68d9f47c3\">\n",
              "  <button class=\"colab-df-quickchart\" onclick=\"quickchart('df-7bbf74f1-943c-4ee9-b80e-4dd68d9f47c3')\"\n",
              "            title=\"Suggest charts\"\n",
              "            style=\"display:none;\">\n",
              "\n",
              "<svg xmlns=\"http://www.w3.org/2000/svg\" height=\"24px\"viewBox=\"0 0 24 24\"\n",
              "     width=\"24px\">\n",
              "    <g>\n",
              "        <path d=\"M19 3H5c-1.1 0-2 .9-2 2v14c0 1.1.9 2 2 2h14c1.1 0 2-.9 2-2V5c0-1.1-.9-2-2-2zM9 17H7v-7h2v7zm4 0h-2V7h2v10zm4 0h-2v-4h2v4z\"/>\n",
              "    </g>\n",
              "</svg>\n",
              "  </button>\n",
              "\n",
              "<style>\n",
              "  .colab-df-quickchart {\n",
              "      --bg-color: #E8F0FE;\n",
              "      --fill-color: #1967D2;\n",
              "      --hover-bg-color: #E2EBFA;\n",
              "      --hover-fill-color: #174EA6;\n",
              "      --disabled-fill-color: #AAA;\n",
              "      --disabled-bg-color: #DDD;\n",
              "  }\n",
              "\n",
              "  [theme=dark] .colab-df-quickchart {\n",
              "      --bg-color: #3B4455;\n",
              "      --fill-color: #D2E3FC;\n",
              "      --hover-bg-color: #434B5C;\n",
              "      --hover-fill-color: #FFFFFF;\n",
              "      --disabled-bg-color: #3B4455;\n",
              "      --disabled-fill-color: #666;\n",
              "  }\n",
              "\n",
              "  .colab-df-quickchart {\n",
              "    background-color: var(--bg-color);\n",
              "    border: none;\n",
              "    border-radius: 50%;\n",
              "    cursor: pointer;\n",
              "    display: none;\n",
              "    fill: var(--fill-color);\n",
              "    height: 32px;\n",
              "    padding: 0;\n",
              "    width: 32px;\n",
              "  }\n",
              "\n",
              "  .colab-df-quickchart:hover {\n",
              "    background-color: var(--hover-bg-color);\n",
              "    box-shadow: 0 1px 2px rgba(60, 64, 67, 0.3), 0 1px 3px 1px rgba(60, 64, 67, 0.15);\n",
              "    fill: var(--button-hover-fill-color);\n",
              "  }\n",
              "\n",
              "  .colab-df-quickchart-complete:disabled,\n",
              "  .colab-df-quickchart-complete:disabled:hover {\n",
              "    background-color: var(--disabled-bg-color);\n",
              "    fill: var(--disabled-fill-color);\n",
              "    box-shadow: none;\n",
              "  }\n",
              "\n",
              "  .colab-df-spinner {\n",
              "    border: 2px solid var(--fill-color);\n",
              "    border-color: transparent;\n",
              "    border-bottom-color: var(--fill-color);\n",
              "    animation:\n",
              "      spin 1s steps(1) infinite;\n",
              "  }\n",
              "\n",
              "  @keyframes spin {\n",
              "    0% {\n",
              "      border-color: transparent;\n",
              "      border-bottom-color: var(--fill-color);\n",
              "      border-left-color: var(--fill-color);\n",
              "    }\n",
              "    20% {\n",
              "      border-color: transparent;\n",
              "      border-left-color: var(--fill-color);\n",
              "      border-top-color: var(--fill-color);\n",
              "    }\n",
              "    30% {\n",
              "      border-color: transparent;\n",
              "      border-left-color: var(--fill-color);\n",
              "      border-top-color: var(--fill-color);\n",
              "      border-right-color: var(--fill-color);\n",
              "    }\n",
              "    40% {\n",
              "      border-color: transparent;\n",
              "      border-right-color: var(--fill-color);\n",
              "      border-top-color: var(--fill-color);\n",
              "    }\n",
              "    60% {\n",
              "      border-color: transparent;\n",
              "      border-right-color: var(--fill-color);\n",
              "    }\n",
              "    80% {\n",
              "      border-color: transparent;\n",
              "      border-right-color: var(--fill-color);\n",
              "      border-bottom-color: var(--fill-color);\n",
              "    }\n",
              "    90% {\n",
              "      border-color: transparent;\n",
              "      border-bottom-color: var(--fill-color);\n",
              "    }\n",
              "  }\n",
              "</style>\n",
              "\n",
              "  <script>\n",
              "    async function quickchart(key) {\n",
              "      const quickchartButtonEl =\n",
              "        document.querySelector('#' + key + ' button');\n",
              "      quickchartButtonEl.disabled = true;  // To prevent multiple clicks.\n",
              "      quickchartButtonEl.classList.add('colab-df-spinner');\n",
              "      try {\n",
              "        const charts = await google.colab.kernel.invokeFunction(\n",
              "            'suggestCharts', [key], {});\n",
              "      } catch (error) {\n",
              "        console.error('Error during call to suggestCharts:', error);\n",
              "      }\n",
              "      quickchartButtonEl.classList.remove('colab-df-spinner');\n",
              "      quickchartButtonEl.classList.add('colab-df-quickchart-complete');\n",
              "    }\n",
              "    (() => {\n",
              "      let quickchartButtonEl =\n",
              "        document.querySelector('#df-7bbf74f1-943c-4ee9-b80e-4dd68d9f47c3 button');\n",
              "      quickchartButtonEl.style.display =\n",
              "        google.colab.kernel.accessAllowed ? 'block' : 'none';\n",
              "    })();\n",
              "  </script>\n",
              "</div>\n",
              "    </div>\n",
              "  </div>\n"
            ],
            "application/vnd.google.colaboratory.intrinsic+json": {
              "type": "dataframe",
              "variable_name": "df",
              "summary": "{\n  \"name\": \"df\",\n  \"rows\": 55938,\n  \"fields\": [\n    {\n      \"column\": \"text\",\n      \"properties\": {\n        \"dtype\": \"string\",\n        \"num_unique_values\": 46121,\n        \"samples\": [\n          \"\\u0422\\u0430\\u043a\\u0436\\u0435 \\u043d\\u0435 \\u043f\\u043e\\u043d\\u0440\\u0430\\u0432\\u0438\\u043b\\u0441\\u044f \\u043c\\u043e\\u043c\\u0435\\u043d\\u0442 \\u0441 \\u0434\\u043e\\u0441\\u0442\\u0430\\u0432\\u043a\\u043e\\u0439. \\u0417\\u0430\\u043a\\u0430\\u0437\\u044b\\u0432\\u0430\\u043b \\u0442\\u043e\\u0432\\u0430\\u0440 \\u0447\\u0435\\u0440\\u0435\\u0437 \\u043c\\u0430\\u0433\\u0430\\u0437\\u0438\\u043d Xiaomi, \\u0430 \\u043e\\u043d\\u0438 \\u0441\\u043e\\u0442\\u0440\\u0443\\u0434\\u043d\\u0438\\u0447\\u0430\\u044e\\u0442 \\u0441 \\u043a\\u0443\\u0440\\u044c\\u0435\\u0440\\u0441\\u043a\\u043e\\u0439 \\u0441\\u043b\\u0443\\u0436\\u0431\\u043e\\u0439 Gallop. \\u0422\\u0430\\u043a \\u0432\\u043e\\u0442, \\u0437\\u0430\\u043a\\u0430\\u0437\\u0430\\u043b \\u044f \\u0442\\u043e\\u0432\\u0430\\u0440 \\u043d\\u043e\\u0447\\u044c\\u044e 03.05.19, \\u043f\\u0440\\u0438\\u0448\\u043b\\u043e \\u0421\\u041c\\u0421, \\u0447\\u0442\\u043e \\u0442\\u043e\\u0432\\u0430\\u0440 \\u0431\\u0443\\u0434\\u0435\\u0442 \\u0443 \\u043c\\u0435\\u043d\\u044f 05.05.19, \\u0438 \\u0442\\u0430\\u043a \\u0436\\u0435 \\u043f\\u0440\\u0438\\u0448\\u043b\\u043e \\u0421\\u041c\\u0421, \\u0447\\u0442\\u043e \\u043c\\u043e\\u0439 \\u0431\\u0440\\u0430\\u0441\\u043b\\u0435\\u0442 \\u043f\\u0435\\u0440\\u0435\\u0434\\u0430\\u043b\\u0438 \\u0441\\u043b\\u0443\\u0436\\u0431\\u0435 \\u0434\\u043e\\u0441\\u0442\\u0430\\u0432\\u043a\\u0438 04.05.19 \\u0432 10 \\u0443\\u0442\\u0440\\u0430. \\u0422\\u0430\\u043a \\u043f\\u0440\\u043e\\u0431\\u043b\\u0435\\u043c\\u0430 \\u0437\\u0430\\u043a\\u043b\\u044e\\u0447\\u0430\\u0435\\u0442\\u0441\\u044f \\u0432 \\u0442\\u043e\\u043c, \\u0447\\u0442\\u043e \\u044d\\u0442\\u043e \\u043a\\u0443\\u0440\\u044c\\u0435\\u0440\\u0441\\u043a\\u0430\\u044f \\u043a\\u043e\\u043d\\u0442\\u043e\\u0440\\u043a\\u0430 \\u043d\\u0435 \\u0440\\u0430\\u0431\\u043e\\u0442\\u0430\\u043b\\u0430 05.05.19, \\u043f\\u043e\\u0442\\u043e\\u043c\\u0443 \\u0447\\u0442\\u043e \\u044d\\u0442\\u043e \\u0431\\u044b\\u043b\\u043e \\u0432\\u043e\\u0441\\u043a\\u0440\\u0435\\u0441\\u0435\\u043d\\u044c\\u0435. \\u0412\\u0435\\u0441\\u044c \\u0434\\u0435\\u043d\\u044c \\u044f \\u043f\\u0440\\u043e\\u0441\\u0438\\u0434\\u0435\\u043b \\u0434\\u043e\\u043c\\u0430, \\u043e\\u0436\\u0438\\u0434\\u0430\\u044f \\u0431\\u0440\\u0430\\u0441\\u043b\\u0435\\u0442 \\u0438 \\u043f\\u043e\\u043f\\u0443\\u0442\\u043d\\u043e \\u043f\\u044b\\u0442\\u0430\\u044f\\u0441\\u044c \\u0434\\u043e\\u0437\\u0432\\u043e\\u043d\\u0438\\u0442\\u044c\\u0441\\u044f \\u0434\\u043e \\u043a\\u043e\\u043d\\u0442\\u043e\\u0440\\u043a\\u0438 \\u0434\\u043e\\u0441\\u0442\\u0430\\u0432\\u043a\\u0438, \\u043d\\u043e \\u0432\\u0441\\u0435 \\u0431\\u044b\\u043b\\u043e \\u0442\\u0449\\u0435\\u0442\\u043d\\u043e. \\u0422\\u043e\\u043b\\u044c\\u043a\\u043e \\u043f\\u043e\\u0441\\u043b\\u0435 \\u0442\\u043e\\u0433\\u043e, \\u043a\\u0430\\u043a \\u044f \\u043f\\u043e\\u0437\\u0432\\u043e\\u043d\\u0438\\u043b \\u043d\\u0430\\u043f\\u0440\\u044f\\u043c\\u0443\\u044e \\u043f\\u043e\\u0441\\u0442\\u0430\\u0432\\u0449\\u0438\\u043a\\u0443, \\u043e\\u043d\\u0438 \\u043c\\u043d\\u0435 \\u043e\\u0431\\u044a\\u044f\\u0441\\u043d\\u0438\\u043b\\u0438, \\u0447\\u0442\\u043e \\u0443 \\u043a\\u043e\\u043d\\u0442\\u043e\\u0440\\u043a\\u0438-\\u0442\\u043e \\u0432\\u044b\\u0445\\u043e\\u0434\\u043d\\u043e\\u0439. \\u041a\\u0430\\u043a \\u0441\\u043b\\u0435\\u0434\\u0441\\u0442\\u0432\\u0438\\u0435, \\u043f\\u0440\\u043e\\u0441\\u0438\\u0434\\u0435\\u043b \\u0434\\u043e\\u043c\\u0430 \\u0446\\u0435\\u043b\\u044b\\u0439 \\u0434\\u0435\\u043d\\u044c, \\u0438 \\u043c\\u0435\\u043d\\u044f \\u0434\\u0430\\u0436\\u0435 \\u043d\\u0435 \\u043f\\u0440\\u0435\\u0434\\u0443\\u043f\\u0440\\u0435\\u0434\\u0438\\u043b\\u0438, \\u0447\\u0442\\u043e \\u0442\\u043e\\u0432\\u0430\\u0440\\u0430 \\u043d\\u0435 \\u0431\\u0443\\u0434\\u0435\\u0442. \\u0425\\u043e\\u0442\\u044f \\u043a\\u043e\\u043d\\u0442\\u0430\\u043a\\u0442\\u044b \\u0435\\u0441\\u0442\\u044c \\u0443 \\u043d\\u0438\\u0445, \\u0431\\u0435\\u0437\\u0430\\u043b\\u0430\\u0431\\u0435\\u0440\\u043d\\u043e\\u0441\\u0442\\u044c.<br>\\n\\u0423\\u0442\\u0440\\u043e\\u043c \\u043f\\u043e\\u043d\\u0435\\u0434\\u0435\\u043b\\u044c\\u043d\\u0438\\u043a\\u0430 \\u044f \\u0432\\u0441\\u0451-\\u0442\\u0430\\u043a\\u0438 \\u0434\\u043e\\u0437\\u0432\\u043e\\u043d\\u0438\\u043b\\u0441\\u044f \\u0434\\u043e \\u043a\\u043e\\u043d\\u0442\\u043e\\u0440\\u043a\\u0438 \\u0438 \\u0441\\u043f\\u0440\\u043e\\u0441\\u0438\\u043b, \\u043a\\u043e\\u0433\\u0434\\u0430 \\u043f\\u0440\\u0438\\u0434\\u0435\\u0442 \\u043c\\u043e\\u0439 \\u0442\\u043e\\u0432\\u0430\\u0440, \\u0438 \\u0437\\u0430\\u043e\\u0434\\u043d\\u043e \\u043f\\u043e\\u043c\\u0435\\u043d\\u044f\\u043b \\u0430\\u0434\\u0440\\u0435\\u0441. \\u0418\\u0431\\u043e \\u0440\\u0430\\u0431\\u043e\\u0442\\u0430\\u0442\\u044c \\u043d\\u0443\\u0436\\u043d\\u043e. \\u0422\\u0430\\u043a\\u0436\\u0435 \\u0441\\u043f\\u0440\\u043e\\u0441\\u0438\\u043b, \\u043f\\u043e\\u0447\\u0435\\u043c\\u0443 \\u043c\\u0435\\u043d\\u044f \\u043d\\u0435 \\u0443\\u0432\\u0435\\u0434\\u043e\\u043c\\u0438\\u043b\\u0438. \\u041d\\u0430 \\u0447\\u0442\\u043e \\u043f\\u043e\\u043b\\u0443\\u0447\\u0438\\u043b \\u043d\\u0435\\u0440\\u0430\\u0437\\u0431\\u043e\\u0440\\u0447\\u0438\\u0432\\u043e\\u0435 \\u043c\\u044b\\u0447\\u0430\\u043d\\u0438\\u0435 \\u0432 \\u0442\\u0440\\u0443\\u0431\\u043a\\u0443. \\u0414\\u0430\\u043b\\u0435\\u0435 \\u044f \\u0441\\u043f\\u0440\\u043e\\u0441\\u0438\\u043b, \\u043a\\u043e\\u0433\\u0434\\u0430 \\u043e\\u0436\\u0438\\u0434\\u0430\\u0442\\u044c \\u0437\\u0430\\u043a\\u0430\\u0437, \\u0430 \\u0438\\u043c\\u0435\\u043d\\u043d\\u043e \\u0432 \\u043a\\u0430\\u043a\\u043e\\u0435 \\u0432\\u0440\\u0435\\u043c\\u044f. \\u041d\\u0430 \\u0447\\u0442\\u043e \\u043c\\u043d\\u0435 \\u0441\\u043a\\u0430\\u0437\\u0430\\u043b\\u0438, \\u0447\\u0442\\u043e \\u043d\\u0435 \\u0437\\u043d\\u0430\\u044e\\u0442, \\u0432 \\u0442\\u0435\\u0447\\u0435\\u043d\\u0438\\u044f \\u0434\\u043d\\u044f \\u043d\\u0443\\u0436\\u043d\\u043e \\u0436\\u0434\\u0430\\u0442\\u044c.<br>\\n\\u041a\\u0430\\u043a \\u0441\\u043b\\u0435\\u0434\\u0441\\u0442\\u0432\\u0438\\u0435, \\u0442\\u043e\\u0432\\u0430\\u0440 \\u043f\\u0440\\u0438\\u0431\\u044b\\u043b \\u0442\\u043e\\u043b\\u044c\\u043a\\u043e \\u0432 \\u0431\\u043b\\u0438\\u0436\\u0435 \\u043a 4 \\u0432\\u0435\\u0447\\u0435\\u0440\\u0430. \\u0422\\u0430\\u043a \\u0435\\u0449\\u0451 \\u043e\\u043d\\u0438 \\u0437\\u0432\\u043e\\u043d\\u0438\\u043b\\u0438 \\u0438 \\u043f\\u044b\\u0442\\u0430\\u043b\\u0438\\u0441\\u044c \\u0437\\u0430\\u0432\\u0435\\u0441\\u0442\\u0438 \\u0442\\u043e\\u0432\\u0430\\u0440 \\u043f\\u043e \\u0441\\u0442\\u0430\\u0440\\u043e\\u043c\\u0443 \\u0430\\u0434\\u0440\\u0435\\u0441\\u0443. \\u0425\\u043e\\u0442\\u044f \\u044f \\u0441\\u0434\\u0435\\u043b\\u0430\\u043b \\u043f\\u0435\\u0440\\u0435\\u0430\\u0434\\u0440\\u0435\\u0441\\u0430\\u0446\\u0438\\u044e.<br>\\n\\u041a\\u043e\\u043d\\u0442\\u043e\\u0440\\u043a\\u0430 Gallop \\u043e\\u0447\\u0435\\u043d\\u044c \\u043f\\u043b\\u043e\\u0445\\u0430\\u044f, \\u0441 \\u043a\\u0443\\u0440\\u044c\\u0435\\u0440\\u043e\\u043c \\u043d\\u0435 \\u0441\\u0432\\u044f\\u0437\\u0430\\u0442\\u044c\\u0441\\u044f, \\u0442\\u043e\\u0447\\u043d\\u043e\\u0435 \\u0432\\u0440\\u0435\\u043c\\u044f \\u043d\\u0435 \\u0443\\u0437\\u043d\\u0430\\u0442\\u044c. \\u0423\\u0436 \\u043b\\u0443\\u0447\\u0448\\u0435 \\u044f \\u0441\\u0430\\u043c\\u043e\\u0432\\u044b\\u0432\\u043e\\u0437 \\u043e\\u0440\\u0433\\u0430\\u043d\\u0438\\u0437\\u043e\\u0432\\u0430\\u043b \\u0431\\u044b. \\u041a\\u0440\\u0430\\u0439\\u043d\\u0435 \\u043d\\u0435 \\u0441\\u043e\\u0432\\u0435\\u0442\\u0443\\u044e \\u0436\\u0434\\u0430\\u0442\\u044c \\u0434\\u043e\\u0441\\u0442\\u0430\\u0432\\u043a\\u0443 \\u043e\\u0442 Gallop. \\u0411\\u043b\\u0430\\u0433\\u043e \\u0445\\u043e\\u0442\\u044c \\u0442\\u043e\\u0432\\u0430\\u0440 \\u043d\\u0435 \\u043f\\u043e\\u0432\\u0440\\u0435\\u0434\\u0438\\u043b\\u0438.\",\n          \"\\u041c\\u043e\\u0436\\u043d\\u043e \\u0441\\u043c\\u0435\\u043b\\u043e \\u0431\\u0440\\u0430\\u0442\\u044c \\u044d\\u0442\\u043e\\u0442 \\u0442\\u0435\\u043b\\u0435\\u0444\\u043e\\u043d!\",\n          \"\\u041a\\u043b\\u0430\\u0441\\u0441\\u043d\\u044b\\u0439 \\u0430\\u043f\\u043f\\u0430\\u0440\\u0430\\u0442 iBOX\"\n        ],\n        \"semantic_type\": \"\",\n        \"description\": \"\"\n      }\n    },\n    {\n      \"column\": \"category\",\n      \"properties\": {\n        \"dtype\": \"category\",\n        \"num_unique_values\": 17,\n        \"samples\": [\n          \"perfumes\",\n          \"smartphones\",\n          \"tires\"\n        ],\n        \"semantic_type\": \"\",\n        \"description\": \"\"\n      }\n    }\n  ]\n}"
            }
          },
          "metadata": {},
          "execution_count": 12
        }
      ]
    },
    {
      "cell_type": "code",
      "source": [
        "df_train = df[:50000]\n",
        "df_test = df[50001:]"
      ],
      "metadata": {
        "id": "FtI1dphjmDeZ"
      },
      "execution_count": 13,
      "outputs": []
    },
    {
      "cell_type": "code",
      "source": [
        "df_train.info()"
      ],
      "metadata": {
        "colab": {
          "base_uri": "https://localhost:8080/"
        },
        "id": "4cyTCRq0ncru",
        "outputId": "95f0968a-0f8b-4af4-df11-74a098ff57df"
      },
      "execution_count": 14,
      "outputs": [
        {
          "output_type": "stream",
          "name": "stdout",
          "text": [
            "<class 'pandas.core.frame.DataFrame'>\n",
            "Index: 50000 entries, 0 to 106766\n",
            "Data columns (total 2 columns):\n",
            " #   Column    Non-Null Count  Dtype \n",
            "---  ------    --------------  ----- \n",
            " 0   text      50000 non-null  object\n",
            " 1   category  50000 non-null  object\n",
            "dtypes: object(2)\n",
            "memory usage: 1.1+ MB\n"
          ]
        }
      ]
    },
    {
      "cell_type": "code",
      "source": [
        "df_test.info()"
      ],
      "metadata": {
        "colab": {
          "base_uri": "https://localhost:8080/"
        },
        "id": "PD9KHNWbniEa",
        "outputId": "b0d5e222-1b52-4ad6-ad68-9f47c44bfc62"
      },
      "execution_count": 15,
      "outputs": [
        {
          "output_type": "stream",
          "name": "stdout",
          "text": [
            "<class 'pandas.core.frame.DataFrame'>\n",
            "Index: 5937 entries, 106768 to 119045\n",
            "Data columns (total 2 columns):\n",
            " #   Column    Non-Null Count  Dtype \n",
            "---  ------    --------------  ----- \n",
            " 0   text      5937 non-null   object\n",
            " 1   category  5937 non-null   object\n",
            "dtypes: object(2)\n",
            "memory usage: 139.1+ KB\n"
          ]
        }
      ]
    },
    {
      "cell_type": "code",
      "source": [
        "def strip_emoji(text):\n",
        "    return re.sub(emoji.get_emoji_regexp(), r\"\", text) #удаляем emoji (смайлики)\n",
        "\n",
        "# Удаляем пунктуацию, ссылки, упоминание других участников, символы конца строки и переноса \\r\\n\n",
        "def strip_all_entities(text):\n",
        "    text = text.replace('\\r', '').replace('\\n', ' ').replace('\\n', ' ').lower() # удаляем \\n и \\r и переводим строку в нижний регистр\n",
        "    text = re.sub(r\"(?:\\@|https?\\://)\\S+\", \"\", text) # удаление ссылок и упоминаний других участников\n",
        "    text = re.sub(r'[^\\x00-\\x7f]',r'', text) # удаление символов не utf8/ascii, таких как '\\x9a\\x91\\x97\\x9a\\x97'\n",
        "    banned_list= string.punctuation + 'Ã'+'±'+'ã'+'¼'+'â'+'»'+'§' # символы для удаления, включая пунктуацию\n",
        "    table = str.maketrans('', '', banned_list) # создание словаря замены\n",
        "    text = text.translate(table) # применение к строке словаря замены\n",
        "    return text\n",
        "\n",
        "# убираем хэштеги в конце предложения и оставляем в середине, удалив только символ #\n",
        "def clean_hashtags(tweet):\n",
        "    new_tweet = \" \".join(word.strip() for word in re.split('#(?!(?:hashtag)\\b)[\\w-]+(?=(?:\\s+#[\\w-]+)*\\s*$)', tweet)) # удаление последнего хэштега\n",
        "    new_tweet2 = \" \".join(word.strip() for word in re.split('#|_', new_tweet)) # удаление символа хэштега в середине предложения\n",
        "    return new_tweet2\n",
        "\n",
        "# Фильтрация специальных символов, таких как & и $, присутствующих в некоторых словах\n",
        "def filter_chars(a):\n",
        "    sent = []\n",
        "    for word in a.split(' '):\n",
        "        if ('$' in word) | ('&' in word):\n",
        "            sent.append('')\n",
        "        else:\n",
        "            sent.append(word)\n",
        "    return ' '.join(sent)\n",
        "\n",
        "def remove_mult_spaces(text): # удаление множественных пробелов с помощью регулярки\n",
        "    return re.sub(\"\\s\\s+\" , \" \", text)"
      ],
      "metadata": {
        "id": "qSkEww22l88y"
      },
      "execution_count": 16,
      "outputs": []
    },
    {
      "cell_type": "code",
      "source": [
        "texts_new = []\n",
        "for t in df_train.text:\n",
        "    texts_new.append(t)"
      ],
      "metadata": {
        "id": "qUoEmtKWo2H5"
      },
      "execution_count": null,
      "outputs": []
    },
    {
      "cell_type": "code",
      "source": [
        "texts_new_test = []\n",
        "for t in df_test.text:\n",
        "    texts_new_test.append(t)"
      ],
      "metadata": {
        "id": "-IQdja-po67N"
      },
      "execution_count": null,
      "outputs": []
    },
    {
      "cell_type": "code",
      "source": [
        "# texts_new = []\n",
        "# for t in df_train.text:\n",
        "#     texts_new.append(remove_mult_spaces(filter_chars(clean_hashtags(strip_all_entities(strip_emoji(t))))))"
      ],
      "metadata": {
        "id": "wVVktMkSl9y7"
      },
      "execution_count": 18,
      "outputs": []
    },
    {
      "cell_type": "code",
      "source": [
        "# texts_new_test = []\n",
        "# for t in df_test.text:\n",
        "#     texts_new_test.append(remove_mult_spaces(filter_chars(clean_hashtags(strip_all_entities(strip_emoji(t))))))"
      ],
      "metadata": {
        "id": "uqqGT9fxl_rD"
      },
      "execution_count": 19,
      "outputs": []
    },
    {
      "cell_type": "code",
      "source": [
        "df_train['text_clean'] = texts_new\n",
        "df_test['text_clean'] = texts_new_test"
      ],
      "metadata": {
        "id": "Yx-JYz2JmYlK"
      },
      "execution_count": 20,
      "outputs": []
    },
    {
      "cell_type": "code",
      "source": [
        "df_train['text_clean'].head(3)"
      ],
      "metadata": {
        "colab": {
          "base_uri": "https://localhost:8080/",
          "height": 178
        },
        "id": "g6dz5HermaUq",
        "outputId": "011469ff-0045-4780-f505-a6e1fe3a6c9b"
      },
      "execution_count": 21,
      "outputs": [
        {
          "output_type": "execute_result",
          "data": {
            "text/plain": [
              "0                             \n",
              "1    dkny kaspikz parfumshopkz\n",
              "4                             \n",
              "Name: text_clean, dtype: object"
            ],
            "text/html": [
              "<div>\n",
              "<style scoped>\n",
              "    .dataframe tbody tr th:only-of-type {\n",
              "        vertical-align: middle;\n",
              "    }\n",
              "\n",
              "    .dataframe tbody tr th {\n",
              "        vertical-align: top;\n",
              "    }\n",
              "\n",
              "    .dataframe thead th {\n",
              "        text-align: right;\n",
              "    }\n",
              "</style>\n",
              "<table border=\"1\" class=\"dataframe\">\n",
              "  <thead>\n",
              "    <tr style=\"text-align: right;\">\n",
              "      <th></th>\n",
              "      <th>text_clean</th>\n",
              "    </tr>\n",
              "  </thead>\n",
              "  <tbody>\n",
              "    <tr>\n",
              "      <th>0</th>\n",
              "      <td></td>\n",
              "    </tr>\n",
              "    <tr>\n",
              "      <th>1</th>\n",
              "      <td>dkny kaspikz parfumshopkz</td>\n",
              "    </tr>\n",
              "    <tr>\n",
              "      <th>4</th>\n",
              "      <td></td>\n",
              "    </tr>\n",
              "  </tbody>\n",
              "</table>\n",
              "</div><br><label><b>dtype:</b> object</label>"
            ]
          },
          "metadata": {},
          "execution_count": 21
        }
      ]
    },
    {
      "cell_type": "code",
      "source": [
        "df_test['text_clean'].head(3)"
      ],
      "metadata": {
        "colab": {
          "base_uri": "https://localhost:8080/",
          "height": 178
        },
        "id": "Jvg-we8gmcH_",
        "outputId": "6d40d705-86c9-4843-caef-7442c5e5a9cd"
      },
      "execution_count": 22,
      "outputs": [
        {
          "output_type": "execute_result",
          "data": {
            "text/plain": [
              "106768    \n",
              "106769    \n",
              "106772    \n",
              "Name: text_clean, dtype: object"
            ],
            "text/html": [
              "<div>\n",
              "<style scoped>\n",
              "    .dataframe tbody tr th:only-of-type {\n",
              "        vertical-align: middle;\n",
              "    }\n",
              "\n",
              "    .dataframe tbody tr th {\n",
              "        vertical-align: top;\n",
              "    }\n",
              "\n",
              "    .dataframe thead th {\n",
              "        text-align: right;\n",
              "    }\n",
              "</style>\n",
              "<table border=\"1\" class=\"dataframe\">\n",
              "  <thead>\n",
              "    <tr style=\"text-align: right;\">\n",
              "      <th></th>\n",
              "      <th>text_clean</th>\n",
              "    </tr>\n",
              "  </thead>\n",
              "  <tbody>\n",
              "    <tr>\n",
              "      <th>106768</th>\n",
              "      <td></td>\n",
              "    </tr>\n",
              "    <tr>\n",
              "      <th>106769</th>\n",
              "      <td></td>\n",
              "    </tr>\n",
              "    <tr>\n",
              "      <th>106772</th>\n",
              "      <td></td>\n",
              "    </tr>\n",
              "  </tbody>\n",
              "</table>\n",
              "</div><br><label><b>dtype:</b> object</label>"
            ]
          },
          "metadata": {},
          "execution_count": 22
        }
      ]
    },
    {
      "cell_type": "code",
      "source": [
        "text_len = []\n",
        "for text in df_train.text_clean:\n",
        "    tweet_len = len(text.split())\n",
        "    text_len.append(tweet_len)\n",
        "\n",
        "df_train['text_len'] = text_len"
      ],
      "metadata": {
        "id": "Cr01LuK5mfLR"
      },
      "execution_count": 23,
      "outputs": []
    },
    {
      "cell_type": "code",
      "source": [
        "text_len_test = []\n",
        "for text in df_test.text_clean:\n",
        "    tweet_len = len(text.split())\n",
        "    text_len_test.append(tweet_len)\n",
        "\n",
        "df_test['text_len'] = text_len_test"
      ],
      "metadata": {
        "id": "QbWe3xSImgZ9"
      },
      "execution_count": 24,
      "outputs": []
    },
    {
      "cell_type": "code",
      "source": [
        "plt.figure(figsize=(5,3))\n",
        "ax = sns.countplot(x='text_len', data=df_train[df_train['text_len']<10], palette='mako')\n",
        "plt.title('Твиты с длиной сообщений менее 10 слов (обучающая выборка)')\n",
        "plt.yticks([])\n",
        "ax.bar_label(ax.containers[0])\n",
        "plt.ylabel('Число таких твитов')\n",
        "plt.xlabel('')\n",
        "plt.show()"
      ],
      "metadata": {
        "colab": {
          "base_uri": "https://localhost:8080/",
          "height": 306
        },
        "id": "Ue7PNEYZmh8E",
        "outputId": "8fe23b9b-8157-4c89-f87a-90999265d585"
      },
      "execution_count": 25,
      "outputs": [
        {
          "output_type": "display_data",
          "data": {
            "text/plain": [
              "<Figure size 500x300 with 1 Axes>"
            ],
            "image/png": "[encoded data removed]"
          },
          "metadata": {}
        }
      ]
    },
    {
      "cell_type": "code",
      "source": [
        "plt.figure(figsize=(5,3))\n",
        "ax = sns.countplot(x='text_len', data=df_test[df_test['text_len']<10], palette='mako')\n",
        "plt.title('Твиты с длиной сообщений менее 10 слов (тестовая выборка)')\n",
        "plt.yticks([])\n",
        "ax.bar_label(ax.containers[0])\n",
        "plt.ylabel('Число таких твитов')\n",
        "plt.xlabel('')\n",
        "plt.show()"
      ],
      "metadata": {
        "colab": {
          "base_uri": "https://localhost:8080/",
          "height": 306
        },
        "id": "cSn_JpQxmjIQ",
        "outputId": "3ed6a384-6e98-42ae-a3c1-f521541371a4"
      },
      "execution_count": 26,
      "outputs": [
        {
          "output_type": "display_data",
          "data": {
            "text/plain": [
              "<Figure size 500x300 with 1 Axes>"
            ],
            "image/png": "[encoded data removed]"
          },
          "metadata": {}
        }
      ]
    }
  ]
}