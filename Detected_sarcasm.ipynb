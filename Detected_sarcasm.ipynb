{
  "nbformat": 4,
  "nbformat_minor": 0,
  "metadata": {
    "colab": {
      "provenance": [],
      "gpuType": "V28",
      "include_colab_link": true
    },
    "kernelspec": {
      "name": "python3",
      "display_name": "Python 3"
    },
    "language_info": {
      "name": "python"
    },
    "accelerator": "TPU"
  },
  "cells": [
    {
      "cell_type": "markdown",
      "metadata": {
        "id": "view-in-github",
        "colab_type": "text"
      },
      "source": [
        "<a href=\"https://colab.research.google.com/github/Maxxx-VS/The-Founder/blob/master/Detected_sarcasm.ipynb\" target=\"_parent\"><img src=\"https://colab.research.google.com/assets/colab-badge.svg\" alt=\"Open In Colab\"/></a>"
      ]
    },
    {
      "cell_type": "markdown",
      "source": [
        "**Навигация по уроку**\n",
        "\n",
        "1. [Первое знакомство с AutoML](https://colab.research.google.com/drive/1bCWyzlp1-tcvt7TE60m4hFnRd5AWscWY)\n",
        "2. [Гиперпараметры и оптимизация моделей](https://colab.research.google.com/drive/1CN69NftfVXUliyv11FGbM7qOYbO0XON5)\n",
        "3. [AutoML в Keras](https://colab.research.google.com/drive/1V7mfY8da0S-FbWxhQbchJM38JSJBmtoZ)\n",
        "4. Домашняя работа"
      ],
      "metadata": {
        "id": "OkPiPBslB9nD"
      }
    },
    {
      "cell_type": "markdown",
      "source": [
        "В домашней работе необходимо с помощью AutoKeras или KerasTuner найти оптимальную модель для решения одной из следующей задач:\n",
        "\n",
        "1. На 3 балла. Обучите модель с точностью не менее 90% предсказывать сарказм в новостных заголовках. Составьте 5 произвольных заголовков, которых нет в датасете и проверьте на них обученную модель, сделайте выводы. Ссылка на [датасет](https://storage.yandexcloud.net/academy.ai/Sarcasm_Headlines_Dataset_v2.json.zip).\n",
        "2. На 4 балла. Используйте [русский корпус новостей от Lenta.ru](https://www.kaggle.com/datasets/yutkin/corpus-of-russian-news-articles-from-lenta/data) подберите и обучите модель классифицировать новости по заголовкам на классы (поле topic в датасете). Используйте 9 самых часто встречаемых топиков и 10-й для остальных, не вошедших в 9 классов. Оцените модель с помощью отчета о классификации, сделайте выводы.  \n",
        "3. На 5 баллов. Найдите публичный датасет по обращениям граждан в администрацию, техническую поддержку или за консультацией. Обучите модель классифицировать обращения по тематикам. Сформируйте отчет о классификации и матрицу ошибок."
      ],
      "metadata": {
        "id": "W-cexaowCTp5"
      }
    },
    {
      "cell_type": "code",
      "source": [
        "!wget https://storage.yandexcloud.net/academy.ai/Sarcasm_Headlines_Dataset_v2.json.zip\n",
        "!unzip -qo \"Sarcasm_Headlines_Dataset_v2.json.zip\" -d ./dataset\n",
        "!pip install autokeras==1.1.0 tensorflow==2.15.1 keras-nlp==0.5.1"
      ],
      "metadata": {
        "id": "42KKIBvaEpBi",
        "outputId": "eef21094-e327-4d5c-a5f6-2ac35b66404a",
        "colab": {
          "base_uri": "https://localhost:8080/"
        }
      },
      "execution_count": 1,
      "outputs": [
        {
          "output_type": "stream",
          "name": "stdout",
          "text": [
            "--2024-10-30 07:54:52--  https://storage.yandexcloud.net/academy.ai/Sarcasm_Headlines_Dataset_v2.json.zip\n",
            "Resolving storage.yandexcloud.net (storage.yandexcloud.net)... 213.180.193.243, 2a02:6b8::1d9\n",
            "Connecting to storage.yandexcloud.net (storage.yandexcloud.net)|213.180.193.243|:443... connected.\n",
            "HTTP request sent, awaiting response... 200 OK\n",
            "Length: 1789636 (1.7M) [application/x-zip-compressed]\n",
            "Saving to: ‘Sarcasm_Headlines_Dataset_v2.json.zip’\n",
            "\n",
            "Sarcasm_Headlines_D 100%[===================>]   1.71M  1.61MB/s    in 1.1s    \n",
            "\n",
            "2024-10-30 07:54:54 (1.61 MB/s) - ‘Sarcasm_Headlines_Dataset_v2.json.zip’ saved [1789636/1789636]\n",
            "\n",
            "Collecting autokeras==1.1.0\n",
            "  Downloading autokeras-1.1.0-py3-none-any.whl.metadata (5.8 kB)\n",
            "Collecting tensorflow==2.15.1\n",
            "  Downloading tensorflow-2.15.1-cp310-cp310-manylinux_2_17_x86_64.manylinux2014_x86_64.whl.metadata (4.2 kB)\n",
            "Collecting keras-nlp==0.5.1\n",
            "  Downloading keras_nlp-0.5.1-py3-none-any.whl.metadata (5.7 kB)\n",
            "Requirement already satisfied: packaging in /usr/local/lib/python3.10/dist-packages (from autokeras==1.1.0) (24.1)\n",
            "Collecting keras-tuner>=1.1.0 (from autokeras==1.1.0)\n",
            "  Downloading keras_tuner-1.4.7-py3-none-any.whl.metadata (5.4 kB)\n",
            "Requirement already satisfied: pandas in /usr/local/lib/python3.10/dist-packages (from autokeras==1.1.0) (2.2.2)\n",
            "Requirement already satisfied: absl-py>=1.0.0 in /usr/local/lib/python3.10/dist-packages (from tensorflow==2.15.1) (1.4.0)\n",
            "Requirement already satisfied: astunparse>=1.6.0 in /usr/local/lib/python3.10/dist-packages (from tensorflow==2.15.1) (1.6.3)\n",
            "Requirement already satisfied: flatbuffers>=23.5.26 in /usr/local/lib/python3.10/dist-packages (from tensorflow==2.15.1) (24.3.25)\n",
            "Requirement already satisfied: gast!=0.5.0,!=0.5.1,!=0.5.2,>=0.2.1 in /usr/local/lib/python3.10/dist-packages (from tensorflow==2.15.1) (0.6.0)\n",
            "Requirement already satisfied: google-pasta>=0.1.1 in /usr/local/lib/python3.10/dist-packages (from tensorflow==2.15.1) (0.2.0)\n",
            "Requirement already satisfied: h5py>=2.9.0 in /usr/local/lib/python3.10/dist-packages (from tensorflow==2.15.1) (3.12.1)\n",
            "Requirement already satisfied: libclang>=13.0.0 in /usr/local/lib/python3.10/dist-packages (from tensorflow==2.15.1) (18.1.1)\n",
            "Collecting ml-dtypes~=0.3.1 (from tensorflow==2.15.1)\n",
            "  Downloading ml_dtypes-0.3.2-cp310-cp310-manylinux_2_17_x86_64.manylinux2014_x86_64.whl.metadata (20 kB)\n",
            "Requirement already satisfied: numpy<2.0.0,>=1.23.5 in /usr/local/lib/python3.10/dist-packages (from tensorflow==2.15.1) (1.26.4)\n",
            "Requirement already satisfied: opt-einsum>=2.3.2 in /usr/local/lib/python3.10/dist-packages (from tensorflow==2.15.1) (3.4.0)\n",
            "Requirement already satisfied: protobuf!=4.21.0,!=4.21.1,!=4.21.2,!=4.21.3,!=4.21.4,!=4.21.5,<5.0.0dev,>=3.20.3 in /usr/local/lib/python3.10/dist-packages (from tensorflow==2.15.1) (4.25.5)\n",
            "Requirement already satisfied: setuptools in /usr/local/lib/python3.10/dist-packages (from tensorflow==2.15.1) (75.1.0)\n",
            "Requirement already satisfied: six>=1.12.0 in /usr/local/lib/python3.10/dist-packages (from tensorflow==2.15.1) (1.16.0)\n",
            "Requirement already satisfied: termcolor>=1.1.0 in /usr/local/lib/python3.10/dist-packages (from tensorflow==2.15.1) (2.5.0)\n",
            "Requirement already satisfied: typing-extensions>=3.6.6 in /usr/local/lib/python3.10/dist-packages (from tensorflow==2.15.1) (4.12.2)\n",
            "Requirement already satisfied: wrapt<1.15,>=1.11.0 in /usr/local/lib/python3.10/dist-packages (from tensorflow==2.15.1) (1.14.1)\n",
            "Requirement already satisfied: tensorflow-io-gcs-filesystem>=0.23.1 in /usr/local/lib/python3.10/dist-packages (from tensorflow==2.15.1) (0.37.1)\n",
            "Requirement already satisfied: grpcio<2.0,>=1.24.3 in /usr/local/lib/python3.10/dist-packages (from tensorflow==2.15.1) (1.67.0)\n",
            "Requirement already satisfied: tensorboard<2.16,>=2.15 in /usr/local/lib/python3.10/dist-packages (from tensorflow==2.15.1) (2.15.2)\n",
            "Requirement already satisfied: tensorflow-estimator<2.16,>=2.15.0 in /usr/local/lib/python3.10/dist-packages (from tensorflow==2.15.1) (2.15.0)\n",
            "Requirement already satisfied: keras<2.16,>=2.15.0 in /usr/local/lib/python3.10/dist-packages (from tensorflow==2.15.1) (2.15.0)\n",
            "Requirement already satisfied: tensorflow-text in /usr/local/lib/python3.10/dist-packages (from keras-nlp==0.5.1) (2.15.0)\n",
            "Requirement already satisfied: wheel<1.0,>=0.23.0 in /usr/local/lib/python3.10/dist-packages (from astunparse>=1.6.0->tensorflow==2.15.1) (0.44.0)\n",
            "Requirement already satisfied: requests in /usr/local/lib/python3.10/dist-packages (from keras-tuner>=1.1.0->autokeras==1.1.0) (2.32.3)\n",
            "Collecting kt-legacy (from keras-tuner>=1.1.0->autokeras==1.1.0)\n",
            "  Downloading kt_legacy-1.0.5-py3-none-any.whl.metadata (221 bytes)\n",
            "Requirement already satisfied: google-auth<3,>=1.6.3 in /usr/local/lib/python3.10/dist-packages (from tensorboard<2.16,>=2.15->tensorflow==2.15.1) (2.27.0)\n",
            "Requirement already satisfied: google-auth-oauthlib<2,>=0.5 in /usr/local/lib/python3.10/dist-packages (from tensorboard<2.16,>=2.15->tensorflow==2.15.1) (1.2.1)\n",
            "Requirement already satisfied: markdown>=2.6.8 in /usr/local/lib/python3.10/dist-packages (from tensorboard<2.16,>=2.15->tensorflow==2.15.1) (3.7)\n",
            "Requirement already satisfied: tensorboard-data-server<0.8.0,>=0.7.0 in /usr/local/lib/python3.10/dist-packages (from tensorboard<2.16,>=2.15->tensorflow==2.15.1) (0.7.2)\n",
            "Requirement already satisfied: werkzeug>=1.0.1 in /usr/local/lib/python3.10/dist-packages (from tensorboard<2.16,>=2.15->tensorflow==2.15.1) (3.0.5)\n",
            "Requirement already satisfied: python-dateutil>=2.8.2 in /usr/local/lib/python3.10/dist-packages (from pandas->autokeras==1.1.0) (2.9.0.post0)\n",
            "Requirement already satisfied: pytz>=2020.1 in /usr/local/lib/python3.10/dist-packages (from pandas->autokeras==1.1.0) (2024.2)\n",
            "Requirement already satisfied: tzdata>=2022.7 in /usr/local/lib/python3.10/dist-packages (from pandas->autokeras==1.1.0) (2024.2)\n",
            "Requirement already satisfied: tensorflow-hub>=0.13.0 in /usr/local/lib/python3.10/dist-packages (from tensorflow-text->keras-nlp==0.5.1) (0.16.1)\n",
            "Requirement already satisfied: cachetools<6.0,>=2.0.0 in /usr/local/lib/python3.10/dist-packages (from google-auth<3,>=1.6.3->tensorboard<2.16,>=2.15->tensorflow==2.15.1) (5.5.0)\n",
            "Requirement already satisfied: pyasn1-modules>=0.2.1 in /usr/local/lib/python3.10/dist-packages (from google-auth<3,>=1.6.3->tensorboard<2.16,>=2.15->tensorflow==2.15.1) (0.4.1)\n",
            "Requirement already satisfied: rsa<5,>=3.1.4 in /usr/local/lib/python3.10/dist-packages (from google-auth<3,>=1.6.3->tensorboard<2.16,>=2.15->tensorflow==2.15.1) (4.9)\n",
            "Requirement already satisfied: requests-oauthlib>=0.7.0 in /usr/local/lib/python3.10/dist-packages (from google-auth-oauthlib<2,>=0.5->tensorboard<2.16,>=2.15->tensorflow==2.15.1) (2.0.0)\n",
            "Requirement already satisfied: charset-normalizer<4,>=2 in /usr/local/lib/python3.10/dist-packages (from requests->keras-tuner>=1.1.0->autokeras==1.1.0) (3.4.0)\n",
            "Requirement already satisfied: idna<4,>=2.5 in /usr/local/lib/python3.10/dist-packages (from requests->keras-tuner>=1.1.0->autokeras==1.1.0) (3.10)\n",
            "Requirement already satisfied: urllib3<3,>=1.21.1 in /usr/local/lib/python3.10/dist-packages (from requests->keras-tuner>=1.1.0->autokeras==1.1.0) (2.2.3)\n",
            "Requirement already satisfied: certifi>=2017.4.17 in /usr/local/lib/python3.10/dist-packages (from requests->keras-tuner>=1.1.0->autokeras==1.1.0) (2024.8.30)\n",
            "Requirement already satisfied: tf-keras>=2.14.1 in /usr/local/lib/python3.10/dist-packages (from tensorflow-hub>=0.13.0->tensorflow-text->keras-nlp==0.5.1) (2.15.1)\n",
            "Requirement already satisfied: MarkupSafe>=2.1.1 in /usr/local/lib/python3.10/dist-packages (from werkzeug>=1.0.1->tensorboard<2.16,>=2.15->tensorflow==2.15.1) (3.0.2)\n",
            "Requirement already satisfied: pyasn1<0.7.0,>=0.4.6 in /usr/local/lib/python3.10/dist-packages (from pyasn1-modules>=0.2.1->google-auth<3,>=1.6.3->tensorboard<2.16,>=2.15->tensorflow==2.15.1) (0.6.1)\n",
            "Requirement already satisfied: oauthlib>=3.0.0 in /usr/local/lib/python3.10/dist-packages (from requests-oauthlib>=0.7.0->google-auth-oauthlib<2,>=0.5->tensorboard<2.16,>=2.15->tensorflow==2.15.1) (3.2.2)\n",
            "Downloading autokeras-1.1.0-py3-none-any.whl (148 kB)\n",
            "\u001b[2K   \u001b[90m━━━━━━━━━━━━━━━━━━━━━━━━━━━━━━━━━━━━━━━━\u001b[0m \u001b[32m148.6/148.6 kB\u001b[0m \u001b[31m3.2 MB/s\u001b[0m eta \u001b[36m0:00:00\u001b[0m\n",
            "\u001b[?25hDownloading tensorflow-2.15.1-cp310-cp310-manylinux_2_17_x86_64.manylinux2014_x86_64.whl (475.2 MB)\n",
            "\u001b[2K   \u001b[90m━━━━━━━━━━━━━━━━━━━━━━━━━━━━━━━━━━━━━━━━\u001b[0m \u001b[32m475.2/475.2 MB\u001b[0m \u001b[31m1.8 MB/s\u001b[0m eta \u001b[36m0:00:00\u001b[0m\n",
            "\u001b[?25hDownloading keras_nlp-0.5.1-py3-none-any.whl (527 kB)\n",
            "\u001b[2K   \u001b[90m━━━━━━━━━━━━━━━━━━━━━━━━━━━━━━━━━━━━━━━━\u001b[0m \u001b[32m527.1/527.1 kB\u001b[0m \u001b[31m17.6 MB/s\u001b[0m eta \u001b[36m0:00:00\u001b[0m\n",
            "\u001b[?25hDownloading keras_tuner-1.4.7-py3-none-any.whl (129 kB)\n",
            "\u001b[2K   \u001b[90m━━━━━━━━━━━━━━━━━━━━━━━━━━━━━━━━━━━━━━━━\u001b[0m \u001b[32m129.1/129.1 kB\u001b[0m \u001b[31m8.8 MB/s\u001b[0m eta \u001b[36m0:00:00\u001b[0m\n",
            "\u001b[?25hDownloading ml_dtypes-0.3.2-cp310-cp310-manylinux_2_17_x86_64.manylinux2014_x86_64.whl (2.2 MB)\n",
            "\u001b[2K   \u001b[90m━━━━━━━━━━━━━━━━━━━━━━━━━━━━━━━━━━━━━━━━\u001b[0m \u001b[32m2.2/2.2 MB\u001b[0m \u001b[31m65.5 MB/s\u001b[0m eta \u001b[36m0:00:00\u001b[0m\n",
            "\u001b[?25hDownloading kt_legacy-1.0.5-py3-none-any.whl (9.6 kB)\n",
            "Installing collected packages: kt-legacy, ml-dtypes, keras-tuner, tensorflow, keras-nlp, autokeras\n",
            "  Attempting uninstall: ml-dtypes\n",
            "    Found existing installation: ml-dtypes 0.2.0\n",
            "    Uninstalling ml-dtypes-0.2.0:\n",
            "      Successfully uninstalled ml-dtypes-0.2.0\n",
            "  Attempting uninstall: tensorflow\n",
            "    Found existing installation: tensorflow 2.15.0\n",
            "    Uninstalling tensorflow-2.15.0:\n",
            "      Successfully uninstalled tensorflow-2.15.0\n",
            "Successfully installed autokeras-1.1.0 keras-nlp-0.5.1 keras-tuner-1.4.7 kt-legacy-1.0.5 ml-dtypes-0.3.2 tensorflow-2.15.1\n"
          ]
        }
      ]
    },
    {
      "cell_type": "code",
      "source": [
        "import tensorflow as tf\n",
        "import keras_nlp as nlp\n",
        "import numpy as np\n",
        "import pandas as pd\n",
        "import re\n",
        "import tensorflow as tf\n",
        "import autokeras as ak\n",
        "import seaborn as sns\n",
        "import matplotlib.pyplot as plt\n",
        "%matplotlib inline\n",
        "\n",
        "# Утилита для расщепления выборки\n",
        "from sklearn.model_selection import train_test_split\n",
        "\n",
        "# Необходимые метрики для построения Матрицы ошибок и отчета о классификации\n",
        "from sklearn.metrics import classification_report, confusion_matrix"
      ],
      "metadata": {
        "id": "xiS9PRNyEsLS"
      },
      "execution_count": 2,
      "outputs": []
    },
    {
      "cell_type": "code",
      "source": [
        "address = \"./dataset/Sarcasm_Headlines_Dataset_v2.json\"\n",
        "json_df = pd.read_json(address, lines = True ) # библиотека pandas умеет работать с json данными\n",
        "df_sarcasm = pd.DataFrame(json_df) # создаем датафрейм\n",
        "\n",
        "df_sarcasm.head() # выводим первые 5 записей датафрейма"
      ],
      "metadata": {
        "id": "km8d0tx6FF4E",
        "outputId": "1b8fe743-374a-4d5f-a25e-eeebd5d459d7",
        "colab": {
          "base_uri": "https://localhost:8080/",
          "height": 206
        }
      },
      "execution_count": 3,
      "outputs": [
        {
          "output_type": "execute_result",
          "data": {
            "text/plain": [
              "   is_sarcastic                                           headline  \\\n",
              "0             1  thirtysomething scientists unveil doomsday clo...   \n",
              "1             0  dem rep. totally nails why congress is falling...   \n",
              "2             0  eat your veggies: 9 deliciously different recipes   \n",
              "3             1  inclement weather prevents liar from getting t...   \n",
              "4             1  mother comes pretty close to using word 'strea...   \n",
              "\n",
              "                                        article_link  \n",
              "0  https://www.theonion.com/thirtysomething-scien...  \n",
              "1  https://www.huffingtonpost.com/entry/donna-edw...  \n",
              "2  https://www.huffingtonpost.com/entry/eat-your-...  \n",
              "3  https://local.theonion.com/inclement-weather-p...  \n",
              "4  https://www.theonion.com/mother-comes-pretty-c...  "
            ],
            "text/html": [
              "\n",
              "  <div id=\"df-0250cee2-2533-479e-a25c-3215808a9220\" class=\"colab-df-container\">\n",
              "    <div>\n",
              "<style scoped>\n",
              "    .dataframe tbody tr th:only-of-type {\n",
              "        vertical-align: middle;\n",
              "    }\n",
              "\n",
              "    .dataframe tbody tr th {\n",
              "        vertical-align: top;\n",
              "    }\n",
              "\n",
              "    .dataframe thead th {\n",
              "        text-align: right;\n",
              "    }\n",
              "</style>\n",
              "<table border=\"1\" class=\"dataframe\">\n",
              "  <thead>\n",
              "    <tr style=\"text-align: right;\">\n",
              "      <th></th>\n",
              "      <th>is_sarcastic</th>\n",
              "      <th>headline</th>\n",
              "      <th>article_link</th>\n",
              "    </tr>\n",
              "  </thead>\n",
              "  <tbody>\n",
              "    <tr>\n",
              "      <th>0</th>\n",
              "      <td>1</td>\n",
              "      <td>thirtysomething scientists unveil doomsday clo...</td>\n",
              "      <td>https://www.theonion.com/thirtysomething-scien...</td>\n",
              "    </tr>\n",
              "    <tr>\n",
              "      <th>1</th>\n",
              "      <td>0</td>\n",
              "      <td>dem rep. totally nails why congress is falling...</td>\n",
              "      <td>https://www.huffingtonpost.com/entry/donna-edw...</td>\n",
              "    </tr>\n",
              "    <tr>\n",
              "      <th>2</th>\n",
              "      <td>0</td>\n",
              "      <td>eat your veggies: 9 deliciously different recipes</td>\n",
              "      <td>https://www.huffingtonpost.com/entry/eat-your-...</td>\n",
              "    </tr>\n",
              "    <tr>\n",
              "      <th>3</th>\n",
              "      <td>1</td>\n",
              "      <td>inclement weather prevents liar from getting t...</td>\n",
              "      <td>https://local.theonion.com/inclement-weather-p...</td>\n",
              "    </tr>\n",
              "    <tr>\n",
              "      <th>4</th>\n",
              "      <td>1</td>\n",
              "      <td>mother comes pretty close to using word 'strea...</td>\n",
              "      <td>https://www.theonion.com/mother-comes-pretty-c...</td>\n",
              "    </tr>\n",
              "  </tbody>\n",
              "</table>\n",
              "</div>\n",
              "    <div class=\"colab-df-buttons\">\n",
              "\n",
              "  <div class=\"colab-df-container\">\n",
              "    <button class=\"colab-df-convert\" onclick=\"convertToInteractive('df-0250cee2-2533-479e-a25c-3215808a9220')\"\n",
              "            title=\"Convert this dataframe to an interactive table.\"\n",
              "            style=\"display:none;\">\n",
              "\n",
              "  <svg xmlns=\"http://www.w3.org/2000/svg\" height=\"24px\" viewBox=\"0 -960 960 960\">\n",
              "    <path d=\"M120-120v-720h720v720H120Zm60-500h600v-160H180v160Zm220 220h160v-160H400v160Zm0 220h160v-160H400v160ZM180-400h160v-160H180v160Zm440 0h160v-160H620v160ZM180-180h160v-160H180v160Zm440 0h160v-160H620v160Z\"/>\n",
              "  </svg>\n",
              "    </button>\n",
              "\n",
              "  <style>\n",
              "    .colab-df-container {\n",
              "      display:flex;\n",
              "      gap: 12px;\n",
              "    }\n",
              "\n",
              "    .colab-df-convert {\n",
              "      background-color: #E8F0FE;\n",
              "      border: none;\n",
              "      border-radius: 50%;\n",
              "      cursor: pointer;\n",
              "      display: none;\n",
              "      fill: #1967D2;\n",
              "      height: 32px;\n",
              "      padding: 0 0 0 0;\n",
              "      width: 32px;\n",
              "    }\n",
              "\n",
              "    .colab-df-convert:hover {\n",
              "      background-color: #E2EBFA;\n",
              "      box-shadow: 0px 1px 2px rgba(60, 64, 67, 0.3), 0px 1px 3px 1px rgba(60, 64, 67, 0.15);\n",
              "      fill: #174EA6;\n",
              "    }\n",
              "\n",
              "    .colab-df-buttons div {\n",
              "      margin-bottom: 4px;\n",
              "    }\n",
              "\n",
              "    [theme=dark] .colab-df-convert {\n",
              "      background-color: #3B4455;\n",
              "      fill: #D2E3FC;\n",
              "    }\n",
              "\n",
              "    [theme=dark] .colab-df-convert:hover {\n",
              "      background-color: #434B5C;\n",
              "      box-shadow: 0px 1px 3px 1px rgba(0, 0, 0, 0.15);\n",
              "      filter: drop-shadow(0px 1px 2px rgba(0, 0, 0, 0.3));\n",
              "      fill: #FFFFFF;\n",
              "    }\n",
              "  </style>\n",
              "\n",
              "    <script>\n",
              "      const buttonEl =\n",
              "        document.querySelector('#df-0250cee2-2533-479e-a25c-3215808a9220 button.colab-df-convert');\n",
              "      buttonEl.style.display =\n",
              "        google.colab.kernel.accessAllowed ? 'block' : 'none';\n",
              "\n",
              "      async function convertToInteractive(key) {\n",
              "        const element = document.querySelector('#df-0250cee2-2533-479e-a25c-3215808a9220');\n",
              "        const dataTable =\n",
              "          await google.colab.kernel.invokeFunction('convertToInteractive',\n",
              "                                                    [key], {});\n",
              "        if (!dataTable) return;\n",
              "\n",
              "        const docLinkHtml = 'Like what you see? Visit the ' +\n",
              "          '<a target=\"_blank\" href=https://colab.research.google.com/notebooks/data_table.ipynb>data table notebook</a>'\n",
              "          + ' to learn more about interactive tables.';\n",
              "        element.innerHTML = '';\n",
              "        dataTable['output_type'] = 'display_data';\n",
              "        await google.colab.output.renderOutput(dataTable, element);\n",
              "        const docLink = document.createElement('div');\n",
              "        docLink.innerHTML = docLinkHtml;\n",
              "        element.appendChild(docLink);\n",
              "      }\n",
              "    </script>\n",
              "  </div>\n",
              "\n",
              "\n",
              "<div id=\"df-4df60915-3bc7-40f9-8386-df9b8b08d465\">\n",
              "  <button class=\"colab-df-quickchart\" onclick=\"quickchart('df-4df60915-3bc7-40f9-8386-df9b8b08d465')\"\n",
              "            title=\"Suggest charts\"\n",
              "            style=\"display:none;\">\n",
              "\n",
              "<svg xmlns=\"http://www.w3.org/2000/svg\" height=\"24px\"viewBox=\"0 0 24 24\"\n",
              "     width=\"24px\">\n",
              "    <g>\n",
              "        <path d=\"M19 3H5c-1.1 0-2 .9-2 2v14c0 1.1.9 2 2 2h14c1.1 0 2-.9 2-2V5c0-1.1-.9-2-2-2zM9 17H7v-7h2v7zm4 0h-2V7h2v10zm4 0h-2v-4h2v4z\"/>\n",
              "    </g>\n",
              "</svg>\n",
              "  </button>\n",
              "\n",
              "<style>\n",
              "  .colab-df-quickchart {\n",
              "      --bg-color: #E8F0FE;\n",
              "      --fill-color: #1967D2;\n",
              "      --hover-bg-color: #E2EBFA;\n",
              "      --hover-fill-color: #174EA6;\n",
              "      --disabled-fill-color: #AAA;\n",
              "      --disabled-bg-color: #DDD;\n",
              "  }\n",
              "\n",
              "  [theme=dark] .colab-df-quickchart {\n",
              "      --bg-color: #3B4455;\n",
              "      --fill-color: #D2E3FC;\n",
              "      --hover-bg-color: #434B5C;\n",
              "      --hover-fill-color: #FFFFFF;\n",
              "      --disabled-bg-color: #3B4455;\n",
              "      --disabled-fill-color: #666;\n",
              "  }\n",
              "\n",
              "  .colab-df-quickchart {\n",
              "    background-color: var(--bg-color);\n",
              "    border: none;\n",
              "    border-radius: 50%;\n",
              "    cursor: pointer;\n",
              "    display: none;\n",
              "    fill: var(--fill-color);\n",
              "    height: 32px;\n",
              "    padding: 0;\n",
              "    width: 32px;\n",
              "  }\n",
              "\n",
              "  .colab-df-quickchart:hover {\n",
              "    background-color: var(--hover-bg-color);\n",
              "    box-shadow: 0 1px 2px rgba(60, 64, 67, 0.3), 0 1px 3px 1px rgba(60, 64, 67, 0.15);\n",
              "    fill: var(--button-hover-fill-color);\n",
              "  }\n",
              "\n",
              "  .colab-df-quickchart-complete:disabled,\n",
              "  .colab-df-quickchart-complete:disabled:hover {\n",
              "    background-color: var(--disabled-bg-color);\n",
              "    fill: var(--disabled-fill-color);\n",
              "    box-shadow: none;\n",
              "  }\n",
              "\n",
              "  .colab-df-spinner {\n",
              "    border: 2px solid var(--fill-color);\n",
              "    border-color: transparent;\n",
              "    border-bottom-color: var(--fill-color);\n",
              "    animation:\n",
              "      spin 1s steps(1) infinite;\n",
              "  }\n",
              "\n",
              "  @keyframes spin {\n",
              "    0% {\n",
              "      border-color: transparent;\n",
              "      border-bottom-color: var(--fill-color);\n",
              "      border-left-color: var(--fill-color);\n",
              "    }\n",
              "    20% {\n",
              "      border-color: transparent;\n",
              "      border-left-color: var(--fill-color);\n",
              "      border-top-color: var(--fill-color);\n",
              "    }\n",
              "    30% {\n",
              "      border-color: transparent;\n",
              "      border-left-color: var(--fill-color);\n",
              "      border-top-color: var(--fill-color);\n",
              "      border-right-color: var(--fill-color);\n",
              "    }\n",
              "    40% {\n",
              "      border-color: transparent;\n",
              "      border-right-color: var(--fill-color);\n",
              "      border-top-color: var(--fill-color);\n",
              "    }\n",
              "    60% {\n",
              "      border-color: transparent;\n",
              "      border-right-color: var(--fill-color);\n",
              "    }\n",
              "    80% {\n",
              "      border-color: transparent;\n",
              "      border-right-color: var(--fill-color);\n",
              "      border-bottom-color: var(--fill-color);\n",
              "    }\n",
              "    90% {\n",
              "      border-color: transparent;\n",
              "      border-bottom-color: var(--fill-color);\n",
              "    }\n",
              "  }\n",
              "</style>\n",
              "\n",
              "  <script>\n",
              "    async function quickchart(key) {\n",
              "      const quickchartButtonEl =\n",
              "        document.querySelector('#' + key + ' button');\n",
              "      quickchartButtonEl.disabled = true;  // To prevent multiple clicks.\n",
              "      quickchartButtonEl.classList.add('colab-df-spinner');\n",
              "      try {\n",
              "        const charts = await google.colab.kernel.invokeFunction(\n",
              "            'suggestCharts', [key], {});\n",
              "      } catch (error) {\n",
              "        console.error('Error during call to suggestCharts:', error);\n",
              "      }\n",
              "      quickchartButtonEl.classList.remove('colab-df-spinner');\n",
              "      quickchartButtonEl.classList.add('colab-df-quickchart-complete');\n",
              "    }\n",
              "    (() => {\n",
              "      let quickchartButtonEl =\n",
              "        document.querySelector('#df-4df60915-3bc7-40f9-8386-df9b8b08d465 button');\n",
              "      quickchartButtonEl.style.display =\n",
              "        google.colab.kernel.accessAllowed ? 'block' : 'none';\n",
              "    })();\n",
              "  </script>\n",
              "</div>\n",
              "    </div>\n",
              "  </div>\n"
            ],
            "application/vnd.google.colaboratory.intrinsic+json": {
              "type": "dataframe",
              "variable_name": "df_sarcasm",
              "summary": "{\n  \"name\": \"df_sarcasm\",\n  \"rows\": 28619,\n  \"fields\": [\n    {\n      \"column\": \"is_sarcastic\",\n      \"properties\": {\n        \"dtype\": \"number\",\n        \"std\": 0,\n        \"min\": 0,\n        \"max\": 1,\n        \"num_unique_values\": 2,\n        \"samples\": [\n          0,\n          1\n        ],\n        \"semantic_type\": \"\",\n        \"description\": \"\"\n      }\n    },\n    {\n      \"column\": \"headline\",\n      \"properties\": {\n        \"dtype\": \"string\",\n        \"num_unique_values\": 28503,\n        \"samples\": [\n          \"marco rubio nabs his first 2016 win in minnesota gop presidential caucus\",\n          \"oops: hot mic broadcasts al roker going to the bathroom\"\n        ],\n        \"semantic_type\": \"\",\n        \"description\": \"\"\n      }\n    },\n    {\n      \"column\": \"article_link\",\n      \"properties\": {\n        \"dtype\": \"string\",\n        \"num_unique_values\": 28617,\n        \"samples\": [\n          \"https://www.huffingtonpost.com/entry/teacher-education-school-closures_n_6401316.html\",\n          \"https://www.theonion.com/drone-places-fresh-kill-on-steps-of-white-house-1819592535\"\n        ],\n        \"semantic_type\": \"\",\n        \"description\": \"\"\n      }\n    }\n  ]\n}"
            }
          },
          "metadata": {},
          "execution_count": 3
        }
      ]
    },
    {
      "cell_type": "code",
      "source": [
        "# Ссылки на сами статьи нам не нужны\n",
        "df_sarcasm = df_sarcasm.drop(\"article_link\", axis = 1)\n",
        "print('Найдено дубликатов: ', df_sarcasm.duplicated().sum())\n",
        "\n",
        "# Удаляем дубликаты\n",
        "df_sarcasm.drop_duplicates(subset=['headline'], inplace = True)\n",
        "print('Осталось дубликатов после очистки: ', df_sarcasm.duplicated().sum())"
      ],
      "metadata": {
        "id": "mWr7l_svFI9y",
        "outputId": "9754a8b6-fe70-4b3a-801a-373509f0dc31",
        "colab": {
          "base_uri": "https://localhost:8080/"
        }
      },
      "execution_count": 4,
      "outputs": [
        {
          "output_type": "stream",
          "name": "stdout",
          "text": [
            "Найдено дубликатов:  116\n",
            "Осталось дубликатов после очистки:  0\n"
          ]
        }
      ]
    },
    {
      "cell_type": "code",
      "source": [
        "X_train, X_tmp, y_train, y_tmp = train_test_split(np.array(df_sarcasm.headline), np.array(df_sarcasm.is_sarcastic), test_size=0.2)\n",
        "\n",
        "X_val, X_test, y_val, y_test = train_test_split(X_tmp, y_tmp, test_size=0.5)"
      ],
      "metadata": {
        "id": "ayHCmml0FSie"
      },
      "execution_count": 5,
      "outputs": []
    },
    {
      "cell_type": "code",
      "source": [
        "print('Форма входных данных: ', X_train.shape)\n",
        "print('Форма выходных меток: ', y_train.shape)\n",
        "print('Пример заголовка: ', X_train[0])"
      ],
      "metadata": {
        "id": "TEtDMBA6FYz_",
        "outputId": "59794de7-b16f-449c-aefb-591f461d590c",
        "colab": {
          "base_uri": "https://localhost:8080/"
        }
      },
      "execution_count": 6,
      "outputs": [
        {
          "output_type": "stream",
          "name": "stdout",
          "text": [
            "Форма входных данных:  (22802,)\n",
            "Форма выходных меток:  (22802,)\n",
            "Пример заголовка:  alan colmes loses argument with nephew\n"
          ]
        }
      ]
    },
    {
      "cell_type": "code",
      "source": [
        "del df_sarcasm, X_tmp, y_tmp"
      ],
      "metadata": {
        "id": "PSW4TgRNFnCU"
      },
      "execution_count": 7,
      "outputs": []
    },
    {
      "cell_type": "code",
      "source": [
        "# Создание ансамбля моделей (3 наиболее подходящие к данным моделей)\n",
        "clf = ak.TextClassifier(overwrite=True, max_trials=2, objective='val_accuracy')\n",
        "\n",
        "result_training = clf.fit(X_train, y_train, epochs=20, validation_data=(X_val, y_val))"
      ],
      "metadata": {
        "id": "kR0Ai0UnFqED",
        "outputId": "b4fc178c-c40a-4ce3-ee69-80ea3e6f66ed",
        "colab": {
          "base_uri": "https://localhost:8080/"
        }
      },
      "execution_count": 24,
      "outputs": [
        {
          "output_type": "stream",
          "name": "stdout",
          "text": [
            "Trial 2 Complete [00h 02m 08s]\n",
            "val_accuracy: 0.8603509068489075\n",
            "\n",
            "Best val_accuracy So Far: 0.8603509068489075\n",
            "Total elapsed time: 00h 05m 17s\n",
            "Epoch 1/20\n",
            "713/713 [==============================] - 184s 254ms/step - loss: 0.7401 - accuracy: 0.5343 - val_loss: 0.9718 - val_accuracy: 0.5786\n",
            "Epoch 2/20\n",
            "713/713 [==============================] - 180s 253ms/step - loss: 0.5380 - accuracy: 0.7234 - val_loss: 0.5928 - val_accuracy: 0.7586\n",
            "Epoch 3/20\n",
            "713/713 [==============================] - 180s 252ms/step - loss: 0.3622 - accuracy: 0.8380 - val_loss: 0.4764 - val_accuracy: 0.8239\n",
            "Epoch 4/20\n",
            "713/713 [==============================] - 180s 253ms/step - loss: 0.2486 - accuracy: 0.8989 - val_loss: 0.6832 - val_accuracy: 0.7867\n",
            "Epoch 5/20\n",
            "713/713 [==============================] - 180s 252ms/step - loss: 0.1809 - accuracy: 0.9315 - val_loss: 0.7759 - val_accuracy: 0.8021\n",
            "Epoch 6/20\n",
            "713/713 [==============================] - 180s 253ms/step - loss: 0.1340 - accuracy: 0.9490 - val_loss: 0.7527 - val_accuracy: 0.8109\n",
            "Epoch 7/20\n",
            "713/713 [==============================] - 180s 252ms/step - loss: 0.1075 - accuracy: 0.9607 - val_loss: 0.6499 - val_accuracy: 0.8428\n",
            "Epoch 8/20\n",
            "713/713 [==============================] - 180s 252ms/step - loss: 0.0852 - accuracy: 0.9696 - val_loss: 0.7327 - val_accuracy: 0.8393\n",
            "Epoch 9/20\n",
            "713/713 [==============================] - 180s 253ms/step - loss: 0.0750 - accuracy: 0.9726 - val_loss: 0.9193 - val_accuracy: 0.8253\n",
            "Epoch 10/20\n",
            "713/713 [==============================] - 180s 252ms/step - loss: 0.0610 - accuracy: 0.9777 - val_loss: 1.2450 - val_accuracy: 0.8014\n",
            "Epoch 11/20\n",
            "713/713 [==============================] - 180s 252ms/step - loss: 0.0561 - accuracy: 0.9801 - val_loss: 1.0064 - val_accuracy: 0.8242\n",
            "Epoch 12/20\n",
            "713/713 [==============================] - 180s 252ms/step - loss: 0.0509 - accuracy: 0.9817 - val_loss: 1.1622 - val_accuracy: 0.8221\n",
            "Epoch 13/20\n",
            "713/713 [==============================] - 180s 252ms/step - loss: 0.0469 - accuracy: 0.9826 - val_loss: 1.0898 - val_accuracy: 0.8249\n",
            "Epoch 14/20\n",
            "713/713 [==============================] - 180s 252ms/step - loss: 0.0394 - accuracy: 0.9857 - val_loss: 1.3719 - val_accuracy: 0.8151\n",
            "Epoch 15/20\n",
            "713/713 [==============================] - 180s 252ms/step - loss: 0.0419 - accuracy: 0.9847 - val_loss: 1.3955 - val_accuracy: 0.8249\n",
            "Epoch 16/20\n",
            "713/713 [==============================] - 180s 252ms/step - loss: 0.0354 - accuracy: 0.9871 - val_loss: 1.3365 - val_accuracy: 0.8218\n",
            "Epoch 17/20\n",
            "713/713 [==============================] - 180s 253ms/step - loss: 0.0347 - accuracy: 0.9876 - val_loss: 1.9788 - val_accuracy: 0.7972\n",
            "Epoch 18/20\n",
            "713/713 [==============================] - 181s 254ms/step - loss: 0.0312 - accuracy: 0.9886 - val_loss: 1.2947 - val_accuracy: 0.8161\n",
            "Epoch 19/20\n",
            "713/713 [==============================] - 181s 254ms/step - loss: 0.0315 - accuracy: 0.9890 - val_loss: 1.3301 - val_accuracy: 0.8211\n",
            "Epoch 20/20\n",
            "713/713 [==============================] - 181s 254ms/step - loss: 0.0297 - accuracy: 0.9898 - val_loss: 1.4428 - val_accuracy: 0.8172\n"
          ]
        }
      ]
    },
    {
      "cell_type": "code",
      "source": [
        "# Последовательно экспортируем лучшую модель и по ней выводим отчет\n",
        "clf.export_model().summary()"
      ],
      "metadata": {
        "id": "tUMsgzTYF6UR",
        "colab": {
          "base_uri": "https://localhost:8080/"
        },
        "outputId": "cca135c2-f0f8-48fd-90b3-5bf73c6e0c20"
      },
      "execution_count": 25,
      "outputs": [
        {
          "output_type": "stream",
          "name": "stdout",
          "text": [
            "Model: \"model\"\n",
            "__________________________________________________________________________________________________\n",
            " Layer (type)                Output Shape                 Param #   Connected to                  \n",
            "==================================================================================================\n",
            " input_1 (InputLayer)        [(None,)]                    0         []                            \n",
            "                                                                                                  \n",
            " expand_last_dim (ExpandLas  (None, 1)                    0         ['input_1[0][0]']             \n",
            " tDim)                                                                                            \n",
            "                                                                                                  \n",
            " text_vectorization (TextVe  (None, 512)                  0         ['expand_last_dim[0][0]']     \n",
            " ctorization)                                                                                     \n",
            "                                                                                                  \n",
            " tf.compat.v1.shape (TFOpLa  (2,)                         0         ['text_vectorization[0][0]']  \n",
            " mbda)                                                                                            \n",
            "                                                                                                  \n",
            " tf.__operators__.getitem (  ()                           0         ['tf.compat.v1.shape[0][0]']  \n",
            " SlicingOpLambda)                                                                                 \n",
            "                                                                                                  \n",
            " tf.ones (TFOpLambda)        (None, 1)                    0         ['tf.__operators__.getitem[0][\n",
            "                                                                    0]']                          \n",
            "                                                                                                  \n",
            " tf.linalg.matmul (TFOpLamb  (None, 512)                  0         ['tf.ones[0][0]']             \n",
            " da)                                                                                              \n",
            "                                                                                                  \n",
            " embedding (Embedding)       (None, 512, 32)              640032    ['text_vectorization[0][0]']  \n",
            "                                                                                                  \n",
            " embedding_1 (Embedding)     (None, 512, 32)              16384     ['tf.linalg.matmul[0][0]']    \n",
            "                                                                                                  \n",
            " dropout_2 (Dropout)         (None, 512, 32)              0         ['embedding[0][0]']           \n",
            "                                                                                                  \n",
            " dropout_3 (Dropout)         (None, 512, 32)              0         ['embedding_1[0][0]']         \n",
            "                                                                                                  \n",
            " add (Add)                   (None, 512, 32)              0         ['dropout_2[0][0]',           \n",
            "                                                                     'dropout_3[0][0]']           \n",
            "                                                                                                  \n",
            " tf.compat.v1.shape_1 (TFOp  (3,)                         0         ['add[0][0]']                 \n",
            " Lambda)                                                                                          \n",
            "                                                                                                  \n",
            " tf.__operators__.getitem_1  ()                           0         ['tf.compat.v1.shape_1[0][0]']\n",
            "  (SlicingOpLambda)                                                                               \n",
            "                                                                                                  \n",
            " dense_3 (Dense)             (None, 512, 32)              1056      ['add[0][0]']                 \n",
            "                                                                                                  \n",
            " tf.reshape_1 (TFOpLambda)   (None, None, 2, 16)          0         ['dense_3[0][0]',             \n",
            "                                                                     'tf.__operators__.getitem_1[0\n",
            "                                                                    ][0]']                        \n",
            "                                                                                                  \n",
            " tf.compat.v1.transpose_1 (  (None, 2, None, 16)          0         ['tf.reshape_1[0][0]']        \n",
            " TFOpLambda)                                                                                      \n",
            "                                                                                                  \n",
            " dense_2 (Dense)             (None, 512, 32)              1056      ['add[0][0]']                 \n",
            "                                                                                                  \n",
            " tf.compat.v1.shape_2 (TFOp  (4,)                         0         ['tf.compat.v1.transpose_1[0][\n",
            " Lambda)                                                            0]']                          \n",
            "                                                                                                  \n",
            " tf.reshape (TFOpLambda)     (None, None, 2, 16)          0         ['dense_2[0][0]',             \n",
            "                                                                     'tf.__operators__.getitem_1[0\n",
            "                                                                    ][0]']                        \n",
            "                                                                                                  \n",
            " tf.__operators__.getitem_2  ()                           0         ['tf.compat.v1.shape_2[0][0]']\n",
            "  (SlicingOpLambda)                                                                               \n",
            "                                                                                                  \n",
            " tf.compat.v1.transpose (TF  (None, 2, None, 16)          0         ['tf.reshape[0][0]']          \n",
            " OpLambda)                                                                                        \n",
            "                                                                                                  \n",
            " tf.cast (TFOpLambda)        ()                           0         ['tf.__operators__.getitem_2[0\n",
            "                                                                    ][0]']                        \n",
            "                                                                                                  \n",
            " tf.linalg.matmul_1 (TFOpLa  (None, 2, None, None)        0         ['tf.compat.v1.transpose[0][0]\n",
            " mbda)                                                              ',                            \n",
            "                                                                     'tf.compat.v1.transpose_1[0][\n",
            "                                                                    0]']                          \n",
            "                                                                                                  \n",
            " tf.math.sqrt (TFOpLambda)   ()                           0         ['tf.cast[0][0]']             \n",
            "                                                                                                  \n",
            " dense_4 (Dense)             (None, 512, 32)              1056      ['add[0][0]']                 \n",
            "                                                                                                  \n",
            " tf.math.truediv (TFOpLambd  (None, 2, None, None)        0         ['tf.linalg.matmul_1[0][0]',  \n",
            " a)                                                                  'tf.math.sqrt[0][0]']        \n",
            "                                                                                                  \n",
            " tf.reshape_2 (TFOpLambda)   (None, None, 2, 16)          0         ['dense_4[0][0]',             \n",
            "                                                                     'tf.__operators__.getitem_1[0\n",
            "                                                                    ][0]']                        \n",
            "                                                                                                  \n",
            " tf.nn.softmax (TFOpLambda)  (None, 2, None, None)        0         ['tf.math.truediv[0][0]']     \n",
            "                                                                                                  \n",
            " tf.compat.v1.transpose_2 (  (None, 2, None, 16)          0         ['tf.reshape_2[0][0]']        \n",
            " TFOpLambda)                                                                                      \n",
            "                                                                                                  \n",
            " tf.linalg.matmul_2 (TFOpLa  (None, 2, None, 16)          0         ['tf.nn.softmax[0][0]',       \n",
            " mbda)                                                               'tf.compat.v1.transpose_2[0][\n",
            "                                                                    0]']                          \n",
            "                                                                                                  \n",
            " tf.compat.v1.transpose_3 (  (None, None, 2, 16)          0         ['tf.linalg.matmul_2[0][0]']  \n",
            " TFOpLambda)                                                                                      \n",
            "                                                                                                  \n",
            " tf.compat.v1.shape_3 (TFOp  (4,)                         0         ['tf.compat.v1.transpose_3[0][\n",
            " Lambda)                                                            0]']                          \n",
            "                                                                                                  \n",
            " tf.__operators__.getitem_3  ()                           0         ['tf.compat.v1.shape_3[0][0]']\n",
            "  (SlicingOpLambda)                                                                               \n",
            "                                                                                                  \n",
            " tf.reshape_3 (TFOpLambda)   (None, None, 32)             0         ['tf.compat.v1.transpose_3[0][\n",
            "                                                                    0]',                          \n",
            "                                                                     'tf.__operators__.getitem_1[0\n",
            "                                                                    ][0]',                        \n",
            "                                                                     'tf.__operators__.getitem_3[0\n",
            "                                                                    ][0]']                        \n",
            "                                                                                                  \n",
            " dense_5 (Dense)             (None, None, 32)             1056      ['tf.reshape_3[0][0]']        \n",
            "                                                                                                  \n",
            " dropout (Dropout)           (None, None, 32)             0         ['dense_5[0][0]']             \n",
            "                                                                                                  \n",
            " add_1 (Add)                 (None, 512, 32)              0         ['add[0][0]',                 \n",
            "                                                                     'dropout[0][0]']             \n",
            "                                                                                                  \n",
            " layer_normalization (Layer  (None, 512, 32)              64        ['add_1[0][0]']               \n",
            " Normalization)                                                                                   \n",
            "                                                                                                  \n",
            " sequential (Sequential)     (None, 512, 32)              2112      ['layer_normalization[0][0]'] \n",
            "                                                                                                  \n",
            " dropout_1 (Dropout)         (None, 512, 32)              0         ['sequential[0][0]']          \n",
            "                                                                                                  \n",
            " add_2 (Add)                 (None, 512, 32)              0         ['layer_normalization[0][0]', \n",
            "                                                                     'dropout_1[0][0]']           \n",
            "                                                                                                  \n",
            " layer_normalization_1 (Lay  (None, 512, 32)              64        ['add_2[0][0]']               \n",
            " erNormalization)                                                                                 \n",
            "                                                                                                  \n",
            " global_max_pooling1d (Glob  (None, 32)                   0         ['layer_normalization_1[0][0]'\n",
            " alMaxPooling1D)                                                    ]                             \n",
            "                                                                                                  \n",
            " dense_6 (Dense)             (None, 1024)                 33792     ['global_max_pooling1d[0][0]']\n",
            "                                                                                                  \n",
            " batch_normalization (Batch  (None, 1024)                 4096      ['dense_6[0][0]']             \n",
            " Normalization)                                                                                   \n",
            "                                                                                                  \n",
            " re_lu (ReLU)                (None, 1024)                 0         ['batch_normalization[0][0]'] \n",
            "                                                                                                  \n",
            " dropout_4 (Dropout)         (None, 1024)                 0         ['re_lu[0][0]']               \n",
            "                                                                                                  \n",
            " dense_7 (Dense)             (None, 1)                    1025      ['dropout_4[0][0]']           \n",
            "                                                                                                  \n",
            " classification_head_1 (Act  (None, 1)                    0         ['dense_7[0][0]']             \n",
            " ivation)                                                                                         \n",
            "                                                                                                  \n",
            "==================================================================================================\n",
            "Total params: 701793 (2.68 MB)\n",
            "Trainable params: 699745 (2.67 MB)\n",
            "Non-trainable params: 2048 (8.00 KB)\n",
            "__________________________________________________________________________________________________\n"
          ]
        }
      ]
    },
    {
      "cell_type": "code",
      "source": [
        "# Предсказание на лучшей модели\n",
        "predicted_y = clf.predict(X_test)\n",
        "\n",
        "# Оценка лучшей модели на тестовых данных\n",
        "print(clf.evaluate(X_test, y_test))"
      ],
      "metadata": {
        "id": "VFnX2Zh2GDm7",
        "colab": {
          "base_uri": "https://localhost:8080/"
        },
        "outputId": "cbcd3122-09a8-4375-b798-7b76f0b3fe32"
      },
      "execution_count": 26,
      "outputs": [
        {
          "output_type": "stream",
          "name": "stdout",
          "text": [
            "90/90 [==============================] - 10s 111ms/step\n",
            "90/90 [==============================] - 10s 110ms/step\n",
            "90/90 [==============================] - 10s 111ms/step - loss: 1.3244 - accuracy: 0.8341\n",
            "[1.3244264125823975, 0.8340932726860046]\n"
          ]
        }
      ]
    },
    {
      "cell_type": "code",
      "source": [
        "def plot_graphs(history, key):\n",
        "    # Используем библиотеку seaborn для задания стиля и цветовой схемы графика\n",
        "    sns.set_style('darkgrid')\n",
        "    palette = sns.color_palette('Set1')\n",
        "\n",
        "    # Задаем размер полотна для рисования графика\n",
        "    plt.figure(figsize=(6,3))\n",
        "\n",
        "    # Отображаем график выбранного параметра\n",
        "    plt.plot(history.history[key],   # данные для построения графика\n",
        "             marker='o',             # использовать маркер для точек на графике\n",
        "             color=palette[2],       # использовать цвет третий в палитре (нумерация с 0)\n",
        "             linewidth=2.5,          # ширина линии\n",
        "             label=key)              # подпись легенды\n",
        "\n",
        "    # График для проверочной выборки\n",
        "    if 'val_'+key in history.history:\n",
        "        plt.plot(history.history['val_'+key], # данные для построения графика\n",
        "                 marker='o',                  # использовать маркер для точек на графике\n",
        "                 color=palette[4],            # использовать цвет пятый в палитре\n",
        "                 linewidth=2.5,               # ширина линии\n",
        "                 label='val_'+key)            # подпись легенды\n",
        "\n",
        "    # подпись оси Х, размер шрифта - 12\n",
        "    plt.xlabel(\"Эпоха\", fontsize=12)\n",
        "    # подпись оси Y, размер шрифта - 12\n",
        "    plt.ylabel(key, fontsize=12)\n",
        "\n",
        "    # подпись заголовка графика, размер шрифта - 14\n",
        "    plt.title('Обучающая и проверочная выборки ('+key.title()+')', fontsize=14)\n",
        "\n",
        "    # отображение легенды, размер шрифта - 12\n",
        "    plt.legend(fontsize=12)\n",
        "\n",
        "    # задаем сетку на графике\n",
        "    plt.grid(True)\n",
        "\n",
        "    # отрисовываем полотно со всеми графиками\n",
        "    plt.show()"
      ],
      "metadata": {
        "id": "x4WAow6MGFPp"
      },
      "execution_count": 31,
      "outputs": []
    },
    {
      "cell_type": "code",
      "source": [
        "# строим график точности\n",
        "plot_graphs(result_training, \"accuracy\")\n",
        "\n",
        "# строим график потерь\n",
        "plot_graphs(result_training, \"loss\")"
      ],
      "metadata": {
        "id": "O8UEEgw0GIAB",
        "colab": {
          "base_uri": "https://localhost:8080/",
          "height": 661
        },
        "outputId": "0132d19a-3548-4790-8461-6443709023d3"
      },
      "execution_count": 32,
      "outputs": [
        {
          "output_type": "display_data",
          "data": {
            "text/plain": [
              "<Figure size 600x300 with 1 Axes>"
            ],
            "image/png": "[encoded data removed]"
          },
          "metadata": {}
        },
        {
          "output_type": "display_data",
          "data": {
            "text/plain": [
              "<Figure size 600x300 with 1 Axes>"
            ],
            "image/png": "[encoded data removed]"
          },
          "metadata": {}
        }
      ]
    },
    {
      "cell_type": "code",
      "source": [
        "print(classification_report(y_test, predicted_y))"
      ],
      "metadata": {
        "id": "1k8k8jHqGpWC",
        "colab": {
          "base_uri": "https://localhost:8080/"
        },
        "outputId": "de2015a3-c101-416f-953a-02559abab67d"
      },
      "execution_count": 29,
      "outputs": [
        {
          "output_type": "stream",
          "name": "stdout",
          "text": [
            "              precision    recall  f1-score   support\n",
            "\n",
            "           0       0.84      0.84      0.84      1471\n",
            "           1       0.83      0.83      0.83      1380\n",
            "\n",
            "    accuracy                           0.83      2851\n",
            "   macro avg       0.83      0.83      0.83      2851\n",
            "weighted avg       0.83      0.83      0.83      2851\n",
            "\n"
          ]
        }
      ]
    },
    {
      "cell_type": "code",
      "source": [
        "# Определим функцию предсказания сарказма\n",
        "def predict_sarcasm(text, model):\n",
        "    # Предсказание\n",
        "    result = model.predict(np.array([text]))\n",
        "    if result[0] == 0:\n",
        "        print(\"Предложение: '{}' не содержит сарказма.\".format(text))\n",
        "    elif result[0] == 1:\n",
        "        print(\"Предложение : '{}' содержит сарказм.\".format(text))\n",
        "\n",
        "# Произвольные фразы, в которых мы предполагаем наличие сарказма или его отсутствие\n",
        "sarcasm = \"Oh, wonderful! My computer crashes right before I save my work.\"\n",
        "without_sarcasm = \"I love spending time with my family during the holidays.\"\n",
        "\n",
        "# Выполняем функции\n",
        "predict_sarcasm(sarcasm, clf)\n",
        "predict_sarcasm(without_sarcasm, clf)"
      ],
      "metadata": {
        "id": "pMl_GAuoGqL5",
        "colab": {
          "base_uri": "https://localhost:8080/"
        },
        "outputId": "966a048a-9841-431b-b850-3d9316d79d81"
      },
      "execution_count": 30,
      "outputs": [
        {
          "output_type": "stream",
          "name": "stdout",
          "text": [
            "1/1 [==============================] - 0s 320ms/step\n",
            "1/1 [==============================] - 0s 25ms/step\n",
            "Предложение: 'Oh, wonderful! My computer crashes right before I save my work.' не содержит сарказма.\n",
            "1/1 [==============================] - 0s 319ms/step\n",
            "1/1 [==============================] - 0s 26ms/step\n",
            "Предложение: 'I love spending time with my family during the holidays.' не содержит сарказма.\n"
          ]
        }
      ]
    }
  ]
}