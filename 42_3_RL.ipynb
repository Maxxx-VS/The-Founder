{
  "nbformat": 4,
  "nbformat_minor": 0,
  "metadata": {
    "colab": {
      "provenance": [],
      "gpuType": "T4",
      "authorship_tag": "ABX9TyOF3uZmF0JzZFNJi8PrAFeS",
      "include_colab_link": true
    },
    "kernelspec": {
      "name": "python3",
      "display_name": "Python 3"
    },
    "language_info": {
      "name": "python"
    },
    "accelerator": "GPU"
  },
  "cells": [
    {
      "cell_type": "markdown",
      "metadata": {
        "id": "view-in-github",
        "colab_type": "text"
      },
      "source": [
        "<a href=\"https://colab.research.google.com/github/Maxxx-VS/The-Founder/blob/master/42_3_RL.ipynb\" target=\"_parent\"><img src=\"https://colab.research.google.com/assets/colab-badge.svg\" alt=\"Open In Colab\"/></a>"
      ]
    },
    {
      "cell_type": "code",
      "source": [
        "# Установка необходимых библиотек\n",
        "%%capture\n",
        "!pip install \"gymnasium[atari]\"\n",
        "!pip install autorom[accept-rom-license]"
      ],
      "metadata": {
        "id": "diWxUIFrGigR"
      },
      "execution_count": 1,
      "outputs": []
    },
    {
      "cell_type": "code",
      "source": [
        "# Импорт необходимых библиотек + регистрация окружения\n",
        "import gymnasium as gym\n",
        "import ale_py\n",
        "import torch\n",
        "import numpy as np\n",
        "import matplotlib.pyplot as plt\n",
        "from IPython import display as ipythondisplay\n",
        "from moviepy.video.io.ImageSequenceClip import ImageSequenceClip\n",
        "gym.register_envs(ale_py)"
      ],
      "metadata": {
        "id": "-CK0CjCAGluP"
      },
      "execution_count": 2,
      "outputs": []
    },
    {
      "cell_type": "code",
      "source": [
        "# Создаем окружение с игрой\n",
        "env = gym.make(\"ALE/Enduro-v5\", render_mode='rgb_array')"
      ],
      "metadata": {
        "id": "fXJBzGa2Glq_"
      },
      "execution_count": 17,
      "outputs": []
    },
    {
      "cell_type": "code",
      "source": [
        "# Проверяем кол-во действий\n",
        "n_state = env.observation_space.shape\n",
        "print(f'Размерности пространств наблюдений и действий: {n_state}')"
      ],
      "metadata": {
        "colab": {
          "base_uri": "https://localhost:8080/"
        },
        "id": "yLiLyl4GGlkz",
        "outputId": "8103d3a2-c406-47da-c4d5-6a418579d45b"
      },
      "execution_count": 18,
      "outputs": [
        {
          "output_type": "stream",
          "name": "stdout",
          "text": [
            "Размерности пространств наблюдений и действий: (210, 160, 3)\n"
          ]
        }
      ]
    },
    {
      "cell_type": "markdown",
      "source": [
        "### Алгоритм случайного поиска"
      ],
      "metadata": {
        "id": "ywe8V1veMm4w"
      }
    },
    {
      "cell_type": "code",
      "source": [
        "def random_search(env, episodes=100, max_steps=100):\n",
        "    best_reward = -np.inf\n",
        "    best_action_sequence = []\n",
        "    best_frames = []\n",
        "\n",
        "    for episode in range(episodes):\n",
        "        state = env.reset()\n",
        "        total_reward = 0\n",
        "        action_sequence = []\n",
        "        frames = []\n",
        "\n",
        "        for step in range(max_steps):\n",
        "            action = env.action_space.sample()  # Случайное действие\n",
        "            action_sequence.append(action)\n",
        "            state, reward, done, truncated, info = env.step(action)\n",
        "            total_reward += reward\n",
        "            frames.append(env.render())\n",
        "\n",
        "            if done or truncated:\n",
        "                break\n",
        "\n",
        "        if total_reward > best_reward:\n",
        "            best_reward = total_reward\n",
        "            best_action_sequence = action_sequence\n",
        "            best_frames = frames\n",
        "\n",
        "    return best_reward, best_action_sequence, best_frames\n",
        "\n",
        "best_reward, best_action_sequence, best_frames = random_search(env)\n",
        "print(f\"Лучшая награда за случайный поиск: {best_reward}\")"
      ],
      "metadata": {
        "colab": {
          "base_uri": "https://localhost:8080/"
        },
        "id": "_NOSVpqrLpmv",
        "outputId": "b90f4dff-6d14-4c00-fbdb-ad4adbc94db0"
      },
      "execution_count": 19,
      "outputs": [
        {
          "output_type": "stream",
          "name": "stdout",
          "text": [
            "Лучшая награда за случайный поиск: 0.0\n"
          ]
        }
      ]
    },
    {
      "cell_type": "markdown",
      "source": [
        "### Алгоритм восхождения на вершину"
      ],
      "metadata": {
        "id": "qJiXbG7UFq-1"
      }
    },
    {
      "cell_type": "code",
      "source": [
        "def hill_climbing(env, episodes=100, max_steps=100, noise_scale=0.1):\n",
        "    best_reward = -np.inf\n",
        "    best_action_sequence = [env.action_space.sample() for _ in range(max_steps)]\n",
        "    best_frames = []\n",
        "\n",
        "    for episode in range(episodes):\n",
        "        # Добавляем шум к лучшей последовательности действий\n",
        "        action_sequence = [action + np.random.normal(0, noise_scale) for action in best_action_sequence]\n",
        "        action_sequence = [np.clip(int(a), 0, env.action_space.n-1) for a in action_sequence]\n",
        "\n",
        "        state = env.reset()\n",
        "        total_reward = 0\n",
        "        frames = []\n",
        "\n",
        "        for step in range(max_steps):\n",
        "            action = action_sequence[step]\n",
        "            state, reward, done, truncated, info = env.step(action)\n",
        "            total_reward += reward\n",
        "            frames.append(env.render())\n",
        "\n",
        "            if done or truncated:\n",
        "                break\n",
        "\n",
        "        if total_reward > best_reward:\n",
        "            best_reward = total_reward\n",
        "            best_action_sequence = action_sequence\n",
        "            best_frames = frames\n",
        "\n",
        "    return best_reward, best_action_sequence, best_frames\n",
        "\n",
        "best_reward_hc, best_action_sequence_hc, best_frames_hc = hill_climbing(env)\n",
        "print(f\"Лучшая награда за восхождение на вершину: {best_reward_hc}\")"
      ],
      "metadata": {
        "colab": {
          "base_uri": "https://localhost:8080/"
        },
        "id": "26H5EfdsL2H7",
        "outputId": "fa909aa0-bcd0-4ffa-902e-9f061a66b6ef"
      },
      "execution_count": 20,
      "outputs": [
        {
          "output_type": "stream",
          "name": "stdout",
          "text": [
            "Лучшая награда за восхождение на вершину: 0.0\n"
          ]
        }
      ]
    },
    {
      "cell_type": "code",
      "source": [
        "def save_video(frames, filename, fps=30):\n",
        "    clip = ImageSequenceClip(frames, fps=fps)\n",
        "    clip.write_videofile(filename, fps=fps)\n",
        "\n",
        "# Сохраняем видео для случайного поиска\n",
        "save_video(best_frames, 'random_search.mp4')\n",
        "\n",
        "# Сохраняем видео для восхождения на вершину\n",
        "save_video(best_frames_hc, 'hill_climbing.mp4')"
      ],
      "metadata": {
        "colab": {
          "base_uri": "https://localhost:8080/"
        },
        "id": "5yKEJ-txNcwn",
        "outputId": "4b78e935-047f-4738-ae1f-c3f831061e82"
      },
      "execution_count": 21,
      "outputs": [
        {
          "output_type": "stream",
          "name": "stdout",
          "text": [
            "Moviepy - Building video random_search.mp4.\n",
            "Moviepy - Writing video random_search.mp4\n",
            "\n"
          ]
        },
        {
          "output_type": "stream",
          "name": "stderr",
          "text": []
        },
        {
          "output_type": "stream",
          "name": "stdout",
          "text": [
            "Moviepy - Done !\n",
            "Moviepy - video ready random_search.mp4\n",
            "Moviepy - Building video hill_climbing.mp4.\n",
            "Moviepy - Writing video hill_climbing.mp4\n",
            "\n"
          ]
        },
        {
          "output_type": "stream",
          "name": "stderr",
          "text": []
        },
        {
          "output_type": "stream",
          "name": "stdout",
          "text": [
            "Moviepy - Done !\n",
            "Moviepy - video ready hill_climbing.mp4\n"
          ]
        }
      ]
    },
    {
      "cell_type": "code",
      "source": [
        "print(\"АЛГОРИТМ СЛУЧАЙНОГО ПОИСКА:\")\n",
        "print(f\"Best Reward: {best_reward}\")\n",
        "print(f\"Best Action Sequence: {best_action_sequence}\")\n",
        "\n",
        "print(\"\\nАЛГОРИТМ ВОСХОЖДЕНИЯ НА ВЕРШИНУ:\")\n",
        "print(f\"Best Reward: {best_reward_hc}\")\n",
        "print(f\"Best Action Sequence: {best_action_sequence_hc}\")"
      ],
      "metadata": {
        "colab": {
          "base_uri": "https://localhost:8080/"
        },
        "id": "0VySO02rL7dP",
        "outputId": "5ff45013-0f64-4956-e895-21faa04ee59c"
      },
      "execution_count": 22,
      "outputs": [
        {
          "output_type": "stream",
          "name": "stdout",
          "text": [
            "АЛГОРИТМ СЛУЧАЙНОГО ПОИСКА:\n",
            "Best Reward: 0.0\n",
            "Best Action Sequence: [2, 5, 4, 7, 1, 3, 8, 5, 6, 6, 8, 0, 0, 1, 3, 7, 7, 1, 2, 2, 1, 1, 6, 8, 8, 2, 8, 4, 3, 7, 5, 5, 1, 3, 7, 1, 2, 6, 5, 2, 0, 4, 8, 4, 7, 2, 0, 8, 7, 3, 4, 1, 3, 6, 3, 0, 1, 6, 2, 6, 7, 3, 2, 0, 7, 4, 0, 4, 4, 6, 2, 7, 4, 5, 5, 4, 8, 7, 8, 0, 2, 7, 2, 8, 5, 3, 7, 7, 6, 2, 7, 5, 0, 2, 5, 1, 5, 3, 6, 7]\n",
            "\n",
            "АЛГОРИТМ ВОСХОЖДЕНИЯ НА ВЕРШИНУ:\n",
            "Best Reward: 0.0\n",
            "Best Action Sequence: [5, 0, 4, 2, 2, 4, 8, 6, 0, 0, 0, 1, 5, 1, 0, 3, 5, 3, 0, 7, 6, 5, 7, 7, 0, 1, 8, 3, 3, 0, 7, 0, 7, 4, 7, 7, 8, 5, 7, 0, 8, 7, 0, 4, 5, 1, 6, 0, 3, 5, 1, 2, 0, 5, 4, 4, 3, 6, 2, 2, 8, 2, 7, 1, 0, 7, 6, 3, 7, 6, 0, 6, 0, 0, 4, 6, 0, 0, 8, 0, 4, 0, 8, 3, 1, 3, 4, 1, 5, 7, 1, 7, 7, 1, 6, 1, 3, 2, 7, 1]\n"
          ]
        }
      ]
    },
    {
      "cell_type": "code",
      "source": [
        "from IPython.display import HTML\n",
        "from base64 import b64encode\n",
        "\n",
        "def show_video(video_path, video_width=600):\n",
        "    with open(video_path, \"rb\") as video_file:\n",
        "        video_url = f\"data:video/mp4;base64,{b64encode(video_file.read()).decode()}\"\n",
        "\n",
        "    html_code = f'''\n",
        "    <video width={video_width} controls>\n",
        "        <source src=\"{video_url}\" type=\"video/mp4\">\n",
        "    </video>\n",
        "    '''\n",
        "    return HTML(html_code)"
      ],
      "metadata": {
        "id": "jT_F-qHeQZln"
      },
      "execution_count": 29,
      "outputs": []
    },
    {
      "cell_type": "code",
      "source": [
        "# Отображение видео для случайного поиска\n",
        "show_video('random_search.mp4')"
      ],
      "metadata": {
        "colab": {
          "base_uri": "https://localhost:8080/",
          "height": 809
        },
        "id": "jL8xwf8tQh3O",
        "outputId": "b307b62a-37d1-4715-ab3a-c0dc14bf5fad"
      },
      "execution_count": 30,
      "outputs": [
        {
          "output_type": "execute_result",
          "data": {
            "text/plain": [
              "<IPython.core.display.HTML object>"
            ],
            "text/html": [
              "\n",
              "    <video width=600 controls>\n",
              "        <source src=\"data:video/mp4;base64,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\" type=\"video/mp4\">\n",
              "    </video>\n",
              "    "
            ]
          },
          "metadata": {},
          "execution_count": 30
        }
      ]
    },
    {
      "cell_type": "code",
      "source": [
        "# Отображение видео для восхождения на вершину\n",
        "show_video('hill_climbing.mp4')"
      ],
      "metadata": {
        "colab": {
          "base_uri": "https://localhost:8080/",
          "height": 809
        },
        "id": "zWcV70HxQjkK",
        "outputId": "f130c564-1d76-4340-a7e9-c9f94c3649f0"
      },
      "execution_count": 31,
      "outputs": [
        {
          "output_type": "execute_result",
          "data": {
            "text/plain": [
              "<IPython.core.display.HTML object>"
            ],
            "text/html": [
              "\n",
              "    <video width=600 controls>\n",
              "        <source src=\"data:video/mp4;base64,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\" type=\"video/mp4\">\n",
              "    </video>\n",
              "    "
            ]
          },
          "metadata": {},
          "execution_count": 31
        }
      ]
    }
  ]
}