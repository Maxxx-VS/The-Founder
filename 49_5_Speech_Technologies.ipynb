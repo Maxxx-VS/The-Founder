{
  "nbformat": 4,
  "nbformat_minor": 0,
  "metadata": {
    "colab": {
      "provenance": [],
      "authorship_tag": "ABX9TyPOZCbI0d7xVUXRxg4mj+fj",
      "include_colab_link": true
    },
    "kernelspec": {
      "name": "python3",
      "display_name": "Python 3"
    },
    "language_info": {
      "name": "python"
    }
  },
  "cells": [
    {
      "cell_type": "markdown",
      "metadata": {
        "id": "view-in-github",
        "colab_type": "text"
      },
      "source": [
        "<a href=\"https://colab.research.google.com/github/Maxxx-VS/The-Founder/blob/master/49_5_Speech_Technologies.ipynb\" target=\"_parent\"><img src=\"https://colab.research.google.com/assets/colab-badge.svg\" alt=\"Open In Colab\"/></a>"
      ]
    },
    {
      "cell_type": "code",
      "execution_count": 1,
      "metadata": {
        "id": "isZ3d_yJK8fG"
      },
      "outputs": [],
      "source": [
        "# Установка библиотек\n",
        "%%capture\n",
        "!pip install SpeechRecognition pydub\n",
        "!apt install ffmpeg"
      ]
    },
    {
      "cell_type": "code",
      "source": [
        "# Импорт библиотек\n",
        "import os\n",
        "import speech_recognition as sr\n",
        "from pydub import AudioSegment\n",
        "from pydub.generators import WhiteNoise\n",
        "import numpy as np\n",
        "from sklearn.metrics import accuracy_score"
      ],
      "metadata": {
        "id": "aFDMAMLpQK2H"
      },
      "execution_count": 2,
      "outputs": []
    },
    {
      "cell_type": "code",
      "source": [
        "# Функция конвертации mp3 в wav\n",
        "def convert_mp3_to_wav(input_mp3_path, output_wav_path=None, sample_rate=16000):\n",
        "\n",
        "    # Загружаем MP3 файл\n",
        "    audio = AudioSegment.from_mp3(input_mp3_path)\n",
        "\n",
        "    # Устанавливаем частоту дискретизации\n",
        "    audio = audio.set_frame_rate(sample_rate)\n",
        "\n",
        "    # Экспортируем в WAV\n",
        "    audio.export(output_wav_path, format=\"wav\")\n",
        "    print(f\"Файл успешно конвертирован: {output_wav_path}\")\n",
        "\n",
        "    return output_wav_path"
      ],
      "metadata": {
        "id": "jl83tzyUQc_X"
      },
      "execution_count": 12,
      "outputs": []
    },
    {
      "cell_type": "code",
      "source": [
        "# Функция добавления шума к записям\n",
        "def add_noise_to_audio(input_path, output_path=None, noise_level=0.1):\n",
        "\n",
        "    # Загружаем аудиофайл\n",
        "    audio = AudioSegment.from_file(input_path)\n",
        "\n",
        "    # Генерируем белый шум той же длительности, что и аудио\n",
        "    noise = WhiteNoise().to_audio_segment(duration=len(audio))\n",
        "\n",
        "    # Накладываем шум на оригинальное аудио\n",
        "    noisy_audio = audio.overlay(noise, gain_during_overlay=noise_level*20)\n",
        "\n",
        "    # Сохраняем результат\n",
        "    noisy_audio.export(output_path, format=output_path.split('.')[-1])\n",
        "\n",
        "    print(f\"Файл с шумом успешно создан: {output_path}\")\n",
        "    return output_path"
      ],
      "metadata": {
        "id": "oWPnYJaJVAJ2"
      },
      "execution_count": null,
      "outputs": []
    },
    {
      "cell_type": "code",
      "source": [
        "# Конвертирум mp3 в wav\n",
        "folder_path = '/content/'\n",
        "\n",
        "# Получаем список всех файлов и папок\n",
        "all_items = os.listdir(folder_path)\n",
        "\n",
        "# Фильтруем только файлы (исключаем подпапки)\n",
        "files = [item for item in all_items if os.path.isfile(os.path.join(folder_path, item))]\n",
        "\n",
        "i = 1\n",
        "for file in files:\n",
        "    convert_mp3_to_wav(file, f\"clean/clean_sample{i}.wav\")\n",
        "    i += 1"
      ],
      "metadata": {
        "colab": {
          "base_uri": "https://localhost:8080/"
        },
        "id": "hRbLbNxgR4-8",
        "outputId": "45d7e378-7477-4351-e118-bf103c301995"
      },
      "execution_count": 14,
      "outputs": [
        {
          "output_type": "stream",
          "name": "stdout",
          "text": [
            "Файл успешно конвертирован: clean/clean_sample1.wav\n",
            "Файл успешно конвертирован: clean/clean_sample2.wav\n",
            "Файл успешно конвертирован: clean/clean_sample3.wav\n",
            "Файл успешно конвертирован: clean/clean_sample4.wav\n",
            "Файл успешно конвертирован: clean/clean_sample5.wav\n"
          ]
        }
      ]
    },
    {
      "cell_type": "code",
      "source": [
        "# Добавляем шум к записям\n",
        "add_noise_to_audio(\"sample3.wav\", \"noisy_samples/loud_noise.wav\")"
      ],
      "metadata": {
        "id": "LC0a6J29Vo_g"
      },
      "execution_count": null,
      "outputs": []
    }
  ]
}