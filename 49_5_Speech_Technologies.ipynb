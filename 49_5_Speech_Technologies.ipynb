{
  "nbformat": 4,
  "nbformat_minor": 0,
  "metadata": {
    "colab": {
      "provenance": [],
      "authorship_tag": "ABX9TyOnWYd/ImDAk+7tvtuKhhRU",
      "include_colab_link": true
    },
    "kernelspec": {
      "name": "python3",
      "display_name": "Python 3"
    },
    "language_info": {
      "name": "python"
    }
  },
  "cells": [
    {
      "cell_type": "markdown",
      "metadata": {
        "id": "view-in-github",
        "colab_type": "text"
      },
      "source": [
        "<a href=\"https://colab.research.google.com/github/Maxxx-VS/The-Founder/blob/master/49_5_Speech_Technologies.ipynb\" target=\"_parent\"><img src=\"https://colab.research.google.com/assets/colab-badge.svg\" alt=\"Open In Colab\"/></a>"
      ]
    },
    {
      "cell_type": "code",
      "execution_count": 1,
      "metadata": {
        "id": "isZ3d_yJK8fG"
      },
      "outputs": [],
      "source": [
        "# Установка библиотек\n",
        "%%capture\n",
        "!pip install SpeechRecognition pydub\n",
        "!apt install ffmpeg"
      ]
    },
    {
      "cell_type": "code",
      "source": [
        "# Импорт библиотек\n",
        "import os\n",
        "import speech_recognition as sr\n",
        "from pydub import AudioSegment\n",
        "from pydub.generators import WhiteNoise\n",
        "import numpy as np\n",
        "from sklearn.metrics import accuracy_score"
      ],
      "metadata": {
        "id": "aFDMAMLpQK2H"
      },
      "execution_count": 2,
      "outputs": []
    },
    {
      "cell_type": "code",
      "source": [
        "# Функция конвертации mp3 в wav\n",
        "def convert_mp3_to_wav(input_mp3_path, output_wav_path=None, sample_rate=16000):\n",
        "\n",
        "    # Загружаем MP3 файл\n",
        "    audio = AudioSegment.from_mp3(input_mp3_path)\n",
        "\n",
        "    # Устанавливаем частоту дискретизации\n",
        "    audio = audio.set_frame_rate(sample_rate)\n",
        "\n",
        "    # Экспортируем в WAV\n",
        "    audio.export(output_wav_path, format=\"wav\")\n",
        "    print(f\"Файл успешно конвертирован: {output_wav_path}\")\n",
        "    return output_wav_path"
      ],
      "metadata": {
        "id": "jl83tzyUQc_X"
      },
      "execution_count": 3,
      "outputs": []
    },
    {
      "cell_type": "code",
      "source": [
        "# Функция добавления шума\n",
        "def add_noise_to_audio(input_path, output_path=None, noise_level=0.9):\n",
        "\n",
        "    # Загружаем аудиофайл\n",
        "    audio = AudioSegment.from_file(input_path)\n",
        "\n",
        "    # Генерируем белый шум той же длительности, что и аудио\n",
        "    noise = WhiteNoise().to_audio_segment(duration=len(audio))\n",
        "\n",
        "    # Накладываем шум на оригинальное аудио\n",
        "    noisy_audio = audio.overlay(noise, gain_during_overlay=noise_level*20)  # Умножаем на 20 для перевода в дБ\n",
        "\n",
        "    # Если выходной путь не указан, добавляем '_noisy' к имени файла\n",
        "    if output_path is None:\n",
        "        base, ext = os.path.splitext(input_path)\n",
        "        output_path = f\"{base}_noisy{ext}\"\n",
        "\n",
        "    # Сохраняем результат\n",
        "    noisy_audio.export(output_path, format=output_path.split('.')[-1])\n",
        "\n",
        "    print(f\"Файл с шумом успешно создан: {output_path}\")\n",
        "    return output_path"
      ],
      "metadata": {
        "id": "LSqD0qM-e8_G"
      },
      "execution_count": 4,
      "outputs": []
    },
    {
      "cell_type": "code",
      "source": [
        "# Функция транскрибации аудио\n",
        "def transcribe_audio(filename):\n",
        "\n",
        "    r = sr.Recognizer()\n",
        "    with sr.AudioFile(filename) as source:\n",
        "        audio = r.record(source)\n",
        "        text = r.recognize_google(audio, language=\"ru-RU\")\n",
        "        return text"
      ],
      "metadata": {
        "id": "uFr0PbIhgYoW"
      },
      "execution_count": 5,
      "outputs": []
    },
    {
      "cell_type": "code",
      "source": [
        "# Конвертирум mp3 в wav\n",
        "folder_path = '/content/'\n",
        "\n",
        "# Создаем папку для чистых аудиофайлов\n",
        "os.makedirs(\"clean\", exist_ok=True)\n",
        "\n",
        "# Получаем список всех файлов и папок\n",
        "all_items = os.listdir(folder_path)\n",
        "\n",
        "# Фильтруем только файлы (исключаем подпапки)\n",
        "files = [item for item in all_items if os.path.isfile(os.path.join(folder_path, item))]\n",
        "print(files)\n",
        "\n",
        "for file in files:\n",
        "    convert_mp3_to_wav(file, f\"clean/{file[:-4]}_clean.wav\")"
      ],
      "metadata": {
        "colab": {
          "base_uri": "https://localhost:8080/"
        },
        "id": "hRbLbNxgR4-8",
        "outputId": "e8fb401e-de42-4dbb-bb24-cfc168576ac9"
      },
      "execution_count": 14,
      "outputs": [
        {
          "output_type": "stream",
          "name": "stdout",
          "text": [
            "['jenskie-golosovye.mp3', 'ne-mogu.mp3', 'utro.mp3', 'novoe.mp3', 'dobrogo-vremni-sutok.mp3']\n",
            "Файл успешно конвертирован: clean/jenskie-golosovye_clean.wav\n",
            "Файл успешно конвертирован: clean/ne-mogu_clean.wav\n",
            "Файл успешно конвертирован: clean/utro_clean.wav\n",
            "Файл успешно конвертирован: clean/novoe_clean.wav\n",
            "Файл успешно конвертирован: clean/dobrogo-vremni-sutok_clean.wav\n"
          ]
        }
      ]
    },
    {
      "cell_type": "code",
      "source": [
        "# Добавляем шум к записям\n",
        "folder_path = '/content/clean/'\n",
        "\n",
        "# Создаем папку для шумных аудиофайлов\n",
        "os.makedirs(\"noise\", exist_ok=True)\n",
        "\n",
        "# Получаем список всех файлов и папок\n",
        "all_items = os.listdir(folder_path)\n",
        "\n",
        "# Фильтруем только файлы (исключаем подпапки)\n",
        "files = [item for item in all_items if os.path.isfile(os.path.join(folder_path, item))]\n",
        "print(files)\n",
        "\n",
        "for file in files:\n",
        "    add_noise_to_audio(f\"{folder_path}{file}\", f\"noise/{file[:-10]}_noise.wav\")"
      ],
      "metadata": {
        "colab": {
          "base_uri": "https://localhost:8080/"
        },
        "id": "LC0a6J29Vo_g",
        "outputId": "4f3c61e9-fa0a-4da7-9612-c6a7cac43d27"
      },
      "execution_count": 15,
      "outputs": [
        {
          "output_type": "stream",
          "name": "stdout",
          "text": [
            "['utro_clean.wav', 'dobrogo-vremni-sutok_clean.wav', 'novoe_clean.wav', 'jenskie-golosovye_clean.wav', 'ne-mogu_clean.wav']\n",
            "Файл с шумом успешно создан: noise/utro_noise.wav\n",
            "Файл с шумом успешно создан: noise/dobrogo-vremni-sutok_noise.wav\n",
            "Файл с шумом успешно создан: noise/novoe_noise.wav\n",
            "Файл с шумом успешно создан: noise/jenskie-golosovye_noise.wav\n",
            "Файл с шумом успешно создан: noise/ne-mogu_noise.wav\n"
          ]
        }
      ]
    },
    {
      "cell_type": "code",
      "source": [
        "phrases = [\"Доброго времени суток\",\n",
        "           \"В чем ты сейчас одет\",\n",
        "           \"Блин к сожалению не могу\",\n",
        "           \"Для меня это что-то новое\",\n",
        "           \"Доброе утро\"]\n",
        "\n",
        "results = []"
      ],
      "metadata": {
        "id": "f1RwZwvahk_Z"
      },
      "execution_count": 16,
      "outputs": []
    },
    {
      "cell_type": "code",
      "source": [
        "for i in range(5):\n",
        "    # Транскрибируем чистое аудио\n",
        "    clean_text = transcribe_audio(\"/content/clean/dobrogo-vremni-sutok_clean.wav\")\n",
        "\n",
        "    # Транскрибируем шумное аудио\n",
        "    noisy_text = transcribe_audio(\"/content/noise/dobrogo-vremni-sutok_noise.wav\")\n",
        "\n",
        "    # Оригинальный текст\n",
        "    original_text = phrases[0].lower()\n",
        "\n",
        "\n",
        "    results.append({\"sample\": i,\n",
        "                    \"original\": original_text,\n",
        "                    \"clean_transcription\": clean_text.lower() if clean_text else \"\",\n",
        "                    \"noisy_transcription\": noisy_text.lower() if noisy_text else \"\",})"
      ],
      "metadata": {
        "id": "67uOxbqdml35"
      },
      "execution_count": 17,
      "outputs": []
    },
    {
      "cell_type": "code",
      "source": [
        "print(results)"
      ],
      "metadata": {
        "colab": {
          "base_uri": "https://localhost:8080/"
        },
        "id": "QnJ4bkjEmdV0",
        "outputId": "7a84fa9a-2dd1-4444-a670-db98a60c94ab"
      },
      "execution_count": 18,
      "outputs": [
        {
          "output_type": "stream",
          "name": "stdout",
          "text": [
            "[{'sample': 0, 'original': 'доброго времени суток', 'clean_transcription': 'доброго времени су', 'noisy_transcription': 'доброго времени'}, {'sample': 1, 'original': 'доброго времени суток', 'clean_transcription': 'доброго времени су', 'noisy_transcription': 'доброго времени'}, {'sample': 2, 'original': 'доброго времени суток', 'clean_transcription': 'доброго времени су', 'noisy_transcription': 'доброго времени'}, {'sample': 3, 'original': 'доброго времени суток', 'clean_transcription': 'доброго времени су', 'noisy_transcription': 'доброго времени'}, {'sample': 4, 'original': 'доброго времени суток', 'clean_transcription': 'доброго времени су', 'noisy_transcription': 'доброго времени'}]\n"
          ]
        }
      ]
    }
  ]
}