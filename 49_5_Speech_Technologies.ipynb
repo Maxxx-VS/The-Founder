{
  "nbformat": 4,
  "nbformat_minor": 0,
  "metadata": {
    "colab": {
      "provenance": [],
      "authorship_tag": "ABX9TyOJ8wgR2h7gMaUOmHOdLNla",
      "include_colab_link": true
    },
    "kernelspec": {
      "name": "python3",
      "display_name": "Python 3"
    },
    "language_info": {
      "name": "python"
    }
  },
  "cells": [
    {
      "cell_type": "markdown",
      "metadata": {
        "id": "view-in-github",
        "colab_type": "text"
      },
      "source": [
        "<a href=\"https://colab.research.google.com/github/Maxxx-VS/The-Founder/blob/master/49_5_Speech_Technologies.ipynb\" target=\"_parent\"><img src=\"https://colab.research.google.com/assets/colab-badge.svg\" alt=\"Open In Colab\"/></a>"
      ]
    },
    {
      "cell_type": "code",
      "execution_count": 1,
      "metadata": {
        "id": "isZ3d_yJK8fG"
      },
      "outputs": [],
      "source": [
        "# Установка библиотек\n",
        "%%capture\n",
        "!pip install SpeechRecognition pydub\n",
        "!apt install ffmpeg"
      ]
    },
    {
      "cell_type": "code",
      "source": [
        "# Импорт библиотек\n",
        "import os\n",
        "import speech_recognition as sr\n",
        "from pydub import AudioSegment\n",
        "from pydub.generators import WhiteNoise\n",
        "import numpy as np\n",
        "from sklearn.metrics import accuracy_score"
      ],
      "metadata": {
        "id": "aFDMAMLpQK2H"
      },
      "execution_count": 2,
      "outputs": []
    },
    {
      "cell_type": "code",
      "source": [
        "# Функция конвертации mp3 в wav\n",
        "def convert_mp3_to_wav(input_mp3_path, output_wav_path=None, sample_rate=16000):\n",
        "\n",
        "    try:\n",
        "        if output_wav_path is None:\n",
        "            base_path = os.path.splitext(input_mp3_path)[0]\n",
        "            output_wav_path = f\"{base_path}.wav\"\n",
        "        # Загружаем MP3 файл\n",
        "        audio = AudioSegment.from_mp3(input_mp3_path)\n",
        "        # Устанавливаем частоту дискретизации\n",
        "        audio = audio.set_frame_rate(sample_rate)\n",
        "        # Экспортируем в WAV\n",
        "        audio.export(output_wav_path, format=\"wav\")\n",
        "        print(f\"Файл успешно конвертирован: {output_wav_path}\")\n",
        "        return output_wav_path\n",
        "\n",
        "    except Exception as e:\n",
        "        print(f\"Ошибка при конвертации: {str(e)}\")\n",
        "        return None"
      ],
      "metadata": {
        "id": "jl83tzyUQc_X"
      },
      "execution_count": 3,
      "outputs": []
    },
    {
      "cell_type": "code",
      "source": [
        "# Путь к папке\n",
        "folder_path = '/content/'\n",
        "\n",
        "# Получаем список всех файлов и папок\n",
        "all_items = os.listdir(folder_path)\n",
        "\n",
        "# Фильтруем только файлы (исключаем подпапки)\n",
        "files = [item for item in all_items if os.path.isfile(os.path.join(folder_path, item))]\n",
        "\n",
        "i = 1\n",
        "for file in files:\n",
        "    convert_mp3_to_wav(file, f\"noise/sample{i}.wav\")\n",
        "    i += 1"
      ],
      "metadata": {
        "colab": {
          "base_uri": "https://localhost:8080/"
        },
        "id": "hRbLbNxgR4-8",
        "outputId": "990ec0e6-ad1d-46cd-f308-49a01bde2401"
      },
      "execution_count": 7,
      "outputs": [
        {
          "output_type": "stream",
          "name": "stdout",
          "text": [
            "Файлы в папке /content/:\n",
            "Файл успешно конвертирован: noise/sample1.wav\n",
            "Файл успешно конвертирован: noise/sample2.wav\n",
            "Файл успешно конвертирован: noise/sample3.wav\n",
            "Файл успешно конвертирован: noise/sample4.wav\n",
            "Файл успешно конвертирован: noise/sample5.wav\n"
          ]
        }
      ]
    },
    {
      "cell_type": "code",
      "source": [],
      "metadata": {
        "id": "Sqf_m23CTAlP"
      },
      "execution_count": null,
      "outputs": []
    }
  ]
}