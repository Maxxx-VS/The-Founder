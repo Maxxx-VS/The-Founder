{
  "nbformat": 4,
  "nbformat_minor": 0,
  "metadata": {
    "colab": {
      "provenance": [],
      "authorship_tag": "ABX9TyPNP+yuLLEBwDoKHTlB5dbV",
      "include_colab_link": true
    },
    "kernelspec": {
      "name": "python3",
      "display_name": "Python 3"
    },
    "language_info": {
      "name": "python"
    }
  },
  "cells": [
    {
      "cell_type": "markdown",
      "metadata": {
        "id": "view-in-github",
        "colab_type": "text"
      },
      "source": [
        "<a href=\"https://colab.research.google.com/github/Maxxx-VS/The-Founder/blob/master/49_5_Speech_Technologies.ipynb\" target=\"_parent\"><img src=\"https://colab.research.google.com/assets/colab-badge.svg\" alt=\"Open In Colab\"/></a>"
      ]
    },
    {
      "cell_type": "code",
      "execution_count": 1,
      "metadata": {
        "id": "isZ3d_yJK8fG"
      },
      "outputs": [],
      "source": [
        "# Установка библиотек\n",
        "%%capture\n",
        "!pip install SpeechRecognition pydub\n",
        "!apt install ffmpeg"
      ]
    },
    {
      "cell_type": "code",
      "source": [
        "# Импорт библиотек\n",
        "import os\n",
        "import speech_recognition as sr\n",
        "from pydub import AudioSegment\n",
        "from pydub.generators import WhiteNoise\n",
        "import numpy as np\n",
        "from sklearn.metrics import accuracy_score"
      ],
      "metadata": {
        "id": "aFDMAMLpQK2H"
      },
      "execution_count": 2,
      "outputs": []
    },
    {
      "cell_type": "code",
      "source": [
        "# Загрузка аудиофайлов\n",
        "from google.colab import files\n",
        "uploaded = files.upload()"
      ],
      "metadata": {
        "colab": {
          "base_uri": "https://localhost:8080/",
          "height": 212
        },
        "id": "USi1eSDxOSy1",
        "outputId": "b0640b54-47f8-4019-ee38-2586a4106fc9"
      },
      "execution_count": 3,
      "outputs": [
        {
          "output_type": "display_data",
          "data": {
            "text/plain": [
              "<IPython.core.display.HTML object>"
            ],
            "text/html": [
              "\n",
              "     <input type=\"file\" id=\"files-419e4391-2388-48d8-ad19-5a3635ab8b7e\" name=\"files[]\" multiple disabled\n",
              "        style=\"border:none\" />\n",
              "     <output id=\"result-419e4391-2388-48d8-ad19-5a3635ab8b7e\">\n",
              "      Upload widget is only available when the cell has been executed in the\n",
              "      current browser session. Please rerun this cell to enable.\n",
              "      </output>\n",
              "      <script>// Copyright 2017 Google LLC\n",
              "//\n",
              "// Licensed under the Apache License, Version 2.0 (the \"License\");\n",
              "// you may not use this file except in compliance with the License.\n",
              "// You may obtain a copy of the License at\n",
              "//\n",
              "//      http://www.apache.org/licenses/LICENSE-2.0\n",
              "//\n",
              "// Unless required by applicable law or agreed to in writing, software\n",
              "// distributed under the License is distributed on an \"AS IS\" BASIS,\n",
              "// WITHOUT WARRANTIES OR CONDITIONS OF ANY KIND, either express or implied.\n",
              "// See the License for the specific language governing permissions and\n",
              "// limitations under the License.\n",
              "\n",
              "/**\n",
              " * @fileoverview Helpers for google.colab Python module.\n",
              " */\n",
              "(function(scope) {\n",
              "function span(text, styleAttributes = {}) {\n",
              "  const element = document.createElement('span');\n",
              "  element.textContent = text;\n",
              "  for (const key of Object.keys(styleAttributes)) {\n",
              "    element.style[key] = styleAttributes[key];\n",
              "  }\n",
              "  return element;\n",
              "}\n",
              "\n",
              "// Max number of bytes which will be uploaded at a time.\n",
              "const MAX_PAYLOAD_SIZE = 100 * 1024;\n",
              "\n",
              "function _uploadFiles(inputId, outputId) {\n",
              "  const steps = uploadFilesStep(inputId, outputId);\n",
              "  const outputElement = document.getElementById(outputId);\n",
              "  // Cache steps on the outputElement to make it available for the next call\n",
              "  // to uploadFilesContinue from Python.\n",
              "  outputElement.steps = steps;\n",
              "\n",
              "  return _uploadFilesContinue(outputId);\n",
              "}\n",
              "\n",
              "// This is roughly an async generator (not supported in the browser yet),\n",
              "// where there are multiple asynchronous steps and the Python side is going\n",
              "// to poll for completion of each step.\n",
              "// This uses a Promise to block the python side on completion of each step,\n",
              "// then passes the result of the previous step as the input to the next step.\n",
              "function _uploadFilesContinue(outputId) {\n",
              "  const outputElement = document.getElementById(outputId);\n",
              "  const steps = outputElement.steps;\n",
              "\n",
              "  const next = steps.next(outputElement.lastPromiseValue);\n",
              "  return Promise.resolve(next.value.promise).then((value) => {\n",
              "    // Cache the last promise value to make it available to the next\n",
              "    // step of the generator.\n",
              "    outputElement.lastPromiseValue = value;\n",
              "    return next.value.response;\n",
              "  });\n",
              "}\n",
              "\n",
              "/**\n",
              " * Generator function which is called between each async step of the upload\n",
              " * process.\n",
              " * @param {string} inputId Element ID of the input file picker element.\n",
              " * @param {string} outputId Element ID of the output display.\n",
              " * @return {!Iterable<!Object>} Iterable of next steps.\n",
              " */\n",
              "function* uploadFilesStep(inputId, outputId) {\n",
              "  const inputElement = document.getElementById(inputId);\n",
              "  inputElement.disabled = false;\n",
              "\n",
              "  const outputElement = document.getElementById(outputId);\n",
              "  outputElement.innerHTML = '';\n",
              "\n",
              "  const pickedPromise = new Promise((resolve) => {\n",
              "    inputElement.addEventListener('change', (e) => {\n",
              "      resolve(e.target.files);\n",
              "    });\n",
              "  });\n",
              "\n",
              "  const cancel = document.createElement('button');\n",
              "  inputElement.parentElement.appendChild(cancel);\n",
              "  cancel.textContent = 'Cancel upload';\n",
              "  const cancelPromise = new Promise((resolve) => {\n",
              "    cancel.onclick = () => {\n",
              "      resolve(null);\n",
              "    };\n",
              "  });\n",
              "\n",
              "  // Wait for the user to pick the files.\n",
              "  const files = yield {\n",
              "    promise: Promise.race([pickedPromise, cancelPromise]),\n",
              "    response: {\n",
              "      action: 'starting',\n",
              "    }\n",
              "  };\n",
              "\n",
              "  cancel.remove();\n",
              "\n",
              "  // Disable the input element since further picks are not allowed.\n",
              "  inputElement.disabled = true;\n",
              "\n",
              "  if (!files) {\n",
              "    return {\n",
              "      response: {\n",
              "        action: 'complete',\n",
              "      }\n",
              "    };\n",
              "  }\n",
              "\n",
              "  for (const file of files) {\n",
              "    const li = document.createElement('li');\n",
              "    li.append(span(file.name, {fontWeight: 'bold'}));\n",
              "    li.append(span(\n",
              "        `(${file.type || 'n/a'}) - ${file.size} bytes, ` +\n",
              "        `last modified: ${\n",
              "            file.lastModifiedDate ? file.lastModifiedDate.toLocaleDateString() :\n",
              "                                    'n/a'} - `));\n",
              "    const percent = span('0% done');\n",
              "    li.appendChild(percent);\n",
              "\n",
              "    outputElement.appendChild(li);\n",
              "\n",
              "    const fileDataPromise = new Promise((resolve) => {\n",
              "      const reader = new FileReader();\n",
              "      reader.onload = (e) => {\n",
              "        resolve(e.target.result);\n",
              "      };\n",
              "      reader.readAsArrayBuffer(file);\n",
              "    });\n",
              "    // Wait for the data to be ready.\n",
              "    let fileData = yield {\n",
              "      promise: fileDataPromise,\n",
              "      response: {\n",
              "        action: 'continue',\n",
              "      }\n",
              "    };\n",
              "\n",
              "    // Use a chunked sending to avoid message size limits. See b/62115660.\n",
              "    let position = 0;\n",
              "    do {\n",
              "      const length = Math.min(fileData.byteLength - position, MAX_PAYLOAD_SIZE);\n",
              "      const chunk = new Uint8Array(fileData, position, length);\n",
              "      position += length;\n",
              "\n",
              "      const base64 = btoa(String.fromCharCode.apply(null, chunk));\n",
              "      yield {\n",
              "        response: {\n",
              "          action: 'append',\n",
              "          file: file.name,\n",
              "          data: base64,\n",
              "        },\n",
              "      };\n",
              "\n",
              "      let percentDone = fileData.byteLength === 0 ?\n",
              "          100 :\n",
              "          Math.round((position / fileData.byteLength) * 100);\n",
              "      percent.textContent = `${percentDone}% done`;\n",
              "\n",
              "    } while (position < fileData.byteLength);\n",
              "  }\n",
              "\n",
              "  // All done.\n",
              "  yield {\n",
              "    response: {\n",
              "      action: 'complete',\n",
              "    }\n",
              "  };\n",
              "}\n",
              "\n",
              "scope.google = scope.google || {};\n",
              "scope.google.colab = scope.google.colab || {};\n",
              "scope.google.colab._files = {\n",
              "  _uploadFiles,\n",
              "  _uploadFilesContinue,\n",
              "};\n",
              "})(self);\n",
              "</script> "
            ]
          },
          "metadata": {}
        },
        {
          "output_type": "stream",
          "name": "stdout",
          "text": [
            "Saving utro.mp3 to utro.mp3\n",
            "Saving novoe.mp3 to novoe.mp3\n",
            "Saving ne-mogu.mp3 to ne-mogu.mp3\n",
            "Saving jenskie-golosovye.mp3 to jenskie-golosovye.mp3\n",
            "Saving dobrogo-vremni-sutok.mp3 to dobrogo-vremni-sutok.mp3\n"
          ]
        }
      ]
    },
    {
      "cell_type": "code",
      "source": [
        "# Функция конвертации mp3 в wav\n",
        "def convert_mp3_to_wav(input_mp3_path, output_wav_path=None, sample_rate=16000):\n",
        "\n",
        "    # Загружаем MP3 файл\n",
        "    audio = AudioSegment.from_mp3(input_mp3_path)\n",
        "\n",
        "    # Устанавливаем частоту дискретизации\n",
        "    audio = audio.set_frame_rate(sample_rate)\n",
        "\n",
        "    # Экспортируем в WAV\n",
        "    audio.export(output_wav_path, format=\"wav\")\n",
        "    print(f\"Файл успешно конвертирован: {output_wav_path}\")\n",
        "    return output_wav_path"
      ],
      "metadata": {
        "id": "jl83tzyUQc_X"
      },
      "execution_count": 4,
      "outputs": []
    },
    {
      "cell_type": "code",
      "source": [
        "# Функция добавления шума\n",
        "def add_noise_to_audio(input_path, output_path=None, noise_level=0.9):\n",
        "\n",
        "    # Загружаем аудиофайл\n",
        "    audio = AudioSegment.from_file(input_path)\n",
        "\n",
        "    # Генерируем белый шум той же длительности, что и аудио\n",
        "    noise = WhiteNoise().to_audio_segment(duration=len(audio))\n",
        "\n",
        "    # Накладываем шум на оригинальное аудио\n",
        "    noisy_audio = audio.overlay(noise, gain_during_overlay=noise_level*20)\n",
        "\n",
        "    # Если выходной путь не указан, добавляем '_noisy' к имени файла\n",
        "    if output_path is None:\n",
        "        base, ext = os.path.splitext(input_path)\n",
        "        output_path = f\"{base}_noisy{ext}\"\n",
        "\n",
        "    # Сохраняем результат\n",
        "    noisy_audio.export(output_path, format=output_path.split('.')[-1])\n",
        "\n",
        "    print(f\"Файл с шумом успешно создан: {output_path}\")\n",
        "    return output_path"
      ],
      "metadata": {
        "id": "LSqD0qM-e8_G"
      },
      "execution_count": 5,
      "outputs": []
    },
    {
      "cell_type": "code",
      "source": [
        "# Функция транскрибации аудио\n",
        "def transcribe_audio(filename):\n",
        "\n",
        "    r = sr.Recognizer()\n",
        "    with sr.AudioFile(filename) as source:\n",
        "        audio = r.record(source)\n",
        "        text = r.recognize_google(audio, language=\"ru-RU\")\n",
        "        return text"
      ],
      "metadata": {
        "id": "uFr0PbIhgYoW"
      },
      "execution_count": 6,
      "outputs": []
    },
    {
      "cell_type": "code",
      "source": [
        "# Конвертирум mp3 в wav\n",
        "folder_path = '/content/'\n",
        "\n",
        "# Создаем папку для чистых аудиофайлов\n",
        "os.makedirs(\"clean\", exist_ok=True)\n",
        "\n",
        "# Получаем список всех файлов и папок\n",
        "all_items = os.listdir(folder_path)\n",
        "\n",
        "# Фильтруем только файлы (исключаем подпапки)\n",
        "clean_files = [item for item in all_items if os.path.isfile(os.path.join(folder_path, item))]\n",
        "print(clean_files)\n",
        "\n",
        "for file in clean_files:\n",
        "    convert_mp3_to_wav(file, f\"clean/{file[:-4]}_clean.wav\")"
      ],
      "metadata": {
        "colab": {
          "base_uri": "https://localhost:8080/"
        },
        "id": "hRbLbNxgR4-8",
        "outputId": "cb90babf-84f2-4d6e-abcb-8ff64b43caee"
      },
      "execution_count": 7,
      "outputs": [
        {
          "output_type": "stream",
          "name": "stdout",
          "text": [
            "['jenskie-golosovye.mp3', 'ne-mogu.mp3', 'utro.mp3', 'novoe.mp3', 'dobrogo-vremni-sutok.mp3']\n",
            "Файл успешно конвертирован: clean/jenskie-golosovye_clean.wav\n",
            "Файл успешно конвертирован: clean/ne-mogu_clean.wav\n",
            "Файл успешно конвертирован: clean/utro_clean.wav\n",
            "Файл успешно конвертирован: clean/novoe_clean.wav\n",
            "Файл успешно конвертирован: clean/dobrogo-vremni-sutok_clean.wav\n"
          ]
        }
      ]
    },
    {
      "cell_type": "code",
      "source": [
        "# Добавляем шум к записям\n",
        "folder_path = '/content/clean/'\n",
        "\n",
        "# Создаем папку для шумных аудиофайлов\n",
        "os.makedirs(\"noise\", exist_ok=True)\n",
        "\n",
        "# Получаем список всех файлов и папок\n",
        "all_items = os.listdir(folder_path)\n",
        "\n",
        "# Фильтруем только файлы (исключаем подпапки)\n",
        "noise_files = [item for item in all_items if os.path.isfile(os.path.join(folder_path, item))]\n",
        "print(noise_files)\n",
        "\n",
        "for file in noise_files:\n",
        "    add_noise_to_audio(f\"{folder_path}{file}\", f\"noise/{file[:-10]}_noise.wav\")"
      ],
      "metadata": {
        "colab": {
          "base_uri": "https://localhost:8080/"
        },
        "id": "LC0a6J29Vo_g",
        "outputId": "9bf3832e-3ced-4b2d-d6f1-1b78498af709"
      },
      "execution_count": 8,
      "outputs": [
        {
          "output_type": "stream",
          "name": "stdout",
          "text": [
            "['utro_clean.wav', 'dobrogo-vremni-sutok_clean.wav', 'novoe_clean.wav', 'jenskie-golosovye_clean.wav', 'ne-mogu_clean.wav']\n",
            "Файл с шумом успешно создан: noise/utro_noise.wav\n",
            "Файл с шумом успешно создан: noise/dobrogo-vremni-sutok_noise.wav\n",
            "Файл с шумом успешно создан: noise/novoe_noise.wav\n",
            "Файл с шумом успешно создан: noise/jenskie-golosovye_noise.wav\n",
            "Файл с шумом успешно создан: noise/ne-mogu_noise.wav\n"
          ]
        }
      ]
    },
    {
      "cell_type": "code",
      "source": [
        "# Список с оригинальным текстом и для сохрения рез-та\n",
        "phrases = [\"Доброго времени суток\",\n",
        "           \"В чем ты сейчас одет\",\n",
        "           \"Блин к сожалению не могу\",\n",
        "           \"Для меня это что-то новое\",\n",
        "           \"Доброе утро\"]\n",
        "\n",
        "results = []"
      ],
      "metadata": {
        "id": "f1RwZwvahk_Z"
      },
      "execution_count": 9,
      "outputs": []
    },
    {
      "cell_type": "code",
      "source": [
        "# Проводим транкрибацию и добавляем в словарь\n",
        "clean_folder_path = '/content/clean/'\n",
        "noise_folder_path = '/content/noise/'\n",
        "\n",
        "# Получаем список файлов и папок\n",
        "clean_contents = sorted(os.listdir(clean_folder_path))\n",
        "noise_contents = sorted(os.listdir(noise_folder_path))\n",
        "\n",
        "for i in range(5):\n",
        "    clean_text = transcribe_audio(f\"{clean_folder_path}{clean_contents[i]}\")\n",
        "    noisy_text = transcribe_audio(f\"{noise_folder_path}{noise_contents[i]}\")\n",
        "    original_text = phrases[i].lower()\n",
        "\n",
        "    results.append({\n",
        "      \"sample\": i,\n",
        "      \"original\": original_text,\n",
        "      \"clean_transcription\": clean_text.lower() if clean_text else \"\",\n",
        "      \"noisy_transcription\": noisy_text.lower() if noisy_text else \"\",\n",
        "  })"
      ],
      "metadata": {
        "id": "BU_G5xwvR5dD"
      },
      "execution_count": 10,
      "outputs": []
    },
    {
      "cell_type": "code",
      "source": [
        "# Проверяем порядок чтения в папке\n",
        "print(clean_contents)\n",
        "print(noise_contents)"
      ],
      "metadata": {
        "colab": {
          "base_uri": "https://localhost:8080/"
        },
        "id": "DQo1rYLPWLAE",
        "outputId": "0fe25688-e4c6-4a92-8a75-f6d389f27c5f"
      },
      "execution_count": 11,
      "outputs": [
        {
          "output_type": "stream",
          "name": "stdout",
          "text": [
            "['dobrogo-vremni-sutok_clean.wav', 'jenskie-golosovye_clean.wav', 'ne-mogu_clean.wav', 'novoe_clean.wav', 'utro_clean.wav']\n",
            "['dobrogo-vremni-sutok_noise.wav', 'jenskie-golosovye_noise.wav', 'ne-mogu_noise.wav', 'novoe_noise.wav', 'utro_noise.wav']\n"
          ]
        }
      ]
    },
    {
      "cell_type": "code",
      "source": [
        "# Вывод результата\n",
        "for res in results:\n",
        "    print(res)"
      ],
      "metadata": {
        "colab": {
          "base_uri": "https://localhost:8080/"
        },
        "id": "Q0NMDrTNUrOP",
        "outputId": "bf524474-dec6-4af4-8682-0e2c8b7c86d2"
      },
      "execution_count": 12,
      "outputs": [
        {
          "output_type": "stream",
          "name": "stdout",
          "text": [
            "{'sample': 0, 'original': 'доброго времени суток', 'clean_transcription': 'доброго времени су', 'noisy_transcription': 'доброго времени'}\n",
            "{'sample': 1, 'original': 'в чем ты сейчас одет', 'clean_transcription': 'в чём ты сейчас', 'noisy_transcription': 'как пишется'}\n",
            "{'sample': 2, 'original': 'блин к сожалению не могу', 'clean_transcription': 'блин к сожалению не могу', 'noisy_transcription': 'население'}\n",
            "{'sample': 3, 'original': 'для меня это что-то новое', 'clean_transcription': 'для меня это что-то новое', 'noisy_transcription': 'для меня это что-то новое'}\n",
            "{'sample': 4, 'original': 'доброе утро', 'clean_transcription': 'доброе утро', 'noisy_transcription': 'доброе'}\n"
          ]
        }
      ]
    },
    {
      "cell_type": "code",
      "source": [
        "# Метрики и сравнение\n",
        "def calculate_metrics(original, transcribed):\n",
        "\n",
        "    original_words = original.split()\n",
        "    transcribed_words = transcribed.split()\n",
        "\n",
        "    # Точность на уровне слов (Word Accuracy)\n",
        "    correct_words = sum(1 for ow, tw in zip(original_words, transcribed_words) if ow == tw)\n",
        "    word_accuracy = correct_words / len(original_words) if original_words else 0\n",
        "\n",
        "    # Точность на уровне символов (Character Accuracy)\n",
        "    original_chars = list(original.replace(\" \", \"\"))\n",
        "    transcribed_chars = list(transcribed.replace(\" \", \"\"))\n",
        "    correct_chars = sum(1 for oc, tc in zip(original_chars, transcribed_chars) if oc == tc)\n",
        "    char_accuracy = correct_chars / len(original_chars) if original_chars else 0\n",
        "\n",
        "    # WER (Word Error Rate) - упрощенный расчет\n",
        "    errors = sum(1 for ow, tw in zip(original_words, transcribed_words) if ow != tw)\n",
        "    wer = errors / len(original_words) if original_words else 1\n",
        "\n",
        "    return word_accuracy, char_accuracy, wer\n",
        "\n",
        "# Вычисляем метрики для каждого образца\n",
        "for res in results:\n",
        "    # Для чистого аудио\n",
        "    wa_clean, ca_clean, wer_clean = calculate_metrics(res[\"original\"], res[\"clean_transcription\"])\n",
        "\n",
        "    # Для шумного аудио\n",
        "    wa_noisy, ca_noisy, wer_noisy = calculate_metrics(res[\"original\"], res[\"noisy_transcription\"])\n",
        "\n",
        "    res.update({\n",
        "        \"word_accuracy_clean\": wa_clean,\n",
        "        \"char_accuracy_clean\": ca_clean,\n",
        "        \"wer_clean\": wer_clean,\n",
        "        \"word_accuracy_noisy\": wa_noisy,\n",
        "        \"char_accuracy_noisy\": ca_noisy,\n",
        "        \"wer_noisy\": wer_noisy,\n",
        "    })"
      ],
      "metadata": {
        "id": "-pO7mlb8X-VS"
      },
      "execution_count": 13,
      "outputs": []
    },
    {
      "cell_type": "code",
      "source": [
        "# Вывод результатов\n",
        "print(\"{:<10} {:<25} {:<25} {:<15} {:<15} {:<15} {:<15}\".format(\n",
        "    \"Образец\", \"Оригинальный текст\", \"Чистая транскрипция\", \"WA чист\", \"WA шум\", \"CA чист\", \"CA шум\"))\n",
        "print(\"-\" * 110)\n",
        "\n",
        "for res in results:\n",
        "    print(\"{:<10} {:<25} {:<25} {:<15.2f} {:<15.2f} {:<15.2f} {:<15.2f}\".format(\n",
        "        res[\"sample\"],\n",
        "        res[\"original\"][:20] + \"...\" if len(res[\"original\"]) > 20 else res[\"original\"],\n",
        "        (res[\"clean_transcription\"][:20] + \"...\" if len(res[\"clean_transcription\"]) > 20 else res[\"clean_transcription\"]) if res[\"clean_transcription\"] else \"-\",\n",
        "        res[\"word_accuracy_clean\"],\n",
        "        res[\"word_accuracy_noisy\"],\n",
        "        res[\"char_accuracy_clean\"],\n",
        "        res[\"char_accuracy_noisy\"]))"
      ],
      "metadata": {
        "colab": {
          "base_uri": "https://localhost:8080/"
        },
        "id": "WaQnJIIpYQv-",
        "outputId": "b7e932e2-efe5-46b3-fd3c-f4e423029b09"
      },
      "execution_count": 14,
      "outputs": [
        {
          "output_type": "stream",
          "name": "stdout",
          "text": [
            "Образец    Оригинальный текст        Чистая транскрипция       WA чист         WA шум          CA чист         CA шум         \n",
            "--------------------------------------------------------------------------------------------------------------\n",
            "0          доброго времени суто...   доброго времени су        0.67            0.67            0.84            0.74           \n",
            "1          в чем ты сейчас одет      в чём ты сейчас           0.60            0.00            0.69            0.00           \n",
            "2          блин к сожалению не ...   блин к сожалению не ...   1.00            0.00            1.00            0.00           \n",
            "3          для меня это что-то ...   для меня это что-то ...   1.00            1.00            1.00            1.00           \n",
            "4          доброе утро               доброе утро               1.00            0.50            1.00            0.60           \n"
          ]
        }
      ]
    },
    {
      "cell_type": "code",
      "source": [
        "# Средние значения метрик\n",
        "avg_wa_clean = np.mean([res[\"word_accuracy_clean\"] for res in results])\n",
        "avg_wa_noisy = np.mean([res[\"word_accuracy_noisy\"] for res in results])\n",
        "avg_ca_clean = np.mean([res[\"char_accuracy_clean\"] for res in results])\n",
        "avg_ca_noisy = np.mean([res[\"char_accuracy_noisy\"] for res in results])\n",
        "avg_wer_clean = np.mean([res[\"wer_clean\"] for res in results])\n",
        "avg_wer_noisy = np.mean([res[\"wer_noisy\"] for res in results])\n",
        "\n",
        "print(\"\\nСредние значения метрик:\")\n",
        "print(f\"Точность на уровне слов (чистое аудио): {avg_wa_clean:.2f}\")\n",
        "print(f\"Точность на уровне слов (шумное аудио): {avg_wa_noisy:.2f}\")\n",
        "print(f\"Точность на уровне символов (чистое аудио): {avg_ca_clean:.2f}\")\n",
        "print(f\"Точность на уровне символов (шумное аудио): {avg_ca_noisy:.2f}\")\n",
        "print(f\"WER (чистое аудио): {avg_wer_clean:.2f}\")\n",
        "print(f\"WER (шумное аудио): {avg_wer_noisy:.2f}\")"
      ],
      "metadata": {
        "colab": {
          "base_uri": "https://localhost:8080/"
        },
        "id": "XTZPwmgxYUZO",
        "outputId": "c1f49f3e-f595-4b7b-f509-a5e36617c033"
      },
      "execution_count": 15,
      "outputs": [
        {
          "output_type": "stream",
          "name": "stdout",
          "text": [
            "\n",
            "Средние значения метрик:\n",
            "Точность на уровне слов (чистое аудио): 0.85\n",
            "Точность на уровне слов (шумное аудио): 0.43\n",
            "Точность на уровне символов (чистое аудио): 0.91\n",
            "Точность на уровне символов (шумное аудио): 0.47\n",
            "WER (чистое аудио): 0.11\n",
            "WER (шумное аудио): 0.12\n"
          ]
        }
      ]
    }
  ]
}