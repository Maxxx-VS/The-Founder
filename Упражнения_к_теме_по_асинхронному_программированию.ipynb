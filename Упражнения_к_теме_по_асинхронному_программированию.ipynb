{
  "nbformat": 4,
  "nbformat_minor": 0,
  "metadata": {
    "colab": {
      "provenance": [],
      "include_colab_link": true
    },
    "kernelspec": {
      "name": "python3",
      "display_name": "Python 3"
    },
    "language_info": {
      "name": "python"
    }
  },
  "cells": [
    {
      "cell_type": "markdown",
      "metadata": {
        "id": "view-in-github",
        "colab_type": "text"
      },
      "source": [
        "<a href=\"https://colab.research.google.com/github/Maxxx-VS/The-Founder/blob/master/%D0%A3%D0%BF%D1%80%D0%B0%D0%B6%D0%BD%D0%B5%D0%BD%D0%B8%D1%8F_%D0%BA_%D1%82%D0%B5%D0%BC%D0%B5_%D0%BF%D0%BE_%D0%B0%D1%81%D0%B8%D0%BD%D1%85%D1%80%D0%BE%D0%BD%D0%BD%D0%BE%D0%BC%D1%83_%D0%BF%D1%80%D0%BE%D0%B3%D1%80%D0%B0%D0%BC%D0%BC%D0%B8%D1%80%D0%BE%D0%B2%D0%B0%D0%BD%D0%B8%D1%8E.ipynb\" target=\"_parent\"><img src=\"https://colab.research.google.com/assets/colab-badge.svg\" alt=\"Open In Colab\"/></a>"
      ]
    },
    {
      "cell_type": "markdown",
      "source": [
        "В данной части урока вам предстоит проверить полученные знания по асинхронному программированию. Для этого проверьте себя: сколько из предложенных задач вы можете решить."
      ],
      "metadata": {
        "id": "5yRf47_CKqOH"
      }
    },
    {
      "cell_type": "markdown",
      "source": [
        "1. **Асинхронный таймер:**\n",
        "   - Напишите программу с использованием `asyncio`, которая в течение определенного времени (например, 10 секунд) выводит сообщение каждую секунду. Используйте `asyncio.sleep` для создания таймера."
      ],
      "metadata": {
        "id": "yQDLe_9hK25n"
      }
    },
    {
      "cell_type": "code",
      "execution_count": 7,
      "metadata": {
        "id": "z5dxXwm3FJwS",
        "outputId": "8ab67287-1c94-4856-a4e6-b20ba67dbb3d",
        "colab": {
          "base_uri": "https://localhost:8080/"
        }
      },
      "outputs": [
        {
          "output_type": "stream",
          "name": "stdout",
          "text": [
            "Requirement already satisfied: nest_asyncio in /usr/local/lib/python3.10/dist-packages (1.6.0)\n"
          ]
        },
        {
          "output_type": "stream",
          "name": "stderr",
          "text": [
            "/usr/lib/python3.10/json/encoder.py:248: RuntimeWarning: coroutine 'main' was never awaited\n",
            "  _iterencode = c_make_encoder(\n",
            "RuntimeWarning: Enable tracemalloc to get the object allocation traceback\n"
          ]
        },
        {
          "output_type": "stream",
          "name": "stdout",
          "text": [
            "Запускаю таймер на 5 сек.\n",
            "Прошла 1 секунда таймера!\n",
            "Прошла 2 секунда таймера!\n",
            "Прошла 3 секунда таймера!\n",
            "Прошла 4 секунда таймера!\n",
            "Прошла 5 секунда таймера!\n",
            "Таймер на 5 сек. закончился\n"
          ]
        }
      ],
      "source": [
        "# решение\n",
        "!pip install nest_asyncio\n",
        "\n",
        "import nest_asyncio\n",
        "nest_asyncio.apply()\n",
        "\n",
        "import asyncio\n",
        "\n",
        "n = 5\n",
        "async def delay(delay_seconds: int) -> int:\n",
        "    print(f'Запускаю таймер на {delay_seconds} сек.')\n",
        "    await asyncio.sleep(delay_seconds)\n",
        "    return delay_seconds\n",
        "\n",
        "async def hello_every_second():\n",
        "    for i in range(1, n+1):\n",
        "        await asyncio.sleep(1)\n",
        "        print(f\"Прошла {i} секунда таймера!\")\n",
        "    print(f'Таймер на {n} сек. закончился')\n",
        "async def main():\n",
        "    first_delay = asyncio.create_task(delay(n))\n",
        "\n",
        "    await hello_every_second()\n",
        "    await first_delay\n",
        "\n",
        "asyncio.run(main())"
      ]
    },
    {
      "cell_type": "markdown",
      "source": [
        "2. **Асинхронный калькулятор:**\n",
        "   - Создайте программу, где пользователь может вводить асинхронные математические операции (например, сложение, умножение) в интерактивном режиме. Реализуйте асинхронную обработку ввода."
      ],
      "metadata": {
        "id": "gpR9oBvYLLPU"
      }
    },
    {
      "cell_type": "code",
      "source": [
        "# ваше решение"
      ],
      "metadata": {
        "id": "0n80jta_LEfH"
      },
      "execution_count": null,
      "outputs": []
    },
    {
      "cell_type": "markdown",
      "source": [
        "3. **Асинхронные задачи с обработкой ошибок:**\n",
        "   - Напишите программу, в которой несколько асинхронных задач выполняются параллельно. Включите обработку возможных ошибок в каждой задаче."
      ],
      "metadata": {
        "id": "lzaaNoM3LLsw"
      }
    },
    {
      "cell_type": "code",
      "source": [
        "# ваше решение"
      ],
      "metadata": {
        "id": "lM5zcOx4LGck"
      },
      "execution_count": null,
      "outputs": []
    },
    {
      "cell_type": "markdown",
      "source": [
        "4. **Асинхронный генератор случайных чисел:**\n",
        "   - Реализуйте асинхронный генератор, который асинхронно возвращает случайные числа. Запустите несколько задач для генерации чисел параллельно."
      ],
      "metadata": {
        "id": "SkYIiSa1LMV5"
      }
    },
    {
      "cell_type": "code",
      "source": [
        "# ваше решение"
      ],
      "metadata": {
        "id": "hFBJYNLxLGOy"
      },
      "execution_count": null,
      "outputs": []
    },
    {
      "cell_type": "markdown",
      "source": [
        "5. **Асинхронный поиск файлов:**\n",
        "   - Напишите программу, которая асинхронно ищет файлы определенного типа в указанном каталоге. Обработайте результаты поиска."
      ],
      "metadata": {
        "id": "MnDTSinuLMxM"
      }
    },
    {
      "cell_type": "code",
      "source": [
        "# ваше решение"
      ],
      "metadata": {
        "id": "qlcoMYBzLGES"
      },
      "execution_count": null,
      "outputs": []
    },
    {
      "cell_type": "markdown",
      "source": [
        "6. **Асинхронный кэш:**\n",
        "   - Создайте простой асинхронный кэш, который позволяет асинхронно добавлять и получать значения по ключу. Проверьте его работу в параллельных задачах."
      ],
      "metadata": {
        "id": "NW9vUmQgLNR7"
      }
    },
    {
      "cell_type": "code",
      "source": [
        "# ваше решение"
      ],
      "metadata": {
        "id": "GEPZQD40LF6b"
      },
      "execution_count": null,
      "outputs": []
    },
    {
      "cell_type": "markdown",
      "source": [
        "7. **Асинхронный счетчик:**\n",
        "   - Создайте асинхронный счетчик, который можно увеличивать и уменьшать из разных задач параллельно. Обеспечьте синхронный доступ к счетчику."
      ],
      "metadata": {
        "id": "6OBVsCqxLOF4"
      }
    },
    {
      "cell_type": "code",
      "source": [
        "# ваше решение"
      ],
      "metadata": {
        "id": "K45f9pxyLFo5"
      },
      "execution_count": null,
      "outputs": []
    },
    {
      "cell_type": "markdown",
      "source": [
        "8. **Асинхронные задачи с ожиданием завершения:**\n",
        "    - Напишите программу, где одна асинхронная задача запускает другие асинхронные задачи и ожидает их завершения. Проверьте, что задачи выполняются параллельно."
      ],
      "metadata": {
        "id": "Y8UPtbgILOgc"
      }
    },
    {
      "cell_type": "code",
      "source": [
        "# ваше решение"
      ],
      "metadata": {
        "id": "dBhNo6pRLFer"
      },
      "execution_count": null,
      "outputs": []
    }
  ]
}